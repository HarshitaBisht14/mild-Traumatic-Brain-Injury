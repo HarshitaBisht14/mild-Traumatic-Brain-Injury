{
 "cells": [
  {
   "cell_type": "code",
   "execution_count": 1,
   "id": "7f8e767b",
   "metadata": {},
   "outputs": [],
   "source": [
    "import pandas as pd\n",
    "import numpy as np\n",
    "import seaborn as sns\n",
    "import matplotlib.pyplot as plt"
   ]
  },
  {
   "cell_type": "code",
   "execution_count": 2,
   "id": "bad2ac84",
   "metadata": {},
   "outputs": [],
   "source": [
    "disease_df = pd.read_excel('TBT_01_updated_data.xlsx')"
   ]
  },
  {
   "cell_type": "code",
   "execution_count": 3,
   "id": "b6278c2c",
   "metadata": {},
   "outputs": [],
   "source": [
    "healthy_df = pd.read_excel('Devgandha_updated_data.xlsx')"
   ]
  },
  {
   "cell_type": "code",
   "execution_count": 4,
   "id": "099544e3",
   "metadata": {},
   "outputs": [
    {
     "data": {
      "text/plain": [
       "((30819, 46), (30957, 46))"
      ]
     },
     "execution_count": 4,
     "metadata": {},
     "output_type": "execute_result"
    }
   ],
   "source": [
    "disease_df.shape,healthy_df.shape"
   ]
  },
  {
   "cell_type": "code",
   "execution_count": 5,
   "id": "c5733f85",
   "metadata": {},
   "outputs": [],
   "source": [
    "data = pd.concat([disease_df,healthy_df])"
   ]
  },
  {
   "cell_type": "code",
   "execution_count": 6,
   "id": "71df0eba",
   "metadata": {},
   "outputs": [
    {
     "data": {
      "text/html": [
       "<div>\n",
       "<style scoped>\n",
       "    .dataframe tbody tr th:only-of-type {\n",
       "        vertical-align: middle;\n",
       "    }\n",
       "\n",
       "    .dataframe tbody tr th {\n",
       "        vertical-align: top;\n",
       "    }\n",
       "\n",
       "    .dataframe thead th {\n",
       "        text-align: right;\n",
       "    }\n",
       "</style>\n",
       "<table border=\"1\" class=\"dataframe\">\n",
       "  <thead>\n",
       "    <tr style=\"text-align: right;\">\n",
       "      <th></th>\n",
       "      <th>Recording timestamp</th>\n",
       "      <th>Computer timestamp</th>\n",
       "      <th>Sensor</th>\n",
       "      <th>Project name</th>\n",
       "      <th>Export date</th>\n",
       "      <th>Participant name</th>\n",
       "      <th>Recording name</th>\n",
       "      <th>Recording date</th>\n",
       "      <th>Recording date UTC</th>\n",
       "      <th>Recording start time</th>\n",
       "      <th>...</th>\n",
       "      <th>Recording media name</th>\n",
       "      <th>Recording media width</th>\n",
       "      <th>Recording media height</th>\n",
       "      <th>Eye movement type</th>\n",
       "      <th>Gaze event duration</th>\n",
       "      <th>Eye movement type index</th>\n",
       "      <th>Fixation point X</th>\n",
       "      <th>Fixation point Y</th>\n",
       "      <th>Ungrouped</th>\n",
       "      <th>Disease</th>\n",
       "    </tr>\n",
       "  </thead>\n",
       "  <tbody>\n",
       "    <tr>\n",
       "      <th>30952</th>\n",
       "      <td>309960055</td>\n",
       "      <td>407757021</td>\n",
       "      <td>Eye Tracker</td>\n",
       "      <td>Project1</td>\n",
       "      <td>17-05-2024</td>\n",
       "      <td>Devgandha_Control_TBT_17_May</td>\n",
       "      <td>Recording003</td>\n",
       "      <td>17-05-2024</td>\n",
       "      <td>17-05-2024</td>\n",
       "      <td>10:34:28.843</td>\n",
       "      <td>...</td>\n",
       "      <td>fullstream.mp4</td>\n",
       "      <td>1920.0</td>\n",
       "      <td>1080.0</td>\n",
       "      <td>Fixation</td>\n",
       "      <td>540</td>\n",
       "      <td>1058</td>\n",
       "      <td>855.0</td>\n",
       "      <td>356.0</td>\n",
       "      <td>NaN</td>\n",
       "      <td>0</td>\n",
       "    </tr>\n",
       "    <tr>\n",
       "      <th>30953</th>\n",
       "      <td>309970045</td>\n",
       "      <td>407767011</td>\n",
       "      <td>Eye Tracker</td>\n",
       "      <td>Project1</td>\n",
       "      <td>17-05-2024</td>\n",
       "      <td>Devgandha_Control_TBT_17_May</td>\n",
       "      <td>Recording003</td>\n",
       "      <td>17-05-2024</td>\n",
       "      <td>17-05-2024</td>\n",
       "      <td>10:34:28.843</td>\n",
       "      <td>...</td>\n",
       "      <td>fullstream.mp4</td>\n",
       "      <td>1920.0</td>\n",
       "      <td>1080.0</td>\n",
       "      <td>Fixation</td>\n",
       "      <td>540</td>\n",
       "      <td>1058</td>\n",
       "      <td>855.0</td>\n",
       "      <td>356.0</td>\n",
       "      <td>NaN</td>\n",
       "      <td>0</td>\n",
       "    </tr>\n",
       "    <tr>\n",
       "      <th>30954</th>\n",
       "      <td>309980041</td>\n",
       "      <td>407777007</td>\n",
       "      <td>Eye Tracker</td>\n",
       "      <td>Project1</td>\n",
       "      <td>17-05-2024</td>\n",
       "      <td>Devgandha_Control_TBT_17_May</td>\n",
       "      <td>Recording003</td>\n",
       "      <td>17-05-2024</td>\n",
       "      <td>17-05-2024</td>\n",
       "      <td>10:34:28.843</td>\n",
       "      <td>...</td>\n",
       "      <td>fullstream.mp4</td>\n",
       "      <td>1920.0</td>\n",
       "      <td>1080.0</td>\n",
       "      <td>Fixation</td>\n",
       "      <td>540</td>\n",
       "      <td>1058</td>\n",
       "      <td>855.0</td>\n",
       "      <td>356.0</td>\n",
       "      <td>NaN</td>\n",
       "      <td>0</td>\n",
       "    </tr>\n",
       "    <tr>\n",
       "      <th>30955</th>\n",
       "      <td>309990033</td>\n",
       "      <td>407786999</td>\n",
       "      <td>Eye Tracker</td>\n",
       "      <td>Project1</td>\n",
       "      <td>17-05-2024</td>\n",
       "      <td>Devgandha_Control_TBT_17_May</td>\n",
       "      <td>Recording003</td>\n",
       "      <td>17-05-2024</td>\n",
       "      <td>17-05-2024</td>\n",
       "      <td>10:34:28.843</td>\n",
       "      <td>...</td>\n",
       "      <td>fullstream.mp4</td>\n",
       "      <td>1920.0</td>\n",
       "      <td>1080.0</td>\n",
       "      <td>Fixation</td>\n",
       "      <td>540</td>\n",
       "      <td>1058</td>\n",
       "      <td>855.0</td>\n",
       "      <td>356.0</td>\n",
       "      <td>NaN</td>\n",
       "      <td>0</td>\n",
       "    </tr>\n",
       "    <tr>\n",
       "      <th>30956</th>\n",
       "      <td>310000033</td>\n",
       "      <td>407796999</td>\n",
       "      <td>Eye Tracker</td>\n",
       "      <td>Project1</td>\n",
       "      <td>17-05-2024</td>\n",
       "      <td>Devgandha_Control_TBT_17_May</td>\n",
       "      <td>Recording003</td>\n",
       "      <td>17-05-2024</td>\n",
       "      <td>17-05-2024</td>\n",
       "      <td>10:34:28.843</td>\n",
       "      <td>...</td>\n",
       "      <td>fullstream.mp4</td>\n",
       "      <td>1920.0</td>\n",
       "      <td>1080.0</td>\n",
       "      <td>EyesNotFound</td>\n",
       "      <td>10</td>\n",
       "      <td>1336</td>\n",
       "      <td>NaN</td>\n",
       "      <td>NaN</td>\n",
       "      <td>NaN</td>\n",
       "      <td>0</td>\n",
       "    </tr>\n",
       "  </tbody>\n",
       "</table>\n",
       "<p>5 rows × 46 columns</p>\n",
       "</div>"
      ],
      "text/plain": [
       "       Recording timestamp  Computer timestamp       Sensor Project name  \\\n",
       "30952            309960055           407757021  Eye Tracker     Project1   \n",
       "30953            309970045           407767011  Eye Tracker     Project1   \n",
       "30954            309980041           407777007  Eye Tracker     Project1   \n",
       "30955            309990033           407786999  Eye Tracker     Project1   \n",
       "30956            310000033           407796999  Eye Tracker     Project1   \n",
       "\n",
       "      Export date              Participant name Recording name Recording date  \\\n",
       "30952  17-05-2024  Devgandha_Control_TBT_17_May   Recording003     17-05-2024   \n",
       "30953  17-05-2024  Devgandha_Control_TBT_17_May   Recording003     17-05-2024   \n",
       "30954  17-05-2024  Devgandha_Control_TBT_17_May   Recording003     17-05-2024   \n",
       "30955  17-05-2024  Devgandha_Control_TBT_17_May   Recording003     17-05-2024   \n",
       "30956  17-05-2024  Devgandha_Control_TBT_17_May   Recording003     17-05-2024   \n",
       "\n",
       "      Recording date UTC Recording start time  ... Recording media name  \\\n",
       "30952         17-05-2024         10:34:28.843  ...       fullstream.mp4   \n",
       "30953         17-05-2024         10:34:28.843  ...       fullstream.mp4   \n",
       "30954         17-05-2024         10:34:28.843  ...       fullstream.mp4   \n",
       "30955         17-05-2024         10:34:28.843  ...       fullstream.mp4   \n",
       "30956         17-05-2024         10:34:28.843  ...       fullstream.mp4   \n",
       "\n",
       "       Recording media width Recording media height  Eye movement type  \\\n",
       "30952                 1920.0                 1080.0           Fixation   \n",
       "30953                 1920.0                 1080.0           Fixation   \n",
       "30954                 1920.0                 1080.0           Fixation   \n",
       "30955                 1920.0                 1080.0           Fixation   \n",
       "30956                 1920.0                 1080.0       EyesNotFound   \n",
       "\n",
       "       Gaze event duration  Eye movement type index  Fixation point X  \\\n",
       "30952                  540                     1058             855.0   \n",
       "30953                  540                     1058             855.0   \n",
       "30954                  540                     1058             855.0   \n",
       "30955                  540                     1058             855.0   \n",
       "30956                   10                     1336               NaN   \n",
       "\n",
       "       Fixation point Y  Ungrouped  Disease  \n",
       "30952             356.0        NaN        0  \n",
       "30953             356.0        NaN        0  \n",
       "30954             356.0        NaN        0  \n",
       "30955             356.0        NaN        0  \n",
       "30956               NaN        NaN        0  \n",
       "\n",
       "[5 rows x 46 columns]"
      ]
     },
     "execution_count": 6,
     "metadata": {},
     "output_type": "execute_result"
    }
   ],
   "source": [
    "data.tail()"
   ]
  },
  {
   "cell_type": "code",
   "execution_count": 7,
   "id": "9cf03971",
   "metadata": {},
   "outputs": [
    {
     "data": {
      "text/plain": [
       "Index(['Recording timestamp', 'Computer timestamp', 'Sensor', 'Project name',\n",
       "       'Export date', 'Participant name', 'Recording name', 'Recording date',\n",
       "       'Recording date UTC', 'Recording start time',\n",
       "       'Recording start time UTC', 'Recording duration',\n",
       "       'Recording Fixation filter name', 'Event', 'Event value',\n",
       "       'Gaze point X', 'Gaze point Y', 'Gaze point 3D X', 'Gaze point 3D Y',\n",
       "       'Gaze point 3D Z', 'Gaze direction left X', 'Gaze direction left Y',\n",
       "       'Gaze direction left Z', 'Gaze direction right X',\n",
       "       'Gaze direction right Y', 'Gaze direction right Z',\n",
       "       'Pupil position left X', 'Pupil position left Y',\n",
       "       'Pupil position left Z', 'Pupil position right X',\n",
       "       'Pupil position right Y', 'Pupil position right Z',\n",
       "       'Pupil diameter left', 'Pupil diameter right', 'Validity left',\n",
       "       'Validity right', 'Recording media name', 'Recording media width',\n",
       "       'Recording media height', 'Eye movement type', 'Gaze event duration',\n",
       "       'Eye movement type index', 'Fixation point X', 'Fixation point Y',\n",
       "       'Ungrouped', 'Disease'],\n",
       "      dtype='object')"
      ]
     },
     "execution_count": 7,
     "metadata": {},
     "output_type": "execute_result"
    }
   ],
   "source": [
    "data.columns"
   ]
  },
  {
   "cell_type": "code",
   "execution_count": 8,
   "id": "fbb7bf98",
   "metadata": {},
   "outputs": [
    {
     "name": "stdout",
     "output_type": "stream",
     "text": [
      "<class 'pandas.core.frame.DataFrame'>\n",
      "Index: 61776 entries, 0 to 30956\n",
      "Data columns (total 46 columns):\n",
      " #   Column                          Non-Null Count  Dtype  \n",
      "---  ------                          --------------  -----  \n",
      " 0   Recording timestamp             61776 non-null  int64  \n",
      " 1   Computer timestamp              61776 non-null  int64  \n",
      " 2   Sensor                          61776 non-null  object \n",
      " 3   Project name                    61776 non-null  object \n",
      " 4   Export date                     61776 non-null  object \n",
      " 5   Participant name                61776 non-null  object \n",
      " 6   Recording name                  61776 non-null  object \n",
      " 7   Recording date                  61776 non-null  object \n",
      " 8   Recording date UTC              61776 non-null  object \n",
      " 9   Recording start time            61776 non-null  object \n",
      " 10  Recording start time UTC        61776 non-null  object \n",
      " 11  Recording duration              61776 non-null  int64  \n",
      " 12  Recording Fixation filter name  61776 non-null  object \n",
      " 13  Event                           0 non-null      float64\n",
      " 14  Event value                     0 non-null      float64\n",
      " 15  Gaze point X                    61776 non-null  int64  \n",
      " 16  Gaze point Y                    61776 non-null  int64  \n",
      " 17  Gaze point 3D X                 61776 non-null  float64\n",
      " 18  Gaze point 3D Y                 61776 non-null  float64\n",
      " 19  Gaze point 3D Z                 61776 non-null  float64\n",
      " 20  Gaze direction left X           61776 non-null  float64\n",
      " 21  Gaze direction left Y           61776 non-null  float64\n",
      " 22  Gaze direction left Z           61776 non-null  float64\n",
      " 23  Gaze direction right X          61776 non-null  float64\n",
      " 24  Gaze direction right Y          61776 non-null  float64\n",
      " 25  Gaze direction right Z          61776 non-null  float64\n",
      " 26  Pupil position left X           61776 non-null  float64\n",
      " 27  Pupil position left Y           61776 non-null  float64\n",
      " 28  Pupil position left Z           61776 non-null  float64\n",
      " 29  Pupil position right X          61776 non-null  float64\n",
      " 30  Pupil position right Y          61776 non-null  float64\n",
      " 31  Pupil position right Z          61776 non-null  float64\n",
      " 32  Pupil diameter left             61776 non-null  float64\n",
      " 33  Pupil diameter right            61776 non-null  float64\n",
      " 34  Validity left                   61776 non-null  object \n",
      " 35  Validity right                  61776 non-null  object \n",
      " 36  Recording media name            61714 non-null  object \n",
      " 37  Recording media width           61714 non-null  float64\n",
      " 38  Recording media height          61714 non-null  float64\n",
      " 39  Eye movement type               61776 non-null  object \n",
      " 40  Gaze event duration             61776 non-null  int64  \n",
      " 41  Eye movement type index         61776 non-null  int64  \n",
      " 42  Fixation point X                50500 non-null  float64\n",
      " 43  Fixation point Y                50500 non-null  float64\n",
      " 44  Ungrouped                       0 non-null      float64\n",
      " 45  Disease                         61776 non-null  int64  \n",
      "dtypes: float64(24), int64(8), object(14)\n",
      "memory usage: 22.2+ MB\n"
     ]
    }
   ],
   "source": [
    "data.info()"
   ]
  },
  {
   "cell_type": "code",
   "execution_count": 9,
   "id": "cc4341fa",
   "metadata": {},
   "outputs": [],
   "source": [
    "df = data.iloc[:,15:].drop(['Recording media name', 'Recording media width','Recording media height','Ungrouped','Validity left',\n",
    "       'Validity right',],axis=1)"
   ]
  },
  {
   "cell_type": "code",
   "execution_count": 10,
   "id": "ddf29493",
   "metadata": {},
   "outputs": [
    {
     "data": {
      "text/html": [
       "<div>\n",
       "<style scoped>\n",
       "    .dataframe tbody tr th:only-of-type {\n",
       "        vertical-align: middle;\n",
       "    }\n",
       "\n",
       "    .dataframe tbody tr th {\n",
       "        vertical-align: top;\n",
       "    }\n",
       "\n",
       "    .dataframe thead th {\n",
       "        text-align: right;\n",
       "    }\n",
       "</style>\n",
       "<table border=\"1\" class=\"dataframe\">\n",
       "  <thead>\n",
       "    <tr style=\"text-align: right;\">\n",
       "      <th></th>\n",
       "      <th>Gaze point X</th>\n",
       "      <th>Gaze point Y</th>\n",
       "      <th>Gaze point 3D X</th>\n",
       "      <th>Gaze point 3D Y</th>\n",
       "      <th>Gaze point 3D Z</th>\n",
       "      <th>Gaze direction left X</th>\n",
       "      <th>Gaze direction left Y</th>\n",
       "      <th>Gaze direction left Z</th>\n",
       "      <th>Gaze direction right X</th>\n",
       "      <th>Gaze direction right Y</th>\n",
       "      <th>...</th>\n",
       "      <th>Pupil position right Y</th>\n",
       "      <th>Pupil position right Z</th>\n",
       "      <th>Pupil diameter left</th>\n",
       "      <th>Pupil diameter right</th>\n",
       "      <th>Eye movement type</th>\n",
       "      <th>Gaze event duration</th>\n",
       "      <th>Eye movement type index</th>\n",
       "      <th>Fixation point X</th>\n",
       "      <th>Fixation point Y</th>\n",
       "      <th>Disease</th>\n",
       "    </tr>\n",
       "  </thead>\n",
       "  <tbody>\n",
       "    <tr>\n",
       "      <th>0</th>\n",
       "      <td>882</td>\n",
       "      <td>139</td>\n",
       "      <td>40.7517</td>\n",
       "      <td>265.2152</td>\n",
       "      <td>805.3140</td>\n",
       "      <td>0.01310</td>\n",
       "      <td>0.31898</td>\n",
       "      <td>0.94767</td>\n",
       "      <td>0.07854</td>\n",
       "      <td>0.33392</td>\n",
       "      <td>...</td>\n",
       "      <td>-20.86</td>\n",
       "      <td>-25.21</td>\n",
       "      <td>3.168</td>\n",
       "      <td>3.133</td>\n",
       "      <td>Fixation</td>\n",
       "      <td>185</td>\n",
       "      <td>1</td>\n",
       "      <td>882.0</td>\n",
       "      <td>155.0</td>\n",
       "      <td>1</td>\n",
       "    </tr>\n",
       "    <tr>\n",
       "      <th>1</th>\n",
       "      <td>884</td>\n",
       "      <td>144</td>\n",
       "      <td>34.6891</td>\n",
       "      <td>233.2227</td>\n",
       "      <td>717.4052</td>\n",
       "      <td>0.00455</td>\n",
       "      <td>0.32261</td>\n",
       "      <td>0.94652</td>\n",
       "      <td>0.08257</td>\n",
       "      <td>0.32704</td>\n",
       "      <td>...</td>\n",
       "      <td>-21.02</td>\n",
       "      <td>-25.13</td>\n",
       "      <td>3.091</td>\n",
       "      <td>3.044</td>\n",
       "      <td>Fixation</td>\n",
       "      <td>185</td>\n",
       "      <td>1</td>\n",
       "      <td>882.0</td>\n",
       "      <td>155.0</td>\n",
       "      <td>1</td>\n",
       "    </tr>\n",
       "    <tr>\n",
       "      <th>2</th>\n",
       "      <td>884</td>\n",
       "      <td>145</td>\n",
       "      <td>33.5220</td>\n",
       "      <td>223.6008</td>\n",
       "      <td>688.6058</td>\n",
       "      <td>0.00706</td>\n",
       "      <td>0.31445</td>\n",
       "      <td>0.94925</td>\n",
       "      <td>0.08050</td>\n",
       "      <td>0.33568</td>\n",
       "      <td>...</td>\n",
       "      <td>-20.90</td>\n",
       "      <td>-25.14</td>\n",
       "      <td>3.130</td>\n",
       "      <td>3.114</td>\n",
       "      <td>Fixation</td>\n",
       "      <td>185</td>\n",
       "      <td>1</td>\n",
       "      <td>882.0</td>\n",
       "      <td>155.0</td>\n",
       "      <td>1</td>\n",
       "    </tr>\n",
       "    <tr>\n",
       "      <th>3</th>\n",
       "      <td>883</td>\n",
       "      <td>145</td>\n",
       "      <td>34.2485</td>\n",
       "      <td>222.2757</td>\n",
       "      <td>685.8340</td>\n",
       "      <td>0.00465</td>\n",
       "      <td>0.32060</td>\n",
       "      <td>0.94720</td>\n",
       "      <td>0.08517</td>\n",
       "      <td>0.32889</td>\n",
       "      <td>...</td>\n",
       "      <td>-21.05</td>\n",
       "      <td>-25.10</td>\n",
       "      <td>3.056</td>\n",
       "      <td>3.039</td>\n",
       "      <td>Fixation</td>\n",
       "      <td>185</td>\n",
       "      <td>1</td>\n",
       "      <td>882.0</td>\n",
       "      <td>155.0</td>\n",
       "      <td>1</td>\n",
       "    </tr>\n",
       "    <tr>\n",
       "      <th>4</th>\n",
       "      <td>881</td>\n",
       "      <td>146</td>\n",
       "      <td>34.9226</td>\n",
       "      <td>220.5652</td>\n",
       "      <td>682.1322</td>\n",
       "      <td>0.00935</td>\n",
       "      <td>0.31299</td>\n",
       "      <td>0.94971</td>\n",
       "      <td>0.08278</td>\n",
       "      <td>0.33522</td>\n",
       "      <td>...</td>\n",
       "      <td>-20.92</td>\n",
       "      <td>-25.11</td>\n",
       "      <td>3.098</td>\n",
       "      <td>3.100</td>\n",
       "      <td>Fixation</td>\n",
       "      <td>185</td>\n",
       "      <td>1</td>\n",
       "      <td>882.0</td>\n",
       "      <td>155.0</td>\n",
       "      <td>1</td>\n",
       "    </tr>\n",
       "  </tbody>\n",
       "</table>\n",
       "<p>5 rows × 25 columns</p>\n",
       "</div>"
      ],
      "text/plain": [
       "   Gaze point X  Gaze point Y  Gaze point 3D X  Gaze point 3D Y  \\\n",
       "0           882           139          40.7517         265.2152   \n",
       "1           884           144          34.6891         233.2227   \n",
       "2           884           145          33.5220         223.6008   \n",
       "3           883           145          34.2485         222.2757   \n",
       "4           881           146          34.9226         220.5652   \n",
       "\n",
       "   Gaze point 3D Z  Gaze direction left X  Gaze direction left Y  \\\n",
       "0         805.3140                0.01310                0.31898   \n",
       "1         717.4052                0.00455                0.32261   \n",
       "2         688.6058                0.00706                0.31445   \n",
       "3         685.8340                0.00465                0.32060   \n",
       "4         682.1322                0.00935                0.31299   \n",
       "\n",
       "   Gaze direction left Z  Gaze direction right X  Gaze direction right Y  ...  \\\n",
       "0                0.94767                 0.07854                 0.33392  ...   \n",
       "1                0.94652                 0.08257                 0.32704  ...   \n",
       "2                0.94925                 0.08050                 0.33568  ...   \n",
       "3                0.94720                 0.08517                 0.32889  ...   \n",
       "4                0.94971                 0.08278                 0.33522  ...   \n",
       "\n",
       "   Pupil position right Y  Pupil position right Z  Pupil diameter left  \\\n",
       "0                  -20.86                  -25.21                3.168   \n",
       "1                  -21.02                  -25.13                3.091   \n",
       "2                  -20.90                  -25.14                3.130   \n",
       "3                  -21.05                  -25.10                3.056   \n",
       "4                  -20.92                  -25.11                3.098   \n",
       "\n",
       "   Pupil diameter right  Eye movement type  Gaze event duration  \\\n",
       "0                 3.133           Fixation                  185   \n",
       "1                 3.044           Fixation                  185   \n",
       "2                 3.114           Fixation                  185   \n",
       "3                 3.039           Fixation                  185   \n",
       "4                 3.100           Fixation                  185   \n",
       "\n",
       "   Eye movement type index  Fixation point X  Fixation point Y Disease  \n",
       "0                        1             882.0             155.0       1  \n",
       "1                        1             882.0             155.0       1  \n",
       "2                        1             882.0             155.0       1  \n",
       "3                        1             882.0             155.0       1  \n",
       "4                        1             882.0             155.0       1  \n",
       "\n",
       "[5 rows x 25 columns]"
      ]
     },
     "execution_count": 10,
     "metadata": {},
     "output_type": "execute_result"
    }
   ],
   "source": [
    "df.head()"
   ]
  },
  {
   "cell_type": "code",
   "execution_count": 11,
   "id": "8cb4af97",
   "metadata": {},
   "outputs": [
    {
     "name": "stdout",
     "output_type": "stream",
     "text": [
      "<class 'pandas.core.frame.DataFrame'>\n",
      "Index: 61776 entries, 0 to 30956\n",
      "Data columns (total 25 columns):\n",
      " #   Column                   Non-Null Count  Dtype  \n",
      "---  ------                   --------------  -----  \n",
      " 0   Gaze point X             61776 non-null  int64  \n",
      " 1   Gaze point Y             61776 non-null  int64  \n",
      " 2   Gaze point 3D X          61776 non-null  float64\n",
      " 3   Gaze point 3D Y          61776 non-null  float64\n",
      " 4   Gaze point 3D Z          61776 non-null  float64\n",
      " 5   Gaze direction left X    61776 non-null  float64\n",
      " 6   Gaze direction left Y    61776 non-null  float64\n",
      " 7   Gaze direction left Z    61776 non-null  float64\n",
      " 8   Gaze direction right X   61776 non-null  float64\n",
      " 9   Gaze direction right Y   61776 non-null  float64\n",
      " 10  Gaze direction right Z   61776 non-null  float64\n",
      " 11  Pupil position left X    61776 non-null  float64\n",
      " 12  Pupil position left Y    61776 non-null  float64\n",
      " 13  Pupil position left Z    61776 non-null  float64\n",
      " 14  Pupil position right X   61776 non-null  float64\n",
      " 15  Pupil position right Y   61776 non-null  float64\n",
      " 16  Pupil position right Z   61776 non-null  float64\n",
      " 17  Pupil diameter left      61776 non-null  float64\n",
      " 18  Pupil diameter right     61776 non-null  float64\n",
      " 19  Eye movement type        61776 non-null  object \n",
      " 20  Gaze event duration      61776 non-null  int64  \n",
      " 21  Eye movement type index  61776 non-null  int64  \n",
      " 22  Fixation point X         50500 non-null  float64\n",
      " 23  Fixation point Y         50500 non-null  float64\n",
      " 24  Disease                  61776 non-null  int64  \n",
      "dtypes: float64(19), int64(5), object(1)\n",
      "memory usage: 12.3+ MB\n"
     ]
    }
   ],
   "source": [
    "df.info()"
   ]
  },
  {
   "cell_type": "code",
   "execution_count": 12,
   "id": "70d47459",
   "metadata": {},
   "outputs": [
    {
     "data": {
      "text/plain": [
       "array(['Fixation', 'EyesNotFound', 'Saccade', 'Unclassified'],\n",
       "      dtype=object)"
      ]
     },
     "execution_count": 12,
     "metadata": {},
     "output_type": "execute_result"
    }
   ],
   "source": [
    "df['Eye movement type'].unique()"
   ]
  },
  {
   "cell_type": "code",
   "execution_count": 13,
   "id": "459c5c15",
   "metadata": {},
   "outputs": [],
   "source": [
    "valuesToEncode = {'Fixation':0, 'EyesNotFound':1, 'Saccade':2, 'Unclassified':3}"
   ]
  },
  {
   "cell_type": "code",
   "execution_count": 14,
   "id": "c27c5ac6",
   "metadata": {},
   "outputs": [],
   "source": [
    "# df[['Eye movement type']].applymap(valuesToEncode)\n",
    "df.drop(['Eye movement type','Gaze event duration','Eye movement type index'],axis=1,inplace=True)"
   ]
  },
  {
   "cell_type": "code",
   "execution_count": 15,
   "id": "bba17efd",
   "metadata": {},
   "outputs": [
    {
     "name": "stdout",
     "output_type": "stream",
     "text": [
      "<class 'pandas.core.frame.DataFrame'>\n",
      "Index: 61776 entries, 0 to 30956\n",
      "Data columns (total 22 columns):\n",
      " #   Column                  Non-Null Count  Dtype  \n",
      "---  ------                  --------------  -----  \n",
      " 0   Gaze point X            61776 non-null  int64  \n",
      " 1   Gaze point Y            61776 non-null  int64  \n",
      " 2   Gaze point 3D X         61776 non-null  float64\n",
      " 3   Gaze point 3D Y         61776 non-null  float64\n",
      " 4   Gaze point 3D Z         61776 non-null  float64\n",
      " 5   Gaze direction left X   61776 non-null  float64\n",
      " 6   Gaze direction left Y   61776 non-null  float64\n",
      " 7   Gaze direction left Z   61776 non-null  float64\n",
      " 8   Gaze direction right X  61776 non-null  float64\n",
      " 9   Gaze direction right Y  61776 non-null  float64\n",
      " 10  Gaze direction right Z  61776 non-null  float64\n",
      " 11  Pupil position left X   61776 non-null  float64\n",
      " 12  Pupil position left Y   61776 non-null  float64\n",
      " 13  Pupil position left Z   61776 non-null  float64\n",
      " 14  Pupil position right X  61776 non-null  float64\n",
      " 15  Pupil position right Y  61776 non-null  float64\n",
      " 16  Pupil position right Z  61776 non-null  float64\n",
      " 17  Pupil diameter left     61776 non-null  float64\n",
      " 18  Pupil diameter right    61776 non-null  float64\n",
      " 19  Fixation point X        50500 non-null  float64\n",
      " 20  Fixation point Y        50500 non-null  float64\n",
      " 21  Disease                 61776 non-null  int64  \n",
      "dtypes: float64(19), int64(3)\n",
      "memory usage: 10.8 MB\n"
     ]
    }
   ],
   "source": [
    "df.info()"
   ]
  },
  {
   "cell_type": "code",
   "execution_count": 16,
   "id": "9dbd5387",
   "metadata": {},
   "outputs": [
    {
     "data": {
      "text/plain": [
       "0      882\n",
       "1      884\n",
       "2      884\n",
       "3      883\n",
       "4      881\n",
       "      ... \n",
       "995    850\n",
       "996    850\n",
       "997    850\n",
       "998    850\n",
       "999    850\n",
       "Name: Gaze point X, Length: 1000, dtype: int64"
      ]
     },
     "execution_count": 16,
     "metadata": {},
     "output_type": "execute_result"
    }
   ],
   "source": [
    "df['Gaze point X'].iloc[:1000]"
   ]
  },
  {
   "cell_type": "code",
   "execution_count": 17,
   "id": "8f90ab67",
   "metadata": {},
   "outputs": [],
   "source": [
    "df['Fixation point X'].fillna(df['Fixation point X'].mean(),inplace=True)\n",
    "df['Fixation point Y'].fillna(df['Fixation point Y'].mean(),inplace=True)"
   ]
  },
  {
   "cell_type": "code",
   "execution_count": 18,
   "id": "e1e49704",
   "metadata": {},
   "outputs": [
    {
     "data": {
      "text/plain": [
       "Gaze point X              0\n",
       "Gaze point Y              0\n",
       "Gaze point 3D X           0\n",
       "Gaze point 3D Y           0\n",
       "Gaze point 3D Z           0\n",
       "Gaze direction left X     0\n",
       "Gaze direction left Y     0\n",
       "Gaze direction left Z     0\n",
       "Gaze direction right X    0\n",
       "Gaze direction right Y    0\n",
       "Gaze direction right Z    0\n",
       "Pupil position left X     0\n",
       "Pupil position left Y     0\n",
       "Pupil position left Z     0\n",
       "Pupil position right X    0\n",
       "Pupil position right Y    0\n",
       "Pupil position right Z    0\n",
       "Pupil diameter left       0\n",
       "Pupil diameter right      0\n",
       "Fixation point X          0\n",
       "Fixation point Y          0\n",
       "Disease                   0\n",
       "dtype: int64"
      ]
     },
     "execution_count": 18,
     "metadata": {},
     "output_type": "execute_result"
    }
   ],
   "source": [
    "df.isnull().sum()"
   ]
  },
  {
   "cell_type": "code",
   "execution_count": 19,
   "id": "417c6846",
   "metadata": {},
   "outputs": [],
   "source": [
    "df.drop(['Fixation point X','Fixation point Y'],axis=1,inplace=True)"
   ]
  },
  {
   "cell_type": "code",
   "execution_count": 20,
   "id": "b4ccc873",
   "metadata": {},
   "outputs": [],
   "source": [
    "df = df.sample(frac=1).reset_index(drop=True)"
   ]
  },
  {
   "cell_type": "code",
   "execution_count": 21,
   "id": "48205202",
   "metadata": {},
   "outputs": [
    {
     "data": {
      "text/html": [
       "<div>\n",
       "<style scoped>\n",
       "    .dataframe tbody tr th:only-of-type {\n",
       "        vertical-align: middle;\n",
       "    }\n",
       "\n",
       "    .dataframe tbody tr th {\n",
       "        vertical-align: top;\n",
       "    }\n",
       "\n",
       "    .dataframe thead th {\n",
       "        text-align: right;\n",
       "    }\n",
       "</style>\n",
       "<table border=\"1\" class=\"dataframe\">\n",
       "  <thead>\n",
       "    <tr style=\"text-align: right;\">\n",
       "      <th></th>\n",
       "      <th>Gaze point X</th>\n",
       "      <th>Gaze point Y</th>\n",
       "      <th>Gaze point 3D X</th>\n",
       "      <th>Gaze point 3D Y</th>\n",
       "      <th>Gaze point 3D Z</th>\n",
       "      <th>Gaze direction left X</th>\n",
       "      <th>Gaze direction left Y</th>\n",
       "      <th>Gaze direction left Z</th>\n",
       "      <th>Gaze direction right X</th>\n",
       "      <th>Gaze direction right Y</th>\n",
       "      <th>Gaze direction right Z</th>\n",
       "      <th>Pupil position left X</th>\n",
       "      <th>Pupil position left Y</th>\n",
       "      <th>Pupil position left Z</th>\n",
       "      <th>Pupil position right X</th>\n",
       "      <th>Pupil position right Y</th>\n",
       "      <th>Pupil position right Z</th>\n",
       "      <th>Pupil diameter left</th>\n",
       "      <th>Pupil diameter right</th>\n",
       "      <th>Disease</th>\n",
       "    </tr>\n",
       "  </thead>\n",
       "  <tbody>\n",
       "    <tr>\n",
       "      <th>0</th>\n",
       "      <td>887</td>\n",
       "      <td>537</td>\n",
       "      <td>23.4194</td>\n",
       "      <td>-7.8095</td>\n",
       "      <td>505.5488</td>\n",
       "      <td>-0.01517</td>\n",
       "      <td>0.03296</td>\n",
       "      <td>0.99934</td>\n",
       "      <td>0.10087</td>\n",
       "      <td>0.02698</td>\n",
       "      <td>0.99453</td>\n",
       "      <td>31.47</td>\n",
       "      <td>-25.33</td>\n",
       "      <td>-25.63</td>\n",
       "      <td>-30.85</td>\n",
       "      <td>-22.49</td>\n",
       "      <td>-24.76</td>\n",
       "      <td>2.527</td>\n",
       "      <td>2.526</td>\n",
       "      <td>1</td>\n",
       "    </tr>\n",
       "    <tr>\n",
       "      <th>1</th>\n",
       "      <td>946</td>\n",
       "      <td>460</td>\n",
       "      <td>-3.2542</td>\n",
       "      <td>30.2582</td>\n",
       "      <td>588.8766</td>\n",
       "      <td>-0.05583</td>\n",
       "      <td>0.09076</td>\n",
       "      <td>0.99431</td>\n",
       "      <td>0.04487</td>\n",
       "      <td>0.08344</td>\n",
       "      <td>0.99550</td>\n",
       "      <td>31.32</td>\n",
       "      <td>-25.04</td>\n",
       "      <td>-25.64</td>\n",
       "      <td>-31.00</td>\n",
       "      <td>-22.01</td>\n",
       "      <td>-24.95</td>\n",
       "      <td>2.593</td>\n",
       "      <td>2.653</td>\n",
       "      <td>1</td>\n",
       "    </tr>\n",
       "    <tr>\n",
       "      <th>2</th>\n",
       "      <td>945</td>\n",
       "      <td>396</td>\n",
       "      <td>-2.0881</td>\n",
       "      <td>52.4893</td>\n",
       "      <td>487.7569</td>\n",
       "      <td>-0.09606</td>\n",
       "      <td>0.25320</td>\n",
       "      <td>0.96263</td>\n",
       "      <td>0.08502</td>\n",
       "      <td>0.02575</td>\n",
       "      <td>0.99605</td>\n",
       "      <td>30.86</td>\n",
       "      <td>-21.33</td>\n",
       "      <td>-25.90</td>\n",
       "      <td>-29.15</td>\n",
       "      <td>-19.65</td>\n",
       "      <td>-24.85</td>\n",
       "      <td>3.126</td>\n",
       "      <td>3.110</td>\n",
       "      <td>0</td>\n",
       "    </tr>\n",
       "    <tr>\n",
       "      <th>3</th>\n",
       "      <td>994</td>\n",
       "      <td>229</td>\n",
       "      <td>-35.9201</td>\n",
       "      <td>192.2926</td>\n",
       "      <td>762.5424</td>\n",
       "      <td>-0.07836</td>\n",
       "      <td>0.25311</td>\n",
       "      <td>0.96426</td>\n",
       "      <td>-0.00929</td>\n",
       "      <td>0.27284</td>\n",
       "      <td>0.96202</td>\n",
       "      <td>30.97</td>\n",
       "      <td>-24.11</td>\n",
       "      <td>-25.71</td>\n",
       "      <td>-30.97</td>\n",
       "      <td>-21.54</td>\n",
       "      <td>-24.79</td>\n",
       "      <td>2.745</td>\n",
       "      <td>2.691</td>\n",
       "      <td>1</td>\n",
       "    </tr>\n",
       "    <tr>\n",
       "      <th>4</th>\n",
       "      <td>971</td>\n",
       "      <td>462</td>\n",
       "      <td>-15.0866</td>\n",
       "      <td>27.2757</td>\n",
       "      <td>545.4553</td>\n",
       "      <td>-0.07936</td>\n",
       "      <td>0.07854</td>\n",
       "      <td>0.99375</td>\n",
       "      <td>0.02321</td>\n",
       "      <td>0.09104</td>\n",
       "      <td>0.99558</td>\n",
       "      <td>31.10</td>\n",
       "      <td>-21.75</td>\n",
       "      <td>-26.18</td>\n",
       "      <td>-28.91</td>\n",
       "      <td>-21.15</td>\n",
       "      <td>-25.97</td>\n",
       "      <td>3.163</td>\n",
       "      <td>3.223</td>\n",
       "      <td>0</td>\n",
       "    </tr>\n",
       "    <tr>\n",
       "      <th>5</th>\n",
       "      <td>877</td>\n",
       "      <td>390</td>\n",
       "      <td>33.7784</td>\n",
       "      <td>69.3160</td>\n",
       "      <td>612.0223</td>\n",
       "      <td>0.00335</td>\n",
       "      <td>0.14733</td>\n",
       "      <td>0.98908</td>\n",
       "      <td>0.09965</td>\n",
       "      <td>0.13920</td>\n",
       "      <td>0.98524</td>\n",
       "      <td>31.71</td>\n",
       "      <td>-24.65</td>\n",
       "      <td>-25.78</td>\n",
       "      <td>-30.77</td>\n",
       "      <td>-21.72</td>\n",
       "      <td>-24.90</td>\n",
       "      <td>2.651</td>\n",
       "      <td>2.694</td>\n",
       "      <td>1</td>\n",
       "    </tr>\n",
       "    <tr>\n",
       "      <th>6</th>\n",
       "      <td>1002</td>\n",
       "      <td>436</td>\n",
       "      <td>-30.4839</td>\n",
       "      <td>40.9330</td>\n",
       "      <td>560.1371</td>\n",
       "      <td>-0.10081</td>\n",
       "      <td>0.09448</td>\n",
       "      <td>0.99041</td>\n",
       "      <td>-0.00518</td>\n",
       "      <td>0.11677</td>\n",
       "      <td>0.99315</td>\n",
       "      <td>30.87</td>\n",
       "      <td>-21.78</td>\n",
       "      <td>-26.14</td>\n",
       "      <td>-28.99</td>\n",
       "      <td>-21.23</td>\n",
       "      <td>-25.84</td>\n",
       "      <td>3.353</td>\n",
       "      <td>3.493</td>\n",
       "      <td>0</td>\n",
       "    </tr>\n",
       "    <tr>\n",
       "      <th>7</th>\n",
       "      <td>1069</td>\n",
       "      <td>391</td>\n",
       "      <td>-46.9813</td>\n",
       "      <td>46.5225</td>\n",
       "      <td>417.2865</td>\n",
       "      <td>-0.14130</td>\n",
       "      <td>0.10539</td>\n",
       "      <td>0.98434</td>\n",
       "      <td>-0.03943</td>\n",
       "      <td>0.15003</td>\n",
       "      <td>0.98789</td>\n",
       "      <td>30.56</td>\n",
       "      <td>-21.29</td>\n",
       "      <td>-26.52</td>\n",
       "      <td>-29.25</td>\n",
       "      <td>-20.91</td>\n",
       "      <td>-26.25</td>\n",
       "      <td>2.996</td>\n",
       "      <td>3.145</td>\n",
       "      <td>0</td>\n",
       "    </tr>\n",
       "    <tr>\n",
       "      <th>8</th>\n",
       "      <td>966</td>\n",
       "      <td>399</td>\n",
       "      <td>-13.8213</td>\n",
       "      <td>63.8206</td>\n",
       "      <td>609.4588</td>\n",
       "      <td>-0.06998</td>\n",
       "      <td>0.13825</td>\n",
       "      <td>0.98792</td>\n",
       "      <td>0.02696</td>\n",
       "      <td>0.13273</td>\n",
       "      <td>0.99079</td>\n",
       "      <td>31.17</td>\n",
       "      <td>-24.68</td>\n",
       "      <td>-25.67</td>\n",
       "      <td>-31.08</td>\n",
       "      <td>-21.54</td>\n",
       "      <td>-25.05</td>\n",
       "      <td>2.717</td>\n",
       "      <td>2.743</td>\n",
       "      <td>1</td>\n",
       "    </tr>\n",
       "    <tr>\n",
       "      <th>9</th>\n",
       "      <td>845</td>\n",
       "      <td>495</td>\n",
       "      <td>41.5070</td>\n",
       "      <td>10.7003</td>\n",
       "      <td>499.3927</td>\n",
       "      <td>0.01853</td>\n",
       "      <td>0.06785</td>\n",
       "      <td>0.99752</td>\n",
       "      <td>0.12090</td>\n",
       "      <td>0.05327</td>\n",
       "      <td>0.99123</td>\n",
       "      <td>31.74</td>\n",
       "      <td>-25.02</td>\n",
       "      <td>-25.77</td>\n",
       "      <td>-30.70</td>\n",
       "      <td>-22.12</td>\n",
       "      <td>-24.84</td>\n",
       "      <td>2.731</td>\n",
       "      <td>2.702</td>\n",
       "      <td>1</td>\n",
       "    </tr>\n",
       "  </tbody>\n",
       "</table>\n",
       "</div>"
      ],
      "text/plain": [
       "   Gaze point X  Gaze point Y  Gaze point 3D X  Gaze point 3D Y  \\\n",
       "0           887           537          23.4194          -7.8095   \n",
       "1           946           460          -3.2542          30.2582   \n",
       "2           945           396          -2.0881          52.4893   \n",
       "3           994           229         -35.9201         192.2926   \n",
       "4           971           462         -15.0866          27.2757   \n",
       "5           877           390          33.7784          69.3160   \n",
       "6          1002           436         -30.4839          40.9330   \n",
       "7          1069           391         -46.9813          46.5225   \n",
       "8           966           399         -13.8213          63.8206   \n",
       "9           845           495          41.5070          10.7003   \n",
       "\n",
       "   Gaze point 3D Z  Gaze direction left X  Gaze direction left Y  \\\n",
       "0         505.5488               -0.01517                0.03296   \n",
       "1         588.8766               -0.05583                0.09076   \n",
       "2         487.7569               -0.09606                0.25320   \n",
       "3         762.5424               -0.07836                0.25311   \n",
       "4         545.4553               -0.07936                0.07854   \n",
       "5         612.0223                0.00335                0.14733   \n",
       "6         560.1371               -0.10081                0.09448   \n",
       "7         417.2865               -0.14130                0.10539   \n",
       "8         609.4588               -0.06998                0.13825   \n",
       "9         499.3927                0.01853                0.06785   \n",
       "\n",
       "   Gaze direction left Z  Gaze direction right X  Gaze direction right Y  \\\n",
       "0                0.99934                 0.10087                 0.02698   \n",
       "1                0.99431                 0.04487                 0.08344   \n",
       "2                0.96263                 0.08502                 0.02575   \n",
       "3                0.96426                -0.00929                 0.27284   \n",
       "4                0.99375                 0.02321                 0.09104   \n",
       "5                0.98908                 0.09965                 0.13920   \n",
       "6                0.99041                -0.00518                 0.11677   \n",
       "7                0.98434                -0.03943                 0.15003   \n",
       "8                0.98792                 0.02696                 0.13273   \n",
       "9                0.99752                 0.12090                 0.05327   \n",
       "\n",
       "   Gaze direction right Z  Pupil position left X  Pupil position left Y  \\\n",
       "0                 0.99453                  31.47                 -25.33   \n",
       "1                 0.99550                  31.32                 -25.04   \n",
       "2                 0.99605                  30.86                 -21.33   \n",
       "3                 0.96202                  30.97                 -24.11   \n",
       "4                 0.99558                  31.10                 -21.75   \n",
       "5                 0.98524                  31.71                 -24.65   \n",
       "6                 0.99315                  30.87                 -21.78   \n",
       "7                 0.98789                  30.56                 -21.29   \n",
       "8                 0.99079                  31.17                 -24.68   \n",
       "9                 0.99123                  31.74                 -25.02   \n",
       "\n",
       "   Pupil position left Z  Pupil position right X  Pupil position right Y  \\\n",
       "0                 -25.63                  -30.85                  -22.49   \n",
       "1                 -25.64                  -31.00                  -22.01   \n",
       "2                 -25.90                  -29.15                  -19.65   \n",
       "3                 -25.71                  -30.97                  -21.54   \n",
       "4                 -26.18                  -28.91                  -21.15   \n",
       "5                 -25.78                  -30.77                  -21.72   \n",
       "6                 -26.14                  -28.99                  -21.23   \n",
       "7                 -26.52                  -29.25                  -20.91   \n",
       "8                 -25.67                  -31.08                  -21.54   \n",
       "9                 -25.77                  -30.70                  -22.12   \n",
       "\n",
       "   Pupil position right Z  Pupil diameter left  Pupil diameter right  Disease  \n",
       "0                  -24.76                2.527                 2.526        1  \n",
       "1                  -24.95                2.593                 2.653        1  \n",
       "2                  -24.85                3.126                 3.110        0  \n",
       "3                  -24.79                2.745                 2.691        1  \n",
       "4                  -25.97                3.163                 3.223        0  \n",
       "5                  -24.90                2.651                 2.694        1  \n",
       "6                  -25.84                3.353                 3.493        0  \n",
       "7                  -26.25                2.996                 3.145        0  \n",
       "8                  -25.05                2.717                 2.743        1  \n",
       "9                  -24.84                2.731                 2.702        1  "
      ]
     },
     "execution_count": 21,
     "metadata": {},
     "output_type": "execute_result"
    }
   ],
   "source": [
    "df.head(10)"
   ]
  },
  {
   "cell_type": "code",
   "execution_count": 22,
   "id": "50b190e3",
   "metadata": {},
   "outputs": [],
   "source": [
    "X = df.iloc[:,:-1]\n",
    "y = df['Disease']"
   ]
  },
  {
   "cell_type": "code",
   "execution_count": 23,
   "id": "936c1f8d",
   "metadata": {},
   "outputs": [
    {
     "data": {
      "text/html": [
       "<div>\n",
       "<style scoped>\n",
       "    .dataframe tbody tr th:only-of-type {\n",
       "        vertical-align: middle;\n",
       "    }\n",
       "\n",
       "    .dataframe tbody tr th {\n",
       "        vertical-align: top;\n",
       "    }\n",
       "\n",
       "    .dataframe thead th {\n",
       "        text-align: right;\n",
       "    }\n",
       "</style>\n",
       "<table border=\"1\" class=\"dataframe\">\n",
       "  <thead>\n",
       "    <tr style=\"text-align: right;\">\n",
       "      <th></th>\n",
       "      <th>Gaze point X</th>\n",
       "      <th>Gaze point Y</th>\n",
       "      <th>Gaze point 3D X</th>\n",
       "      <th>Gaze point 3D Y</th>\n",
       "      <th>Gaze point 3D Z</th>\n",
       "      <th>Gaze direction left X</th>\n",
       "      <th>Gaze direction left Y</th>\n",
       "      <th>Gaze direction left Z</th>\n",
       "      <th>Gaze direction right X</th>\n",
       "      <th>Gaze direction right Y</th>\n",
       "      <th>Gaze direction right Z</th>\n",
       "      <th>Pupil position left X</th>\n",
       "      <th>Pupil position left Y</th>\n",
       "      <th>Pupil position left Z</th>\n",
       "      <th>Pupil position right X</th>\n",
       "      <th>Pupil position right Y</th>\n",
       "      <th>Pupil position right Z</th>\n",
       "      <th>Pupil diameter left</th>\n",
       "      <th>Pupil diameter right</th>\n",
       "    </tr>\n",
       "  </thead>\n",
       "  <tbody>\n",
       "    <tr>\n",
       "      <th>0</th>\n",
       "      <td>887</td>\n",
       "      <td>537</td>\n",
       "      <td>23.4194</td>\n",
       "      <td>-7.8095</td>\n",
       "      <td>505.5488</td>\n",
       "      <td>-0.01517</td>\n",
       "      <td>0.03296</td>\n",
       "      <td>0.99934</td>\n",
       "      <td>0.10087</td>\n",
       "      <td>0.02698</td>\n",
       "      <td>0.99453</td>\n",
       "      <td>31.47</td>\n",
       "      <td>-25.33</td>\n",
       "      <td>-25.63</td>\n",
       "      <td>-30.85</td>\n",
       "      <td>-22.49</td>\n",
       "      <td>-24.76</td>\n",
       "      <td>2.527</td>\n",
       "      <td>2.526</td>\n",
       "    </tr>\n",
       "    <tr>\n",
       "      <th>1</th>\n",
       "      <td>946</td>\n",
       "      <td>460</td>\n",
       "      <td>-3.2542</td>\n",
       "      <td>30.2582</td>\n",
       "      <td>588.8766</td>\n",
       "      <td>-0.05583</td>\n",
       "      <td>0.09076</td>\n",
       "      <td>0.99431</td>\n",
       "      <td>0.04487</td>\n",
       "      <td>0.08344</td>\n",
       "      <td>0.99550</td>\n",
       "      <td>31.32</td>\n",
       "      <td>-25.04</td>\n",
       "      <td>-25.64</td>\n",
       "      <td>-31.00</td>\n",
       "      <td>-22.01</td>\n",
       "      <td>-24.95</td>\n",
       "      <td>2.593</td>\n",
       "      <td>2.653</td>\n",
       "    </tr>\n",
       "    <tr>\n",
       "      <th>2</th>\n",
       "      <td>945</td>\n",
       "      <td>396</td>\n",
       "      <td>-2.0881</td>\n",
       "      <td>52.4893</td>\n",
       "      <td>487.7569</td>\n",
       "      <td>-0.09606</td>\n",
       "      <td>0.25320</td>\n",
       "      <td>0.96263</td>\n",
       "      <td>0.08502</td>\n",
       "      <td>0.02575</td>\n",
       "      <td>0.99605</td>\n",
       "      <td>30.86</td>\n",
       "      <td>-21.33</td>\n",
       "      <td>-25.90</td>\n",
       "      <td>-29.15</td>\n",
       "      <td>-19.65</td>\n",
       "      <td>-24.85</td>\n",
       "      <td>3.126</td>\n",
       "      <td>3.110</td>\n",
       "    </tr>\n",
       "    <tr>\n",
       "      <th>3</th>\n",
       "      <td>994</td>\n",
       "      <td>229</td>\n",
       "      <td>-35.9201</td>\n",
       "      <td>192.2926</td>\n",
       "      <td>762.5424</td>\n",
       "      <td>-0.07836</td>\n",
       "      <td>0.25311</td>\n",
       "      <td>0.96426</td>\n",
       "      <td>-0.00929</td>\n",
       "      <td>0.27284</td>\n",
       "      <td>0.96202</td>\n",
       "      <td>30.97</td>\n",
       "      <td>-24.11</td>\n",
       "      <td>-25.71</td>\n",
       "      <td>-30.97</td>\n",
       "      <td>-21.54</td>\n",
       "      <td>-24.79</td>\n",
       "      <td>2.745</td>\n",
       "      <td>2.691</td>\n",
       "    </tr>\n",
       "    <tr>\n",
       "      <th>4</th>\n",
       "      <td>971</td>\n",
       "      <td>462</td>\n",
       "      <td>-15.0866</td>\n",
       "      <td>27.2757</td>\n",
       "      <td>545.4553</td>\n",
       "      <td>-0.07936</td>\n",
       "      <td>0.07854</td>\n",
       "      <td>0.99375</td>\n",
       "      <td>0.02321</td>\n",
       "      <td>0.09104</td>\n",
       "      <td>0.99558</td>\n",
       "      <td>31.10</td>\n",
       "      <td>-21.75</td>\n",
       "      <td>-26.18</td>\n",
       "      <td>-28.91</td>\n",
       "      <td>-21.15</td>\n",
       "      <td>-25.97</td>\n",
       "      <td>3.163</td>\n",
       "      <td>3.223</td>\n",
       "    </tr>\n",
       "  </tbody>\n",
       "</table>\n",
       "</div>"
      ],
      "text/plain": [
       "   Gaze point X  Gaze point Y  Gaze point 3D X  Gaze point 3D Y  \\\n",
       "0           887           537          23.4194          -7.8095   \n",
       "1           946           460          -3.2542          30.2582   \n",
       "2           945           396          -2.0881          52.4893   \n",
       "3           994           229         -35.9201         192.2926   \n",
       "4           971           462         -15.0866          27.2757   \n",
       "\n",
       "   Gaze point 3D Z  Gaze direction left X  Gaze direction left Y  \\\n",
       "0         505.5488               -0.01517                0.03296   \n",
       "1         588.8766               -0.05583                0.09076   \n",
       "2         487.7569               -0.09606                0.25320   \n",
       "3         762.5424               -0.07836                0.25311   \n",
       "4         545.4553               -0.07936                0.07854   \n",
       "\n",
       "   Gaze direction left Z  Gaze direction right X  Gaze direction right Y  \\\n",
       "0                0.99934                 0.10087                 0.02698   \n",
       "1                0.99431                 0.04487                 0.08344   \n",
       "2                0.96263                 0.08502                 0.02575   \n",
       "3                0.96426                -0.00929                 0.27284   \n",
       "4                0.99375                 0.02321                 0.09104   \n",
       "\n",
       "   Gaze direction right Z  Pupil position left X  Pupil position left Y  \\\n",
       "0                 0.99453                  31.47                 -25.33   \n",
       "1                 0.99550                  31.32                 -25.04   \n",
       "2                 0.99605                  30.86                 -21.33   \n",
       "3                 0.96202                  30.97                 -24.11   \n",
       "4                 0.99558                  31.10                 -21.75   \n",
       "\n",
       "   Pupil position left Z  Pupil position right X  Pupil position right Y  \\\n",
       "0                 -25.63                  -30.85                  -22.49   \n",
       "1                 -25.64                  -31.00                  -22.01   \n",
       "2                 -25.90                  -29.15                  -19.65   \n",
       "3                 -25.71                  -30.97                  -21.54   \n",
       "4                 -26.18                  -28.91                  -21.15   \n",
       "\n",
       "   Pupil position right Z  Pupil diameter left  Pupil diameter right  \n",
       "0                  -24.76                2.527                 2.526  \n",
       "1                  -24.95                2.593                 2.653  \n",
       "2                  -24.85                3.126                 3.110  \n",
       "3                  -24.79                2.745                 2.691  \n",
       "4                  -25.97                3.163                 3.223  "
      ]
     },
     "execution_count": 23,
     "metadata": {},
     "output_type": "execute_result"
    }
   ],
   "source": [
    "X.head()"
   ]
  },
  {
   "cell_type": "code",
   "execution_count": 24,
   "id": "acf2192b",
   "metadata": {},
   "outputs": [
    {
     "data": {
      "text/plain": [
       "0        1\n",
       "1        1\n",
       "2        0\n",
       "3        1\n",
       "4        0\n",
       "        ..\n",
       "61771    0\n",
       "61772    0\n",
       "61773    0\n",
       "61774    0\n",
       "61775    1\n",
       "Name: Disease, Length: 61776, dtype: int64"
      ]
     },
     "execution_count": 24,
     "metadata": {},
     "output_type": "execute_result"
    }
   ],
   "source": [
    "y"
   ]
  },
  {
   "cell_type": "code",
   "execution_count": 25,
   "id": "cd022124",
   "metadata": {},
   "outputs": [],
   "source": [
    "from sklearn.model_selection import train_test_split"
   ]
  },
  {
   "cell_type": "code",
   "execution_count": 26,
   "id": "33003ef6",
   "metadata": {},
   "outputs": [],
   "source": [
    "X_train,X_test,y_train,y_test = train_test_split(X,y,train_size=0.75)"
   ]
  },
  {
   "cell_type": "code",
   "execution_count": 27,
   "id": "5fac06a6",
   "metadata": {},
   "outputs": [
    {
     "data": {
      "text/plain": [
       "(46332, 19)"
      ]
     },
     "execution_count": 27,
     "metadata": {},
     "output_type": "execute_result"
    }
   ],
   "source": [
    "X_train.shape"
   ]
  },
  {
   "cell_type": "code",
   "execution_count": 28,
   "id": "5ba11ee1",
   "metadata": {},
   "outputs": [
    {
     "data": {
      "text/plain": [
       "(15444, 19)"
      ]
     },
     "execution_count": 28,
     "metadata": {},
     "output_type": "execute_result"
    }
   ],
   "source": [
    "X_test.shape"
   ]
  },
  {
   "cell_type": "markdown",
   "id": "6a662394",
   "metadata": {},
   "source": [
    "# Support Vector Machine (SVM)"
   ]
  },
  {
   "cell_type": "code",
   "execution_count": 29,
   "id": "978bd202",
   "metadata": {},
   "outputs": [],
   "source": [
    "from sklearn.svm import SVC"
   ]
  },
  {
   "cell_type": "code",
   "execution_count": 30,
   "id": "3863f181",
   "metadata": {},
   "outputs": [],
   "source": [
    "svc = SVC()"
   ]
  },
  {
   "cell_type": "code",
   "execution_count": 37,
   "id": "22fad66c",
   "metadata": {},
   "outputs": [
    {
     "data": {
      "text/html": [
       "<style>#sk-container-id-2 {color: black;}#sk-container-id-2 pre{padding: 0;}#sk-container-id-2 div.sk-toggleable {background-color: white;}#sk-container-id-2 label.sk-toggleable__label {cursor: pointer;display: block;width: 100%;margin-bottom: 0;padding: 0.3em;box-sizing: border-box;text-align: center;}#sk-container-id-2 label.sk-toggleable__label-arrow:before {content: \"▸\";float: left;margin-right: 0.25em;color: #696969;}#sk-container-id-2 label.sk-toggleable__label-arrow:hover:before {color: black;}#sk-container-id-2 div.sk-estimator:hover label.sk-toggleable__label-arrow:before {color: black;}#sk-container-id-2 div.sk-toggleable__content {max-height: 0;max-width: 0;overflow: hidden;text-align: left;background-color: #f0f8ff;}#sk-container-id-2 div.sk-toggleable__content pre {margin: 0.2em;color: black;border-radius: 0.25em;background-color: #f0f8ff;}#sk-container-id-2 input.sk-toggleable__control:checked~div.sk-toggleable__content {max-height: 200px;max-width: 100%;overflow: auto;}#sk-container-id-2 input.sk-toggleable__control:checked~label.sk-toggleable__label-arrow:before {content: \"▾\";}#sk-container-id-2 div.sk-estimator input.sk-toggleable__control:checked~label.sk-toggleable__label {background-color: #d4ebff;}#sk-container-id-2 div.sk-label input.sk-toggleable__control:checked~label.sk-toggleable__label {background-color: #d4ebff;}#sk-container-id-2 input.sk-hidden--visually {border: 0;clip: rect(1px 1px 1px 1px);clip: rect(1px, 1px, 1px, 1px);height: 1px;margin: -1px;overflow: hidden;padding: 0;position: absolute;width: 1px;}#sk-container-id-2 div.sk-estimator {font-family: monospace;background-color: #f0f8ff;border: 1px dotted black;border-radius: 0.25em;box-sizing: border-box;margin-bottom: 0.5em;}#sk-container-id-2 div.sk-estimator:hover {background-color: #d4ebff;}#sk-container-id-2 div.sk-parallel-item::after {content: \"\";width: 100%;border-bottom: 1px solid gray;flex-grow: 1;}#sk-container-id-2 div.sk-label:hover label.sk-toggleable__label {background-color: #d4ebff;}#sk-container-id-2 div.sk-serial::before {content: \"\";position: absolute;border-left: 1px solid gray;box-sizing: border-box;top: 0;bottom: 0;left: 50%;z-index: 0;}#sk-container-id-2 div.sk-serial {display: flex;flex-direction: column;align-items: center;background-color: white;padding-right: 0.2em;padding-left: 0.2em;position: relative;}#sk-container-id-2 div.sk-item {position: relative;z-index: 1;}#sk-container-id-2 div.sk-parallel {display: flex;align-items: stretch;justify-content: center;background-color: white;position: relative;}#sk-container-id-2 div.sk-item::before, #sk-container-id-2 div.sk-parallel-item::before {content: \"\";position: absolute;border-left: 1px solid gray;box-sizing: border-box;top: 0;bottom: 0;left: 50%;z-index: -1;}#sk-container-id-2 div.sk-parallel-item {display: flex;flex-direction: column;z-index: 1;position: relative;background-color: white;}#sk-container-id-2 div.sk-parallel-item:first-child::after {align-self: flex-end;width: 50%;}#sk-container-id-2 div.sk-parallel-item:last-child::after {align-self: flex-start;width: 50%;}#sk-container-id-2 div.sk-parallel-item:only-child::after {width: 0;}#sk-container-id-2 div.sk-dashed-wrapped {border: 1px dashed gray;margin: 0 0.4em 0.5em 0.4em;box-sizing: border-box;padding-bottom: 0.4em;background-color: white;}#sk-container-id-2 div.sk-label label {font-family: monospace;font-weight: bold;display: inline-block;line-height: 1.2em;}#sk-container-id-2 div.sk-label-container {text-align: center;}#sk-container-id-2 div.sk-container {/* jupyter's `normalize.less` sets `[hidden] { display: none; }` but bootstrap.min.css set `[hidden] { display: none !important; }` so we also need the `!important` here to be able to override the default hidden behavior on the sphinx rendered scikit-learn.org. See: https://github.com/scikit-learn/scikit-learn/issues/21755 */display: inline-block !important;position: relative;}#sk-container-id-2 div.sk-text-repr-fallback {display: none;}</style><div id=\"sk-container-id-2\" class=\"sk-top-container\"><div class=\"sk-text-repr-fallback\"><pre>SVC()</pre><b>In a Jupyter environment, please rerun this cell to show the HTML representation or trust the notebook. <br />On GitHub, the HTML representation is unable to render, please try loading this page with nbviewer.org.</b></div><div class=\"sk-container\" hidden><div class=\"sk-item\"><div class=\"sk-estimator sk-toggleable\"><input class=\"sk-toggleable__control sk-hidden--visually\" id=\"sk-estimator-id-2\" type=\"checkbox\" checked><label for=\"sk-estimator-id-2\" class=\"sk-toggleable__label sk-toggleable__label-arrow\">SVC</label><div class=\"sk-toggleable__content\"><pre>SVC()</pre></div></div></div></div></div>"
      ],
      "text/plain": [
       "SVC()"
      ]
     },
     "execution_count": 37,
     "metadata": {},
     "output_type": "execute_result"
    }
   ],
   "source": [
    "svc.fit(X_train,y_train)"
   ]
  },
  {
   "cell_type": "code",
   "execution_count": 38,
   "id": "69efb323",
   "metadata": {},
   "outputs": [],
   "source": [
    "pred = svc.predict(X_test)"
   ]
  },
  {
   "cell_type": "code",
   "execution_count": 39,
   "id": "5a99c3ce",
   "metadata": {},
   "outputs": [
    {
     "data": {
      "text/plain": [
       "array([0, 0, 1, ..., 1, 0, 0], dtype=int64)"
      ]
     },
     "execution_count": 39,
     "metadata": {},
     "output_type": "execute_result"
    }
   ],
   "source": [
    "pred"
   ]
  },
  {
   "cell_type": "code",
   "execution_count": 40,
   "id": "6e29bb42",
   "metadata": {},
   "outputs": [],
   "source": [
    "from sklearn.metrics import accuracy_score,recall_score,confusion_matrix,ConfusionMatrixDisplay"
   ]
  },
  {
   "cell_type": "code",
   "execution_count": 41,
   "id": "8ada977e",
   "metadata": {},
   "outputs": [],
   "source": [
    "accuracy = accuracy_score(pred,y_test)"
   ]
  },
  {
   "cell_type": "code",
   "execution_count": 42,
   "id": "62c8075a",
   "metadata": {},
   "outputs": [
    {
     "data": {
      "text/plain": [
       "86.79098679098679"
      ]
     },
     "execution_count": 42,
     "metadata": {},
     "output_type": "execute_result"
    }
   ],
   "source": [
    "accuracy*100"
   ]
  },
  {
   "cell_type": "code",
   "execution_count": 43,
   "id": "416020f2",
   "metadata": {
    "scrolled": true
   },
   "outputs": [
    {
     "data": {
      "text/plain": [
       "0.8670852956567242"
      ]
     },
     "execution_count": 43,
     "metadata": {},
     "output_type": "execute_result"
    }
   ],
   "source": [
    "svc_recall = recall_score(y_test,pred)\n",
    "svc_recall"
   ]
  },
  {
   "cell_type": "code",
   "execution_count": 44,
   "id": "f0443de1",
   "metadata": {},
   "outputs": [],
   "source": [
    "cm = confusion_matrix(y_test,pred)"
   ]
  },
  {
   "cell_type": "code",
   "execution_count": 45,
   "id": "79a46b62",
   "metadata": {},
   "outputs": [
    {
     "data": {
      "text/plain": [
       "array([[6776, 1024],\n",
       "       [1016, 6628]], dtype=int64)"
      ]
     },
     "execution_count": 45,
     "metadata": {},
     "output_type": "execute_result"
    }
   ],
   "source": [
    "cm"
   ]
  },
  {
   "cell_type": "code",
   "execution_count": 46,
   "id": "ed63aa81",
   "metadata": {},
   "outputs": [
    {
     "data": {
      "text/plain": [
       "array([0, 1], dtype=int64)"
      ]
     },
     "execution_count": 46,
     "metadata": {},
     "output_type": "execute_result"
    }
   ],
   "source": [
    "svc.classes_"
   ]
  },
  {
   "cell_type": "code",
   "execution_count": 47,
   "id": "e7512ef2",
   "metadata": {},
   "outputs": [],
   "source": [
    "disp = ConfusionMatrixDisplay(confusion_matrix=cm,\n",
    "                              display_labels=svc.classes_)"
   ]
  },
  {
   "cell_type": "code",
   "execution_count": 48,
   "id": "c38d7d1e",
   "metadata": {},
   "outputs": [
    {
     "data": {
      "text/plain": [
       "<sklearn.metrics._plot.confusion_matrix.ConfusionMatrixDisplay at 0x1aa25b34b50>"
      ]
     },
     "execution_count": 48,
     "metadata": {},
     "output_type": "execute_result"
    },
    {
     "data": {
      "image/png": "[encoded data removed]",
      "text/plain": [
       "<Figure size 640x480 with 2 Axes>"
      ]
     },
     "metadata": {},
     "output_type": "display_data"
    }
   ],
   "source": [
    "disp.plot()"
   ]
  },
  {
   "cell_type": "markdown",
   "id": "11be5e04",
   "metadata": {},
   "source": [
    "# Precision Recall Curve"
   ]
  },
  {
   "cell_type": "markdown",
   "id": "a80d350d",
   "metadata": {},
   "source": [
    "# The PR-curve requires precision-recall to be calculated, and for that we need probabilities of the predictions."
   ]
  },
  {
   "cell_type": "code",
   "execution_count": 49,
   "id": "7fedd719",
   "metadata": {},
   "outputs": [],
   "source": [
    "svc = SVC(probability=True)\n",
    "svc.fit(X_train,y_train)\n",
    "\n",
    "svc_preds = svc.predict(X_test) # Predictions\n",
    "svc_prob = svc.predict_proba(X_test)[:,1] \n",
    "\n",
    "# THIS WILL BE USED FOR PR-CURVE"
   ]
  },
  {
   "cell_type": "code",
   "execution_count": 50,
   "id": "1770f8c9",
   "metadata": {},
   "outputs": [
    {
     "data": {
      "text/plain": [
       "array([0.15016782, 0.15757711, 0.61104002, ..., 0.99999954, 0.03815434,\n",
       "       0.01211744])"
      ]
     },
     "execution_count": 50,
     "metadata": {},
     "output_type": "execute_result"
    }
   ],
   "source": [
    "svc_prob"
   ]
  },
  {
   "cell_type": "code",
   "execution_count": 51,
   "id": "a67d8f23",
   "metadata": {},
   "outputs": [
    {
     "name": "stdout",
     "output_type": "stream",
     "text": [
      "Accuracy : 86.79%\n"
     ]
    }
   ],
   "source": [
    "accuracy = accuracy_score(y_test,svc_preds)\n",
    "print(f'Accuracy : {round(accuracy*100,2)}%')"
   ]
  },
  {
   "cell_type": "code",
   "execution_count": 52,
   "id": "e65db0a0",
   "metadata": {},
   "outputs": [],
   "source": [
    "from sklearn.metrics import accuracy_score,precision_recall_curve,auc"
   ]
  },
  {
   "cell_type": "code",
   "execution_count": 53,
   "id": "ef8af50e",
   "metadata": {},
   "outputs": [],
   "source": [
    "precision_1,recall_1,threshold_1 = precision_recall_curve(y_test,svc_prob)"
   ]
  },
  {
   "cell_type": "markdown",
   "id": "629553d5",
   "metadata": {},
   "source": [
    "## This is Area Under Curve (AUC) which measures the performance of the model. \n",
    "# Higher AUC means better model.\n",
    "# range of AUC is 0 to 1\n"
   ]
  },
  {
   "cell_type": "code",
   "execution_count": 54,
   "id": "b6af1e2b",
   "metadata": {},
   "outputs": [
    {
     "name": "stdout",
     "output_type": "stream",
     "text": [
      "0.9372986182479177\n"
     ]
    }
   ],
   "source": [
    "auc_1= auc(recall_1,precision_1)\n",
    "print(auc_1)"
   ]
  },
  {
   "cell_type": "code",
   "execution_count": 55,
   "id": "298e2474",
   "metadata": {},
   "outputs": [
    {
     "data": {
      "text/plain": [
       "<matplotlib.legend.Legend at 0x1aa2441e150>"
      ]
     },
     "execution_count": 55,
     "metadata": {},
     "output_type": "execute_result"
    },
    {
     "data": {
      "image/png": "[encoded data removed]",
      "text/plain": [
       "<Figure size 640x480 with 1 Axes>"
      ]
     },
     "metadata": {},
     "output_type": "display_data"
    }
   ],
   "source": [
    "plt.title('PR-curve: SVC')\n",
    "\n",
    "plt.plot(recall_1,precision_1,label=f'AUC: {round(auc_1,2)}')\n",
    "\n",
    "plt.fill_between(recall_1,precision_1,alpha=0.2)\n",
    "\n",
    "plt.xlabel('Recall')\n",
    "plt.ylabel('Precision')\n",
    "plt.legend()"
   ]
  },
  {
   "cell_type": "code",
   "execution_count": 56,
   "id": "e11625f4",
   "metadata": {
    "scrolled": true
   },
   "outputs": [
    {
     "data": {
      "text/html": [
       "<div>\n",
       "<style scoped>\n",
       "    .dataframe tbody tr th:only-of-type {\n",
       "        vertical-align: middle;\n",
       "    }\n",
       "\n",
       "    .dataframe tbody tr th {\n",
       "        vertical-align: top;\n",
       "    }\n",
       "\n",
       "    .dataframe thead th {\n",
       "        text-align: right;\n",
       "    }\n",
       "</style>\n",
       "<table border=\"1\" class=\"dataframe\">\n",
       "  <thead>\n",
       "    <tr style=\"text-align: right;\">\n",
       "      <th></th>\n",
       "      <th>Gaze point X</th>\n",
       "      <th>Gaze point Y</th>\n",
       "      <th>Gaze point 3D X</th>\n",
       "      <th>Gaze point 3D Y</th>\n",
       "      <th>Gaze point 3D Z</th>\n",
       "      <th>Gaze direction left X</th>\n",
       "      <th>Gaze direction left Y</th>\n",
       "      <th>Gaze direction left Z</th>\n",
       "      <th>Gaze direction right X</th>\n",
       "      <th>Gaze direction right Y</th>\n",
       "      <th>Gaze direction right Z</th>\n",
       "      <th>Pupil position left X</th>\n",
       "      <th>Pupil position left Y</th>\n",
       "      <th>Pupil position left Z</th>\n",
       "      <th>Pupil position right X</th>\n",
       "      <th>Pupil position right Y</th>\n",
       "      <th>Pupil position right Z</th>\n",
       "      <th>Pupil diameter left</th>\n",
       "      <th>Pupil diameter right</th>\n",
       "      <th>Disease</th>\n",
       "    </tr>\n",
       "  </thead>\n",
       "  <tbody>\n",
       "    <tr>\n",
       "      <th>0</th>\n",
       "      <td>887</td>\n",
       "      <td>537</td>\n",
       "      <td>23.4194</td>\n",
       "      <td>-7.8095</td>\n",
       "      <td>505.5488</td>\n",
       "      <td>-0.01517</td>\n",
       "      <td>0.03296</td>\n",
       "      <td>0.99934</td>\n",
       "      <td>0.10087</td>\n",
       "      <td>0.02698</td>\n",
       "      <td>0.99453</td>\n",
       "      <td>31.47</td>\n",
       "      <td>-25.33</td>\n",
       "      <td>-25.63</td>\n",
       "      <td>-30.85</td>\n",
       "      <td>-22.49</td>\n",
       "      <td>-24.76</td>\n",
       "      <td>2.527</td>\n",
       "      <td>2.526</td>\n",
       "      <td>1</td>\n",
       "    </tr>\n",
       "    <tr>\n",
       "      <th>1</th>\n",
       "      <td>946</td>\n",
       "      <td>460</td>\n",
       "      <td>-3.2542</td>\n",
       "      <td>30.2582</td>\n",
       "      <td>588.8766</td>\n",
       "      <td>-0.05583</td>\n",
       "      <td>0.09076</td>\n",
       "      <td>0.99431</td>\n",
       "      <td>0.04487</td>\n",
       "      <td>0.08344</td>\n",
       "      <td>0.99550</td>\n",
       "      <td>31.32</td>\n",
       "      <td>-25.04</td>\n",
       "      <td>-25.64</td>\n",
       "      <td>-31.00</td>\n",
       "      <td>-22.01</td>\n",
       "      <td>-24.95</td>\n",
       "      <td>2.593</td>\n",
       "      <td>2.653</td>\n",
       "      <td>1</td>\n",
       "    </tr>\n",
       "    <tr>\n",
       "      <th>3</th>\n",
       "      <td>994</td>\n",
       "      <td>229</td>\n",
       "      <td>-35.9201</td>\n",
       "      <td>192.2926</td>\n",
       "      <td>762.5424</td>\n",
       "      <td>-0.07836</td>\n",
       "      <td>0.25311</td>\n",
       "      <td>0.96426</td>\n",
       "      <td>-0.00929</td>\n",
       "      <td>0.27284</td>\n",
       "      <td>0.96202</td>\n",
       "      <td>30.97</td>\n",
       "      <td>-24.11</td>\n",
       "      <td>-25.71</td>\n",
       "      <td>-30.97</td>\n",
       "      <td>-21.54</td>\n",
       "      <td>-24.79</td>\n",
       "      <td>2.745</td>\n",
       "      <td>2.691</td>\n",
       "      <td>1</td>\n",
       "    </tr>\n",
       "    <tr>\n",
       "      <th>5</th>\n",
       "      <td>877</td>\n",
       "      <td>390</td>\n",
       "      <td>33.7784</td>\n",
       "      <td>69.3160</td>\n",
       "      <td>612.0223</td>\n",
       "      <td>0.00335</td>\n",
       "      <td>0.14733</td>\n",
       "      <td>0.98908</td>\n",
       "      <td>0.09965</td>\n",
       "      <td>0.13920</td>\n",
       "      <td>0.98524</td>\n",
       "      <td>31.71</td>\n",
       "      <td>-24.65</td>\n",
       "      <td>-25.78</td>\n",
       "      <td>-30.77</td>\n",
       "      <td>-21.72</td>\n",
       "      <td>-24.90</td>\n",
       "      <td>2.651</td>\n",
       "      <td>2.694</td>\n",
       "      <td>1</td>\n",
       "    </tr>\n",
       "    <tr>\n",
       "      <th>8</th>\n",
       "      <td>966</td>\n",
       "      <td>399</td>\n",
       "      <td>-13.8213</td>\n",
       "      <td>63.8206</td>\n",
       "      <td>609.4588</td>\n",
       "      <td>-0.06998</td>\n",
       "      <td>0.13825</td>\n",
       "      <td>0.98792</td>\n",
       "      <td>0.02696</td>\n",
       "      <td>0.13273</td>\n",
       "      <td>0.99079</td>\n",
       "      <td>31.17</td>\n",
       "      <td>-24.68</td>\n",
       "      <td>-25.67</td>\n",
       "      <td>-31.08</td>\n",
       "      <td>-21.54</td>\n",
       "      <td>-25.05</td>\n",
       "      <td>2.717</td>\n",
       "      <td>2.743</td>\n",
       "      <td>1</td>\n",
       "    </tr>\n",
       "    <tr>\n",
       "      <th>...</th>\n",
       "      <td>...</td>\n",
       "      <td>...</td>\n",
       "      <td>...</td>\n",
       "      <td>...</td>\n",
       "      <td>...</td>\n",
       "      <td>...</td>\n",
       "      <td>...</td>\n",
       "      <td>...</td>\n",
       "      <td>...</td>\n",
       "      <td>...</td>\n",
       "      <td>...</td>\n",
       "      <td>...</td>\n",
       "      <td>...</td>\n",
       "      <td>...</td>\n",
       "      <td>...</td>\n",
       "      <td>...</td>\n",
       "      <td>...</td>\n",
       "      <td>...</td>\n",
       "      <td>...</td>\n",
       "      <td>...</td>\n",
       "    </tr>\n",
       "    <tr>\n",
       "      <th>61761</th>\n",
       "      <td>1004</td>\n",
       "      <td>318</td>\n",
       "      <td>-35.5501</td>\n",
       "      <td>111.1511</td>\n",
       "      <td>635.5013</td>\n",
       "      <td>-0.09798</td>\n",
       "      <td>0.19727</td>\n",
       "      <td>0.97544</td>\n",
       "      <td>-0.00661</td>\n",
       "      <td>0.19921</td>\n",
       "      <td>0.97994</td>\n",
       "      <td>30.91</td>\n",
       "      <td>-24.35</td>\n",
       "      <td>-25.84</td>\n",
       "      <td>-31.08</td>\n",
       "      <td>-21.35</td>\n",
       "      <td>-25.09</td>\n",
       "      <td>3.038</td>\n",
       "      <td>3.023</td>\n",
       "      <td>1</td>\n",
       "    </tr>\n",
       "    <tr>\n",
       "      <th>61763</th>\n",
       "      <td>956</td>\n",
       "      <td>533</td>\n",
       "      <td>-6.9324</td>\n",
       "      <td>-6.1890</td>\n",
       "      <td>499.7569</td>\n",
       "      <td>-0.54845</td>\n",
       "      <td>-0.22250</td>\n",
       "      <td>0.80603</td>\n",
       "      <td>0.04600</td>\n",
       "      <td>0.03000</td>\n",
       "      <td>0.99849</td>\n",
       "      <td>31.23</td>\n",
       "      <td>-24.84</td>\n",
       "      <td>-26.34</td>\n",
       "      <td>-31.13</td>\n",
       "      <td>-21.90</td>\n",
       "      <td>-25.46</td>\n",
       "      <td>4.334</td>\n",
       "      <td>2.444</td>\n",
       "      <td>1</td>\n",
       "    </tr>\n",
       "    <tr>\n",
       "      <th>61766</th>\n",
       "      <td>851</td>\n",
       "      <td>424</td>\n",
       "      <td>30.6359</td>\n",
       "      <td>32.6928</td>\n",
       "      <td>391.7530</td>\n",
       "      <td>-0.00265</td>\n",
       "      <td>0.13591</td>\n",
       "      <td>0.99072</td>\n",
       "      <td>0.13603</td>\n",
       "      <td>0.11467</td>\n",
       "      <td>0.98405</td>\n",
       "      <td>31.74</td>\n",
       "      <td>-24.63</td>\n",
       "      <td>-25.86</td>\n",
       "      <td>-30.64</td>\n",
       "      <td>-21.95</td>\n",
       "      <td>-24.42</td>\n",
       "      <td>2.674</td>\n",
       "      <td>2.564</td>\n",
       "      <td>1</td>\n",
       "    </tr>\n",
       "    <tr>\n",
       "      <th>61769</th>\n",
       "      <td>1014</td>\n",
       "      <td>253</td>\n",
       "      <td>-44.7728</td>\n",
       "      <td>160.5805</td>\n",
       "      <td>693.4943</td>\n",
       "      <td>-0.10124</td>\n",
       "      <td>0.24524</td>\n",
       "      <td>0.96416</td>\n",
       "      <td>-0.01819</td>\n",
       "      <td>0.24749</td>\n",
       "      <td>0.96872</td>\n",
       "      <td>30.84</td>\n",
       "      <td>-24.11</td>\n",
       "      <td>-25.74</td>\n",
       "      <td>-31.33</td>\n",
       "      <td>-21.32</td>\n",
       "      <td>-25.16</td>\n",
       "      <td>2.653</td>\n",
       "      <td>2.691</td>\n",
       "      <td>1</td>\n",
       "    </tr>\n",
       "    <tr>\n",
       "      <th>61775</th>\n",
       "      <td>709</td>\n",
       "      <td>852</td>\n",
       "      <td>89.2393</td>\n",
       "      <td>-129.1042</td>\n",
       "      <td>444.7195</td>\n",
       "      <td>0.04928</td>\n",
       "      <td>0.01883</td>\n",
       "      <td>0.99861</td>\n",
       "      <td>0.24077</td>\n",
       "      <td>-0.21526</td>\n",
       "      <td>0.94641</td>\n",
       "      <td>31.68</td>\n",
       "      <td>-24.57</td>\n",
       "      <td>-26.22</td>\n",
       "      <td>-30.61</td>\n",
       "      <td>-21.51</td>\n",
       "      <td>-25.55</td>\n",
       "      <td>2.553</td>\n",
       "      <td>3.475</td>\n",
       "      <td>1</td>\n",
       "    </tr>\n",
       "  </tbody>\n",
       "</table>\n",
       "<p>30819 rows × 20 columns</p>\n",
       "</div>"
      ],
      "text/plain": [
       "       Gaze point X  Gaze point Y  Gaze point 3D X  Gaze point 3D Y  \\\n",
       "0               887           537          23.4194          -7.8095   \n",
       "1               946           460          -3.2542          30.2582   \n",
       "3               994           229         -35.9201         192.2926   \n",
       "5               877           390          33.7784          69.3160   \n",
       "8               966           399         -13.8213          63.8206   \n",
       "...             ...           ...              ...              ...   \n",
       "61761          1004           318         -35.5501         111.1511   \n",
       "61763           956           533          -6.9324          -6.1890   \n",
       "61766           851           424          30.6359          32.6928   \n",
       "61769          1014           253         -44.7728         160.5805   \n",
       "61775           709           852          89.2393        -129.1042   \n",
       "\n",
       "       Gaze point 3D Z  Gaze direction left X  Gaze direction left Y  \\\n",
       "0             505.5488               -0.01517                0.03296   \n",
       "1             588.8766               -0.05583                0.09076   \n",
       "3             762.5424               -0.07836                0.25311   \n",
       "5             612.0223                0.00335                0.14733   \n",
       "8             609.4588               -0.06998                0.13825   \n",
       "...                ...                    ...                    ...   \n",
       "61761         635.5013               -0.09798                0.19727   \n",
       "61763         499.7569               -0.54845               -0.22250   \n",
       "61766         391.7530               -0.00265                0.13591   \n",
       "61769         693.4943               -0.10124                0.24524   \n",
       "61775         444.7195                0.04928                0.01883   \n",
       "\n",
       "       Gaze direction left Z  Gaze direction right X  Gaze direction right Y  \\\n",
       "0                    0.99934                 0.10087                 0.02698   \n",
       "1                    0.99431                 0.04487                 0.08344   \n",
       "3                    0.96426                -0.00929                 0.27284   \n",
       "5                    0.98908                 0.09965                 0.13920   \n",
       "8                    0.98792                 0.02696                 0.13273   \n",
       "...                      ...                     ...                     ...   \n",
       "61761                0.97544                -0.00661                 0.19921   \n",
       "61763                0.80603                 0.04600                 0.03000   \n",
       "61766                0.99072                 0.13603                 0.11467   \n",
       "61769                0.96416                -0.01819                 0.24749   \n",
       "61775                0.99861                 0.24077                -0.21526   \n",
       "\n",
       "       Gaze direction right Z  Pupil position left X  Pupil position left Y  \\\n",
       "0                     0.99453                  31.47                 -25.33   \n",
       "1                     0.99550                  31.32                 -25.04   \n",
       "3                     0.96202                  30.97                 -24.11   \n",
       "5                     0.98524                  31.71                 -24.65   \n",
       "8                     0.99079                  31.17                 -24.68   \n",
       "...                       ...                    ...                    ...   \n",
       "61761                 0.97994                  30.91                 -24.35   \n",
       "61763                 0.99849                  31.23                 -24.84   \n",
       "61766                 0.98405                  31.74                 -24.63   \n",
       "61769                 0.96872                  30.84                 -24.11   \n",
       "61775                 0.94641                  31.68                 -24.57   \n",
       "\n",
       "       Pupil position left Z  Pupil position right X  Pupil position right Y  \\\n",
       "0                     -25.63                  -30.85                  -22.49   \n",
       "1                     -25.64                  -31.00                  -22.01   \n",
       "3                     -25.71                  -30.97                  -21.54   \n",
       "5                     -25.78                  -30.77                  -21.72   \n",
       "8                     -25.67                  -31.08                  -21.54   \n",
       "...                      ...                     ...                     ...   \n",
       "61761                 -25.84                  -31.08                  -21.35   \n",
       "61763                 -26.34                  -31.13                  -21.90   \n",
       "61766                 -25.86                  -30.64                  -21.95   \n",
       "61769                 -25.74                  -31.33                  -21.32   \n",
       "61775                 -26.22                  -30.61                  -21.51   \n",
       "\n",
       "       Pupil position right Z  Pupil diameter left  Pupil diameter right  \\\n",
       "0                      -24.76                2.527                 2.526   \n",
       "1                      -24.95                2.593                 2.653   \n",
       "3                      -24.79                2.745                 2.691   \n",
       "5                      -24.90                2.651                 2.694   \n",
       "8                      -25.05                2.717                 2.743   \n",
       "...                       ...                  ...                   ...   \n",
       "61761                  -25.09                3.038                 3.023   \n",
       "61763                  -25.46                4.334                 2.444   \n",
       "61766                  -24.42                2.674                 2.564   \n",
       "61769                  -25.16                2.653                 2.691   \n",
       "61775                  -25.55                2.553                 3.475   \n",
       "\n",
       "       Disease  \n",
       "0            1  \n",
       "1            1  \n",
       "3            1  \n",
       "5            1  \n",
       "8            1  \n",
       "...        ...  \n",
       "61761        1  \n",
       "61763        1  \n",
       "61766        1  \n",
       "61769        1  \n",
       "61775        1  \n",
       "\n",
       "[30819 rows x 20 columns]"
      ]
     },
     "execution_count": 56,
     "metadata": {},
     "output_type": "execute_result"
    }
   ],
   "source": [
    "df[df['Disease']==1]"
   ]
  },
  {
   "cell_type": "markdown",
   "id": "7cd80489",
   "metadata": {},
   "source": [
    "# Random Forest"
   ]
  },
  {
   "cell_type": "code",
   "execution_count": 57,
   "id": "326fc5cc",
   "metadata": {},
   "outputs": [],
   "source": [
    "from sklearn.ensemble import RandomForestClassifier"
   ]
  },
  {
   "cell_type": "code",
   "execution_count": 58,
   "id": "90fd78ce",
   "metadata": {},
   "outputs": [],
   "source": [
    "rfc = RandomForestClassifier(max_depth=5,min_samples_split=200)"
   ]
  },
  {
   "cell_type": "code",
   "execution_count": 59,
   "id": "b144c77a",
   "metadata": {},
   "outputs": [
    {
     "data": {
      "text/html": [
       "<style>#sk-container-id-3 {color: black;}#sk-container-id-3 pre{padding: 0;}#sk-container-id-3 div.sk-toggleable {background-color: white;}#sk-container-id-3 label.sk-toggleable__label {cursor: pointer;display: block;width: 100%;margin-bottom: 0;padding: 0.3em;box-sizing: border-box;text-align: center;}#sk-container-id-3 label.sk-toggleable__label-arrow:before {content: \"▸\";float: left;margin-right: 0.25em;color: #696969;}#sk-container-id-3 label.sk-toggleable__label-arrow:hover:before {color: black;}#sk-container-id-3 div.sk-estimator:hover label.sk-toggleable__label-arrow:before {color: black;}#sk-container-id-3 div.sk-toggleable__content {max-height: 0;max-width: 0;overflow: hidden;text-align: left;background-color: #f0f8ff;}#sk-container-id-3 div.sk-toggleable__content pre {margin: 0.2em;color: black;border-radius: 0.25em;background-color: #f0f8ff;}#sk-container-id-3 input.sk-toggleable__control:checked~div.sk-toggleable__content {max-height: 200px;max-width: 100%;overflow: auto;}#sk-container-id-3 input.sk-toggleable__control:checked~label.sk-toggleable__label-arrow:before {content: \"▾\";}#sk-container-id-3 div.sk-estimator input.sk-toggleable__control:checked~label.sk-toggleable__label {background-color: #d4ebff;}#sk-container-id-3 div.sk-label input.sk-toggleable__control:checked~label.sk-toggleable__label {background-color: #d4ebff;}#sk-container-id-3 input.sk-hidden--visually {border: 0;clip: rect(1px 1px 1px 1px);clip: rect(1px, 1px, 1px, 1px);height: 1px;margin: -1px;overflow: hidden;padding: 0;position: absolute;width: 1px;}#sk-container-id-3 div.sk-estimator {font-family: monospace;background-color: #f0f8ff;border: 1px dotted black;border-radius: 0.25em;box-sizing: border-box;margin-bottom: 0.5em;}#sk-container-id-3 div.sk-estimator:hover {background-color: #d4ebff;}#sk-container-id-3 div.sk-parallel-item::after {content: \"\";width: 100%;border-bottom: 1px solid gray;flex-grow: 1;}#sk-container-id-3 div.sk-label:hover label.sk-toggleable__label {background-color: #d4ebff;}#sk-container-id-3 div.sk-serial::before {content: \"\";position: absolute;border-left: 1px solid gray;box-sizing: border-box;top: 0;bottom: 0;left: 50%;z-index: 0;}#sk-container-id-3 div.sk-serial {display: flex;flex-direction: column;align-items: center;background-color: white;padding-right: 0.2em;padding-left: 0.2em;position: relative;}#sk-container-id-3 div.sk-item {position: relative;z-index: 1;}#sk-container-id-3 div.sk-parallel {display: flex;align-items: stretch;justify-content: center;background-color: white;position: relative;}#sk-container-id-3 div.sk-item::before, #sk-container-id-3 div.sk-parallel-item::before {content: \"\";position: absolute;border-left: 1px solid gray;box-sizing: border-box;top: 0;bottom: 0;left: 50%;z-index: -1;}#sk-container-id-3 div.sk-parallel-item {display: flex;flex-direction: column;z-index: 1;position: relative;background-color: white;}#sk-container-id-3 div.sk-parallel-item:first-child::after {align-self: flex-end;width: 50%;}#sk-container-id-3 div.sk-parallel-item:last-child::after {align-self: flex-start;width: 50%;}#sk-container-id-3 div.sk-parallel-item:only-child::after {width: 0;}#sk-container-id-3 div.sk-dashed-wrapped {border: 1px dashed gray;margin: 0 0.4em 0.5em 0.4em;box-sizing: border-box;padding-bottom: 0.4em;background-color: white;}#sk-container-id-3 div.sk-label label {font-family: monospace;font-weight: bold;display: inline-block;line-height: 1.2em;}#sk-container-id-3 div.sk-label-container {text-align: center;}#sk-container-id-3 div.sk-container {/* jupyter's `normalize.less` sets `[hidden] { display: none; }` but bootstrap.min.css set `[hidden] { display: none !important; }` so we also need the `!important` here to be able to override the default hidden behavior on the sphinx rendered scikit-learn.org. See: https://github.com/scikit-learn/scikit-learn/issues/21755 */display: inline-block !important;position: relative;}#sk-container-id-3 div.sk-text-repr-fallback {display: none;}</style><div id=\"sk-container-id-3\" class=\"sk-top-container\"><div class=\"sk-text-repr-fallback\"><pre>RandomForestClassifier(max_depth=5, min_samples_split=200)</pre><b>In a Jupyter environment, please rerun this cell to show the HTML representation or trust the notebook. <br />On GitHub, the HTML representation is unable to render, please try loading this page with nbviewer.org.</b></div><div class=\"sk-container\" hidden><div class=\"sk-item\"><div class=\"sk-estimator sk-toggleable\"><input class=\"sk-toggleable__control sk-hidden--visually\" id=\"sk-estimator-id-3\" type=\"checkbox\" checked><label for=\"sk-estimator-id-3\" class=\"sk-toggleable__label sk-toggleable__label-arrow\">RandomForestClassifier</label><div class=\"sk-toggleable__content\"><pre>RandomForestClassifier(max_depth=5, min_samples_split=200)</pre></div></div></div></div></div>"
      ],
      "text/plain": [
       "RandomForestClassifier(max_depth=5, min_samples_split=200)"
      ]
     },
     "execution_count": 59,
     "metadata": {},
     "output_type": "execute_result"
    }
   ],
   "source": [
    "rfc.fit(X_train,y_train)"
   ]
  },
  {
   "cell_type": "code",
   "execution_count": 60,
   "id": "c68c8730",
   "metadata": {},
   "outputs": [],
   "source": [
    "rfc_pred = rfc.predict(X_test)"
   ]
  },
  {
   "cell_type": "code",
   "execution_count": 61,
   "id": "106b0c2d",
   "metadata": {},
   "outputs": [],
   "source": [
    "rfc_accuracy = accuracy_score(y_test,rfc_pred)"
   ]
  },
  {
   "cell_type": "code",
   "execution_count": 62,
   "id": "2994b33f",
   "metadata": {},
   "outputs": [
    {
     "data": {
      "text/plain": [
       "99.98057498057497"
      ]
     },
     "execution_count": 62,
     "metadata": {},
     "output_type": "execute_result"
    }
   ],
   "source": [
    "rfc_accuracy*100"
   ]
  },
  {
   "cell_type": "code",
   "execution_count": 63,
   "id": "88897c11",
   "metadata": {
    "scrolled": true
   },
   "outputs": [
    {
     "name": "stdout",
     "output_type": "stream",
     "text": [
      "0.999869178440607\n"
     ]
    }
   ],
   "source": [
    "rfc_recall = recall_score(y_test,rfc_pred)\n",
    "print(rfc_recall)"
   ]
  },
  {
   "cell_type": "code",
   "execution_count": 64,
   "id": "af55f77e",
   "metadata": {},
   "outputs": [],
   "source": [
    "cm = confusion_matrix(y_test,rfc_pred)"
   ]
  },
  {
   "cell_type": "code",
   "execution_count": 65,
   "id": "d3d25088",
   "metadata": {},
   "outputs": [
    {
     "data": {
      "image/png": "[encoded data removed]",
      "text/plain": [
       "<Figure size 640x480 with 2 Axes>"
      ]
     },
     "metadata": {},
     "output_type": "display_data"
    }
   ],
   "source": [
    "# plt.title('Random Forest Classifier')\n",
    "\n",
    "disp = ConfusionMatrixDisplay(confusion_matrix=cm,\n",
    "                              display_labels=rfc.classes_)\n",
    "disp.plot()\n",
    "plt.show()"
   ]
  },
  {
   "cell_type": "code",
   "execution_count": 66,
   "id": "68897b96",
   "metadata": {},
   "outputs": [],
   "source": [
    "rfc = RandomForestClassifier()\n",
    "rfc.fit(X_train,y_train)\n",
    "\n",
    "rfc_preds = rfc.predict(X_test) # Predictions\n",
    "rfc_prob = rfc.predict_proba(X_test)[:,1] \n",
    "\n",
    "# THIS WILL BE USED FOR PR-CURVE"
   ]
  },
  {
   "cell_type": "code",
   "execution_count": 67,
   "id": "56593a18",
   "metadata": {},
   "outputs": [
    {
     "data": {
      "text/plain": [
       "array([1., 0., 0., ..., 1., 0., 0.])"
      ]
     },
     "execution_count": 67,
     "metadata": {},
     "output_type": "execute_result"
    }
   ],
   "source": [
    "rfc_prob"
   ]
  },
  {
   "cell_type": "code",
   "execution_count": 68,
   "id": "fff0bb17",
   "metadata": {},
   "outputs": [
    {
     "name": "stdout",
     "output_type": "stream",
     "text": [
      "Accuracy : 99.98%\n"
     ]
    }
   ],
   "source": [
    "accuracy = accuracy_score(y_test,rfc_preds)\n",
    "print(f'Accuracy : {round(accuracy*100,2)}%')"
   ]
  },
  {
   "cell_type": "code",
   "execution_count": 69,
   "id": "52921934",
   "metadata": {},
   "outputs": [],
   "source": [
    "precision_2,recall_2,threshold_2 = precision_recall_curve(y_test,rfc_prob)"
   ]
  },
  {
   "cell_type": "code",
   "execution_count": 70,
   "id": "c5c405cf",
   "metadata": {},
   "outputs": [
    {
     "name": "stdout",
     "output_type": "stream",
     "text": [
      "0.9999999657781545\n"
     ]
    }
   ],
   "source": [
    "auc_2 =auc(recall_2,precision_2)  \n",
    "print(auc_2)"
   ]
  },
  {
   "cell_type": "code",
   "execution_count": 71,
   "id": "bda823bf",
   "metadata": {},
   "outputs": [
    {
     "data": {
      "text/plain": [
       "<matplotlib.legend.Legend at 0x1aa254858d0>"
      ]
     },
     "execution_count": 71,
     "metadata": {},
     "output_type": "execute_result"
    },
    {
     "data": {
      "image/png": "[encoded data removed]",
      "text/plain": [
       "<Figure size 640x480 with 1 Axes>"
      ]
     },
     "metadata": {},
     "output_type": "display_data"
    }
   ],
   "source": [
    "plt.title('PR-curve: Random Forest')\n",
    "\n",
    "plt.plot(recall_2,precision_2,label=f'AUC: {round(auc_2,2)}')\n",
    "\n",
    "plt.fill_between(recall_2,precision_2,alpha=0.2)\n",
    "\n",
    "plt.xlabel('Recall')\n",
    "plt.ylabel('Precision')\n",
    "plt.legend()"
   ]
  },
  {
   "cell_type": "markdown",
   "id": "76e3a926",
   "metadata": {},
   "source": [
    "# Gradient Boosting"
   ]
  },
  {
   "cell_type": "code",
   "execution_count": 72,
   "id": "b40d92c7",
   "metadata": {},
   "outputs": [],
   "source": [
    "from sklearn.ensemble import GradientBoostingClassifier"
   ]
  },
  {
   "cell_type": "code",
   "execution_count": 73,
   "id": "7bb0d309",
   "metadata": {},
   "outputs": [],
   "source": [
    "gbc = GradientBoostingClassifier(learning_rate=0.01)"
   ]
  },
  {
   "cell_type": "code",
   "execution_count": 74,
   "id": "9d9ab727",
   "metadata": {},
   "outputs": [
    {
     "data": {
      "text/html": [
       "<style>#sk-container-id-4 {color: black;}#sk-container-id-4 pre{padding: 0;}#sk-container-id-4 div.sk-toggleable {background-color: white;}#sk-container-id-4 label.sk-toggleable__label {cursor: pointer;display: block;width: 100%;margin-bottom: 0;padding: 0.3em;box-sizing: border-box;text-align: center;}#sk-container-id-4 label.sk-toggleable__label-arrow:before {content: \"▸\";float: left;margin-right: 0.25em;color: #696969;}#sk-container-id-4 label.sk-toggleable__label-arrow:hover:before {color: black;}#sk-container-id-4 div.sk-estimator:hover label.sk-toggleable__label-arrow:before {color: black;}#sk-container-id-4 div.sk-toggleable__content {max-height: 0;max-width: 0;overflow: hidden;text-align: left;background-color: #f0f8ff;}#sk-container-id-4 div.sk-toggleable__content pre {margin: 0.2em;color: black;border-radius: 0.25em;background-color: #f0f8ff;}#sk-container-id-4 input.sk-toggleable__control:checked~div.sk-toggleable__content {max-height: 200px;max-width: 100%;overflow: auto;}#sk-container-id-4 input.sk-toggleable__control:checked~label.sk-toggleable__label-arrow:before {content: \"▾\";}#sk-container-id-4 div.sk-estimator input.sk-toggleable__control:checked~label.sk-toggleable__label {background-color: #d4ebff;}#sk-container-id-4 div.sk-label input.sk-toggleable__control:checked~label.sk-toggleable__label {background-color: #d4ebff;}#sk-container-id-4 input.sk-hidden--visually {border: 0;clip: rect(1px 1px 1px 1px);clip: rect(1px, 1px, 1px, 1px);height: 1px;margin: -1px;overflow: hidden;padding: 0;position: absolute;width: 1px;}#sk-container-id-4 div.sk-estimator {font-family: monospace;background-color: #f0f8ff;border: 1px dotted black;border-radius: 0.25em;box-sizing: border-box;margin-bottom: 0.5em;}#sk-container-id-4 div.sk-estimator:hover {background-color: #d4ebff;}#sk-container-id-4 div.sk-parallel-item::after {content: \"\";width: 100%;border-bottom: 1px solid gray;flex-grow: 1;}#sk-container-id-4 div.sk-label:hover label.sk-toggleable__label {background-color: #d4ebff;}#sk-container-id-4 div.sk-serial::before {content: \"\";position: absolute;border-left: 1px solid gray;box-sizing: border-box;top: 0;bottom: 0;left: 50%;z-index: 0;}#sk-container-id-4 div.sk-serial {display: flex;flex-direction: column;align-items: center;background-color: white;padding-right: 0.2em;padding-left: 0.2em;position: relative;}#sk-container-id-4 div.sk-item {position: relative;z-index: 1;}#sk-container-id-4 div.sk-parallel {display: flex;align-items: stretch;justify-content: center;background-color: white;position: relative;}#sk-container-id-4 div.sk-item::before, #sk-container-id-4 div.sk-parallel-item::before {content: \"\";position: absolute;border-left: 1px solid gray;box-sizing: border-box;top: 0;bottom: 0;left: 50%;z-index: -1;}#sk-container-id-4 div.sk-parallel-item {display: flex;flex-direction: column;z-index: 1;position: relative;background-color: white;}#sk-container-id-4 div.sk-parallel-item:first-child::after {align-self: flex-end;width: 50%;}#sk-container-id-4 div.sk-parallel-item:last-child::after {align-self: flex-start;width: 50%;}#sk-container-id-4 div.sk-parallel-item:only-child::after {width: 0;}#sk-container-id-4 div.sk-dashed-wrapped {border: 1px dashed gray;margin: 0 0.4em 0.5em 0.4em;box-sizing: border-box;padding-bottom: 0.4em;background-color: white;}#sk-container-id-4 div.sk-label label {font-family: monospace;font-weight: bold;display: inline-block;line-height: 1.2em;}#sk-container-id-4 div.sk-label-container {text-align: center;}#sk-container-id-4 div.sk-container {/* jupyter's `normalize.less` sets `[hidden] { display: none; }` but bootstrap.min.css set `[hidden] { display: none !important; }` so we also need the `!important` here to be able to override the default hidden behavior on the sphinx rendered scikit-learn.org. See: https://github.com/scikit-learn/scikit-learn/issues/21755 */display: inline-block !important;position: relative;}#sk-container-id-4 div.sk-text-repr-fallback {display: none;}</style><div id=\"sk-container-id-4\" class=\"sk-top-container\"><div class=\"sk-text-repr-fallback\"><pre>GradientBoostingClassifier(learning_rate=0.01)</pre><b>In a Jupyter environment, please rerun this cell to show the HTML representation or trust the notebook. <br />On GitHub, the HTML representation is unable to render, please try loading this page with nbviewer.org.</b></div><div class=\"sk-container\" hidden><div class=\"sk-item\"><div class=\"sk-estimator sk-toggleable\"><input class=\"sk-toggleable__control sk-hidden--visually\" id=\"sk-estimator-id-4\" type=\"checkbox\" checked><label for=\"sk-estimator-id-4\" class=\"sk-toggleable__label sk-toggleable__label-arrow\">GradientBoostingClassifier</label><div class=\"sk-toggleable__content\"><pre>GradientBoostingClassifier(learning_rate=0.01)</pre></div></div></div></div></div>"
      ],
      "text/plain": [
       "GradientBoostingClassifier(learning_rate=0.01)"
      ]
     },
     "execution_count": 74,
     "metadata": {},
     "output_type": "execute_result"
    }
   ],
   "source": [
    "gbc.fit(X_train,y_train)"
   ]
  },
  {
   "cell_type": "code",
   "execution_count": 75,
   "id": "27a598b5",
   "metadata": {},
   "outputs": [],
   "source": [
    "gbc_pred = gbc.predict(X_test)"
   ]
  },
  {
   "cell_type": "code",
   "execution_count": 76,
   "id": "e9ffdb68",
   "metadata": {},
   "outputs": [],
   "source": [
    "gbc_accuracy = accuracy_score(y_test,gbc_pred)\n",
    "gbc_recall = recall_score(y_test,gbc_pred)"
   ]
  },
  {
   "cell_type": "code",
   "execution_count": 77,
   "id": "41e92fe8",
   "metadata": {},
   "outputs": [
    {
     "data": {
      "text/plain": [
       "0.9996762496762497"
      ]
     },
     "execution_count": 77,
     "metadata": {},
     "output_type": "execute_result"
    }
   ],
   "source": [
    "gbc_accuracy"
   ]
  },
  {
   "cell_type": "code",
   "execution_count": 78,
   "id": "bd99855b",
   "metadata": {},
   "outputs": [
    {
     "data": {
      "text/plain": [
       "0.999607535321821"
      ]
     },
     "execution_count": 78,
     "metadata": {},
     "output_type": "execute_result"
    }
   ],
   "source": [
    "gbc_recall"
   ]
  },
  {
   "cell_type": "code",
   "execution_count": 79,
   "id": "d4f61dff",
   "metadata": {},
   "outputs": [],
   "source": [
    "cm = confusion_matrix(y_test,gbc_pred)"
   ]
  },
  {
   "cell_type": "code",
   "execution_count": 80,
   "id": "ea3877bd",
   "metadata": {
    "scrolled": false
   },
   "outputs": [
    {
     "data": {
      "image/png": "[encoded data removed]",
      "text/plain": [
       "<Figure size 640x480 with 2 Axes>"
      ]
     },
     "metadata": {},
     "output_type": "display_data"
    }
   ],
   "source": [
    "# plt.title('GradientBoosting')\n",
    "\n",
    "disp = ConfusionMatrixDisplay(confusion_matrix=cm,\n",
    "                              display_labels=gbc.classes_)\n",
    "disp.plot()\n",
    "plt.show()"
   ]
  },
  {
   "cell_type": "code",
   "execution_count": 81,
   "id": "0607f22b",
   "metadata": {},
   "outputs": [],
   "source": [
    "grad_boost = GradientBoostingClassifier()\n",
    "grad_boost.fit(X_train,y_train)\n",
    "\n",
    "grad_boost_preds = grad_boost.predict(X_test) # Predictions\n",
    "grad_boost_prob = grad_boost.predict_proba(X_test)[:,1] \n",
    "\n",
    "# THIS WILL BE USED FOR PR-CURVE"
   ]
  },
  {
   "cell_type": "code",
   "execution_count": 82,
   "id": "3f3cdb91",
   "metadata": {},
   "outputs": [
    {
     "data": {
      "text/plain": [
       "array([9.99978106e-01, 2.19097912e-05, 2.19097912e-05, ...,\n",
       "       9.99978106e-01, 2.19097912e-05, 2.19097912e-05])"
      ]
     },
     "execution_count": 82,
     "metadata": {},
     "output_type": "execute_result"
    }
   ],
   "source": [
    "grad_boost_prob"
   ]
  },
  {
   "cell_type": "code",
   "execution_count": 83,
   "id": "23c36c5b",
   "metadata": {},
   "outputs": [
    {
     "name": "stdout",
     "output_type": "stream",
     "text": [
      "Accuracy : 99.97%\n"
     ]
    }
   ],
   "source": [
    "accuracy = accuracy_score(y_test,grad_boost_preds)\n",
    "print(f'Accuracy : {round(accuracy*100,2)}%')"
   ]
  },
  {
   "cell_type": "code",
   "execution_count": 84,
   "id": "94f3fa06",
   "metadata": {},
   "outputs": [],
   "source": [
    "precision_3,recall_3,threshold_3 = precision_recall_curve(y_test,grad_boost_prob)"
   ]
  },
  {
   "cell_type": "code",
   "execution_count": 85,
   "id": "d1b6008a",
   "metadata": {},
   "outputs": [
    {
     "name": "stdout",
     "output_type": "stream",
     "text": [
      "0.9999344779819538\n"
     ]
    }
   ],
   "source": [
    "auc_3 =auc(recall_3,precision_3)  \n",
    "print(auc_3)"
   ]
  },
  {
   "cell_type": "code",
   "execution_count": 86,
   "id": "541e550a",
   "metadata": {},
   "outputs": [
    {
     "data": {
      "text/plain": [
       "<matplotlib.legend.Legend at 0x1aa23ece150>"
      ]
     },
     "execution_count": 86,
     "metadata": {},
     "output_type": "execute_result"
    },
    {
     "data": {
      "image/png": "[encoded data removed]",
      "text/plain": [
       "<Figure size 640x480 with 1 Axes>"
      ]
     },
     "metadata": {},
     "output_type": "display_data"
    }
   ],
   "source": [
    "plt.title('PR-curve: Gradient Boosting')\n",
    "\n",
    "plt.plot(recall_3,precision_3,label=f'AUC: {round(auc_3,2)}')\n",
    "\n",
    "plt.fill_between(recall_3,precision_3,alpha=0.2)\n",
    "\n",
    "plt.xlabel('Recall')\n",
    "plt.ylabel('Precision')\n",
    "plt.legend()"
   ]
  },
  {
   "cell_type": "markdown",
   "id": "b43ba818",
   "metadata": {},
   "source": [
    "# Logistic Regression "
   ]
  },
  {
   "cell_type": "code",
   "execution_count": 87,
   "id": "ab1291e7",
   "metadata": {},
   "outputs": [],
   "source": [
    "from sklearn.linear_model import LogisticRegression"
   ]
  },
  {
   "cell_type": "code",
   "execution_count": 88,
   "id": "4bce9a9a",
   "metadata": {},
   "outputs": [],
   "source": [
    "logit = LogisticRegression(penalty = 'l1', solver='liblinear')"
   ]
  },
  {
   "cell_type": "code",
   "execution_count": 89,
   "id": "f38cf567",
   "metadata": {},
   "outputs": [
    {
     "data": {
      "text/html": [
       "<style>#sk-container-id-5 {color: black;}#sk-container-id-5 pre{padding: 0;}#sk-container-id-5 div.sk-toggleable {background-color: white;}#sk-container-id-5 label.sk-toggleable__label {cursor: pointer;display: block;width: 100%;margin-bottom: 0;padding: 0.3em;box-sizing: border-box;text-align: center;}#sk-container-id-5 label.sk-toggleable__label-arrow:before {content: \"▸\";float: left;margin-right: 0.25em;color: #696969;}#sk-container-id-5 label.sk-toggleable__label-arrow:hover:before {color: black;}#sk-container-id-5 div.sk-estimator:hover label.sk-toggleable__label-arrow:before {color: black;}#sk-container-id-5 div.sk-toggleable__content {max-height: 0;max-width: 0;overflow: hidden;text-align: left;background-color: #f0f8ff;}#sk-container-id-5 div.sk-toggleable__content pre {margin: 0.2em;color: black;border-radius: 0.25em;background-color: #f0f8ff;}#sk-container-id-5 input.sk-toggleable__control:checked~div.sk-toggleable__content {max-height: 200px;max-width: 100%;overflow: auto;}#sk-container-id-5 input.sk-toggleable__control:checked~label.sk-toggleable__label-arrow:before {content: \"▾\";}#sk-container-id-5 div.sk-estimator input.sk-toggleable__control:checked~label.sk-toggleable__label {background-color: #d4ebff;}#sk-container-id-5 div.sk-label input.sk-toggleable__control:checked~label.sk-toggleable__label {background-color: #d4ebff;}#sk-container-id-5 input.sk-hidden--visually {border: 0;clip: rect(1px 1px 1px 1px);clip: rect(1px, 1px, 1px, 1px);height: 1px;margin: -1px;overflow: hidden;padding: 0;position: absolute;width: 1px;}#sk-container-id-5 div.sk-estimator {font-family: monospace;background-color: #f0f8ff;border: 1px dotted black;border-radius: 0.25em;box-sizing: border-box;margin-bottom: 0.5em;}#sk-container-id-5 div.sk-estimator:hover {background-color: #d4ebff;}#sk-container-id-5 div.sk-parallel-item::after {content: \"\";width: 100%;border-bottom: 1px solid gray;flex-grow: 1;}#sk-container-id-5 div.sk-label:hover label.sk-toggleable__label {background-color: #d4ebff;}#sk-container-id-5 div.sk-serial::before {content: \"\";position: absolute;border-left: 1px solid gray;box-sizing: border-box;top: 0;bottom: 0;left: 50%;z-index: 0;}#sk-container-id-5 div.sk-serial {display: flex;flex-direction: column;align-items: center;background-color: white;padding-right: 0.2em;padding-left: 0.2em;position: relative;}#sk-container-id-5 div.sk-item {position: relative;z-index: 1;}#sk-container-id-5 div.sk-parallel {display: flex;align-items: stretch;justify-content: center;background-color: white;position: relative;}#sk-container-id-5 div.sk-item::before, #sk-container-id-5 div.sk-parallel-item::before {content: \"\";position: absolute;border-left: 1px solid gray;box-sizing: border-box;top: 0;bottom: 0;left: 50%;z-index: -1;}#sk-container-id-5 div.sk-parallel-item {display: flex;flex-direction: column;z-index: 1;position: relative;background-color: white;}#sk-container-id-5 div.sk-parallel-item:first-child::after {align-self: flex-end;width: 50%;}#sk-container-id-5 div.sk-parallel-item:last-child::after {align-self: flex-start;width: 50%;}#sk-container-id-5 div.sk-parallel-item:only-child::after {width: 0;}#sk-container-id-5 div.sk-dashed-wrapped {border: 1px dashed gray;margin: 0 0.4em 0.5em 0.4em;box-sizing: border-box;padding-bottom: 0.4em;background-color: white;}#sk-container-id-5 div.sk-label label {font-family: monospace;font-weight: bold;display: inline-block;line-height: 1.2em;}#sk-container-id-5 div.sk-label-container {text-align: center;}#sk-container-id-5 div.sk-container {/* jupyter's `normalize.less` sets `[hidden] { display: none; }` but bootstrap.min.css set `[hidden] { display: none !important; }` so we also need the `!important` here to be able to override the default hidden behavior on the sphinx rendered scikit-learn.org. See: https://github.com/scikit-learn/scikit-learn/issues/21755 */display: inline-block !important;position: relative;}#sk-container-id-5 div.sk-text-repr-fallback {display: none;}</style><div id=\"sk-container-id-5\" class=\"sk-top-container\"><div class=\"sk-text-repr-fallback\"><pre>LogisticRegression(penalty=&#x27;l1&#x27;, solver=&#x27;liblinear&#x27;)</pre><b>In a Jupyter environment, please rerun this cell to show the HTML representation or trust the notebook. <br />On GitHub, the HTML representation is unable to render, please try loading this page with nbviewer.org.</b></div><div class=\"sk-container\" hidden><div class=\"sk-item\"><div class=\"sk-estimator sk-toggleable\"><input class=\"sk-toggleable__control sk-hidden--visually\" id=\"sk-estimator-id-5\" type=\"checkbox\" checked><label for=\"sk-estimator-id-5\" class=\"sk-toggleable__label sk-toggleable__label-arrow\">LogisticRegression</label><div class=\"sk-toggleable__content\"><pre>LogisticRegression(penalty=&#x27;l1&#x27;, solver=&#x27;liblinear&#x27;)</pre></div></div></div></div></div>"
      ],
      "text/plain": [
       "LogisticRegression(penalty='l1', solver='liblinear')"
      ]
     },
     "execution_count": 89,
     "metadata": {},
     "output_type": "execute_result"
    }
   ],
   "source": [
    "logit.fit(X_train,y_train)"
   ]
  },
  {
   "cell_type": "code",
   "execution_count": 90,
   "id": "58b5c013",
   "metadata": {},
   "outputs": [],
   "source": [
    "logit_pred = logit.predict(X_test)"
   ]
  },
  {
   "cell_type": "code",
   "execution_count": 91,
   "id": "75e01651",
   "metadata": {},
   "outputs": [],
   "source": [
    "logit_accuracy = accuracy_score(y_test,logit_pred)\n",
    "logit_recall = recall_score(y_test,logit_pred)"
   ]
  },
  {
   "cell_type": "code",
   "execution_count": 92,
   "id": "4b811391",
   "metadata": {},
   "outputs": [
    {
     "data": {
      "text/plain": [
       "0.9997409997409997"
      ]
     },
     "execution_count": 92,
     "metadata": {},
     "output_type": "execute_result"
    }
   ],
   "source": [
    "logit_accuracy"
   ]
  },
  {
   "cell_type": "code",
   "execution_count": 93,
   "id": "8f9b03ed",
   "metadata": {},
   "outputs": [
    {
     "data": {
      "text/plain": [
       "0.999869178440607"
      ]
     },
     "execution_count": 93,
     "metadata": {},
     "output_type": "execute_result"
    }
   ],
   "source": [
    "logit_recall"
   ]
  },
  {
   "cell_type": "code",
   "execution_count": 94,
   "id": "29373834",
   "metadata": {},
   "outputs": [],
   "source": [
    "cm = confusion_matrix(y_test,logit_pred)"
   ]
  },
  {
   "cell_type": "code",
   "execution_count": 95,
   "id": "fdf8cd56",
   "metadata": {
    "scrolled": true
   },
   "outputs": [
    {
     "data": {
      "image/png": "[encoded data removed]",
      "text/plain": [
       "<Figure size 640x480 with 2 Axes>"
      ]
     },
     "metadata": {},
     "output_type": "display_data"
    }
   ],
   "source": [
    "# plt.title('Logistic Regression')\n",
    "\n",
    "disp = ConfusionMatrixDisplay(confusion_matrix=cm,\n",
    "                              display_labels=logit.classes_)\n",
    "disp.plot()\n",
    "plt.show()"
   ]
  },
  {
   "cell_type": "code",
   "execution_count": 96,
   "id": "12b5ae20",
   "metadata": {},
   "outputs": [],
   "source": [
    "log_reg = LogisticRegression(solver ='liblinear')\n",
    "log_reg.fit(X_train,y_train)\n",
    "\n",
    "log_reg_preds = log_reg.predict(X_test) # Predictions\n",
    "log_reg_prob = log_reg.predict_proba(X_test)[:,1] \n",
    "\n",
    "# THIS WILL BE USED FOR PR-CURVE "
   ]
  },
  {
   "cell_type": "code",
   "execution_count": 97,
   "id": "a1b249fc",
   "metadata": {},
   "outputs": [
    {
     "data": {
      "text/plain": [
       "array([9.99987713e-01, 2.74308219e-04, 6.52970217e-03, ...,\n",
       "       9.99900318e-01, 4.39705329e-04, 7.27079683e-07])"
      ]
     },
     "execution_count": 97,
     "metadata": {},
     "output_type": "execute_result"
    }
   ],
   "source": [
    "log_reg_prob"
   ]
  },
  {
   "cell_type": "code",
   "execution_count": 98,
   "id": "b5052d69",
   "metadata": {},
   "outputs": [
    {
     "name": "stdout",
     "output_type": "stream",
     "text": [
      "Accuracy : 99.97%\n"
     ]
    }
   ],
   "source": [
    "accuracy = accuracy_score(y_test,log_reg_preds)\n",
    "print(f'Accuracy : {round(accuracy*100,2)}%')"
   ]
  },
  {
   "cell_type": "code",
   "execution_count": 99,
   "id": "fbd8d7ec",
   "metadata": {},
   "outputs": [],
   "source": [
    "precision_4,recall_4,threshold_4 = precision_recall_curve(y_test,log_reg_prob)"
   ]
  },
  {
   "cell_type": "code",
   "execution_count": 100,
   "id": "dff9a393",
   "metadata": {},
   "outputs": [
    {
     "name": "stdout",
     "output_type": "stream",
     "text": [
      "0.9996210412039064\n"
     ]
    }
   ],
   "source": [
    "auc_4 =auc(recall_4,precision_4)  \n",
    "print(auc_4)"
   ]
  },
  {
   "cell_type": "code",
   "execution_count": 101,
   "id": "d49e21d8",
   "metadata": {},
   "outputs": [
    {
     "data": {
      "text/plain": [
       "<matplotlib.legend.Legend at 0x1aa23575990>"
      ]
     },
     "execution_count": 101,
     "metadata": {},
     "output_type": "execute_result"
    },
    {
     "data": {
      "image/png": "[encoded data removed]",
      "text/plain": [
       "<Figure size 640x480 with 1 Axes>"
      ]
     },
     "metadata": {},
     "output_type": "display_data"
    }
   ],
   "source": [
    "plt.title('PR-curve: Logistic Regression')\n",
    "\n",
    "plt.plot(recall_4,precision_4,label=f'AUC: {round(auc_4,2)}')\n",
    "\n",
    "plt.fill_between(recall_4,precision_4,alpha=0.2)\n",
    "\n",
    "plt.xlabel('Recall')\n",
    "plt.ylabel('Precision')\n",
    "plt.legend()"
   ]
  },
  {
   "cell_type": "markdown",
   "id": "6bdec199",
   "metadata": {},
   "source": [
    "# MODEL PERFORMANCE"
   ]
  },
  {
   "cell_type": "markdown",
   "id": "43b52a96",
   "metadata": {},
   "source": [
    "# ==> Comparing all four charts/plots"
   ]
  },
  {
   "cell_type": "code",
   "execution_count": 102,
   "id": "169db669",
   "metadata": {},
   "outputs": [
    {
     "data": {
      "text/plain": [
       "<matplotlib.legend.Legend at 0x1aa24196150>"
      ]
     },
     "execution_count": 102,
     "metadata": {},
     "output_type": "execute_result"
    },
    {
     "data": {
      "image/png": "[encoded data removed]",
      "text/plain": [
       "<Figure size 640x480 with 1 Axes>"
      ]
     },
     "metadata": {},
     "output_type": "display_data"
    }
   ],
   "source": [
    "plt.title('PR-curve: Support Vector Classifier')\n",
    "# Support Vector Classifier\n",
    "plt.plot(recall_1,precision_1,label=f'Support Vector Classifier AUC: {round(auc_1,2)}')\n",
    "plt.fill_between(recall_1,precision_1,alpha=0.2)\n",
    "\n",
    "\n",
    "# Random Forest\n",
    "plt.plot(recall_2,precision_2,label=f'Random Forest AUC: {round(auc_2,2)}')\n",
    "plt.fill_between(recall_2,precision_2,alpha=0.2)\n",
    "\n",
    "# Gradient Boosting\n",
    "plt.plot(recall_3,precision_3,label=f'Gradient Boosting AUC: {round(auc_3,2)}')\n",
    "plt.fill_between(recall_3,precision_3,alpha=0.2)\n",
    "\n",
    "# Logistic Regression\n",
    "plt.plot(recall_4,precision_4,label=f'Logistic Regression AUC: {round(auc_4,2)}')\n",
    "\n",
    "# plt.fill_between(recall_1,precision_1,alpha=0.2)\n",
    "\n",
    "plt.xlabel('Recall')\n",
    "plt.ylabel('Precision')\n",
    "plt.legend()"
   ]
  },
  {
   "cell_type": "code",
   "execution_count": null,
   "id": "8684a03d",
   "metadata": {},
   "outputs": [],
   "source": []
  },
  {
   "cell_type": "code",
   "execution_count": null,
   "id": "03cac79b",
   "metadata": {},
   "outputs": [],
   "source": []
  },
  {
   "cell_type": "code",
   "execution_count": null,
   "id": "85cb8ec1",
   "metadata": {},
   "outputs": [],
   "source": []
  },
  {
   "cell_type": "code",
   "execution_count": null,
   "id": "6af3ce17",
   "metadata": {},
   "outputs": [],
   "source": []
  },
  {
   "cell_type": "code",
   "execution_count": null,
   "id": "b18da470",
   "metadata": {},
   "outputs": [],
   "source": []
  },
  {
   "cell_type": "code",
   "execution_count": null,
   "id": "7ff1fccc",
   "metadata": {},
   "outputs": [],
   "source": []
  },
  {
   "cell_type": "code",
   "execution_count": null,
   "id": "17ebd3c1",
   "metadata": {},
   "outputs": [],
   "source": []
  },
  {
   "cell_type": "code",
   "execution_count": null,
   "id": "c5918647",
   "metadata": {},
   "outputs": [],
   "source": []
  },
  {
   "cell_type": "code",
   "execution_count": null,
   "id": "7d89bde5",
   "metadata": {},
   "outputs": [],
   "source": []
  },
  {
   "cell_type": "code",
   "execution_count": null,
   "id": "8ab41512",
   "metadata": {},
   "outputs": [],
   "source": []
  },
  {
   "cell_type": "code",
   "execution_count": null,
   "id": "cb56ca5e",
   "metadata": {},
   "outputs": [],
   "source": []
  },
  {
   "cell_type": "code",
   "execution_count": null,
   "id": "2f540c1a",
   "metadata": {},
   "outputs": [],
   "source": []
  },
  {
   "cell_type": "code",
   "execution_count": null,
   "id": "8bada36b",
   "metadata": {},
   "outputs": [],
   "source": []
  },
  {
   "cell_type": "code",
   "execution_count": null,
   "id": "c92abc4e",
   "metadata": {},
   "outputs": [],
   "source": []
  },
  {
   "cell_type": "code",
   "execution_count": null,
   "id": "5e78ed1c",
   "metadata": {},
   "outputs": [],
   "source": []
  },
  {
   "cell_type": "code",
   "execution_count": null,
   "id": "2a4c3701",
   "metadata": {},
   "outputs": [],
   "source": []
  },
  {
   "cell_type": "code",
   "execution_count": null,
   "id": "ea97e05f",
   "metadata": {},
   "outputs": [],
   "source": []
  },
  {
   "cell_type": "code",
   "execution_count": null,
   "id": "a11a5b59",
   "metadata": {},
   "outputs": [],
   "source": []
  },
  {
   "cell_type": "code",
   "execution_count": null,
   "id": "bcf2a69e",
   "metadata": {},
   "outputs": [],
   "source": []
  },
  {
   "cell_type": "code",
   "execution_count": null,
   "id": "ac49ff56",
   "metadata": {},
   "outputs": [],
   "source": []
  },
  {
   "cell_type": "code",
   "execution_count": null,
   "id": "8354da19",
   "metadata": {},
   "outputs": [],
   "source": []
  },
  {
   "cell_type": "code",
   "execution_count": null,
   "id": "5290a97b",
   "metadata": {},
   "outputs": [],
   "source": []
  },
  {
   "cell_type": "code",
   "execution_count": null,
   "id": "386c07a8",
   "metadata": {},
   "outputs": [],
   "source": []
  },
  {
   "cell_type": "code",
   "execution_count": null,
   "id": "9baef5f7",
   "metadata": {},
   "outputs": [],
   "source": []
  },
  {
   "cell_type": "code",
   "execution_count": null,
   "id": "4a45bcfa",
   "metadata": {},
   "outputs": [],
   "source": []
  },
  {
   "cell_type": "code",
   "execution_count": null,
   "id": "2564f2f8",
   "metadata": {},
   "outputs": [],
   "source": []
  },
  {
   "cell_type": "code",
   "execution_count": null,
   "id": "4a4356a2",
   "metadata": {},
   "outputs": [],
   "source": []
  },
  {
   "cell_type": "code",
   "execution_count": null,
   "id": "c7292d24",
   "metadata": {},
   "outputs": [],
   "source": []
  },
  {
   "cell_type": "code",
   "execution_count": null,
   "id": "176e1391",
   "metadata": {},
   "outputs": [],
   "source": []
  },
  {
   "cell_type": "code",
   "execution_count": null,
   "id": "69b73fce",
   "metadata": {},
   "outputs": [],
   "source": []
  },
  {
   "cell_type": "code",
   "execution_count": null,
   "id": "ed4ac935",
   "metadata": {},
   "outputs": [],
   "source": []
  },
  {
   "cell_type": "markdown",
   "id": "b57a1d05",
   "metadata": {},
   "source": [
    "# Model Performance"
   ]
  },
  {
   "cell_type": "markdown",
   "id": "224968de",
   "metadata": {},
   "source": [
    "# Comparing all the four charts/plots"
   ]
  },
  {
   "cell_type": "code",
   "execution_count": null,
   "id": "5c36528f",
   "metadata": {},
   "outputs": [],
   "source": [
    "plt.title('PR-curve: Logistic Regression')\n",
    "\n",
    "# Logistic Regression\n",
    "plt.plot(recall_1,precision_1,label=f'AUC: {round(auc_1,2)}')\n",
    "plt.fill_between(recall_1,precision_1,alpha=0.2)\n",
    "\n",
    "\n",
    "\n",
    "\n",
    "# Random Forest\n",
    "plt.plot(recall_3,precision_3,label=f'AUC: {round(auc_3,2)}')\n",
    "plt.fill_between(recall_3,precision_3,alpha=0.2)\n",
    "\n",
    "# plt.fill_between(recall_1,precision_1,alpha=0.2)\n",
    "\n",
    "plt.xlabel('Recall')\n",
    "plt.ylabel('Precision')\n",
    "plt.legend()"
   ]
  },
  {
   "cell_type": "code",
   "execution_count": null,
   "id": "46fecb3a",
   "metadata": {},
   "outputs": [],
   "source": []
  },
  {
   "cell_type": "code",
   "execution_count": null,
   "id": "97275577",
   "metadata": {},
   "outputs": [],
   "source": []
  },
  {
   "cell_type": "code",
   "execution_count": null,
   "id": "f02e1b9a",
   "metadata": {},
   "outputs": [],
   "source": []
  },
  {
   "cell_type": "code",
   "execution_count": null,
   "id": "c5902fec",
   "metadata": {},
   "outputs": [],
   "source": []
  },
  {
   "cell_type": "code",
   "execution_count": null,
   "id": "6832e8b9",
   "metadata": {},
   "outputs": [],
   "source": []
  },
  {
   "cell_type": "code",
   "execution_count": null,
   "id": "f265767f",
   "metadata": {},
   "outputs": [],
   "source": []
  },
  {
   "cell_type": "code",
   "execution_count": null,
   "id": "7d245faf",
   "metadata": {},
   "outputs": [],
   "source": []
  },
  {
   "cell_type": "code",
   "execution_count": null,
   "id": "98cde0e0",
   "metadata": {},
   "outputs": [],
   "source": []
  },
  {
   "cell_type": "code",
   "execution_count": null,
   "id": "83405590",
   "metadata": {},
   "outputs": [],
   "source": []
  },
  {
   "cell_type": "code",
   "execution_count": null,
   "id": "0dffcb87",
   "metadata": {},
   "outputs": [],
   "source": []
  },
  {
   "cell_type": "code",
   "execution_count": null,
   "id": "982d7fe7",
   "metadata": {},
   "outputs": [],
   "source": []
  },
  {
   "cell_type": "code",
   "execution_count": null,
   "id": "4ba09231",
   "metadata": {},
   "outputs": [],
   "source": []
  },
  {
   "cell_type": "code",
   "execution_count": null,
   "id": "70e9201a",
   "metadata": {},
   "outputs": [],
   "source": []
  },
  {
   "cell_type": "code",
   "execution_count": null,
   "id": "3bedabda",
   "metadata": {},
   "outputs": [],
   "source": []
  },
  {
   "cell_type": "code",
   "execution_count": null,
   "id": "18bb8a95",
   "metadata": {},
   "outputs": [],
   "source": []
  },
  {
   "cell_type": "code",
   "execution_count": null,
   "id": "f905f4d3",
   "metadata": {},
   "outputs": [],
   "source": []
  },
  {
   "cell_type": "code",
   "execution_count": null,
   "id": "c576e541",
   "metadata": {},
   "outputs": [],
   "source": []
  },
  {
   "cell_type": "code",
   "execution_count": null,
   "id": "57c42a1e",
   "metadata": {},
   "outputs": [],
   "source": []
  },
  {
   "cell_type": "code",
   "execution_count": null,
   "id": "8ad29934",
   "metadata": {},
   "outputs": [],
   "source": []
  },
  {
   "cell_type": "code",
   "execution_count": null,
   "id": "e1945866",
   "metadata": {},
   "outputs": [],
   "source": []
  },
  {
   "cell_type": "code",
   "execution_count": null,
   "id": "4725ec7f",
   "metadata": {},
   "outputs": [],
   "source": []
  },
  {
   "cell_type": "code",
   "execution_count": null,
   "id": "7f95d56c",
   "metadata": {},
   "outputs": [],
   "source": []
  },
  {
   "cell_type": "code",
   "execution_count": null,
   "id": "0318ecf6",
   "metadata": {},
   "outputs": [],
   "source": []
  },
  {
   "cell_type": "code",
   "execution_count": null,
   "id": "e32fc6bd",
   "metadata": {},
   "outputs": [],
   "source": []
  },
  {
   "cell_type": "code",
   "execution_count": null,
   "id": "42563e91",
   "metadata": {},
   "outputs": [],
   "source": []
  },
  {
   "cell_type": "code",
   "execution_count": null,
   "id": "d838d8dc",
   "metadata": {},
   "outputs": [],
   "source": []
  },
  {
   "cell_type": "code",
   "execution_count": null,
   "id": "d8d501f8",
   "metadata": {},
   "outputs": [],
   "source": []
  },
  {
   "cell_type": "code",
   "execution_count": null,
   "id": "7de03146",
   "metadata": {},
   "outputs": [],
   "source": []
  }
 ],
 "metadata": {
  "kernelspec": {
   "display_name": "Python 3 (ipykernel)",
   "language": "python",
   "name": "python3"
  },
  "language_info": {
   "codemirror_mode": {
    "name": "ipython",
    "version": 3
   },
   "file_extension": ".py",
   "mimetype": "text/x-python",
   "name": "python",
   "nbconvert_exporter": "python",
   "pygments_lexer": "ipython3",
   "version": "3.11.5"
  }
 },
 "nbformat": 4,
 "nbformat_minor": 5
}
