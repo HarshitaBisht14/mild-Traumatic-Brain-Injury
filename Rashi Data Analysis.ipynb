{
 "cells": [
  {
   "cell_type": "code",
   "execution_count": 1,
   "id": "b1b8bb50",
   "metadata": {},
   "outputs": [],
   "source": [
    "import pandas as pd\n",
    "import numpy as np\n",
    "import seaborn as sns\n",
    "import matplotlib.pyplot as plt"
   ]
  },
  {
   "cell_type": "code",
   "execution_count": 2,
   "id": "c0d13d5d",
   "metadata": {},
   "outputs": [],
   "source": [
    "disease_df = pd.read_excel('TBT_04_updated_data.xlsx')"
   ]
  },
  {
   "cell_type": "code",
   "execution_count": 3,
   "id": "8c952531",
   "metadata": {},
   "outputs": [],
   "source": [
    "healthy_df = pd.read_excel('Rashi_updated_data.xlsx')"
   ]
  },
  {
   "cell_type": "code",
   "execution_count": 4,
   "id": "f217f922",
   "metadata": {},
   "outputs": [
    {
     "data": {
      "text/plain": [
       "((30926, 46), (28624, 46))"
      ]
     },
     "execution_count": 4,
     "metadata": {},
     "output_type": "execute_result"
    }
   ],
   "source": [
    "disease_df.shape,healthy_df.shape"
   ]
  },
  {
   "cell_type": "code",
   "execution_count": 5,
   "id": "4b1ec21b",
   "metadata": {},
   "outputs": [],
   "source": [
    "data = pd.concat([disease_df,healthy_df])"
   ]
  },
  {
   "cell_type": "code",
   "execution_count": 6,
   "id": "e5e22ce8",
   "metadata": {},
   "outputs": [
    {
     "data": {
      "text/html": [
       "<div>\n",
       "<style scoped>\n",
       "    .dataframe tbody tr th:only-of-type {\n",
       "        vertical-align: middle;\n",
       "    }\n",
       "\n",
       "    .dataframe tbody tr th {\n",
       "        vertical-align: top;\n",
       "    }\n",
       "\n",
       "    .dataframe thead th {\n",
       "        text-align: right;\n",
       "    }\n",
       "</style>\n",
       "<table border=\"1\" class=\"dataframe\">\n",
       "  <thead>\n",
       "    <tr style=\"text-align: right;\">\n",
       "      <th></th>\n",
       "      <th>Recording timestamp</th>\n",
       "      <th>Computer timestamp</th>\n",
       "      <th>Sensor</th>\n",
       "      <th>Project name</th>\n",
       "      <th>Export date</th>\n",
       "      <th>Participant name</th>\n",
       "      <th>Recording name</th>\n",
       "      <th>Recording date</th>\n",
       "      <th>Recording date UTC</th>\n",
       "      <th>Recording start time</th>\n",
       "      <th>...</th>\n",
       "      <th>Recording media name</th>\n",
       "      <th>Recording media width</th>\n",
       "      <th>Recording media height</th>\n",
       "      <th>Eye movement type</th>\n",
       "      <th>Gaze event duration</th>\n",
       "      <th>Eye movement type index</th>\n",
       "      <th>Fixation point X</th>\n",
       "      <th>Fixation point Y</th>\n",
       "      <th>Ungrouped</th>\n",
       "      <th>Disease</th>\n",
       "    </tr>\n",
       "  </thead>\n",
       "  <tbody>\n",
       "    <tr>\n",
       "      <th>0</th>\n",
       "      <td>0</td>\n",
       "      <td>446622277</td>\n",
       "      <td>Eye Tracker</td>\n",
       "      <td>Project1</td>\n",
       "      <td>24-05-2024</td>\n",
       "      <td>TBT_21_May_final</td>\n",
       "      <td>Recording010</td>\n",
       "      <td>21-05-2024</td>\n",
       "      <td>21-05-2024</td>\n",
       "      <td>15:04:44.310</td>\n",
       "      <td>...</td>\n",
       "      <td>NaN</td>\n",
       "      <td>NaN</td>\n",
       "      <td>NaN</td>\n",
       "      <td>Fixation</td>\n",
       "      <td>1724</td>\n",
       "      <td>1</td>\n",
       "      <td>974.0</td>\n",
       "      <td>246.0</td>\n",
       "      <td>NaN</td>\n",
       "      <td>1</td>\n",
       "    </tr>\n",
       "    <tr>\n",
       "      <th>1</th>\n",
       "      <td>9992</td>\n",
       "      <td>446632269</td>\n",
       "      <td>Eye Tracker</td>\n",
       "      <td>Project1</td>\n",
       "      <td>24-05-2024</td>\n",
       "      <td>TBT_21_May_final</td>\n",
       "      <td>Recording010</td>\n",
       "      <td>21-05-2024</td>\n",
       "      <td>21-05-2024</td>\n",
       "      <td>15:04:44.310</td>\n",
       "      <td>...</td>\n",
       "      <td>NaN</td>\n",
       "      <td>NaN</td>\n",
       "      <td>NaN</td>\n",
       "      <td>Fixation</td>\n",
       "      <td>1724</td>\n",
       "      <td>1</td>\n",
       "      <td>974.0</td>\n",
       "      <td>246.0</td>\n",
       "      <td>NaN</td>\n",
       "      <td>1</td>\n",
       "    </tr>\n",
       "    <tr>\n",
       "      <th>2</th>\n",
       "      <td>19980</td>\n",
       "      <td>446642257</td>\n",
       "      <td>Eye Tracker</td>\n",
       "      <td>Project1</td>\n",
       "      <td>24-05-2024</td>\n",
       "      <td>TBT_21_May_final</td>\n",
       "      <td>Recording010</td>\n",
       "      <td>21-05-2024</td>\n",
       "      <td>21-05-2024</td>\n",
       "      <td>15:04:44.310</td>\n",
       "      <td>...</td>\n",
       "      <td>NaN</td>\n",
       "      <td>NaN</td>\n",
       "      <td>NaN</td>\n",
       "      <td>Fixation</td>\n",
       "      <td>1724</td>\n",
       "      <td>1</td>\n",
       "      <td>974.0</td>\n",
       "      <td>246.0</td>\n",
       "      <td>NaN</td>\n",
       "      <td>1</td>\n",
       "    </tr>\n",
       "    <tr>\n",
       "      <th>3</th>\n",
       "      <td>29973</td>\n",
       "      <td>446652250</td>\n",
       "      <td>Eye Tracker</td>\n",
       "      <td>Project1</td>\n",
       "      <td>24-05-2024</td>\n",
       "      <td>TBT_21_May_final</td>\n",
       "      <td>Recording010</td>\n",
       "      <td>21-05-2024</td>\n",
       "      <td>21-05-2024</td>\n",
       "      <td>15:04:44.310</td>\n",
       "      <td>...</td>\n",
       "      <td>NaN</td>\n",
       "      <td>NaN</td>\n",
       "      <td>NaN</td>\n",
       "      <td>Fixation</td>\n",
       "      <td>1724</td>\n",
       "      <td>1</td>\n",
       "      <td>974.0</td>\n",
       "      <td>246.0</td>\n",
       "      <td>NaN</td>\n",
       "      <td>1</td>\n",
       "    </tr>\n",
       "    <tr>\n",
       "      <th>4</th>\n",
       "      <td>39969</td>\n",
       "      <td>446662246</td>\n",
       "      <td>Eye Tracker</td>\n",
       "      <td>Project1</td>\n",
       "      <td>24-05-2024</td>\n",
       "      <td>TBT_21_May_final</td>\n",
       "      <td>Recording010</td>\n",
       "      <td>21-05-2024</td>\n",
       "      <td>21-05-2024</td>\n",
       "      <td>15:04:44.310</td>\n",
       "      <td>...</td>\n",
       "      <td>NaN</td>\n",
       "      <td>NaN</td>\n",
       "      <td>NaN</td>\n",
       "      <td>Fixation</td>\n",
       "      <td>1724</td>\n",
       "      <td>1</td>\n",
       "      <td>974.0</td>\n",
       "      <td>246.0</td>\n",
       "      <td>NaN</td>\n",
       "      <td>1</td>\n",
       "    </tr>\n",
       "  </tbody>\n",
       "</table>\n",
       "<p>5 rows × 46 columns</p>\n",
       "</div>"
      ],
      "text/plain": [
       "   Recording timestamp  Computer timestamp       Sensor Project name  \\\n",
       "0                    0           446622277  Eye Tracker     Project1   \n",
       "1                 9992           446632269  Eye Tracker     Project1   \n",
       "2                19980           446642257  Eye Tracker     Project1   \n",
       "3                29973           446652250  Eye Tracker     Project1   \n",
       "4                39969           446662246  Eye Tracker     Project1   \n",
       "\n",
       "  Export date  Participant name Recording name Recording date  \\\n",
       "0  24-05-2024  TBT_21_May_final   Recording010     21-05-2024   \n",
       "1  24-05-2024  TBT_21_May_final   Recording010     21-05-2024   \n",
       "2  24-05-2024  TBT_21_May_final   Recording010     21-05-2024   \n",
       "3  24-05-2024  TBT_21_May_final   Recording010     21-05-2024   \n",
       "4  24-05-2024  TBT_21_May_final   Recording010     21-05-2024   \n",
       "\n",
       "  Recording date UTC Recording start time  ... Recording media name  \\\n",
       "0         21-05-2024         15:04:44.310  ...                  NaN   \n",
       "1         21-05-2024         15:04:44.310  ...                  NaN   \n",
       "2         21-05-2024         15:04:44.310  ...                  NaN   \n",
       "3         21-05-2024         15:04:44.310  ...                  NaN   \n",
       "4         21-05-2024         15:04:44.310  ...                  NaN   \n",
       "\n",
       "   Recording media width Recording media height  Eye movement type  \\\n",
       "0                    NaN                    NaN           Fixation   \n",
       "1                    NaN                    NaN           Fixation   \n",
       "2                    NaN                    NaN           Fixation   \n",
       "3                    NaN                    NaN           Fixation   \n",
       "4                    NaN                    NaN           Fixation   \n",
       "\n",
       "   Gaze event duration  Eye movement type index  Fixation point X  \\\n",
       "0                 1724                        1             974.0   \n",
       "1                 1724                        1             974.0   \n",
       "2                 1724                        1             974.0   \n",
       "3                 1724                        1             974.0   \n",
       "4                 1724                        1             974.0   \n",
       "\n",
       "   Fixation point Y  Ungrouped  Disease  \n",
       "0             246.0        NaN        1  \n",
       "1             246.0        NaN        1  \n",
       "2             246.0        NaN        1  \n",
       "3             246.0        NaN        1  \n",
       "4             246.0        NaN        1  \n",
       "\n",
       "[5 rows x 46 columns]"
      ]
     },
     "execution_count": 6,
     "metadata": {},
     "output_type": "execute_result"
    }
   ],
   "source": [
    "data.head()"
   ]
  },
  {
   "cell_type": "code",
   "execution_count": 7,
   "id": "f9214dfd",
   "metadata": {},
   "outputs": [
    {
     "data": {
      "text/html": [
       "<div>\n",
       "<style scoped>\n",
       "    .dataframe tbody tr th:only-of-type {\n",
       "        vertical-align: middle;\n",
       "    }\n",
       "\n",
       "    .dataframe tbody tr th {\n",
       "        vertical-align: top;\n",
       "    }\n",
       "\n",
       "    .dataframe thead th {\n",
       "        text-align: right;\n",
       "    }\n",
       "</style>\n",
       "<table border=\"1\" class=\"dataframe\">\n",
       "  <thead>\n",
       "    <tr style=\"text-align: right;\">\n",
       "      <th></th>\n",
       "      <th>Recording timestamp</th>\n",
       "      <th>Computer timestamp</th>\n",
       "      <th>Sensor</th>\n",
       "      <th>Project name</th>\n",
       "      <th>Export date</th>\n",
       "      <th>Participant name</th>\n",
       "      <th>Recording name</th>\n",
       "      <th>Recording date</th>\n",
       "      <th>Recording date UTC</th>\n",
       "      <th>Recording start time</th>\n",
       "      <th>...</th>\n",
       "      <th>Recording media name</th>\n",
       "      <th>Recording media width</th>\n",
       "      <th>Recording media height</th>\n",
       "      <th>Eye movement type</th>\n",
       "      <th>Gaze event duration</th>\n",
       "      <th>Eye movement type index</th>\n",
       "      <th>Fixation point X</th>\n",
       "      <th>Fixation point Y</th>\n",
       "      <th>Ungrouped</th>\n",
       "      <th>Disease</th>\n",
       "    </tr>\n",
       "  </thead>\n",
       "  <tbody>\n",
       "    <tr>\n",
       "      <th>28619</th>\n",
       "      <td>306832570</td>\n",
       "      <td>888833661</td>\n",
       "      <td>Eye Tracker</td>\n",
       "      <td>Project1</td>\n",
       "      <td>17-05-2024</td>\n",
       "      <td>rashi_control_17_may</td>\n",
       "      <td>Recording006</td>\n",
       "      <td>17-05-2024</td>\n",
       "      <td>17-05-2024</td>\n",
       "      <td>12:48:00.507</td>\n",
       "      <td>...</td>\n",
       "      <td>fullstream.mp4</td>\n",
       "      <td>1920.0</td>\n",
       "      <td>1080.0</td>\n",
       "      <td>EyesNotFound</td>\n",
       "      <td>1749</td>\n",
       "      <td>486</td>\n",
       "      <td>NaN</td>\n",
       "      <td>NaN</td>\n",
       "      <td>NaN</td>\n",
       "      <td>0</td>\n",
       "    </tr>\n",
       "    <tr>\n",
       "      <th>28620</th>\n",
       "      <td>306842591</td>\n",
       "      <td>888843682</td>\n",
       "      <td>Eye Tracker</td>\n",
       "      <td>Project1</td>\n",
       "      <td>17-05-2024</td>\n",
       "      <td>rashi_control_17_may</td>\n",
       "      <td>Recording006</td>\n",
       "      <td>17-05-2024</td>\n",
       "      <td>17-05-2024</td>\n",
       "      <td>12:48:00.507</td>\n",
       "      <td>...</td>\n",
       "      <td>fullstream.mp4</td>\n",
       "      <td>1920.0</td>\n",
       "      <td>1080.0</td>\n",
       "      <td>EyesNotFound</td>\n",
       "      <td>1749</td>\n",
       "      <td>486</td>\n",
       "      <td>NaN</td>\n",
       "      <td>NaN</td>\n",
       "      <td>NaN</td>\n",
       "      <td>0</td>\n",
       "    </tr>\n",
       "    <tr>\n",
       "      <th>28621</th>\n",
       "      <td>306852583</td>\n",
       "      <td>888853674</td>\n",
       "      <td>Eye Tracker</td>\n",
       "      <td>Project1</td>\n",
       "      <td>17-05-2024</td>\n",
       "      <td>rashi_control_17_may</td>\n",
       "      <td>Recording006</td>\n",
       "      <td>17-05-2024</td>\n",
       "      <td>17-05-2024</td>\n",
       "      <td>12:48:00.507</td>\n",
       "      <td>...</td>\n",
       "      <td>fullstream.mp4</td>\n",
       "      <td>1920.0</td>\n",
       "      <td>1080.0</td>\n",
       "      <td>EyesNotFound</td>\n",
       "      <td>1749</td>\n",
       "      <td>486</td>\n",
       "      <td>NaN</td>\n",
       "      <td>NaN</td>\n",
       "      <td>NaN</td>\n",
       "      <td>0</td>\n",
       "    </tr>\n",
       "    <tr>\n",
       "      <th>28622</th>\n",
       "      <td>306862578</td>\n",
       "      <td>888863669</td>\n",
       "      <td>Eye Tracker</td>\n",
       "      <td>Project1</td>\n",
       "      <td>17-05-2024</td>\n",
       "      <td>rashi_control_17_may</td>\n",
       "      <td>Recording006</td>\n",
       "      <td>17-05-2024</td>\n",
       "      <td>17-05-2024</td>\n",
       "      <td>12:48:00.507</td>\n",
       "      <td>...</td>\n",
       "      <td>fullstream.mp4</td>\n",
       "      <td>1920.0</td>\n",
       "      <td>1080.0</td>\n",
       "      <td>EyesNotFound</td>\n",
       "      <td>1749</td>\n",
       "      <td>486</td>\n",
       "      <td>NaN</td>\n",
       "      <td>NaN</td>\n",
       "      <td>NaN</td>\n",
       "      <td>0</td>\n",
       "    </tr>\n",
       "    <tr>\n",
       "      <th>28623</th>\n",
       "      <td>306872563</td>\n",
       "      <td>888873654</td>\n",
       "      <td>Eye Tracker</td>\n",
       "      <td>Project1</td>\n",
       "      <td>17-05-2024</td>\n",
       "      <td>rashi_control_17_may</td>\n",
       "      <td>Recording006</td>\n",
       "      <td>17-05-2024</td>\n",
       "      <td>17-05-2024</td>\n",
       "      <td>12:48:00.507</td>\n",
       "      <td>...</td>\n",
       "      <td>fullstream.mp4</td>\n",
       "      <td>1920.0</td>\n",
       "      <td>1080.0</td>\n",
       "      <td>EyesNotFound</td>\n",
       "      <td>1749</td>\n",
       "      <td>486</td>\n",
       "      <td>NaN</td>\n",
       "      <td>NaN</td>\n",
       "      <td>NaN</td>\n",
       "      <td>0</td>\n",
       "    </tr>\n",
       "  </tbody>\n",
       "</table>\n",
       "<p>5 rows × 46 columns</p>\n",
       "</div>"
      ],
      "text/plain": [
       "       Recording timestamp  Computer timestamp       Sensor Project name  \\\n",
       "28619            306832570           888833661  Eye Tracker     Project1   \n",
       "28620            306842591           888843682  Eye Tracker     Project1   \n",
       "28621            306852583           888853674  Eye Tracker     Project1   \n",
       "28622            306862578           888863669  Eye Tracker     Project1   \n",
       "28623            306872563           888873654  Eye Tracker     Project1   \n",
       "\n",
       "      Export date      Participant name Recording name Recording date  \\\n",
       "28619  17-05-2024  rashi_control_17_may   Recording006     17-05-2024   \n",
       "28620  17-05-2024  rashi_control_17_may   Recording006     17-05-2024   \n",
       "28621  17-05-2024  rashi_control_17_may   Recording006     17-05-2024   \n",
       "28622  17-05-2024  rashi_control_17_may   Recording006     17-05-2024   \n",
       "28623  17-05-2024  rashi_control_17_may   Recording006     17-05-2024   \n",
       "\n",
       "      Recording date UTC Recording start time  ... Recording media name  \\\n",
       "28619         17-05-2024         12:48:00.507  ...       fullstream.mp4   \n",
       "28620         17-05-2024         12:48:00.507  ...       fullstream.mp4   \n",
       "28621         17-05-2024         12:48:00.507  ...       fullstream.mp4   \n",
       "28622         17-05-2024         12:48:00.507  ...       fullstream.mp4   \n",
       "28623         17-05-2024         12:48:00.507  ...       fullstream.mp4   \n",
       "\n",
       "       Recording media width Recording media height  Eye movement type  \\\n",
       "28619                 1920.0                 1080.0       EyesNotFound   \n",
       "28620                 1920.0                 1080.0       EyesNotFound   \n",
       "28621                 1920.0                 1080.0       EyesNotFound   \n",
       "28622                 1920.0                 1080.0       EyesNotFound   \n",
       "28623                 1920.0                 1080.0       EyesNotFound   \n",
       "\n",
       "       Gaze event duration  Eye movement type index  Fixation point X  \\\n",
       "28619                 1749                      486               NaN   \n",
       "28620                 1749                      486               NaN   \n",
       "28621                 1749                      486               NaN   \n",
       "28622                 1749                      486               NaN   \n",
       "28623                 1749                      486               NaN   \n",
       "\n",
       "       Fixation point Y  Ungrouped  Disease  \n",
       "28619               NaN        NaN        0  \n",
       "28620               NaN        NaN        0  \n",
       "28621               NaN        NaN        0  \n",
       "28622               NaN        NaN        0  \n",
       "28623               NaN        NaN        0  \n",
       "\n",
       "[5 rows x 46 columns]"
      ]
     },
     "execution_count": 7,
     "metadata": {},
     "output_type": "execute_result"
    }
   ],
   "source": [
    "data.tail()"
   ]
  },
  {
   "cell_type": "code",
   "execution_count": 8,
   "id": "c6a06623",
   "metadata": {},
   "outputs": [
    {
     "data": {
      "text/plain": [
       "Index(['Recording timestamp', 'Computer timestamp', 'Sensor', 'Project name',\n",
       "       'Export date', 'Participant name', 'Recording name', 'Recording date',\n",
       "       'Recording date UTC', 'Recording start time',\n",
       "       'Recording start time UTC', 'Recording duration',\n",
       "       'Recording Fixation filter name', 'Event', 'Event value',\n",
       "       'Gaze point X', 'Gaze point Y', 'Gaze point 3D X', 'Gaze point 3D Y',\n",
       "       'Gaze point 3D Z', 'Gaze direction left X', 'Gaze direction left Y',\n",
       "       'Gaze direction left Z', 'Gaze direction right X',\n",
       "       'Gaze direction right Y', 'Gaze direction right Z',\n",
       "       'Pupil position left X', 'Pupil position left Y',\n",
       "       'Pupil position left Z', 'Pupil position right X',\n",
       "       'Pupil position right Y', 'Pupil position right Z',\n",
       "       'Pupil diameter left', 'Pupil diameter right', 'Validity left',\n",
       "       'Validity right', 'Recording media name', 'Recording media width',\n",
       "       'Recording media height', 'Eye movement type', 'Gaze event duration',\n",
       "       'Eye movement type index', 'Fixation point X', 'Fixation point Y',\n",
       "       'Ungrouped', 'Disease'],\n",
       "      dtype='object')"
      ]
     },
     "execution_count": 8,
     "metadata": {},
     "output_type": "execute_result"
    }
   ],
   "source": [
    "data.columns"
   ]
  },
  {
   "cell_type": "code",
   "execution_count": 9,
   "id": "53ebe820",
   "metadata": {},
   "outputs": [
    {
     "name": "stdout",
     "output_type": "stream",
     "text": [
      "<class 'pandas.core.frame.DataFrame'>\n",
      "Index: 59550 entries, 0 to 28623\n",
      "Data columns (total 46 columns):\n",
      " #   Column                          Non-Null Count  Dtype  \n",
      "---  ------                          --------------  -----  \n",
      " 0   Recording timestamp             59550 non-null  int64  \n",
      " 1   Computer timestamp              59550 non-null  int64  \n",
      " 2   Sensor                          59550 non-null  object \n",
      " 3   Project name                    59550 non-null  object \n",
      " 4   Export date                     59550 non-null  object \n",
      " 5   Participant name                59550 non-null  object \n",
      " 6   Recording name                  59550 non-null  object \n",
      " 7   Recording date                  59550 non-null  object \n",
      " 8   Recording date UTC              59550 non-null  object \n",
      " 9   Recording start time            59550 non-null  object \n",
      " 10  Recording start time UTC        59550 non-null  object \n",
      " 11  Recording duration              59550 non-null  int64  \n",
      " 12  Recording Fixation filter name  59550 non-null  object \n",
      " 13  Event                           0 non-null      float64\n",
      " 14  Event value                     0 non-null      float64\n",
      " 15  Gaze point X                    59550 non-null  int64  \n",
      " 16  Gaze point Y                    59550 non-null  int64  \n",
      " 17  Gaze point 3D X                 59550 non-null  float64\n",
      " 18  Gaze point 3D Y                 59550 non-null  float64\n",
      " 19  Gaze point 3D Z                 59550 non-null  float64\n",
      " 20  Gaze direction left X           59550 non-null  float64\n",
      " 21  Gaze direction left Y           59550 non-null  float64\n",
      " 22  Gaze direction left Z           59550 non-null  float64\n",
      " 23  Gaze direction right X          59550 non-null  float64\n",
      " 24  Gaze direction right Y          59550 non-null  float64\n",
      " 25  Gaze direction right Z          59550 non-null  float64\n",
      " 26  Pupil position left X           59550 non-null  float64\n",
      " 27  Pupil position left Y           59550 non-null  float64\n",
      " 28  Pupil position left Z           59550 non-null  float64\n",
      " 29  Pupil position right X          59550 non-null  float64\n",
      " 30  Pupil position right Y          59550 non-null  float64\n",
      " 31  Pupil position right Z          59550 non-null  float64\n",
      " 32  Pupil diameter left             59550 non-null  float64\n",
      " 33  Pupil diameter right            59550 non-null  float64\n",
      " 34  Validity left                   59550 non-null  object \n",
      " 35  Validity right                  59550 non-null  object \n",
      " 36  Recording media name            59506 non-null  object \n",
      " 37  Recording media width           59506 non-null  float64\n",
      " 38  Recording media height          59506 non-null  float64\n",
      " 39  Eye movement type               59550 non-null  object \n",
      " 40  Gaze event duration             59550 non-null  int64  \n",
      " 41  Eye movement type index         59550 non-null  int64  \n",
      " 42  Fixation point X                47236 non-null  float64\n",
      " 43  Fixation point Y                47236 non-null  float64\n",
      " 44  Ungrouped                       0 non-null      float64\n",
      " 45  Disease                         59550 non-null  int64  \n",
      "dtypes: float64(24), int64(8), object(14)\n",
      "memory usage: 21.4+ MB\n"
     ]
    }
   ],
   "source": [
    "data.info()"
   ]
  },
  {
   "cell_type": "code",
   "execution_count": 10,
   "id": "683fb8c5",
   "metadata": {},
   "outputs": [],
   "source": [
    "df = data.iloc[:,15:].drop(['Recording media name', 'Recording media width','Recording media height','Ungrouped','Validity left',\n",
    "       'Validity right',],axis=1)"
   ]
  },
  {
   "cell_type": "code",
   "execution_count": 11,
   "id": "4ffc045b",
   "metadata": {},
   "outputs": [
    {
     "data": {
      "text/html": [
       "<div>\n",
       "<style scoped>\n",
       "    .dataframe tbody tr th:only-of-type {\n",
       "        vertical-align: middle;\n",
       "    }\n",
       "\n",
       "    .dataframe tbody tr th {\n",
       "        vertical-align: top;\n",
       "    }\n",
       "\n",
       "    .dataframe thead th {\n",
       "        text-align: right;\n",
       "    }\n",
       "</style>\n",
       "<table border=\"1\" class=\"dataframe\">\n",
       "  <thead>\n",
       "    <tr style=\"text-align: right;\">\n",
       "      <th></th>\n",
       "      <th>Gaze point X</th>\n",
       "      <th>Gaze point Y</th>\n",
       "      <th>Gaze point 3D X</th>\n",
       "      <th>Gaze point 3D Y</th>\n",
       "      <th>Gaze point 3D Z</th>\n",
       "      <th>Gaze direction left X</th>\n",
       "      <th>Gaze direction left Y</th>\n",
       "      <th>Gaze direction left Z</th>\n",
       "      <th>Gaze direction right X</th>\n",
       "      <th>Gaze direction right Y</th>\n",
       "      <th>...</th>\n",
       "      <th>Pupil position right Y</th>\n",
       "      <th>Pupil position right Z</th>\n",
       "      <th>Pupil diameter left</th>\n",
       "      <th>Pupil diameter right</th>\n",
       "      <th>Eye movement type</th>\n",
       "      <th>Gaze event duration</th>\n",
       "      <th>Eye movement type index</th>\n",
       "      <th>Fixation point X</th>\n",
       "      <th>Fixation point Y</th>\n",
       "      <th>Disease</th>\n",
       "    </tr>\n",
       "  </thead>\n",
       "  <tbody>\n",
       "    <tr>\n",
       "      <th>0</th>\n",
       "      <td>966</td>\n",
       "      <td>241</td>\n",
       "      <td>-17.6024</td>\n",
       "      <td>187.8945</td>\n",
       "      <td>775.7455</td>\n",
       "      <td>-0.05722</td>\n",
       "      <td>0.25220</td>\n",
       "      <td>0.96598</td>\n",
       "      <td>0.01496</td>\n",
       "      <td>0.26055</td>\n",
       "      <td>...</td>\n",
       "      <td>-25.03</td>\n",
       "      <td>-29.31</td>\n",
       "      <td>2.933</td>\n",
       "      <td>2.767</td>\n",
       "      <td>Fixation</td>\n",
       "      <td>1724</td>\n",
       "      <td>1</td>\n",
       "      <td>974.0</td>\n",
       "      <td>246.0</td>\n",
       "      <td>1</td>\n",
       "    </tr>\n",
       "    <tr>\n",
       "      <th>1</th>\n",
       "      <td>965</td>\n",
       "      <td>241</td>\n",
       "      <td>-16.4967</td>\n",
       "      <td>185.1301</td>\n",
       "      <td>765.6002</td>\n",
       "      <td>-0.05518</td>\n",
       "      <td>0.26460</td>\n",
       "      <td>0.96278</td>\n",
       "      <td>0.01519</td>\n",
       "      <td>0.24769</td>\n",
       "      <td>...</td>\n",
       "      <td>-24.72</td>\n",
       "      <td>-29.48</td>\n",
       "      <td>2.983</td>\n",
       "      <td>2.780</td>\n",
       "      <td>Fixation</td>\n",
       "      <td>1724</td>\n",
       "      <td>1</td>\n",
       "      <td>974.0</td>\n",
       "      <td>246.0</td>\n",
       "      <td>1</td>\n",
       "    </tr>\n",
       "    <tr>\n",
       "      <th>2</th>\n",
       "      <td>965</td>\n",
       "      <td>241</td>\n",
       "      <td>-16.4380</td>\n",
       "      <td>186.7582</td>\n",
       "      <td>771.3217</td>\n",
       "      <td>-0.05630</td>\n",
       "      <td>0.25286</td>\n",
       "      <td>0.96586</td>\n",
       "      <td>0.01660</td>\n",
       "      <td>0.25998</td>\n",
       "      <td>...</td>\n",
       "      <td>-25.03</td>\n",
       "      <td>-29.31</td>\n",
       "      <td>2.935</td>\n",
       "      <td>2.763</td>\n",
       "      <td>Fixation</td>\n",
       "      <td>1724</td>\n",
       "      <td>1</td>\n",
       "      <td>974.0</td>\n",
       "      <td>246.0</td>\n",
       "      <td>1</td>\n",
       "    </tr>\n",
       "    <tr>\n",
       "      <th>3</th>\n",
       "      <td>965</td>\n",
       "      <td>240</td>\n",
       "      <td>-16.8290</td>\n",
       "      <td>189.7668</td>\n",
       "      <td>781.9435</td>\n",
       "      <td>-0.05420</td>\n",
       "      <td>0.26526</td>\n",
       "      <td>0.96265</td>\n",
       "      <td>0.01422</td>\n",
       "      <td>0.24772</td>\n",
       "      <td>...</td>\n",
       "      <td>-24.72</td>\n",
       "      <td>-29.48</td>\n",
       "      <td>2.985</td>\n",
       "      <td>2.778</td>\n",
       "      <td>Fixation</td>\n",
       "      <td>1724</td>\n",
       "      <td>1</td>\n",
       "      <td>974.0</td>\n",
       "      <td>246.0</td>\n",
       "      <td>1</td>\n",
       "    </tr>\n",
       "    <tr>\n",
       "      <th>4</th>\n",
       "      <td>965</td>\n",
       "      <td>239</td>\n",
       "      <td>-17.2961</td>\n",
       "      <td>193.9581</td>\n",
       "      <td>796.3411</td>\n",
       "      <td>-0.05557</td>\n",
       "      <td>0.25347</td>\n",
       "      <td>0.96575</td>\n",
       "      <td>0.01506</td>\n",
       "      <td>0.26059</td>\n",
       "      <td>...</td>\n",
       "      <td>-25.02</td>\n",
       "      <td>-29.31</td>\n",
       "      <td>2.947</td>\n",
       "      <td>2.766</td>\n",
       "      <td>Fixation</td>\n",
       "      <td>1724</td>\n",
       "      <td>1</td>\n",
       "      <td>974.0</td>\n",
       "      <td>246.0</td>\n",
       "      <td>1</td>\n",
       "    </tr>\n",
       "  </tbody>\n",
       "</table>\n",
       "<p>5 rows × 25 columns</p>\n",
       "</div>"
      ],
      "text/plain": [
       "   Gaze point X  Gaze point Y  Gaze point 3D X  Gaze point 3D Y  \\\n",
       "0           966           241         -17.6024         187.8945   \n",
       "1           965           241         -16.4967         185.1301   \n",
       "2           965           241         -16.4380         186.7582   \n",
       "3           965           240         -16.8290         189.7668   \n",
       "4           965           239         -17.2961         193.9581   \n",
       "\n",
       "   Gaze point 3D Z  Gaze direction left X  Gaze direction left Y  \\\n",
       "0         775.7455               -0.05722                0.25220   \n",
       "1         765.6002               -0.05518                0.26460   \n",
       "2         771.3217               -0.05630                0.25286   \n",
       "3         781.9435               -0.05420                0.26526   \n",
       "4         796.3411               -0.05557                0.25347   \n",
       "\n",
       "   Gaze direction left Z  Gaze direction right X  Gaze direction right Y  ...  \\\n",
       "0                0.96598                 0.01496                 0.26055  ...   \n",
       "1                0.96278                 0.01519                 0.24769  ...   \n",
       "2                0.96586                 0.01660                 0.25998  ...   \n",
       "3                0.96265                 0.01422                 0.24772  ...   \n",
       "4                0.96575                 0.01506                 0.26059  ...   \n",
       "\n",
       "   Pupil position right Y  Pupil position right Z  Pupil diameter left  \\\n",
       "0                  -25.03                  -29.31                2.933   \n",
       "1                  -24.72                  -29.48                2.983   \n",
       "2                  -25.03                  -29.31                2.935   \n",
       "3                  -24.72                  -29.48                2.985   \n",
       "4                  -25.02                  -29.31                2.947   \n",
       "\n",
       "   Pupil diameter right  Eye movement type  Gaze event duration  \\\n",
       "0                 2.767           Fixation                 1724   \n",
       "1                 2.780           Fixation                 1724   \n",
       "2                 2.763           Fixation                 1724   \n",
       "3                 2.778           Fixation                 1724   \n",
       "4                 2.766           Fixation                 1724   \n",
       "\n",
       "   Eye movement type index  Fixation point X  Fixation point Y Disease  \n",
       "0                        1             974.0             246.0       1  \n",
       "1                        1             974.0             246.0       1  \n",
       "2                        1             974.0             246.0       1  \n",
       "3                        1             974.0             246.0       1  \n",
       "4                        1             974.0             246.0       1  \n",
       "\n",
       "[5 rows x 25 columns]"
      ]
     },
     "execution_count": 11,
     "metadata": {},
     "output_type": "execute_result"
    }
   ],
   "source": [
    "df.head()"
   ]
  },
  {
   "cell_type": "code",
   "execution_count": 12,
   "id": "902cf4e3",
   "metadata": {},
   "outputs": [
    {
     "data": {
      "text/html": [
       "<div>\n",
       "<style scoped>\n",
       "    .dataframe tbody tr th:only-of-type {\n",
       "        vertical-align: middle;\n",
       "    }\n",
       "\n",
       "    .dataframe tbody tr th {\n",
       "        vertical-align: top;\n",
       "    }\n",
       "\n",
       "    .dataframe thead th {\n",
       "        text-align: right;\n",
       "    }\n",
       "</style>\n",
       "<table border=\"1\" class=\"dataframe\">\n",
       "  <thead>\n",
       "    <tr style=\"text-align: right;\">\n",
       "      <th></th>\n",
       "      <th>Gaze point X</th>\n",
       "      <th>Gaze point Y</th>\n",
       "      <th>Gaze point 3D X</th>\n",
       "      <th>Gaze point 3D Y</th>\n",
       "      <th>Gaze point 3D Z</th>\n",
       "      <th>Gaze direction left X</th>\n",
       "      <th>Gaze direction left Y</th>\n",
       "      <th>Gaze direction left Z</th>\n",
       "      <th>Gaze direction right X</th>\n",
       "      <th>Gaze direction right Y</th>\n",
       "      <th>...</th>\n",
       "      <th>Pupil position right Y</th>\n",
       "      <th>Pupil position right Z</th>\n",
       "      <th>Pupil diameter left</th>\n",
       "      <th>Pupil diameter right</th>\n",
       "      <th>Eye movement type</th>\n",
       "      <th>Gaze event duration</th>\n",
       "      <th>Eye movement type index</th>\n",
       "      <th>Fixation point X</th>\n",
       "      <th>Fixation point Y</th>\n",
       "      <th>Disease</th>\n",
       "    </tr>\n",
       "  </thead>\n",
       "  <tbody>\n",
       "    <tr>\n",
       "      <th>28619</th>\n",
       "      <td>287</td>\n",
       "      <td>390</td>\n",
       "      <td>321.5052</td>\n",
       "      <td>62.796</td>\n",
       "      <td>564.5221</td>\n",
       "      <td>0.18488</td>\n",
       "      <td>0.24062</td>\n",
       "      <td>0.95285</td>\n",
       "      <td>0.5073</td>\n",
       "      <td>0.13008</td>\n",
       "      <td>...</td>\n",
       "      <td>-27.7</td>\n",
       "      <td>-28.75</td>\n",
       "      <td>3.205</td>\n",
       "      <td>3.39</td>\n",
       "      <td>EyesNotFound</td>\n",
       "      <td>1749</td>\n",
       "      <td>486</td>\n",
       "      <td>NaN</td>\n",
       "      <td>NaN</td>\n",
       "      <td>0</td>\n",
       "    </tr>\n",
       "    <tr>\n",
       "      <th>28620</th>\n",
       "      <td>287</td>\n",
       "      <td>390</td>\n",
       "      <td>321.5052</td>\n",
       "      <td>62.796</td>\n",
       "      <td>564.5221</td>\n",
       "      <td>0.18488</td>\n",
       "      <td>0.24062</td>\n",
       "      <td>0.95285</td>\n",
       "      <td>0.5073</td>\n",
       "      <td>0.13008</td>\n",
       "      <td>...</td>\n",
       "      <td>-27.7</td>\n",
       "      <td>-28.75</td>\n",
       "      <td>3.205</td>\n",
       "      <td>3.39</td>\n",
       "      <td>EyesNotFound</td>\n",
       "      <td>1749</td>\n",
       "      <td>486</td>\n",
       "      <td>NaN</td>\n",
       "      <td>NaN</td>\n",
       "      <td>0</td>\n",
       "    </tr>\n",
       "    <tr>\n",
       "      <th>28621</th>\n",
       "      <td>287</td>\n",
       "      <td>390</td>\n",
       "      <td>321.5052</td>\n",
       "      <td>62.796</td>\n",
       "      <td>564.5221</td>\n",
       "      <td>0.18488</td>\n",
       "      <td>0.24062</td>\n",
       "      <td>0.95285</td>\n",
       "      <td>0.5073</td>\n",
       "      <td>0.13008</td>\n",
       "      <td>...</td>\n",
       "      <td>-27.7</td>\n",
       "      <td>-28.75</td>\n",
       "      <td>3.205</td>\n",
       "      <td>3.39</td>\n",
       "      <td>EyesNotFound</td>\n",
       "      <td>1749</td>\n",
       "      <td>486</td>\n",
       "      <td>NaN</td>\n",
       "      <td>NaN</td>\n",
       "      <td>0</td>\n",
       "    </tr>\n",
       "    <tr>\n",
       "      <th>28622</th>\n",
       "      <td>287</td>\n",
       "      <td>390</td>\n",
       "      <td>321.5052</td>\n",
       "      <td>62.796</td>\n",
       "      <td>564.5221</td>\n",
       "      <td>0.18488</td>\n",
       "      <td>0.24062</td>\n",
       "      <td>0.95285</td>\n",
       "      <td>0.5073</td>\n",
       "      <td>0.13008</td>\n",
       "      <td>...</td>\n",
       "      <td>-27.7</td>\n",
       "      <td>-28.75</td>\n",
       "      <td>3.205</td>\n",
       "      <td>3.39</td>\n",
       "      <td>EyesNotFound</td>\n",
       "      <td>1749</td>\n",
       "      <td>486</td>\n",
       "      <td>NaN</td>\n",
       "      <td>NaN</td>\n",
       "      <td>0</td>\n",
       "    </tr>\n",
       "    <tr>\n",
       "      <th>28623</th>\n",
       "      <td>287</td>\n",
       "      <td>390</td>\n",
       "      <td>321.5052</td>\n",
       "      <td>62.796</td>\n",
       "      <td>564.5221</td>\n",
       "      <td>0.18488</td>\n",
       "      <td>0.24062</td>\n",
       "      <td>0.95285</td>\n",
       "      <td>0.5073</td>\n",
       "      <td>0.13008</td>\n",
       "      <td>...</td>\n",
       "      <td>-27.7</td>\n",
       "      <td>-28.75</td>\n",
       "      <td>3.205</td>\n",
       "      <td>3.39</td>\n",
       "      <td>EyesNotFound</td>\n",
       "      <td>1749</td>\n",
       "      <td>486</td>\n",
       "      <td>NaN</td>\n",
       "      <td>NaN</td>\n",
       "      <td>0</td>\n",
       "    </tr>\n",
       "  </tbody>\n",
       "</table>\n",
       "<p>5 rows × 25 columns</p>\n",
       "</div>"
      ],
      "text/plain": [
       "       Gaze point X  Gaze point Y  Gaze point 3D X  Gaze point 3D Y  \\\n",
       "28619           287           390         321.5052           62.796   \n",
       "28620           287           390         321.5052           62.796   \n",
       "28621           287           390         321.5052           62.796   \n",
       "28622           287           390         321.5052           62.796   \n",
       "28623           287           390         321.5052           62.796   \n",
       "\n",
       "       Gaze point 3D Z  Gaze direction left X  Gaze direction left Y  \\\n",
       "28619         564.5221                0.18488                0.24062   \n",
       "28620         564.5221                0.18488                0.24062   \n",
       "28621         564.5221                0.18488                0.24062   \n",
       "28622         564.5221                0.18488                0.24062   \n",
       "28623         564.5221                0.18488                0.24062   \n",
       "\n",
       "       Gaze direction left Z  Gaze direction right X  Gaze direction right Y  \\\n",
       "28619                0.95285                  0.5073                 0.13008   \n",
       "28620                0.95285                  0.5073                 0.13008   \n",
       "28621                0.95285                  0.5073                 0.13008   \n",
       "28622                0.95285                  0.5073                 0.13008   \n",
       "28623                0.95285                  0.5073                 0.13008   \n",
       "\n",
       "       ...  Pupil position right Y  Pupil position right Z  \\\n",
       "28619  ...                   -27.7                  -28.75   \n",
       "28620  ...                   -27.7                  -28.75   \n",
       "28621  ...                   -27.7                  -28.75   \n",
       "28622  ...                   -27.7                  -28.75   \n",
       "28623  ...                   -27.7                  -28.75   \n",
       "\n",
       "       Pupil diameter left  Pupil diameter right  Eye movement type  \\\n",
       "28619                3.205                  3.39       EyesNotFound   \n",
       "28620                3.205                  3.39       EyesNotFound   \n",
       "28621                3.205                  3.39       EyesNotFound   \n",
       "28622                3.205                  3.39       EyesNotFound   \n",
       "28623                3.205                  3.39       EyesNotFound   \n",
       "\n",
       "       Gaze event duration  Eye movement type index  Fixation point X  \\\n",
       "28619                 1749                      486               NaN   \n",
       "28620                 1749                      486               NaN   \n",
       "28621                 1749                      486               NaN   \n",
       "28622                 1749                      486               NaN   \n",
       "28623                 1749                      486               NaN   \n",
       "\n",
       "       Fixation point Y Disease  \n",
       "28619               NaN       0  \n",
       "28620               NaN       0  \n",
       "28621               NaN       0  \n",
       "28622               NaN       0  \n",
       "28623               NaN       0  \n",
       "\n",
       "[5 rows x 25 columns]"
      ]
     },
     "execution_count": 12,
     "metadata": {},
     "output_type": "execute_result"
    }
   ],
   "source": [
    "df.tail()"
   ]
  },
  {
   "cell_type": "code",
   "execution_count": 13,
   "id": "8077abde",
   "metadata": {},
   "outputs": [
    {
     "name": "stdout",
     "output_type": "stream",
     "text": [
      "<class 'pandas.core.frame.DataFrame'>\n",
      "Index: 59550 entries, 0 to 28623\n",
      "Data columns (total 25 columns):\n",
      " #   Column                   Non-Null Count  Dtype  \n",
      "---  ------                   --------------  -----  \n",
      " 0   Gaze point X             59550 non-null  int64  \n",
      " 1   Gaze point Y             59550 non-null  int64  \n",
      " 2   Gaze point 3D X          59550 non-null  float64\n",
      " 3   Gaze point 3D Y          59550 non-null  float64\n",
      " 4   Gaze point 3D Z          59550 non-null  float64\n",
      " 5   Gaze direction left X    59550 non-null  float64\n",
      " 6   Gaze direction left Y    59550 non-null  float64\n",
      " 7   Gaze direction left Z    59550 non-null  float64\n",
      " 8   Gaze direction right X   59550 non-null  float64\n",
      " 9   Gaze direction right Y   59550 non-null  float64\n",
      " 10  Gaze direction right Z   59550 non-null  float64\n",
      " 11  Pupil position left X    59550 non-null  float64\n",
      " 12  Pupil position left Y    59550 non-null  float64\n",
      " 13  Pupil position left Z    59550 non-null  float64\n",
      " 14  Pupil position right X   59550 non-null  float64\n",
      " 15  Pupil position right Y   59550 non-null  float64\n",
      " 16  Pupil position right Z   59550 non-null  float64\n",
      " 17  Pupil diameter left      59550 non-null  float64\n",
      " 18  Pupil diameter right     59550 non-null  float64\n",
      " 19  Eye movement type        59550 non-null  object \n",
      " 20  Gaze event duration      59550 non-null  int64  \n",
      " 21  Eye movement type index  59550 non-null  int64  \n",
      " 22  Fixation point X         47236 non-null  float64\n",
      " 23  Fixation point Y         47236 non-null  float64\n",
      " 24  Disease                  59550 non-null  int64  \n",
      "dtypes: float64(19), int64(5), object(1)\n",
      "memory usage: 11.8+ MB\n"
     ]
    }
   ],
   "source": [
    "df.info()"
   ]
  },
  {
   "cell_type": "code",
   "execution_count": 14,
   "id": "a6d90dbe",
   "metadata": {},
   "outputs": [
    {
     "data": {
      "text/plain": [
       "array(['Fixation', 'EyesNotFound', 'Unclassified', 'Saccade'],\n",
       "      dtype=object)"
      ]
     },
     "execution_count": 14,
     "metadata": {},
     "output_type": "execute_result"
    }
   ],
   "source": [
    "df['Eye movement type'].unique()"
   ]
  },
  {
   "cell_type": "code",
   "execution_count": 15,
   "id": "17bb3857",
   "metadata": {},
   "outputs": [],
   "source": [
    "valuesToEncode = {'Fixation':0, 'EyesNotFound':1, 'Saccade':2, 'Unclassified':3}"
   ]
  },
  {
   "cell_type": "code",
   "execution_count": 16,
   "id": "e40f4c80",
   "metadata": {},
   "outputs": [],
   "source": [
    "# df[['Eye movement type']].applymap(valuesToEncode)\n",
    "df.drop(['Eye movement type','Gaze event duration','Eye movement type index'],axis=1,inplace=True)"
   ]
  },
  {
   "cell_type": "code",
   "execution_count": 17,
   "id": "2799f192",
   "metadata": {},
   "outputs": [
    {
     "name": "stdout",
     "output_type": "stream",
     "text": [
      "<class 'pandas.core.frame.DataFrame'>\n",
      "Index: 59550 entries, 0 to 28623\n",
      "Data columns (total 22 columns):\n",
      " #   Column                  Non-Null Count  Dtype  \n",
      "---  ------                  --------------  -----  \n",
      " 0   Gaze point X            59550 non-null  int64  \n",
      " 1   Gaze point Y            59550 non-null  int64  \n",
      " 2   Gaze point 3D X         59550 non-null  float64\n",
      " 3   Gaze point 3D Y         59550 non-null  float64\n",
      " 4   Gaze point 3D Z         59550 non-null  float64\n",
      " 5   Gaze direction left X   59550 non-null  float64\n",
      " 6   Gaze direction left Y   59550 non-null  float64\n",
      " 7   Gaze direction left Z   59550 non-null  float64\n",
      " 8   Gaze direction right X  59550 non-null  float64\n",
      " 9   Gaze direction right Y  59550 non-null  float64\n",
      " 10  Gaze direction right Z  59550 non-null  float64\n",
      " 11  Pupil position left X   59550 non-null  float64\n",
      " 12  Pupil position left Y   59550 non-null  float64\n",
      " 13  Pupil position left Z   59550 non-null  float64\n",
      " 14  Pupil position right X  59550 non-null  float64\n",
      " 15  Pupil position right Y  59550 non-null  float64\n",
      " 16  Pupil position right Z  59550 non-null  float64\n",
      " 17  Pupil diameter left     59550 non-null  float64\n",
      " 18  Pupil diameter right    59550 non-null  float64\n",
      " 19  Fixation point X        47236 non-null  float64\n",
      " 20  Fixation point Y        47236 non-null  float64\n",
      " 21  Disease                 59550 non-null  int64  \n",
      "dtypes: float64(19), int64(3)\n",
      "memory usage: 10.4 MB\n"
     ]
    }
   ],
   "source": [
    "df.info()"
   ]
  },
  {
   "cell_type": "code",
   "execution_count": 18,
   "id": "abe5f6e4",
   "metadata": {},
   "outputs": [
    {
     "data": {
      "text/plain": [
       "0      966\n",
       "1      965\n",
       "2      965\n",
       "3      965\n",
       "4      965\n",
       "      ... \n",
       "995    929\n",
       "996    929\n",
       "997    929\n",
       "998    929\n",
       "999    929\n",
       "Name: Gaze point X, Length: 1000, dtype: int64"
      ]
     },
     "execution_count": 18,
     "metadata": {},
     "output_type": "execute_result"
    }
   ],
   "source": [
    "df['Gaze point X'].iloc[:1000]"
   ]
  },
  {
   "cell_type": "code",
   "execution_count": 19,
   "id": "237595ed",
   "metadata": {},
   "outputs": [],
   "source": [
    "df['Fixation point X'].fillna(df['Fixation point X'].mean(),inplace=True)\n",
    "df['Fixation point Y'].fillna(df['Fixation point Y'].mean(),inplace=True)"
   ]
  },
  {
   "cell_type": "code",
   "execution_count": 20,
   "id": "8f8bcecd",
   "metadata": {},
   "outputs": [
    {
     "data": {
      "text/plain": [
       "Gaze point X              0\n",
       "Gaze point Y              0\n",
       "Gaze point 3D X           0\n",
       "Gaze point 3D Y           0\n",
       "Gaze point 3D Z           0\n",
       "Gaze direction left X     0\n",
       "Gaze direction left Y     0\n",
       "Gaze direction left Z     0\n",
       "Gaze direction right X    0\n",
       "Gaze direction right Y    0\n",
       "Gaze direction right Z    0\n",
       "Pupil position left X     0\n",
       "Pupil position left Y     0\n",
       "Pupil position left Z     0\n",
       "Pupil position right X    0\n",
       "Pupil position right Y    0\n",
       "Pupil position right Z    0\n",
       "Pupil diameter left       0\n",
       "Pupil diameter right      0\n",
       "Fixation point X          0\n",
       "Fixation point Y          0\n",
       "Disease                   0\n",
       "dtype: int64"
      ]
     },
     "execution_count": 20,
     "metadata": {},
     "output_type": "execute_result"
    }
   ],
   "source": [
    "df.isnull().sum()"
   ]
  },
  {
   "cell_type": "code",
   "execution_count": 21,
   "id": "6d1f4a71",
   "metadata": {},
   "outputs": [],
   "source": [
    "df.drop(['Fixation point X','Fixation point Y'],axis=1,inplace=True)"
   ]
  },
  {
   "cell_type": "code",
   "execution_count": 22,
   "id": "735844bd",
   "metadata": {},
   "outputs": [],
   "source": [
    "df = df.sample(frac=1).reset_index(drop=True)"
   ]
  },
  {
   "cell_type": "code",
   "execution_count": 23,
   "id": "1028f88b",
   "metadata": {
    "scrolled": true
   },
   "outputs": [
    {
     "data": {
      "text/html": [
       "<div>\n",
       "<style scoped>\n",
       "    .dataframe tbody tr th:only-of-type {\n",
       "        vertical-align: middle;\n",
       "    }\n",
       "\n",
       "    .dataframe tbody tr th {\n",
       "        vertical-align: top;\n",
       "    }\n",
       "\n",
       "    .dataframe thead th {\n",
       "        text-align: right;\n",
       "    }\n",
       "</style>\n",
       "<table border=\"1\" class=\"dataframe\">\n",
       "  <thead>\n",
       "    <tr style=\"text-align: right;\">\n",
       "      <th></th>\n",
       "      <th>Gaze point X</th>\n",
       "      <th>Gaze point Y</th>\n",
       "      <th>Gaze point 3D X</th>\n",
       "      <th>Gaze point 3D Y</th>\n",
       "      <th>Gaze point 3D Z</th>\n",
       "      <th>Gaze direction left X</th>\n",
       "      <th>Gaze direction left Y</th>\n",
       "      <th>Gaze direction left Z</th>\n",
       "      <th>Gaze direction right X</th>\n",
       "      <th>Gaze direction right Y</th>\n",
       "      <th>Gaze direction right Z</th>\n",
       "      <th>Pupil position left X</th>\n",
       "      <th>Pupil position left Y</th>\n",
       "      <th>Pupil position left Z</th>\n",
       "      <th>Pupil position right X</th>\n",
       "      <th>Pupil position right Y</th>\n",
       "      <th>Pupil position right Z</th>\n",
       "      <th>Pupil diameter left</th>\n",
       "      <th>Pupil diameter right</th>\n",
       "      <th>Disease</th>\n",
       "    </tr>\n",
       "  </thead>\n",
       "  <tbody>\n",
       "    <tr>\n",
       "      <th>0</th>\n",
       "      <td>983</td>\n",
       "      <td>244</td>\n",
       "      <td>-25.9753</td>\n",
       "      <td>167.5750</td>\n",
       "      <td>699.9296</td>\n",
       "      <td>-0.07430</td>\n",
       "      <td>0.26068</td>\n",
       "      <td>0.96256</td>\n",
       "      <td>0.00584</td>\n",
       "      <td>0.25169</td>\n",
       "      <td>0.96779</td>\n",
       "      <td>30.71</td>\n",
       "      <td>-27.26</td>\n",
       "      <td>-30.35</td>\n",
       "      <td>-30.71</td>\n",
       "      <td>-24.96</td>\n",
       "      <td>-29.20</td>\n",
       "      <td>2.748</td>\n",
       "      <td>2.582</td>\n",
       "      <td>1</td>\n",
       "    </tr>\n",
       "    <tr>\n",
       "      <th>1</th>\n",
       "      <td>924</td>\n",
       "      <td>281</td>\n",
       "      <td>11.6281</td>\n",
       "      <td>168.3241</td>\n",
       "      <td>812.1525</td>\n",
       "      <td>-0.02021</td>\n",
       "      <td>0.21880</td>\n",
       "      <td>0.97556</td>\n",
       "      <td>0.04822</td>\n",
       "      <td>0.22776</td>\n",
       "      <td>0.97252</td>\n",
       "      <td>30.83</td>\n",
       "      <td>-27.26</td>\n",
       "      <td>-30.53</td>\n",
       "      <td>-30.37</td>\n",
       "      <td>-24.79</td>\n",
       "      <td>-29.54</td>\n",
       "      <td>2.963</td>\n",
       "      <td>2.803</td>\n",
       "      <td>1</td>\n",
       "    </tr>\n",
       "    <tr>\n",
       "      <th>2</th>\n",
       "      <td>993</td>\n",
       "      <td>270</td>\n",
       "      <td>-24.4649</td>\n",
       "      <td>115.0126</td>\n",
       "      <td>530.3381</td>\n",
       "      <td>-0.09359</td>\n",
       "      <td>0.23981</td>\n",
       "      <td>0.96630</td>\n",
       "      <td>0.22636</td>\n",
       "      <td>0.03372</td>\n",
       "      <td>0.97346</td>\n",
       "      <td>29.36</td>\n",
       "      <td>-23.10</td>\n",
       "      <td>-26.27</td>\n",
       "      <td>-32.69</td>\n",
       "      <td>-21.60</td>\n",
       "      <td>-24.51</td>\n",
       "      <td>2.735</td>\n",
       "      <td>2.561</td>\n",
       "      <td>0</td>\n",
       "    </tr>\n",
       "    <tr>\n",
       "      <th>3</th>\n",
       "      <td>912</td>\n",
       "      <td>329</td>\n",
       "      <td>19.2398</td>\n",
       "      <td>130.7504</td>\n",
       "      <td>787.8632</td>\n",
       "      <td>-0.01340</td>\n",
       "      <td>0.19392</td>\n",
       "      <td>0.98093</td>\n",
       "      <td>0.05889</td>\n",
       "      <td>0.18260</td>\n",
       "      <td>0.98142</td>\n",
       "      <td>30.96</td>\n",
       "      <td>-27.34</td>\n",
       "      <td>-30.51</td>\n",
       "      <td>-30.36</td>\n",
       "      <td>-24.96</td>\n",
       "      <td>-29.43</td>\n",
       "      <td>2.930</td>\n",
       "      <td>2.765</td>\n",
       "      <td>1</td>\n",
       "    </tr>\n",
       "    <tr>\n",
       "      <th>4</th>\n",
       "      <td>955</td>\n",
       "      <td>307</td>\n",
       "      <td>-9.4529</td>\n",
       "      <td>137.6828</td>\n",
       "      <td>745.8734</td>\n",
       "      <td>-0.05015</td>\n",
       "      <td>0.20248</td>\n",
       "      <td>0.97800</td>\n",
       "      <td>0.02616</td>\n",
       "      <td>0.21052</td>\n",
       "      <td>0.97724</td>\n",
       "      <td>30.83</td>\n",
       "      <td>-27.21</td>\n",
       "      <td>-30.51</td>\n",
       "      <td>-30.66</td>\n",
       "      <td>-25.17</td>\n",
       "      <td>-29.32</td>\n",
       "      <td>2.715</td>\n",
       "      <td>2.616</td>\n",
       "      <td>1</td>\n",
       "    </tr>\n",
       "    <tr>\n",
       "      <th>5</th>\n",
       "      <td>933</td>\n",
       "      <td>344</td>\n",
       "      <td>1.1778</td>\n",
       "      <td>31.3483</td>\n",
       "      <td>204.7169</td>\n",
       "      <td>-0.11699</td>\n",
       "      <td>0.22801</td>\n",
       "      <td>0.96660</td>\n",
       "      <td>0.19258</td>\n",
       "      <td>0.00353</td>\n",
       "      <td>0.98127</td>\n",
       "      <td>29.12</td>\n",
       "      <td>-23.19</td>\n",
       "      <td>-26.25</td>\n",
       "      <td>-32.83</td>\n",
       "      <td>-21.43</td>\n",
       "      <td>-24.78</td>\n",
       "      <td>2.861</td>\n",
       "      <td>2.723</td>\n",
       "      <td>0</td>\n",
       "    </tr>\n",
       "    <tr>\n",
       "      <th>6</th>\n",
       "      <td>821</td>\n",
       "      <td>515</td>\n",
       "      <td>21.7828</td>\n",
       "      <td>0.7639</td>\n",
       "      <td>209.3884</td>\n",
       "      <td>0.07414</td>\n",
       "      <td>0.06906</td>\n",
       "      <td>0.99485</td>\n",
       "      <td>0.10141</td>\n",
       "      <td>0.15306</td>\n",
       "      <td>0.98300</td>\n",
       "      <td>31.42</td>\n",
       "      <td>-27.22</td>\n",
       "      <td>-30.82</td>\n",
       "      <td>-30.32</td>\n",
       "      <td>-25.04</td>\n",
       "      <td>-29.22</td>\n",
       "      <td>2.920</td>\n",
       "      <td>2.811</td>\n",
       "      <td>1</td>\n",
       "    </tr>\n",
       "    <tr>\n",
       "      <th>7</th>\n",
       "      <td>933</td>\n",
       "      <td>268</td>\n",
       "      <td>3.7401</td>\n",
       "      <td>135.3143</td>\n",
       "      <td>619.5639</td>\n",
       "      <td>-0.03856</td>\n",
       "      <td>0.23422</td>\n",
       "      <td>0.97142</td>\n",
       "      <td>0.05295</td>\n",
       "      <td>0.24095</td>\n",
       "      <td>0.96909</td>\n",
       "      <td>29.60</td>\n",
       "      <td>-23.18</td>\n",
       "      <td>-26.23</td>\n",
       "      <td>-31.73</td>\n",
       "      <td>-22.32</td>\n",
       "      <td>-25.74</td>\n",
       "      <td>2.850</td>\n",
       "      <td>2.750</td>\n",
       "      <td>0</td>\n",
       "    </tr>\n",
       "    <tr>\n",
       "      <th>8</th>\n",
       "      <td>745</td>\n",
       "      <td>377</td>\n",
       "      <td>156.9551</td>\n",
       "      <td>113.7739</td>\n",
       "      <td>921.0689</td>\n",
       "      <td>0.13910</td>\n",
       "      <td>0.13055</td>\n",
       "      <td>0.98163</td>\n",
       "      <td>0.18116</td>\n",
       "      <td>0.15712</td>\n",
       "      <td>0.97082</td>\n",
       "      <td>31.47</td>\n",
       "      <td>-27.49</td>\n",
       "      <td>-30.26</td>\n",
       "      <td>-29.76</td>\n",
       "      <td>-25.31</td>\n",
       "      <td>-29.42</td>\n",
       "      <td>2.810</td>\n",
       "      <td>2.708</td>\n",
       "      <td>1</td>\n",
       "    </tr>\n",
       "    <tr>\n",
       "      <th>9</th>\n",
       "      <td>855</td>\n",
       "      <td>377</td>\n",
       "      <td>44.7063</td>\n",
       "      <td>74.7492</td>\n",
       "      <td>601.5612</td>\n",
       "      <td>0.02341</td>\n",
       "      <td>0.15646</td>\n",
       "      <td>0.98741</td>\n",
       "      <td>0.11901</td>\n",
       "      <td>0.14949</td>\n",
       "      <td>0.98157</td>\n",
       "      <td>29.93</td>\n",
       "      <td>-23.24</td>\n",
       "      <td>-26.43</td>\n",
       "      <td>-31.51</td>\n",
       "      <td>-22.40</td>\n",
       "      <td>-26.08</td>\n",
       "      <td>2.826</td>\n",
       "      <td>2.833</td>\n",
       "      <td>0</td>\n",
       "    </tr>\n",
       "  </tbody>\n",
       "</table>\n",
       "</div>"
      ],
      "text/plain": [
       "   Gaze point X  Gaze point Y  Gaze point 3D X  Gaze point 3D Y  \\\n",
       "0           983           244         -25.9753         167.5750   \n",
       "1           924           281          11.6281         168.3241   \n",
       "2           993           270         -24.4649         115.0126   \n",
       "3           912           329          19.2398         130.7504   \n",
       "4           955           307          -9.4529         137.6828   \n",
       "5           933           344           1.1778          31.3483   \n",
       "6           821           515          21.7828           0.7639   \n",
       "7           933           268           3.7401         135.3143   \n",
       "8           745           377         156.9551         113.7739   \n",
       "9           855           377          44.7063          74.7492   \n",
       "\n",
       "   Gaze point 3D Z  Gaze direction left X  Gaze direction left Y  \\\n",
       "0         699.9296               -0.07430                0.26068   \n",
       "1         812.1525               -0.02021                0.21880   \n",
       "2         530.3381               -0.09359                0.23981   \n",
       "3         787.8632               -0.01340                0.19392   \n",
       "4         745.8734               -0.05015                0.20248   \n",
       "5         204.7169               -0.11699                0.22801   \n",
       "6         209.3884                0.07414                0.06906   \n",
       "7         619.5639               -0.03856                0.23422   \n",
       "8         921.0689                0.13910                0.13055   \n",
       "9         601.5612                0.02341                0.15646   \n",
       "\n",
       "   Gaze direction left Z  Gaze direction right X  Gaze direction right Y  \\\n",
       "0                0.96256                 0.00584                 0.25169   \n",
       "1                0.97556                 0.04822                 0.22776   \n",
       "2                0.96630                 0.22636                 0.03372   \n",
       "3                0.98093                 0.05889                 0.18260   \n",
       "4                0.97800                 0.02616                 0.21052   \n",
       "5                0.96660                 0.19258                 0.00353   \n",
       "6                0.99485                 0.10141                 0.15306   \n",
       "7                0.97142                 0.05295                 0.24095   \n",
       "8                0.98163                 0.18116                 0.15712   \n",
       "9                0.98741                 0.11901                 0.14949   \n",
       "\n",
       "   Gaze direction right Z  Pupil position left X  Pupil position left Y  \\\n",
       "0                 0.96779                  30.71                 -27.26   \n",
       "1                 0.97252                  30.83                 -27.26   \n",
       "2                 0.97346                  29.36                 -23.10   \n",
       "3                 0.98142                  30.96                 -27.34   \n",
       "4                 0.97724                  30.83                 -27.21   \n",
       "5                 0.98127                  29.12                 -23.19   \n",
       "6                 0.98300                  31.42                 -27.22   \n",
       "7                 0.96909                  29.60                 -23.18   \n",
       "8                 0.97082                  31.47                 -27.49   \n",
       "9                 0.98157                  29.93                 -23.24   \n",
       "\n",
       "   Pupil position left Z  Pupil position right X  Pupil position right Y  \\\n",
       "0                 -30.35                  -30.71                  -24.96   \n",
       "1                 -30.53                  -30.37                  -24.79   \n",
       "2                 -26.27                  -32.69                  -21.60   \n",
       "3                 -30.51                  -30.36                  -24.96   \n",
       "4                 -30.51                  -30.66                  -25.17   \n",
       "5                 -26.25                  -32.83                  -21.43   \n",
       "6                 -30.82                  -30.32                  -25.04   \n",
       "7                 -26.23                  -31.73                  -22.32   \n",
       "8                 -30.26                  -29.76                  -25.31   \n",
       "9                 -26.43                  -31.51                  -22.40   \n",
       "\n",
       "   Pupil position right Z  Pupil diameter left  Pupil diameter right  Disease  \n",
       "0                  -29.20                2.748                 2.582        1  \n",
       "1                  -29.54                2.963                 2.803        1  \n",
       "2                  -24.51                2.735                 2.561        0  \n",
       "3                  -29.43                2.930                 2.765        1  \n",
       "4                  -29.32                2.715                 2.616        1  \n",
       "5                  -24.78                2.861                 2.723        0  \n",
       "6                  -29.22                2.920                 2.811        1  \n",
       "7                  -25.74                2.850                 2.750        0  \n",
       "8                  -29.42                2.810                 2.708        1  \n",
       "9                  -26.08                2.826                 2.833        0  "
      ]
     },
     "execution_count": 23,
     "metadata": {},
     "output_type": "execute_result"
    }
   ],
   "source": [
    "df.head(10)"
   ]
  },
  {
   "cell_type": "code",
   "execution_count": 24,
   "id": "fc444afa",
   "metadata": {},
   "outputs": [],
   "source": [
    "df['Disease'] = df['Disease'].astype(int)"
   ]
  },
  {
   "cell_type": "code",
   "execution_count": 25,
   "id": "de7fb27e",
   "metadata": {},
   "outputs": [],
   "source": [
    "X = df.iloc[:,:-1]\n",
    "y = df['Disease']"
   ]
  },
  {
   "cell_type": "code",
   "execution_count": 26,
   "id": "e924e0f1",
   "metadata": {},
   "outputs": [
    {
     "data": {
      "text/html": [
       "<div>\n",
       "<style scoped>\n",
       "    .dataframe tbody tr th:only-of-type {\n",
       "        vertical-align: middle;\n",
       "    }\n",
       "\n",
       "    .dataframe tbody tr th {\n",
       "        vertical-align: top;\n",
       "    }\n",
       "\n",
       "    .dataframe thead th {\n",
       "        text-align: right;\n",
       "    }\n",
       "</style>\n",
       "<table border=\"1\" class=\"dataframe\">\n",
       "  <thead>\n",
       "    <tr style=\"text-align: right;\">\n",
       "      <th></th>\n",
       "      <th>Gaze point X</th>\n",
       "      <th>Gaze point Y</th>\n",
       "      <th>Gaze point 3D X</th>\n",
       "      <th>Gaze point 3D Y</th>\n",
       "      <th>Gaze point 3D Z</th>\n",
       "      <th>Gaze direction left X</th>\n",
       "      <th>Gaze direction left Y</th>\n",
       "      <th>Gaze direction left Z</th>\n",
       "      <th>Gaze direction right X</th>\n",
       "      <th>Gaze direction right Y</th>\n",
       "      <th>Gaze direction right Z</th>\n",
       "      <th>Pupil position left X</th>\n",
       "      <th>Pupil position left Y</th>\n",
       "      <th>Pupil position left Z</th>\n",
       "      <th>Pupil position right X</th>\n",
       "      <th>Pupil position right Y</th>\n",
       "      <th>Pupil position right Z</th>\n",
       "      <th>Pupil diameter left</th>\n",
       "      <th>Pupil diameter right</th>\n",
       "    </tr>\n",
       "  </thead>\n",
       "  <tbody>\n",
       "    <tr>\n",
       "      <th>0</th>\n",
       "      <td>983</td>\n",
       "      <td>244</td>\n",
       "      <td>-25.9753</td>\n",
       "      <td>167.5750</td>\n",
       "      <td>699.9296</td>\n",
       "      <td>-0.07430</td>\n",
       "      <td>0.26068</td>\n",
       "      <td>0.96256</td>\n",
       "      <td>0.00584</td>\n",
       "      <td>0.25169</td>\n",
       "      <td>0.96779</td>\n",
       "      <td>30.71</td>\n",
       "      <td>-27.26</td>\n",
       "      <td>-30.35</td>\n",
       "      <td>-30.71</td>\n",
       "      <td>-24.96</td>\n",
       "      <td>-29.20</td>\n",
       "      <td>2.748</td>\n",
       "      <td>2.582</td>\n",
       "    </tr>\n",
       "    <tr>\n",
       "      <th>1</th>\n",
       "      <td>924</td>\n",
       "      <td>281</td>\n",
       "      <td>11.6281</td>\n",
       "      <td>168.3241</td>\n",
       "      <td>812.1525</td>\n",
       "      <td>-0.02021</td>\n",
       "      <td>0.21880</td>\n",
       "      <td>0.97556</td>\n",
       "      <td>0.04822</td>\n",
       "      <td>0.22776</td>\n",
       "      <td>0.97252</td>\n",
       "      <td>30.83</td>\n",
       "      <td>-27.26</td>\n",
       "      <td>-30.53</td>\n",
       "      <td>-30.37</td>\n",
       "      <td>-24.79</td>\n",
       "      <td>-29.54</td>\n",
       "      <td>2.963</td>\n",
       "      <td>2.803</td>\n",
       "    </tr>\n",
       "    <tr>\n",
       "      <th>2</th>\n",
       "      <td>993</td>\n",
       "      <td>270</td>\n",
       "      <td>-24.4649</td>\n",
       "      <td>115.0126</td>\n",
       "      <td>530.3381</td>\n",
       "      <td>-0.09359</td>\n",
       "      <td>0.23981</td>\n",
       "      <td>0.96630</td>\n",
       "      <td>0.22636</td>\n",
       "      <td>0.03372</td>\n",
       "      <td>0.97346</td>\n",
       "      <td>29.36</td>\n",
       "      <td>-23.10</td>\n",
       "      <td>-26.27</td>\n",
       "      <td>-32.69</td>\n",
       "      <td>-21.60</td>\n",
       "      <td>-24.51</td>\n",
       "      <td>2.735</td>\n",
       "      <td>2.561</td>\n",
       "    </tr>\n",
       "    <tr>\n",
       "      <th>3</th>\n",
       "      <td>912</td>\n",
       "      <td>329</td>\n",
       "      <td>19.2398</td>\n",
       "      <td>130.7504</td>\n",
       "      <td>787.8632</td>\n",
       "      <td>-0.01340</td>\n",
       "      <td>0.19392</td>\n",
       "      <td>0.98093</td>\n",
       "      <td>0.05889</td>\n",
       "      <td>0.18260</td>\n",
       "      <td>0.98142</td>\n",
       "      <td>30.96</td>\n",
       "      <td>-27.34</td>\n",
       "      <td>-30.51</td>\n",
       "      <td>-30.36</td>\n",
       "      <td>-24.96</td>\n",
       "      <td>-29.43</td>\n",
       "      <td>2.930</td>\n",
       "      <td>2.765</td>\n",
       "    </tr>\n",
       "    <tr>\n",
       "      <th>4</th>\n",
       "      <td>955</td>\n",
       "      <td>307</td>\n",
       "      <td>-9.4529</td>\n",
       "      <td>137.6828</td>\n",
       "      <td>745.8734</td>\n",
       "      <td>-0.05015</td>\n",
       "      <td>0.20248</td>\n",
       "      <td>0.97800</td>\n",
       "      <td>0.02616</td>\n",
       "      <td>0.21052</td>\n",
       "      <td>0.97724</td>\n",
       "      <td>30.83</td>\n",
       "      <td>-27.21</td>\n",
       "      <td>-30.51</td>\n",
       "      <td>-30.66</td>\n",
       "      <td>-25.17</td>\n",
       "      <td>-29.32</td>\n",
       "      <td>2.715</td>\n",
       "      <td>2.616</td>\n",
       "    </tr>\n",
       "  </tbody>\n",
       "</table>\n",
       "</div>"
      ],
      "text/plain": [
       "   Gaze point X  Gaze point Y  Gaze point 3D X  Gaze point 3D Y  \\\n",
       "0           983           244         -25.9753         167.5750   \n",
       "1           924           281          11.6281         168.3241   \n",
       "2           993           270         -24.4649         115.0126   \n",
       "3           912           329          19.2398         130.7504   \n",
       "4           955           307          -9.4529         137.6828   \n",
       "\n",
       "   Gaze point 3D Z  Gaze direction left X  Gaze direction left Y  \\\n",
       "0         699.9296               -0.07430                0.26068   \n",
       "1         812.1525               -0.02021                0.21880   \n",
       "2         530.3381               -0.09359                0.23981   \n",
       "3         787.8632               -0.01340                0.19392   \n",
       "4         745.8734               -0.05015                0.20248   \n",
       "\n",
       "   Gaze direction left Z  Gaze direction right X  Gaze direction right Y  \\\n",
       "0                0.96256                 0.00584                 0.25169   \n",
       "1                0.97556                 0.04822                 0.22776   \n",
       "2                0.96630                 0.22636                 0.03372   \n",
       "3                0.98093                 0.05889                 0.18260   \n",
       "4                0.97800                 0.02616                 0.21052   \n",
       "\n",
       "   Gaze direction right Z  Pupil position left X  Pupil position left Y  \\\n",
       "0                 0.96779                  30.71                 -27.26   \n",
       "1                 0.97252                  30.83                 -27.26   \n",
       "2                 0.97346                  29.36                 -23.10   \n",
       "3                 0.98142                  30.96                 -27.34   \n",
       "4                 0.97724                  30.83                 -27.21   \n",
       "\n",
       "   Pupil position left Z  Pupil position right X  Pupil position right Y  \\\n",
       "0                 -30.35                  -30.71                  -24.96   \n",
       "1                 -30.53                  -30.37                  -24.79   \n",
       "2                 -26.27                  -32.69                  -21.60   \n",
       "3                 -30.51                  -30.36                  -24.96   \n",
       "4                 -30.51                  -30.66                  -25.17   \n",
       "\n",
       "   Pupil position right Z  Pupil diameter left  Pupil diameter right  \n",
       "0                  -29.20                2.748                 2.582  \n",
       "1                  -29.54                2.963                 2.803  \n",
       "2                  -24.51                2.735                 2.561  \n",
       "3                  -29.43                2.930                 2.765  \n",
       "4                  -29.32                2.715                 2.616  "
      ]
     },
     "execution_count": 26,
     "metadata": {},
     "output_type": "execute_result"
    }
   ],
   "source": [
    "X.head()"
   ]
  },
  {
   "cell_type": "code",
   "execution_count": 27,
   "id": "3cd8d027",
   "metadata": {},
   "outputs": [
    {
     "data": {
      "text/plain": [
       "0        1\n",
       "1        1\n",
       "2        0\n",
       "3        1\n",
       "4        1\n",
       "        ..\n",
       "59545    0\n",
       "59546    0\n",
       "59547    1\n",
       "59548    1\n",
       "59549    1\n",
       "Name: Disease, Length: 59550, dtype: int32"
      ]
     },
     "execution_count": 27,
     "metadata": {},
     "output_type": "execute_result"
    }
   ],
   "source": [
    "y"
   ]
  },
  {
   "cell_type": "code",
   "execution_count": 28,
   "id": "a3ac981c",
   "metadata": {},
   "outputs": [],
   "source": [
    "from sklearn.model_selection import train_test_split"
   ]
  },
  {
   "cell_type": "code",
   "execution_count": 29,
   "id": "a7ad8b25",
   "metadata": {},
   "outputs": [],
   "source": [
    "X_train,X_test,y_train,y_test = train_test_split(X,y,train_size=0.75)"
   ]
  },
  {
   "cell_type": "code",
   "execution_count": 30,
   "id": "9dc6c7ce",
   "metadata": {},
   "outputs": [
    {
     "data": {
      "text/plain": [
       "(44662, 19)"
      ]
     },
     "execution_count": 30,
     "metadata": {},
     "output_type": "execute_result"
    }
   ],
   "source": [
    "X_train.shape"
   ]
  },
  {
   "cell_type": "code",
   "execution_count": 31,
   "id": "6f643dd0",
   "metadata": {},
   "outputs": [
    {
     "data": {
      "text/plain": [
       "(14888, 19)"
      ]
     },
     "execution_count": 31,
     "metadata": {},
     "output_type": "execute_result"
    }
   ],
   "source": [
    "X_test.shape"
   ]
  },
  {
   "cell_type": "markdown",
   "id": "62c2b70c",
   "metadata": {},
   "source": [
    "# Support Vector Machine (SVM)"
   ]
  },
  {
   "cell_type": "code",
   "execution_count": 32,
   "id": "461a7c19",
   "metadata": {},
   "outputs": [],
   "source": [
    "from sklearn.svm import SVC"
   ]
  },
  {
   "cell_type": "code",
   "execution_count": 33,
   "id": "dcb71d03",
   "metadata": {},
   "outputs": [],
   "source": [
    "svc = SVC()"
   ]
  },
  {
   "cell_type": "code",
   "execution_count": 34,
   "id": "22e6d409",
   "metadata": {},
   "outputs": [
    {
     "data": {
      "text/html": [
       "<style>#sk-container-id-1 {color: black;}#sk-container-id-1 pre{padding: 0;}#sk-container-id-1 div.sk-toggleable {background-color: white;}#sk-container-id-1 label.sk-toggleable__label {cursor: pointer;display: block;width: 100%;margin-bottom: 0;padding: 0.3em;box-sizing: border-box;text-align: center;}#sk-container-id-1 label.sk-toggleable__label-arrow:before {content: \"▸\";float: left;margin-right: 0.25em;color: #696969;}#sk-container-id-1 label.sk-toggleable__label-arrow:hover:before {color: black;}#sk-container-id-1 div.sk-estimator:hover label.sk-toggleable__label-arrow:before {color: black;}#sk-container-id-1 div.sk-toggleable__content {max-height: 0;max-width: 0;overflow: hidden;text-align: left;background-color: #f0f8ff;}#sk-container-id-1 div.sk-toggleable__content pre {margin: 0.2em;color: black;border-radius: 0.25em;background-color: #f0f8ff;}#sk-container-id-1 input.sk-toggleable__control:checked~div.sk-toggleable__content {max-height: 200px;max-width: 100%;overflow: auto;}#sk-container-id-1 input.sk-toggleable__control:checked~label.sk-toggleable__label-arrow:before {content: \"▾\";}#sk-container-id-1 div.sk-estimator input.sk-toggleable__control:checked~label.sk-toggleable__label {background-color: #d4ebff;}#sk-container-id-1 div.sk-label input.sk-toggleable__control:checked~label.sk-toggleable__label {background-color: #d4ebff;}#sk-container-id-1 input.sk-hidden--visually {border: 0;clip: rect(1px 1px 1px 1px);clip: rect(1px, 1px, 1px, 1px);height: 1px;margin: -1px;overflow: hidden;padding: 0;position: absolute;width: 1px;}#sk-container-id-1 div.sk-estimator {font-family: monospace;background-color: #f0f8ff;border: 1px dotted black;border-radius: 0.25em;box-sizing: border-box;margin-bottom: 0.5em;}#sk-container-id-1 div.sk-estimator:hover {background-color: #d4ebff;}#sk-container-id-1 div.sk-parallel-item::after {content: \"\";width: 100%;border-bottom: 1px solid gray;flex-grow: 1;}#sk-container-id-1 div.sk-label:hover label.sk-toggleable__label {background-color: #d4ebff;}#sk-container-id-1 div.sk-serial::before {content: \"\";position: absolute;border-left: 1px solid gray;box-sizing: border-box;top: 0;bottom: 0;left: 50%;z-index: 0;}#sk-container-id-1 div.sk-serial {display: flex;flex-direction: column;align-items: center;background-color: white;padding-right: 0.2em;padding-left: 0.2em;position: relative;}#sk-container-id-1 div.sk-item {position: relative;z-index: 1;}#sk-container-id-1 div.sk-parallel {display: flex;align-items: stretch;justify-content: center;background-color: white;position: relative;}#sk-container-id-1 div.sk-item::before, #sk-container-id-1 div.sk-parallel-item::before {content: \"\";position: absolute;border-left: 1px solid gray;box-sizing: border-box;top: 0;bottom: 0;left: 50%;z-index: -1;}#sk-container-id-1 div.sk-parallel-item {display: flex;flex-direction: column;z-index: 1;position: relative;background-color: white;}#sk-container-id-1 div.sk-parallel-item:first-child::after {align-self: flex-end;width: 50%;}#sk-container-id-1 div.sk-parallel-item:last-child::after {align-self: flex-start;width: 50%;}#sk-container-id-1 div.sk-parallel-item:only-child::after {width: 0;}#sk-container-id-1 div.sk-dashed-wrapped {border: 1px dashed gray;margin: 0 0.4em 0.5em 0.4em;box-sizing: border-box;padding-bottom: 0.4em;background-color: white;}#sk-container-id-1 div.sk-label label {font-family: monospace;font-weight: bold;display: inline-block;line-height: 1.2em;}#sk-container-id-1 div.sk-label-container {text-align: center;}#sk-container-id-1 div.sk-container {/* jupyter's `normalize.less` sets `[hidden] { display: none; }` but bootstrap.min.css set `[hidden] { display: none !important; }` so we also need the `!important` here to be able to override the default hidden behavior on the sphinx rendered scikit-learn.org. See: https://github.com/scikit-learn/scikit-learn/issues/21755 */display: inline-block !important;position: relative;}#sk-container-id-1 div.sk-text-repr-fallback {display: none;}</style><div id=\"sk-container-id-1\" class=\"sk-top-container\"><div class=\"sk-text-repr-fallback\"><pre>SVC()</pre><b>In a Jupyter environment, please rerun this cell to show the HTML representation or trust the notebook. <br />On GitHub, the HTML representation is unable to render, please try loading this page with nbviewer.org.</b></div><div class=\"sk-container\" hidden><div class=\"sk-item\"><div class=\"sk-estimator sk-toggleable\"><input class=\"sk-toggleable__control sk-hidden--visually\" id=\"sk-estimator-id-1\" type=\"checkbox\" checked><label for=\"sk-estimator-id-1\" class=\"sk-toggleable__label sk-toggleable__label-arrow\">SVC</label><div class=\"sk-toggleable__content\"><pre>SVC()</pre></div></div></div></div></div>"
      ],
      "text/plain": [
       "SVC()"
      ]
     },
     "execution_count": 34,
     "metadata": {},
     "output_type": "execute_result"
    }
   ],
   "source": [
    "svc.fit(X_train,y_train)"
   ]
  },
  {
   "cell_type": "code",
   "execution_count": 35,
   "id": "a5e4199f",
   "metadata": {},
   "outputs": [],
   "source": [
    "pred = svc.predict(X_test)"
   ]
  },
  {
   "cell_type": "code",
   "execution_count": 36,
   "id": "bd7a1733",
   "metadata": {},
   "outputs": [
    {
     "data": {
      "text/plain": [
       "array([1, 0, 1, ..., 0, 1, 1])"
      ]
     },
     "execution_count": 36,
     "metadata": {},
     "output_type": "execute_result"
    }
   ],
   "source": [
    "pred"
   ]
  },
  {
   "cell_type": "code",
   "execution_count": 37,
   "id": "b6a144b6",
   "metadata": {},
   "outputs": [],
   "source": [
    "from sklearn.metrics import accuracy_score,recall_score,confusion_matrix,ConfusionMatrixDisplay"
   ]
  },
  {
   "cell_type": "code",
   "execution_count": 38,
   "id": "8a2ff71a",
   "metadata": {},
   "outputs": [],
   "source": [
    "accuracy = accuracy_score(pred,y_test)"
   ]
  },
  {
   "cell_type": "code",
   "execution_count": 39,
   "id": "642b81a9",
   "metadata": {},
   "outputs": [
    {
     "data": {
      "text/plain": [
       "95.076571735626"
      ]
     },
     "execution_count": 39,
     "metadata": {},
     "output_type": "execute_result"
    }
   ],
   "source": [
    "accuracy*100"
   ]
  },
  {
   "cell_type": "code",
   "execution_count": 40,
   "id": "4058a0f6",
   "metadata": {},
   "outputs": [
    {
     "name": "stdout",
     "output_type": "stream",
     "text": [
      "0.9323627930945633\n"
     ]
    }
   ],
   "source": [
    "svc_recall = recall_score(y_test,pred)\n",
    "print(svc_recall)"
   ]
  },
  {
   "cell_type": "code",
   "execution_count": 41,
   "id": "0370388b",
   "metadata": {},
   "outputs": [
    {
     "data": {
      "text/plain": [
       "93.23627930945632"
      ]
     },
     "execution_count": 41,
     "metadata": {},
     "output_type": "execute_result"
    }
   ],
   "source": [
    "svc_recall*100"
   ]
  },
  {
   "cell_type": "code",
   "execution_count": 42,
   "id": "8e063260",
   "metadata": {},
   "outputs": [],
   "source": [
    "cm =confusion_matrix(y_test,pred)"
   ]
  },
  {
   "cell_type": "code",
   "execution_count": 43,
   "id": "a9b62ec7",
   "metadata": {},
   "outputs": [
    {
     "data": {
      "text/plain": [
       "array([[6918,  208],\n",
       "       [ 525, 7237]], dtype=int64)"
      ]
     },
     "execution_count": 43,
     "metadata": {},
     "output_type": "execute_result"
    }
   ],
   "source": [
    "cm"
   ]
  },
  {
   "cell_type": "code",
   "execution_count": 44,
   "id": "7e2b9964",
   "metadata": {},
   "outputs": [
    {
     "data": {
      "text/plain": [
       "array([0, 1])"
      ]
     },
     "execution_count": 44,
     "metadata": {},
     "output_type": "execute_result"
    }
   ],
   "source": [
    "svc.classes_"
   ]
  },
  {
   "cell_type": "code",
   "execution_count": 45,
   "id": "db0534e2",
   "metadata": {},
   "outputs": [],
   "source": [
    "disp = ConfusionMatrixDisplay(confusion_matrix=cm,\n",
    "                              display_labels=svc.classes_)"
   ]
  },
  {
   "cell_type": "code",
   "execution_count": 46,
   "id": "cc3ff7da",
   "metadata": {
    "scrolled": true
   },
   "outputs": [
    {
     "data": {
      "text/plain": [
       "<sklearn.metrics._plot.confusion_matrix.ConfusionMatrixDisplay at 0x2a3bc20fbd0>"
      ]
     },
     "execution_count": 46,
     "metadata": {},
     "output_type": "execute_result"
    },
    {
     "data": {
      "image/png": "[encoded data removed]",
      "text/plain": [
       "<Figure size 640x480 with 2 Axes>"
      ]
     },
     "metadata": {},
     "output_type": "display_data"
    }
   ],
   "source": [
    "disp.plot()"
   ]
  },
  {
   "cell_type": "markdown",
   "id": "4eea8306",
   "metadata": {},
   "source": [
    "# Precision Recall  Curve"
   ]
  },
  {
   "cell_type": "markdown",
   "id": "7ada547f",
   "metadata": {},
   "source": [
    "## The PR-curve requires precision-recall to be calculated, and for that we need probabilities of the predictions."
   ]
  },
  {
   "cell_type": "code",
   "execution_count": 47,
   "id": "ff37b1bf",
   "metadata": {},
   "outputs": [],
   "source": [
    "svc = SVC(probability=True)\n",
    "svc.fit(X_train,y_train)\n",
    "\n",
    "svc_preds = svc.predict(X_test) # Predictions\n",
    "svc_prob = svc.predict_proba(X_test)[:,1] \n",
    "\n",
    "# THIS WILL BE USED FOR PR-CURVE"
   ]
  },
  {
   "cell_type": "code",
   "execution_count": 48,
   "id": "9f2a04db",
   "metadata": {},
   "outputs": [
    {
     "data": {
      "text/plain": [
       "array([0.99346973, 0.04574774, 0.83316927, ..., 0.0552252 , 0.98675926,\n",
       "       0.61604573])"
      ]
     },
     "execution_count": 48,
     "metadata": {},
     "output_type": "execute_result"
    }
   ],
   "source": [
    "svc_prob"
   ]
  },
  {
   "cell_type": "code",
   "execution_count": 49,
   "id": "36609cf0",
   "metadata": {
    "scrolled": true
   },
   "outputs": [
    {
     "name": "stdout",
     "output_type": "stream",
     "text": [
      "Accuracy : 95.08%\n"
     ]
    }
   ],
   "source": [
    "accuracy = accuracy_score(y_test,svc_preds)\n",
    "print(f'Accuracy : {round(accuracy*100,2)}%')"
   ]
  },
  {
   "cell_type": "code",
   "execution_count": 50,
   "id": "e5ce9f05",
   "metadata": {},
   "outputs": [],
   "source": [
    "from sklearn.metrics import accuracy_score,precision_recall_curve,auc"
   ]
  },
  {
   "cell_type": "code",
   "execution_count": 51,
   "id": "ad21524a",
   "metadata": {
    "scrolled": true
   },
   "outputs": [],
   "source": [
    "precision_1,recall_1,threshold_1 = precision_recall_curve(y_test,svc_prob)"
   ]
  },
  {
   "cell_type": "markdown",
   "id": "d8ceaaba",
   "metadata": {},
   "source": [
    "## This is Area Under Curve (AUC) which measures the performance of the model. \n",
    "# Higher AUC means better model.\n",
    "# range of AUC is 0 to 1\n"
   ]
  },
  {
   "cell_type": "code",
   "execution_count": 52,
   "id": "c7d690a7",
   "metadata": {},
   "outputs": [
    {
     "name": "stdout",
     "output_type": "stream",
     "text": [
      "0.9865364977828424\n"
     ]
    }
   ],
   "source": [
    "auc_1= auc(recall_1,precision_1)\n",
    "print(auc_1)"
   ]
  },
  {
   "cell_type": "code",
   "execution_count": 53,
   "id": "518f8b87",
   "metadata": {},
   "outputs": [
    {
     "data": {
      "text/plain": [
       "<matplotlib.legend.Legend at 0x2a3b3b91890>"
      ]
     },
     "execution_count": 53,
     "metadata": {},
     "output_type": "execute_result"
    },
    {
     "data": {
      "image/png": "[encoded data removed]",
      "text/plain": [
       "<Figure size 640x480 with 1 Axes>"
      ]
     },
     "metadata": {},
     "output_type": "display_data"
    }
   ],
   "source": [
    "plt.title('PR-curve: SVC')\n",
    "\n",
    "plt.plot(recall_1,precision_1,label=f'AUC: {round(auc_1,2)}')\n",
    "\n",
    "plt.fill_between(recall_1,precision_1,alpha=0.2)\n",
    "\n",
    "plt.xlabel('Recall')\n",
    "plt.ylabel('Precision')\n",
    "plt.legend()"
   ]
  },
  {
   "cell_type": "code",
   "execution_count": 54,
   "id": "2bd8e0b8",
   "metadata": {},
   "outputs": [
    {
     "data": {
      "text/html": [
       "<div>\n",
       "<style scoped>\n",
       "    .dataframe tbody tr th:only-of-type {\n",
       "        vertical-align: middle;\n",
       "    }\n",
       "\n",
       "    .dataframe tbody tr th {\n",
       "        vertical-align: top;\n",
       "    }\n",
       "\n",
       "    .dataframe thead th {\n",
       "        text-align: right;\n",
       "    }\n",
       "</style>\n",
       "<table border=\"1\" class=\"dataframe\">\n",
       "  <thead>\n",
       "    <tr style=\"text-align: right;\">\n",
       "      <th></th>\n",
       "      <th>Gaze point X</th>\n",
       "      <th>Gaze point Y</th>\n",
       "      <th>Gaze point 3D X</th>\n",
       "      <th>Gaze point 3D Y</th>\n",
       "      <th>Gaze point 3D Z</th>\n",
       "      <th>Gaze direction left X</th>\n",
       "      <th>Gaze direction left Y</th>\n",
       "      <th>Gaze direction left Z</th>\n",
       "      <th>Gaze direction right X</th>\n",
       "      <th>Gaze direction right Y</th>\n",
       "      <th>Gaze direction right Z</th>\n",
       "      <th>Pupil position left X</th>\n",
       "      <th>Pupil position left Y</th>\n",
       "      <th>Pupil position left Z</th>\n",
       "      <th>Pupil position right X</th>\n",
       "      <th>Pupil position right Y</th>\n",
       "      <th>Pupil position right Z</th>\n",
       "      <th>Pupil diameter left</th>\n",
       "      <th>Pupil diameter right</th>\n",
       "      <th>Disease</th>\n",
       "    </tr>\n",
       "  </thead>\n",
       "  <tbody>\n",
       "    <tr>\n",
       "      <th>0</th>\n",
       "      <td>983</td>\n",
       "      <td>244</td>\n",
       "      <td>-25.9753</td>\n",
       "      <td>167.5750</td>\n",
       "      <td>699.9296</td>\n",
       "      <td>-0.07430</td>\n",
       "      <td>0.26068</td>\n",
       "      <td>0.96256</td>\n",
       "      <td>0.00584</td>\n",
       "      <td>0.25169</td>\n",
       "      <td>0.96779</td>\n",
       "      <td>30.71</td>\n",
       "      <td>-27.26</td>\n",
       "      <td>-30.35</td>\n",
       "      <td>-30.71</td>\n",
       "      <td>-24.96</td>\n",
       "      <td>-29.20</td>\n",
       "      <td>2.748</td>\n",
       "      <td>2.582</td>\n",
       "      <td>1</td>\n",
       "    </tr>\n",
       "    <tr>\n",
       "      <th>1</th>\n",
       "      <td>924</td>\n",
       "      <td>281</td>\n",
       "      <td>11.6281</td>\n",
       "      <td>168.3241</td>\n",
       "      <td>812.1525</td>\n",
       "      <td>-0.02021</td>\n",
       "      <td>0.21880</td>\n",
       "      <td>0.97556</td>\n",
       "      <td>0.04822</td>\n",
       "      <td>0.22776</td>\n",
       "      <td>0.97252</td>\n",
       "      <td>30.83</td>\n",
       "      <td>-27.26</td>\n",
       "      <td>-30.53</td>\n",
       "      <td>-30.37</td>\n",
       "      <td>-24.79</td>\n",
       "      <td>-29.54</td>\n",
       "      <td>2.963</td>\n",
       "      <td>2.803</td>\n",
       "      <td>1</td>\n",
       "    </tr>\n",
       "    <tr>\n",
       "      <th>3</th>\n",
       "      <td>912</td>\n",
       "      <td>329</td>\n",
       "      <td>19.2398</td>\n",
       "      <td>130.7504</td>\n",
       "      <td>787.8632</td>\n",
       "      <td>-0.01340</td>\n",
       "      <td>0.19392</td>\n",
       "      <td>0.98093</td>\n",
       "      <td>0.05889</td>\n",
       "      <td>0.18260</td>\n",
       "      <td>0.98142</td>\n",
       "      <td>30.96</td>\n",
       "      <td>-27.34</td>\n",
       "      <td>-30.51</td>\n",
       "      <td>-30.36</td>\n",
       "      <td>-24.96</td>\n",
       "      <td>-29.43</td>\n",
       "      <td>2.930</td>\n",
       "      <td>2.765</td>\n",
       "      <td>1</td>\n",
       "    </tr>\n",
       "    <tr>\n",
       "      <th>4</th>\n",
       "      <td>955</td>\n",
       "      <td>307</td>\n",
       "      <td>-9.4529</td>\n",
       "      <td>137.6828</td>\n",
       "      <td>745.8734</td>\n",
       "      <td>-0.05015</td>\n",
       "      <td>0.20248</td>\n",
       "      <td>0.97800</td>\n",
       "      <td>0.02616</td>\n",
       "      <td>0.21052</td>\n",
       "      <td>0.97724</td>\n",
       "      <td>30.83</td>\n",
       "      <td>-27.21</td>\n",
       "      <td>-30.51</td>\n",
       "      <td>-30.66</td>\n",
       "      <td>-25.17</td>\n",
       "      <td>-29.32</td>\n",
       "      <td>2.715</td>\n",
       "      <td>2.616</td>\n",
       "      <td>1</td>\n",
       "    </tr>\n",
       "    <tr>\n",
       "      <th>6</th>\n",
       "      <td>821</td>\n",
       "      <td>515</td>\n",
       "      <td>21.7828</td>\n",
       "      <td>0.7639</td>\n",
       "      <td>209.3884</td>\n",
       "      <td>0.07414</td>\n",
       "      <td>0.06906</td>\n",
       "      <td>0.99485</td>\n",
       "      <td>0.10141</td>\n",
       "      <td>0.15306</td>\n",
       "      <td>0.98300</td>\n",
       "      <td>31.42</td>\n",
       "      <td>-27.22</td>\n",
       "      <td>-30.82</td>\n",
       "      <td>-30.32</td>\n",
       "      <td>-25.04</td>\n",
       "      <td>-29.22</td>\n",
       "      <td>2.920</td>\n",
       "      <td>2.811</td>\n",
       "      <td>1</td>\n",
       "    </tr>\n",
       "    <tr>\n",
       "      <th>...</th>\n",
       "      <td>...</td>\n",
       "      <td>...</td>\n",
       "      <td>...</td>\n",
       "      <td>...</td>\n",
       "      <td>...</td>\n",
       "      <td>...</td>\n",
       "      <td>...</td>\n",
       "      <td>...</td>\n",
       "      <td>...</td>\n",
       "      <td>...</td>\n",
       "      <td>...</td>\n",
       "      <td>...</td>\n",
       "      <td>...</td>\n",
       "      <td>...</td>\n",
       "      <td>...</td>\n",
       "      <td>...</td>\n",
       "      <td>...</td>\n",
       "      <td>...</td>\n",
       "      <td>...</td>\n",
       "      <td>...</td>\n",
       "    </tr>\n",
       "    <tr>\n",
       "      <th>59541</th>\n",
       "      <td>809</td>\n",
       "      <td>405</td>\n",
       "      <td>102.9705</td>\n",
       "      <td>90.0690</td>\n",
       "      <td>900.0962</td>\n",
       "      <td>0.07762</td>\n",
       "      <td>0.11735</td>\n",
       "      <td>0.99005</td>\n",
       "      <td>0.13924</td>\n",
       "      <td>0.12952</td>\n",
       "      <td>0.98175</td>\n",
       "      <td>31.44</td>\n",
       "      <td>-27.48</td>\n",
       "      <td>-30.73</td>\n",
       "      <td>-30.13</td>\n",
       "      <td>-25.28</td>\n",
       "      <td>-28.93</td>\n",
       "      <td>2.705</td>\n",
       "      <td>2.531</td>\n",
       "      <td>1</td>\n",
       "    </tr>\n",
       "    <tr>\n",
       "      <th>59543</th>\n",
       "      <td>777</td>\n",
       "      <td>298</td>\n",
       "      <td>121.3731</td>\n",
       "      <td>164.4307</td>\n",
       "      <td>853.6453</td>\n",
       "      <td>0.09940</td>\n",
       "      <td>0.20623</td>\n",
       "      <td>0.97344</td>\n",
       "      <td>0.16465</td>\n",
       "      <td>0.21179</td>\n",
       "      <td>0.96335</td>\n",
       "      <td>31.49</td>\n",
       "      <td>-27.28</td>\n",
       "      <td>-30.52</td>\n",
       "      <td>-29.90</td>\n",
       "      <td>-25.26</td>\n",
       "      <td>-29.20</td>\n",
       "      <td>2.805</td>\n",
       "      <td>2.639</td>\n",
       "      <td>1</td>\n",
       "    </tr>\n",
       "    <tr>\n",
       "      <th>59547</th>\n",
       "      <td>945</td>\n",
       "      <td>317</td>\n",
       "      <td>-5.7602</td>\n",
       "      <td>236.7733</td>\n",
       "      <td>1344.8907</td>\n",
       "      <td>-0.01985</td>\n",
       "      <td>0.19771</td>\n",
       "      <td>0.98006</td>\n",
       "      <td>0.01142</td>\n",
       "      <td>0.17737</td>\n",
       "      <td>0.98408</td>\n",
       "      <td>30.95</td>\n",
       "      <td>-27.09</td>\n",
       "      <td>-30.81</td>\n",
       "      <td>-30.60</td>\n",
       "      <td>-24.62</td>\n",
       "      <td>-29.71</td>\n",
       "      <td>3.427</td>\n",
       "      <td>3.192</td>\n",
       "      <td>1</td>\n",
       "    </tr>\n",
       "    <tr>\n",
       "      <th>59548</th>\n",
       "      <td>749</td>\n",
       "      <td>407</td>\n",
       "      <td>128.2646</td>\n",
       "      <td>75.1381</td>\n",
       "      <td>767.0743</td>\n",
       "      <td>0.13057</td>\n",
       "      <td>0.10767</td>\n",
       "      <td>0.98557</td>\n",
       "      <td>0.18323</td>\n",
       "      <td>0.14027</td>\n",
       "      <td>0.97301</td>\n",
       "      <td>31.48</td>\n",
       "      <td>-27.59</td>\n",
       "      <td>-30.31</td>\n",
       "      <td>-29.78</td>\n",
       "      <td>-25.51</td>\n",
       "      <td>-29.05</td>\n",
       "      <td>2.830</td>\n",
       "      <td>2.665</td>\n",
       "      <td>1</td>\n",
       "    </tr>\n",
       "    <tr>\n",
       "      <th>59549</th>\n",
       "      <td>847</td>\n",
       "      <td>372</td>\n",
       "      <td>61.2578</td>\n",
       "      <td>97.1068</td>\n",
       "      <td>758.1384</td>\n",
       "      <td>0.04074</td>\n",
       "      <td>0.14480</td>\n",
       "      <td>0.98862</td>\n",
       "      <td>0.11075</td>\n",
       "      <td>0.16380</td>\n",
       "      <td>0.98026</td>\n",
       "      <td>31.26</td>\n",
       "      <td>-27.46</td>\n",
       "      <td>-30.46</td>\n",
       "      <td>-30.16</td>\n",
       "      <td>-25.40</td>\n",
       "      <td>-29.21</td>\n",
       "      <td>2.759</td>\n",
       "      <td>2.615</td>\n",
       "      <td>1</td>\n",
       "    </tr>\n",
       "  </tbody>\n",
       "</table>\n",
       "<p>30926 rows × 20 columns</p>\n",
       "</div>"
      ],
      "text/plain": [
       "       Gaze point X  Gaze point Y  Gaze point 3D X  Gaze point 3D Y  \\\n",
       "0               983           244         -25.9753         167.5750   \n",
       "1               924           281          11.6281         168.3241   \n",
       "3               912           329          19.2398         130.7504   \n",
       "4               955           307          -9.4529         137.6828   \n",
       "6               821           515          21.7828           0.7639   \n",
       "...             ...           ...              ...              ...   \n",
       "59541           809           405         102.9705          90.0690   \n",
       "59543           777           298         121.3731         164.4307   \n",
       "59547           945           317          -5.7602         236.7733   \n",
       "59548           749           407         128.2646          75.1381   \n",
       "59549           847           372          61.2578          97.1068   \n",
       "\n",
       "       Gaze point 3D Z  Gaze direction left X  Gaze direction left Y  \\\n",
       "0             699.9296               -0.07430                0.26068   \n",
       "1             812.1525               -0.02021                0.21880   \n",
       "3             787.8632               -0.01340                0.19392   \n",
       "4             745.8734               -0.05015                0.20248   \n",
       "6             209.3884                0.07414                0.06906   \n",
       "...                ...                    ...                    ...   \n",
       "59541         900.0962                0.07762                0.11735   \n",
       "59543         853.6453                0.09940                0.20623   \n",
       "59547        1344.8907               -0.01985                0.19771   \n",
       "59548         767.0743                0.13057                0.10767   \n",
       "59549         758.1384                0.04074                0.14480   \n",
       "\n",
       "       Gaze direction left Z  Gaze direction right X  Gaze direction right Y  \\\n",
       "0                    0.96256                 0.00584                 0.25169   \n",
       "1                    0.97556                 0.04822                 0.22776   \n",
       "3                    0.98093                 0.05889                 0.18260   \n",
       "4                    0.97800                 0.02616                 0.21052   \n",
       "6                    0.99485                 0.10141                 0.15306   \n",
       "...                      ...                     ...                     ...   \n",
       "59541                0.99005                 0.13924                 0.12952   \n",
       "59543                0.97344                 0.16465                 0.21179   \n",
       "59547                0.98006                 0.01142                 0.17737   \n",
       "59548                0.98557                 0.18323                 0.14027   \n",
       "59549                0.98862                 0.11075                 0.16380   \n",
       "\n",
       "       Gaze direction right Z  Pupil position left X  Pupil position left Y  \\\n",
       "0                     0.96779                  30.71                 -27.26   \n",
       "1                     0.97252                  30.83                 -27.26   \n",
       "3                     0.98142                  30.96                 -27.34   \n",
       "4                     0.97724                  30.83                 -27.21   \n",
       "6                     0.98300                  31.42                 -27.22   \n",
       "...                       ...                    ...                    ...   \n",
       "59541                 0.98175                  31.44                 -27.48   \n",
       "59543                 0.96335                  31.49                 -27.28   \n",
       "59547                 0.98408                  30.95                 -27.09   \n",
       "59548                 0.97301                  31.48                 -27.59   \n",
       "59549                 0.98026                  31.26                 -27.46   \n",
       "\n",
       "       Pupil position left Z  Pupil position right X  Pupil position right Y  \\\n",
       "0                     -30.35                  -30.71                  -24.96   \n",
       "1                     -30.53                  -30.37                  -24.79   \n",
       "3                     -30.51                  -30.36                  -24.96   \n",
       "4                     -30.51                  -30.66                  -25.17   \n",
       "6                     -30.82                  -30.32                  -25.04   \n",
       "...                      ...                     ...                     ...   \n",
       "59541                 -30.73                  -30.13                  -25.28   \n",
       "59543                 -30.52                  -29.90                  -25.26   \n",
       "59547                 -30.81                  -30.60                  -24.62   \n",
       "59548                 -30.31                  -29.78                  -25.51   \n",
       "59549                 -30.46                  -30.16                  -25.40   \n",
       "\n",
       "       Pupil position right Z  Pupil diameter left  Pupil diameter right  \\\n",
       "0                      -29.20                2.748                 2.582   \n",
       "1                      -29.54                2.963                 2.803   \n",
       "3                      -29.43                2.930                 2.765   \n",
       "4                      -29.32                2.715                 2.616   \n",
       "6                      -29.22                2.920                 2.811   \n",
       "...                       ...                  ...                   ...   \n",
       "59541                  -28.93                2.705                 2.531   \n",
       "59543                  -29.20                2.805                 2.639   \n",
       "59547                  -29.71                3.427                 3.192   \n",
       "59548                  -29.05                2.830                 2.665   \n",
       "59549                  -29.21                2.759                 2.615   \n",
       "\n",
       "       Disease  \n",
       "0            1  \n",
       "1            1  \n",
       "3            1  \n",
       "4            1  \n",
       "6            1  \n",
       "...        ...  \n",
       "59541        1  \n",
       "59543        1  \n",
       "59547        1  \n",
       "59548        1  \n",
       "59549        1  \n",
       "\n",
       "[30926 rows x 20 columns]"
      ]
     },
     "execution_count": 54,
     "metadata": {},
     "output_type": "execute_result"
    }
   ],
   "source": [
    "df[df['Disease']==1]"
   ]
  },
  {
   "cell_type": "markdown",
   "id": "b55c5253",
   "metadata": {},
   "source": [
    "# Random Forest"
   ]
  },
  {
   "cell_type": "code",
   "execution_count": 55,
   "id": "2c616480",
   "metadata": {},
   "outputs": [],
   "source": [
    "from sklearn.ensemble import RandomForestClassifier"
   ]
  },
  {
   "cell_type": "code",
   "execution_count": 56,
   "id": "cb406b3d",
   "metadata": {},
   "outputs": [],
   "source": [
    "rfc = RandomForestClassifier(max_depth=5,min_samples_split=200)"
   ]
  },
  {
   "cell_type": "code",
   "execution_count": 57,
   "id": "dcc1700b",
   "metadata": {},
   "outputs": [
    {
     "data": {
      "text/html": [
       "<style>#sk-container-id-2 {color: black;}#sk-container-id-2 pre{padding: 0;}#sk-container-id-2 div.sk-toggleable {background-color: white;}#sk-container-id-2 label.sk-toggleable__label {cursor: pointer;display: block;width: 100%;margin-bottom: 0;padding: 0.3em;box-sizing: border-box;text-align: center;}#sk-container-id-2 label.sk-toggleable__label-arrow:before {content: \"▸\";float: left;margin-right: 0.25em;color: #696969;}#sk-container-id-2 label.sk-toggleable__label-arrow:hover:before {color: black;}#sk-container-id-2 div.sk-estimator:hover label.sk-toggleable__label-arrow:before {color: black;}#sk-container-id-2 div.sk-toggleable__content {max-height: 0;max-width: 0;overflow: hidden;text-align: left;background-color: #f0f8ff;}#sk-container-id-2 div.sk-toggleable__content pre {margin: 0.2em;color: black;border-radius: 0.25em;background-color: #f0f8ff;}#sk-container-id-2 input.sk-toggleable__control:checked~div.sk-toggleable__content {max-height: 200px;max-width: 100%;overflow: auto;}#sk-container-id-2 input.sk-toggleable__control:checked~label.sk-toggleable__label-arrow:before {content: \"▾\";}#sk-container-id-2 div.sk-estimator input.sk-toggleable__control:checked~label.sk-toggleable__label {background-color: #d4ebff;}#sk-container-id-2 div.sk-label input.sk-toggleable__control:checked~label.sk-toggleable__label {background-color: #d4ebff;}#sk-container-id-2 input.sk-hidden--visually {border: 0;clip: rect(1px 1px 1px 1px);clip: rect(1px, 1px, 1px, 1px);height: 1px;margin: -1px;overflow: hidden;padding: 0;position: absolute;width: 1px;}#sk-container-id-2 div.sk-estimator {font-family: monospace;background-color: #f0f8ff;border: 1px dotted black;border-radius: 0.25em;box-sizing: border-box;margin-bottom: 0.5em;}#sk-container-id-2 div.sk-estimator:hover {background-color: #d4ebff;}#sk-container-id-2 div.sk-parallel-item::after {content: \"\";width: 100%;border-bottom: 1px solid gray;flex-grow: 1;}#sk-container-id-2 div.sk-label:hover label.sk-toggleable__label {background-color: #d4ebff;}#sk-container-id-2 div.sk-serial::before {content: \"\";position: absolute;border-left: 1px solid gray;box-sizing: border-box;top: 0;bottom: 0;left: 50%;z-index: 0;}#sk-container-id-2 div.sk-serial {display: flex;flex-direction: column;align-items: center;background-color: white;padding-right: 0.2em;padding-left: 0.2em;position: relative;}#sk-container-id-2 div.sk-item {position: relative;z-index: 1;}#sk-container-id-2 div.sk-parallel {display: flex;align-items: stretch;justify-content: center;background-color: white;position: relative;}#sk-container-id-2 div.sk-item::before, #sk-container-id-2 div.sk-parallel-item::before {content: \"\";position: absolute;border-left: 1px solid gray;box-sizing: border-box;top: 0;bottom: 0;left: 50%;z-index: -1;}#sk-container-id-2 div.sk-parallel-item {display: flex;flex-direction: column;z-index: 1;position: relative;background-color: white;}#sk-container-id-2 div.sk-parallel-item:first-child::after {align-self: flex-end;width: 50%;}#sk-container-id-2 div.sk-parallel-item:last-child::after {align-self: flex-start;width: 50%;}#sk-container-id-2 div.sk-parallel-item:only-child::after {width: 0;}#sk-container-id-2 div.sk-dashed-wrapped {border: 1px dashed gray;margin: 0 0.4em 0.5em 0.4em;box-sizing: border-box;padding-bottom: 0.4em;background-color: white;}#sk-container-id-2 div.sk-label label {font-family: monospace;font-weight: bold;display: inline-block;line-height: 1.2em;}#sk-container-id-2 div.sk-label-container {text-align: center;}#sk-container-id-2 div.sk-container {/* jupyter's `normalize.less` sets `[hidden] { display: none; }` but bootstrap.min.css set `[hidden] { display: none !important; }` so we also need the `!important` here to be able to override the default hidden behavior on the sphinx rendered scikit-learn.org. See: https://github.com/scikit-learn/scikit-learn/issues/21755 */display: inline-block !important;position: relative;}#sk-container-id-2 div.sk-text-repr-fallback {display: none;}</style><div id=\"sk-container-id-2\" class=\"sk-top-container\"><div class=\"sk-text-repr-fallback\"><pre>RandomForestClassifier(max_depth=5, min_samples_split=200)</pre><b>In a Jupyter environment, please rerun this cell to show the HTML representation or trust the notebook. <br />On GitHub, the HTML representation is unable to render, please try loading this page with nbviewer.org.</b></div><div class=\"sk-container\" hidden><div class=\"sk-item\"><div class=\"sk-estimator sk-toggleable\"><input class=\"sk-toggleable__control sk-hidden--visually\" id=\"sk-estimator-id-2\" type=\"checkbox\" checked><label for=\"sk-estimator-id-2\" class=\"sk-toggleable__label sk-toggleable__label-arrow\">RandomForestClassifier</label><div class=\"sk-toggleable__content\"><pre>RandomForestClassifier(max_depth=5, min_samples_split=200)</pre></div></div></div></div></div>"
      ],
      "text/plain": [
       "RandomForestClassifier(max_depth=5, min_samples_split=200)"
      ]
     },
     "execution_count": 57,
     "metadata": {},
     "output_type": "execute_result"
    }
   ],
   "source": [
    "rfc.fit(X_train,y_train)"
   ]
  },
  {
   "cell_type": "code",
   "execution_count": 58,
   "id": "c69c42cc",
   "metadata": {},
   "outputs": [],
   "source": [
    "rfc_pred = rfc.predict(X_test)"
   ]
  },
  {
   "cell_type": "code",
   "execution_count": 59,
   "id": "1c3a2e53",
   "metadata": {},
   "outputs": [],
   "source": [
    "rfc_accuracy = accuracy_score(y_test,rfc_pred)"
   ]
  },
  {
   "cell_type": "code",
   "execution_count": 60,
   "id": "47ecf31d",
   "metadata": {},
   "outputs": [
    {
     "data": {
      "text/plain": [
       "100.0"
      ]
     },
     "execution_count": 60,
     "metadata": {},
     "output_type": "execute_result"
    }
   ],
   "source": [
    "rfc_accuracy*100"
   ]
  },
  {
   "cell_type": "code",
   "execution_count": 61,
   "id": "17e6997a",
   "metadata": {},
   "outputs": [
    {
     "name": "stdout",
     "output_type": "stream",
     "text": [
      "1.0\n"
     ]
    }
   ],
   "source": [
    "rfc_recall = recall_score(y_test,rfc_pred)\n",
    "print(rfc_recall)"
   ]
  },
  {
   "cell_type": "code",
   "execution_count": 62,
   "id": "7b6d4791",
   "metadata": {},
   "outputs": [
    {
     "data": {
      "text/plain": [
       "100.0"
      ]
     },
     "execution_count": 62,
     "metadata": {},
     "output_type": "execute_result"
    }
   ],
   "source": [
    "rfc_recall*100"
   ]
  },
  {
   "cell_type": "code",
   "execution_count": 63,
   "id": "7541c734",
   "metadata": {},
   "outputs": [],
   "source": [
    "cm = confusion_matrix(y_test,rfc_pred)"
   ]
  },
  {
   "cell_type": "code",
   "execution_count": 64,
   "id": "936eac43",
   "metadata": {},
   "outputs": [
    {
     "data": {
      "text/plain": [
       "array([[7126,    0],\n",
       "       [   0, 7762]], dtype=int64)"
      ]
     },
     "execution_count": 64,
     "metadata": {},
     "output_type": "execute_result"
    }
   ],
   "source": [
    "cm"
   ]
  },
  {
   "cell_type": "code",
   "execution_count": 65,
   "id": "11aa5d7c",
   "metadata": {
    "scrolled": true
   },
   "outputs": [
    {
     "data": {
      "image/png": "[encoded data removed]",
      "text/plain": [
       "<Figure size 640x480 with 2 Axes>"
      ]
     },
     "metadata": {},
     "output_type": "display_data"
    }
   ],
   "source": [
    "# plt.title('Random Forest Classifier')\n",
    "\n",
    "disp = ConfusionMatrixDisplay(confusion_matrix=cm,\n",
    "                              display_labels=rfc.classes_)\n",
    "disp.plot()\n",
    "plt.show()"
   ]
  },
  {
   "cell_type": "code",
   "execution_count": 66,
   "id": "2c3f8f0f",
   "metadata": {},
   "outputs": [],
   "source": [
    "rfc = RandomForestClassifier()\n",
    "rfc.fit(X_train,y_train)\n",
    "\n",
    "rfc_preds = rfc.predict(X_test) # Predictions\n",
    "rfc_prob = rfc.predict_proba(X_test)[:,1] \n",
    "\n",
    "# THIS WILL BE USED FOR PR-CURVE"
   ]
  },
  {
   "cell_type": "code",
   "execution_count": 67,
   "id": "71476b86",
   "metadata": {},
   "outputs": [
    {
     "data": {
      "text/plain": [
       "array([1., 0., 1., ..., 0., 1., 1.])"
      ]
     },
     "execution_count": 67,
     "metadata": {},
     "output_type": "execute_result"
    }
   ],
   "source": [
    "rfc_prob"
   ]
  },
  {
   "cell_type": "code",
   "execution_count": 68,
   "id": "67b726ba",
   "metadata": {},
   "outputs": [
    {
     "name": "stdout",
     "output_type": "stream",
     "text": [
      "Accuracy : 100.0%\n"
     ]
    }
   ],
   "source": [
    "accuracy = accuracy_score(y_test,rfc_preds)\n",
    "print(f'Accuracy : {round(accuracy*100,2)}%')"
   ]
  },
  {
   "cell_type": "code",
   "execution_count": 69,
   "id": "556e7371",
   "metadata": {},
   "outputs": [],
   "source": [
    "precision_2,recall_2,threshold_2 = precision_recall_curve(y_test,rfc_prob)"
   ]
  },
  {
   "cell_type": "code",
   "execution_count": 70,
   "id": "ccad50f0",
   "metadata": {},
   "outputs": [
    {
     "name": "stdout",
     "output_type": "stream",
     "text": [
      "1.0\n"
     ]
    }
   ],
   "source": [
    "auc_2 =auc(recall_2,precision_2)  \n",
    "print(auc_2)"
   ]
  },
  {
   "cell_type": "code",
   "execution_count": 71,
   "id": "b8765707",
   "metadata": {},
   "outputs": [
    {
     "data": {
      "text/plain": [
       "<matplotlib.legend.Legend at 0x2a3bb29d5d0>"
      ]
     },
     "execution_count": 71,
     "metadata": {},
     "output_type": "execute_result"
    },
    {
     "data": {
      "image/png": "[encoded data removed]",
      "text/plain": [
       "<Figure size 640x480 with 1 Axes>"
      ]
     },
     "metadata": {},
     "output_type": "display_data"
    }
   ],
   "source": [
    "plt.title('PR-curve: Random Forest')\n",
    "\n",
    "plt.plot(recall_2,precision_2,label=f'AUC: {round(auc_2,2)}')\n",
    "\n",
    "plt.fill_between(recall_2,precision_2,alpha=0.2)\n",
    "\n",
    "plt.xlabel('Recall')\n",
    "plt.ylabel('Precision')\n",
    "plt.legend()"
   ]
  },
  {
   "cell_type": "markdown",
   "id": "354ee798",
   "metadata": {},
   "source": [
    "# Gradient Boosting"
   ]
  },
  {
   "cell_type": "code",
   "execution_count": 72,
   "id": "e2364dac",
   "metadata": {},
   "outputs": [],
   "source": [
    "from sklearn.ensemble import GradientBoostingClassifier"
   ]
  },
  {
   "cell_type": "code",
   "execution_count": 73,
   "id": "7834ee22",
   "metadata": {},
   "outputs": [],
   "source": [
    "gbc = GradientBoostingClassifier(learning_rate=0.01)"
   ]
  },
  {
   "cell_type": "code",
   "execution_count": 74,
   "id": "f82cce43",
   "metadata": {},
   "outputs": [
    {
     "data": {
      "text/html": [
       "<style>#sk-container-id-3 {color: black;}#sk-container-id-3 pre{padding: 0;}#sk-container-id-3 div.sk-toggleable {background-color: white;}#sk-container-id-3 label.sk-toggleable__label {cursor: pointer;display: block;width: 100%;margin-bottom: 0;padding: 0.3em;box-sizing: border-box;text-align: center;}#sk-container-id-3 label.sk-toggleable__label-arrow:before {content: \"▸\";float: left;margin-right: 0.25em;color: #696969;}#sk-container-id-3 label.sk-toggleable__label-arrow:hover:before {color: black;}#sk-container-id-3 div.sk-estimator:hover label.sk-toggleable__label-arrow:before {color: black;}#sk-container-id-3 div.sk-toggleable__content {max-height: 0;max-width: 0;overflow: hidden;text-align: left;background-color: #f0f8ff;}#sk-container-id-3 div.sk-toggleable__content pre {margin: 0.2em;color: black;border-radius: 0.25em;background-color: #f0f8ff;}#sk-container-id-3 input.sk-toggleable__control:checked~div.sk-toggleable__content {max-height: 200px;max-width: 100%;overflow: auto;}#sk-container-id-3 input.sk-toggleable__control:checked~label.sk-toggleable__label-arrow:before {content: \"▾\";}#sk-container-id-3 div.sk-estimator input.sk-toggleable__control:checked~label.sk-toggleable__label {background-color: #d4ebff;}#sk-container-id-3 div.sk-label input.sk-toggleable__control:checked~label.sk-toggleable__label {background-color: #d4ebff;}#sk-container-id-3 input.sk-hidden--visually {border: 0;clip: rect(1px 1px 1px 1px);clip: rect(1px, 1px, 1px, 1px);height: 1px;margin: -1px;overflow: hidden;padding: 0;position: absolute;width: 1px;}#sk-container-id-3 div.sk-estimator {font-family: monospace;background-color: #f0f8ff;border: 1px dotted black;border-radius: 0.25em;box-sizing: border-box;margin-bottom: 0.5em;}#sk-container-id-3 div.sk-estimator:hover {background-color: #d4ebff;}#sk-container-id-3 div.sk-parallel-item::after {content: \"\";width: 100%;border-bottom: 1px solid gray;flex-grow: 1;}#sk-container-id-3 div.sk-label:hover label.sk-toggleable__label {background-color: #d4ebff;}#sk-container-id-3 div.sk-serial::before {content: \"\";position: absolute;border-left: 1px solid gray;box-sizing: border-box;top: 0;bottom: 0;left: 50%;z-index: 0;}#sk-container-id-3 div.sk-serial {display: flex;flex-direction: column;align-items: center;background-color: white;padding-right: 0.2em;padding-left: 0.2em;position: relative;}#sk-container-id-3 div.sk-item {position: relative;z-index: 1;}#sk-container-id-3 div.sk-parallel {display: flex;align-items: stretch;justify-content: center;background-color: white;position: relative;}#sk-container-id-3 div.sk-item::before, #sk-container-id-3 div.sk-parallel-item::before {content: \"\";position: absolute;border-left: 1px solid gray;box-sizing: border-box;top: 0;bottom: 0;left: 50%;z-index: -1;}#sk-container-id-3 div.sk-parallel-item {display: flex;flex-direction: column;z-index: 1;position: relative;background-color: white;}#sk-container-id-3 div.sk-parallel-item:first-child::after {align-self: flex-end;width: 50%;}#sk-container-id-3 div.sk-parallel-item:last-child::after {align-self: flex-start;width: 50%;}#sk-container-id-3 div.sk-parallel-item:only-child::after {width: 0;}#sk-container-id-3 div.sk-dashed-wrapped {border: 1px dashed gray;margin: 0 0.4em 0.5em 0.4em;box-sizing: border-box;padding-bottom: 0.4em;background-color: white;}#sk-container-id-3 div.sk-label label {font-family: monospace;font-weight: bold;display: inline-block;line-height: 1.2em;}#sk-container-id-3 div.sk-label-container {text-align: center;}#sk-container-id-3 div.sk-container {/* jupyter's `normalize.less` sets `[hidden] { display: none; }` but bootstrap.min.css set `[hidden] { display: none !important; }` so we also need the `!important` here to be able to override the default hidden behavior on the sphinx rendered scikit-learn.org. See: https://github.com/scikit-learn/scikit-learn/issues/21755 */display: inline-block !important;position: relative;}#sk-container-id-3 div.sk-text-repr-fallback {display: none;}</style><div id=\"sk-container-id-3\" class=\"sk-top-container\"><div class=\"sk-text-repr-fallback\"><pre>GradientBoostingClassifier(learning_rate=0.01)</pre><b>In a Jupyter environment, please rerun this cell to show the HTML representation or trust the notebook. <br />On GitHub, the HTML representation is unable to render, please try loading this page with nbviewer.org.</b></div><div class=\"sk-container\" hidden><div class=\"sk-item\"><div class=\"sk-estimator sk-toggleable\"><input class=\"sk-toggleable__control sk-hidden--visually\" id=\"sk-estimator-id-3\" type=\"checkbox\" checked><label for=\"sk-estimator-id-3\" class=\"sk-toggleable__label sk-toggleable__label-arrow\">GradientBoostingClassifier</label><div class=\"sk-toggleable__content\"><pre>GradientBoostingClassifier(learning_rate=0.01)</pre></div></div></div></div></div>"
      ],
      "text/plain": [
       "GradientBoostingClassifier(learning_rate=0.01)"
      ]
     },
     "execution_count": 74,
     "metadata": {},
     "output_type": "execute_result"
    }
   ],
   "source": [
    "gbc.fit(X_train,y_train)"
   ]
  },
  {
   "cell_type": "code",
   "execution_count": 75,
   "id": "1a738327",
   "metadata": {},
   "outputs": [],
   "source": [
    "gbc_pred = gbc.predict(X_test)"
   ]
  },
  {
   "cell_type": "code",
   "execution_count": 76,
   "id": "0a438568",
   "metadata": {},
   "outputs": [],
   "source": [
    "gbc_accuracy = accuracy_score(y_test,gbc_pred)\n",
    "gbc_recall = recall_score(y_test,gbc_pred)"
   ]
  },
  {
   "cell_type": "code",
   "execution_count": 77,
   "id": "da8899ef",
   "metadata": {},
   "outputs": [
    {
     "data": {
      "text/plain": [
       "99.99328318108543"
      ]
     },
     "execution_count": 77,
     "metadata": {},
     "output_type": "execute_result"
    }
   ],
   "source": [
    "gbc_accuracy*100"
   ]
  },
  {
   "cell_type": "code",
   "execution_count": 78,
   "id": "8591c790",
   "metadata": {},
   "outputs": [
    {
     "data": {
      "text/plain": [
       "99.9871167224942"
      ]
     },
     "execution_count": 78,
     "metadata": {},
     "output_type": "execute_result"
    }
   ],
   "source": [
    "gbc_recall*100"
   ]
  },
  {
   "cell_type": "code",
   "execution_count": 79,
   "id": "dcb420b6",
   "metadata": {},
   "outputs": [],
   "source": [
    "cm = confusion_matrix(y_test,gbc_pred)"
   ]
  },
  {
   "cell_type": "code",
   "execution_count": 80,
   "id": "ee2f48ec",
   "metadata": {},
   "outputs": [
    {
     "data": {
      "text/plain": [
       "array([[7126,    0],\n",
       "       [   1, 7761]], dtype=int64)"
      ]
     },
     "execution_count": 80,
     "metadata": {},
     "output_type": "execute_result"
    }
   ],
   "source": [
    "cm"
   ]
  },
  {
   "cell_type": "code",
   "execution_count": 81,
   "id": "e818435b",
   "metadata": {
    "scrolled": true
   },
   "outputs": [
    {
     "data": {
      "image/png": "[encoded data removed]",
      "text/plain": [
       "<Figure size 640x480 with 2 Axes>"
      ]
     },
     "metadata": {},
     "output_type": "display_data"
    }
   ],
   "source": [
    "# plt.title('GradientBoosting')\n",
    "\n",
    "disp = ConfusionMatrixDisplay(confusion_matrix=cm,\n",
    "                              display_labels=gbc.classes_)\n",
    "disp.plot()\n",
    "plt.show()"
   ]
  },
  {
   "cell_type": "code",
   "execution_count": 82,
   "id": "4c995a50",
   "metadata": {},
   "outputs": [],
   "source": [
    "grad_boost = GradientBoostingClassifier()\n",
    "grad_boost.fit(X_train,y_train)\n",
    "\n",
    "grad_boost_preds = grad_boost.predict(X_test) # Predictions\n",
    "grad_boost_prob = grad_boost.predict_proba(X_test)[:,1] \n",
    "\n",
    "# THIS WILL BE USED FOR PR-CURVE"
   ]
  },
  {
   "cell_type": "code",
   "execution_count": 83,
   "id": "f6debe35",
   "metadata": {},
   "outputs": [
    {
     "data": {
      "text/plain": [
       "array([9.99978875e-01, 2.26731584e-05, 9.99978875e-01, ...,\n",
       "       2.26731584e-05, 9.99978875e-01, 9.99978875e-01])"
      ]
     },
     "execution_count": 83,
     "metadata": {},
     "output_type": "execute_result"
    }
   ],
   "source": [
    "grad_boost_prob"
   ]
  },
  {
   "cell_type": "code",
   "execution_count": 84,
   "id": "a21ba058",
   "metadata": {},
   "outputs": [
    {
     "name": "stdout",
     "output_type": "stream",
     "text": [
      "Accuracy : 100.0%\n"
     ]
    }
   ],
   "source": [
    "accuracy = accuracy_score(y_test,grad_boost_preds)\n",
    "print(f'Accuracy : {round(accuracy*100,2)}%')"
   ]
  },
  {
   "cell_type": "code",
   "execution_count": 85,
   "id": "9c66809b",
   "metadata": {},
   "outputs": [],
   "source": [
    "precision_3,recall_3,threshold_3 = precision_recall_curve(y_test,grad_boost_prob)"
   ]
  },
  {
   "cell_type": "code",
   "execution_count": 86,
   "id": "6f56e499",
   "metadata": {},
   "outputs": [
    {
     "name": "stdout",
     "output_type": "stream",
     "text": [
      "1.0\n"
     ]
    }
   ],
   "source": [
    "auc_3 =auc(recall_3,precision_3)  \n",
    "print(auc_3)"
   ]
  },
  {
   "cell_type": "code",
   "execution_count": 87,
   "id": "93ee227e",
   "metadata": {},
   "outputs": [
    {
     "data": {
      "text/plain": [
       "<matplotlib.legend.Legend at 0x2a3b9f31890>"
      ]
     },
     "execution_count": 87,
     "metadata": {},
     "output_type": "execute_result"
    },
    {
     "data": {
      "image/png": "[encoded data removed]",
      "text/plain": [
       "<Figure size 640x480 with 1 Axes>"
      ]
     },
     "metadata": {},
     "output_type": "display_data"
    }
   ],
   "source": [
    "plt.title('PR-curve: Gradient Boosting')\n",
    "\n",
    "plt.plot(recall_3,precision_3,label=f'AUC: {round(auc_3,2)}')\n",
    "\n",
    "plt.fill_between(recall_3,precision_3,alpha=0.2)\n",
    "\n",
    "plt.xlabel('Recall')\n",
    "plt.ylabel('Precision')\n",
    "plt.legend()"
   ]
  },
  {
   "cell_type": "markdown",
   "id": "63643fc2",
   "metadata": {},
   "source": [
    "# Logistic Regression (LR)"
   ]
  },
  {
   "cell_type": "code",
   "execution_count": 88,
   "id": "2e5f8dd8",
   "metadata": {},
   "outputs": [],
   "source": [
    "from sklearn.linear_model import LogisticRegression"
   ]
  },
  {
   "cell_type": "code",
   "execution_count": 89,
   "id": "482faa91",
   "metadata": {},
   "outputs": [],
   "source": [
    "logit = LogisticRegression(penalty = 'l1', solver='liblinear')"
   ]
  },
  {
   "cell_type": "code",
   "execution_count": 90,
   "id": "ec439592",
   "metadata": {},
   "outputs": [
    {
     "data": {
      "text/html": [
       "<style>#sk-container-id-4 {color: black;}#sk-container-id-4 pre{padding: 0;}#sk-container-id-4 div.sk-toggleable {background-color: white;}#sk-container-id-4 label.sk-toggleable__label {cursor: pointer;display: block;width: 100%;margin-bottom: 0;padding: 0.3em;box-sizing: border-box;text-align: center;}#sk-container-id-4 label.sk-toggleable__label-arrow:before {content: \"▸\";float: left;margin-right: 0.25em;color: #696969;}#sk-container-id-4 label.sk-toggleable__label-arrow:hover:before {color: black;}#sk-container-id-4 div.sk-estimator:hover label.sk-toggleable__label-arrow:before {color: black;}#sk-container-id-4 div.sk-toggleable__content {max-height: 0;max-width: 0;overflow: hidden;text-align: left;background-color: #f0f8ff;}#sk-container-id-4 div.sk-toggleable__content pre {margin: 0.2em;color: black;border-radius: 0.25em;background-color: #f0f8ff;}#sk-container-id-4 input.sk-toggleable__control:checked~div.sk-toggleable__content {max-height: 200px;max-width: 100%;overflow: auto;}#sk-container-id-4 input.sk-toggleable__control:checked~label.sk-toggleable__label-arrow:before {content: \"▾\";}#sk-container-id-4 div.sk-estimator input.sk-toggleable__control:checked~label.sk-toggleable__label {background-color: #d4ebff;}#sk-container-id-4 div.sk-label input.sk-toggleable__control:checked~label.sk-toggleable__label {background-color: #d4ebff;}#sk-container-id-4 input.sk-hidden--visually {border: 0;clip: rect(1px 1px 1px 1px);clip: rect(1px, 1px, 1px, 1px);height: 1px;margin: -1px;overflow: hidden;padding: 0;position: absolute;width: 1px;}#sk-container-id-4 div.sk-estimator {font-family: monospace;background-color: #f0f8ff;border: 1px dotted black;border-radius: 0.25em;box-sizing: border-box;margin-bottom: 0.5em;}#sk-container-id-4 div.sk-estimator:hover {background-color: #d4ebff;}#sk-container-id-4 div.sk-parallel-item::after {content: \"\";width: 100%;border-bottom: 1px solid gray;flex-grow: 1;}#sk-container-id-4 div.sk-label:hover label.sk-toggleable__label {background-color: #d4ebff;}#sk-container-id-4 div.sk-serial::before {content: \"\";position: absolute;border-left: 1px solid gray;box-sizing: border-box;top: 0;bottom: 0;left: 50%;z-index: 0;}#sk-container-id-4 div.sk-serial {display: flex;flex-direction: column;align-items: center;background-color: white;padding-right: 0.2em;padding-left: 0.2em;position: relative;}#sk-container-id-4 div.sk-item {position: relative;z-index: 1;}#sk-container-id-4 div.sk-parallel {display: flex;align-items: stretch;justify-content: center;background-color: white;position: relative;}#sk-container-id-4 div.sk-item::before, #sk-container-id-4 div.sk-parallel-item::before {content: \"\";position: absolute;border-left: 1px solid gray;box-sizing: border-box;top: 0;bottom: 0;left: 50%;z-index: -1;}#sk-container-id-4 div.sk-parallel-item {display: flex;flex-direction: column;z-index: 1;position: relative;background-color: white;}#sk-container-id-4 div.sk-parallel-item:first-child::after {align-self: flex-end;width: 50%;}#sk-container-id-4 div.sk-parallel-item:last-child::after {align-self: flex-start;width: 50%;}#sk-container-id-4 div.sk-parallel-item:only-child::after {width: 0;}#sk-container-id-4 div.sk-dashed-wrapped {border: 1px dashed gray;margin: 0 0.4em 0.5em 0.4em;box-sizing: border-box;padding-bottom: 0.4em;background-color: white;}#sk-container-id-4 div.sk-label label {font-family: monospace;font-weight: bold;display: inline-block;line-height: 1.2em;}#sk-container-id-4 div.sk-label-container {text-align: center;}#sk-container-id-4 div.sk-container {/* jupyter's `normalize.less` sets `[hidden] { display: none; }` but bootstrap.min.css set `[hidden] { display: none !important; }` so we also need the `!important` here to be able to override the default hidden behavior on the sphinx rendered scikit-learn.org. See: https://github.com/scikit-learn/scikit-learn/issues/21755 */display: inline-block !important;position: relative;}#sk-container-id-4 div.sk-text-repr-fallback {display: none;}</style><div id=\"sk-container-id-4\" class=\"sk-top-container\"><div class=\"sk-text-repr-fallback\"><pre>LogisticRegression(penalty=&#x27;l1&#x27;, solver=&#x27;liblinear&#x27;)</pre><b>In a Jupyter environment, please rerun this cell to show the HTML representation or trust the notebook. <br />On GitHub, the HTML representation is unable to render, please try loading this page with nbviewer.org.</b></div><div class=\"sk-container\" hidden><div class=\"sk-item\"><div class=\"sk-estimator sk-toggleable\"><input class=\"sk-toggleable__control sk-hidden--visually\" id=\"sk-estimator-id-4\" type=\"checkbox\" checked><label for=\"sk-estimator-id-4\" class=\"sk-toggleable__label sk-toggleable__label-arrow\">LogisticRegression</label><div class=\"sk-toggleable__content\"><pre>LogisticRegression(penalty=&#x27;l1&#x27;, solver=&#x27;liblinear&#x27;)</pre></div></div></div></div></div>"
      ],
      "text/plain": [
       "LogisticRegression(penalty='l1', solver='liblinear')"
      ]
     },
     "execution_count": 90,
     "metadata": {},
     "output_type": "execute_result"
    }
   ],
   "source": [
    "logit.fit(X_train,y_train)"
   ]
  },
  {
   "cell_type": "code",
   "execution_count": 91,
   "id": "0488318f",
   "metadata": {},
   "outputs": [],
   "source": [
    "logit_pred = logit.predict(X_test)"
   ]
  },
  {
   "cell_type": "code",
   "execution_count": 92,
   "id": "9b922753",
   "metadata": {},
   "outputs": [],
   "source": [
    "logit_accuracy = accuracy_score(y_test,logit_pred)\n",
    "logit_recall = recall_score(y_test,logit_pred)"
   ]
  },
  {
   "cell_type": "code",
   "execution_count": 93,
   "id": "555e9882",
   "metadata": {},
   "outputs": [
    {
     "data": {
      "text/plain": [
       "100.0"
      ]
     },
     "execution_count": 93,
     "metadata": {},
     "output_type": "execute_result"
    }
   ],
   "source": [
    "logit_accuracy*100"
   ]
  },
  {
   "cell_type": "code",
   "execution_count": 94,
   "id": "59607bba",
   "metadata": {},
   "outputs": [
    {
     "data": {
      "text/plain": [
       "100.0"
      ]
     },
     "execution_count": 94,
     "metadata": {},
     "output_type": "execute_result"
    }
   ],
   "source": [
    "logit_recall*100"
   ]
  },
  {
   "cell_type": "code",
   "execution_count": 95,
   "id": "984315b6",
   "metadata": {},
   "outputs": [],
   "source": [
    "cm = confusion_matrix(y_test,logit_pred)"
   ]
  },
  {
   "cell_type": "code",
   "execution_count": 96,
   "id": "995e4b1f",
   "metadata": {},
   "outputs": [
    {
     "data": {
      "text/plain": [
       "array([[7126,    0],\n",
       "       [   0, 7762]], dtype=int64)"
      ]
     },
     "execution_count": 96,
     "metadata": {},
     "output_type": "execute_result"
    }
   ],
   "source": [
    "cm"
   ]
  },
  {
   "cell_type": "code",
   "execution_count": 97,
   "id": "ef6ea14e",
   "metadata": {},
   "outputs": [
    {
     "data": {
      "image/png": "[encoded data removed]",
      "text/plain": [
       "<Figure size 640x480 with 2 Axes>"
      ]
     },
     "metadata": {},
     "output_type": "display_data"
    }
   ],
   "source": [
    "# plt.title('Logistic Regression')\n",
    "\n",
    "disp = ConfusionMatrixDisplay(confusion_matrix=cm,\n",
    "                              display_labels=logit.classes_)\n",
    "disp.plot()\n",
    "plt.show()"
   ]
  },
  {
   "cell_type": "code",
   "execution_count": 104,
   "id": "04fe8db3",
   "metadata": {},
   "outputs": [],
   "source": [
    "log_reg = LogisticRegression(solver='liblinear')\n",
    "log_reg.fit(X_train,y_train)\n",
    "\n",
    "log_reg_preds = log_reg.predict(X_test) # Predictions\n",
    "log_reg_prob = log_reg.predict_proba(X_test)[:,1] \n",
    "\n",
    "# THIS WILL BE USED FOR PR-CURVE "
   ]
  },
  {
   "cell_type": "code",
   "execution_count": 105,
   "id": "3f37b4a7",
   "metadata": {},
   "outputs": [
    {
     "data": {
      "text/plain": [
       "array([9.99924225e-01, 9.53959149e-05, 9.99871586e-01, ...,\n",
       "       5.65881422e-05, 9.99814614e-01, 9.99921936e-01])"
      ]
     },
     "execution_count": 105,
     "metadata": {},
     "output_type": "execute_result"
    }
   ],
   "source": [
    "log_reg_prob"
   ]
  },
  {
   "cell_type": "code",
   "execution_count": 106,
   "id": "1ef82255",
   "metadata": {},
   "outputs": [
    {
     "name": "stdout",
     "output_type": "stream",
     "text": [
      "Accuracy : 100.0%\n"
     ]
    }
   ],
   "source": [
    "accuracy = accuracy_score(y_test,log_reg_preds)\n",
    "print(f'Accuracy : {round(accuracy*100,2)}%')"
   ]
  },
  {
   "cell_type": "code",
   "execution_count": 107,
   "id": "538e40b0",
   "metadata": {},
   "outputs": [],
   "source": [
    "precision_4,recall_4,threshold_4 = precision_recall_curve(y_test,log_reg_prob)"
   ]
  },
  {
   "cell_type": "code",
   "execution_count": 108,
   "id": "5ee12831",
   "metadata": {},
   "outputs": [
    {
     "name": "stdout",
     "output_type": "stream",
     "text": [
      "1.0\n"
     ]
    }
   ],
   "source": [
    "auc_4 =auc(recall_4,precision_4)  \n",
    "print(auc_4)"
   ]
  },
  {
   "cell_type": "code",
   "execution_count": 109,
   "id": "9f275ac8",
   "metadata": {},
   "outputs": [
    {
     "data": {
      "text/plain": [
       "<matplotlib.legend.Legend at 0x2a3bb2b6e90>"
      ]
     },
     "execution_count": 109,
     "metadata": {},
     "output_type": "execute_result"
    },
    {
     "data": {
      "image/png": "[encoded data removed]",
      "text/plain": [
       "<Figure size 640x480 with 1 Axes>"
      ]
     },
     "metadata": {},
     "output_type": "display_data"
    }
   ],
   "source": [
    "plt.title('PR-curve: Logistic Regression')\n",
    "\n",
    "plt.plot(recall_4,precision_4,label=f'AUC: {round(auc_4,2)}')\n",
    "\n",
    "plt.fill_between(recall_4,precision_4,alpha=0.2)\n",
    "\n",
    "plt.xlabel('Recall')\n",
    "plt.ylabel('Precision')\n",
    "plt.legend()"
   ]
  },
  {
   "cell_type": "markdown",
   "id": "467f1980",
   "metadata": {},
   "source": [
    "# MODEL PERFORMANCE"
   ]
  },
  {
   "cell_type": "markdown",
   "id": "92216b6e",
   "metadata": {},
   "source": [
    "## ==> Comparing all four charts/plots"
   ]
  },
  {
   "cell_type": "code",
   "execution_count": 110,
   "id": "e19b73b0",
   "metadata": {},
   "outputs": [
    {
     "data": {
      "text/plain": [
       "<matplotlib.legend.Legend at 0x2a3b9ed7290>"
      ]
     },
     "execution_count": 110,
     "metadata": {},
     "output_type": "execute_result"
    },
    {
     "data": {
      "image/png": "[encoded data removed]",
      "text/plain": [
       "<Figure size 640x480 with 1 Axes>"
      ]
     },
     "metadata": {},
     "output_type": "display_data"
    }
   ],
   "source": [
    "plt.title('PR-curve: Support Vector Classifier')\n",
    "# Support Vector Classifier\n",
    "plt.plot(recall_1,precision_1,label=f'Support Vector Classifier AUC: {round(auc_1,2)}')\n",
    "plt.fill_between(recall_1,precision_1,alpha=0.2)\n",
    "\n",
    "\n",
    "# Random Forest\n",
    "plt.plot(recall_2,precision_2,label=f'Random Forest AUC: {round(auc_2,2)}')\n",
    "plt.fill_between(recall_2,precision_2,alpha=0.2)\n",
    "\n",
    "# Gradient Boosting\n",
    "plt.plot(recall_3,precision_3,label=f'Gradient Boosting AUC: {round(auc_3,2)}')\n",
    "plt.fill_between(recall_3,precision_3,alpha=0.2)\n",
    "\n",
    "# Logistic Regression\n",
    "plt.plot(recall_4,precision_4,label=f'Logistic Regression AUC: {round(auc_4,2)}')\n",
    "\n",
    "# plt.fill_between(recall_1,precision_1,alpha=0.2)\n",
    "\n",
    "plt.xlabel('Recall')\n",
    "plt.ylabel('Precision')\n",
    "plt.legend()"
   ]
  },
  {
   "cell_type": "code",
   "execution_count": null,
   "id": "8813a883",
   "metadata": {},
   "outputs": [],
   "source": []
  },
  {
   "cell_type": "code",
   "execution_count": null,
   "id": "45638db9",
   "metadata": {},
   "outputs": [],
   "source": []
  }
 ],
 "metadata": {
  "kernelspec": {
   "display_name": "Python 3 (ipykernel)",
   "language": "python",
   "name": "python3"
  },
  "language_info": {
   "codemirror_mode": {
    "name": "ipython",
    "version": 3
   },
   "file_extension": ".py",
   "mimetype": "text/x-python",
   "name": "python",
   "nbconvert_exporter": "python",
   "pygments_lexer": "ipython3",
   "version": "3.11.5"
  }
 },
 "nbformat": 4,
 "nbformat_minor": 5
}
