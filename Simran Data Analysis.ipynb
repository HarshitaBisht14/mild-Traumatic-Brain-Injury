{
 "cells": [
  {
   "cell_type": "code",
   "execution_count": 1,
   "id": "09db65b6",
   "metadata": {},
   "outputs": [],
   "source": [
    "import pandas as pd\n",
    "import numpy as np\n",
    "import seaborn as sns\n",
    "import matplotlib.pyplot as plt"
   ]
  },
  {
   "cell_type": "code",
   "execution_count": 2,
   "id": "d537a8c5",
   "metadata": {},
   "outputs": [],
   "source": [
    "disease_df = pd.read_excel('TBT_05_updated_data.xlsx')"
   ]
  },
  {
   "cell_type": "code",
   "execution_count": 3,
   "id": "4953ea5d",
   "metadata": {},
   "outputs": [],
   "source": [
    "healthy_df = pd.read_excel('Simran_updated_data.xlsx')"
   ]
  },
  {
   "cell_type": "code",
   "execution_count": 4,
   "id": "e35c445e",
   "metadata": {},
   "outputs": [
    {
     "data": {
      "text/plain": [
       "((30357, 46), (26882, 46))"
      ]
     },
     "execution_count": 4,
     "metadata": {},
     "output_type": "execute_result"
    }
   ],
   "source": [
    "disease_df.shape,healthy_df.shape"
   ]
  },
  {
   "cell_type": "code",
   "execution_count": 5,
   "id": "3248562c",
   "metadata": {},
   "outputs": [],
   "source": [
    "data = pd.concat([disease_df,healthy_df])"
   ]
  },
  {
   "cell_type": "code",
   "execution_count": 6,
   "id": "d1671f9e",
   "metadata": {},
   "outputs": [
    {
     "data": {
      "text/html": [
       "<div>\n",
       "<style scoped>\n",
       "    .dataframe tbody tr th:only-of-type {\n",
       "        vertical-align: middle;\n",
       "    }\n",
       "\n",
       "    .dataframe tbody tr th {\n",
       "        vertical-align: top;\n",
       "    }\n",
       "\n",
       "    .dataframe thead th {\n",
       "        text-align: right;\n",
       "    }\n",
       "</style>\n",
       "<table border=\"1\" class=\"dataframe\">\n",
       "  <thead>\n",
       "    <tr style=\"text-align: right;\">\n",
       "      <th></th>\n",
       "      <th>Recording timestamp</th>\n",
       "      <th>Computer timestamp</th>\n",
       "      <th>Sensor</th>\n",
       "      <th>Project name</th>\n",
       "      <th>Export date</th>\n",
       "      <th>Participant name</th>\n",
       "      <th>Recording name</th>\n",
       "      <th>Recording date</th>\n",
       "      <th>Recording date UTC</th>\n",
       "      <th>Recording start time</th>\n",
       "      <th>...</th>\n",
       "      <th>Recording media name</th>\n",
       "      <th>Recording media width</th>\n",
       "      <th>Recording media height</th>\n",
       "      <th>Eye movement type</th>\n",
       "      <th>Gaze event duration</th>\n",
       "      <th>Eye movement type index</th>\n",
       "      <th>Fixation point X</th>\n",
       "      <th>Fixation point Y</th>\n",
       "      <th>Ungrouped</th>\n",
       "      <th>Disease</th>\n",
       "    </tr>\n",
       "  </thead>\n",
       "  <tbody>\n",
       "    <tr>\n",
       "      <th>26877</th>\n",
       "      <td>300479465</td>\n",
       "      <td>399643010</td>\n",
       "      <td>Eye Tracker</td>\n",
       "      <td>Project1</td>\n",
       "      <td>17-05-2024</td>\n",
       "      <td>SIMRAN</td>\n",
       "      <td>Recording025</td>\n",
       "      <td>15-05-2024</td>\n",
       "      <td>15-05-2024</td>\n",
       "      <td>14:31:17.063</td>\n",
       "      <td>...</td>\n",
       "      <td>fullstream.mp4</td>\n",
       "      <td>1920.0</td>\n",
       "      <td>1080.0</td>\n",
       "      <td>Fixation</td>\n",
       "      <td>120</td>\n",
       "      <td>579</td>\n",
       "      <td>875.0</td>\n",
       "      <td>559.0</td>\n",
       "      <td>NaN</td>\n",
       "      <td>0</td>\n",
       "    </tr>\n",
       "    <tr>\n",
       "      <th>26878</th>\n",
       "      <td>300489460</td>\n",
       "      <td>399653005</td>\n",
       "      <td>Eye Tracker</td>\n",
       "      <td>Project1</td>\n",
       "      <td>17-05-2024</td>\n",
       "      <td>SIMRAN</td>\n",
       "      <td>Recording025</td>\n",
       "      <td>15-05-2024</td>\n",
       "      <td>15-05-2024</td>\n",
       "      <td>14:31:17.063</td>\n",
       "      <td>...</td>\n",
       "      <td>fullstream.mp4</td>\n",
       "      <td>1920.0</td>\n",
       "      <td>1080.0</td>\n",
       "      <td>Fixation</td>\n",
       "      <td>120</td>\n",
       "      <td>579</td>\n",
       "      <td>875.0</td>\n",
       "      <td>559.0</td>\n",
       "      <td>NaN</td>\n",
       "      <td>0</td>\n",
       "    </tr>\n",
       "    <tr>\n",
       "      <th>26879</th>\n",
       "      <td>300499450</td>\n",
       "      <td>399662995</td>\n",
       "      <td>Eye Tracker</td>\n",
       "      <td>Project1</td>\n",
       "      <td>17-05-2024</td>\n",
       "      <td>SIMRAN</td>\n",
       "      <td>Recording025</td>\n",
       "      <td>15-05-2024</td>\n",
       "      <td>15-05-2024</td>\n",
       "      <td>14:31:17.063</td>\n",
       "      <td>...</td>\n",
       "      <td>fullstream.mp4</td>\n",
       "      <td>1920.0</td>\n",
       "      <td>1080.0</td>\n",
       "      <td>Fixation</td>\n",
       "      <td>120</td>\n",
       "      <td>579</td>\n",
       "      <td>875.0</td>\n",
       "      <td>559.0</td>\n",
       "      <td>NaN</td>\n",
       "      <td>0</td>\n",
       "    </tr>\n",
       "    <tr>\n",
       "      <th>26880</th>\n",
       "      <td>300509441</td>\n",
       "      <td>399672986</td>\n",
       "      <td>Eye Tracker</td>\n",
       "      <td>Project1</td>\n",
       "      <td>17-05-2024</td>\n",
       "      <td>SIMRAN</td>\n",
       "      <td>Recording025</td>\n",
       "      <td>15-05-2024</td>\n",
       "      <td>15-05-2024</td>\n",
       "      <td>14:31:17.063</td>\n",
       "      <td>...</td>\n",
       "      <td>fullstream.mp4</td>\n",
       "      <td>1920.0</td>\n",
       "      <td>1080.0</td>\n",
       "      <td>Fixation</td>\n",
       "      <td>120</td>\n",
       "      <td>579</td>\n",
       "      <td>875.0</td>\n",
       "      <td>559.0</td>\n",
       "      <td>NaN</td>\n",
       "      <td>0</td>\n",
       "    </tr>\n",
       "    <tr>\n",
       "      <th>26881</th>\n",
       "      <td>300519432</td>\n",
       "      <td>399682977</td>\n",
       "      <td>Eye Tracker</td>\n",
       "      <td>Project1</td>\n",
       "      <td>17-05-2024</td>\n",
       "      <td>SIMRAN</td>\n",
       "      <td>Recording025</td>\n",
       "      <td>15-05-2024</td>\n",
       "      <td>15-05-2024</td>\n",
       "      <td>14:31:17.063</td>\n",
       "      <td>...</td>\n",
       "      <td>fullstream.mp4</td>\n",
       "      <td>1920.0</td>\n",
       "      <td>1080.0</td>\n",
       "      <td>Fixation</td>\n",
       "      <td>120</td>\n",
       "      <td>579</td>\n",
       "      <td>875.0</td>\n",
       "      <td>559.0</td>\n",
       "      <td>NaN</td>\n",
       "      <td>0</td>\n",
       "    </tr>\n",
       "  </tbody>\n",
       "</table>\n",
       "<p>5 rows × 46 columns</p>\n",
       "</div>"
      ],
      "text/plain": [
       "       Recording timestamp  Computer timestamp       Sensor Project name  \\\n",
       "26877            300479465           399643010  Eye Tracker     Project1   \n",
       "26878            300489460           399653005  Eye Tracker     Project1   \n",
       "26879            300499450           399662995  Eye Tracker     Project1   \n",
       "26880            300509441           399672986  Eye Tracker     Project1   \n",
       "26881            300519432           399682977  Eye Tracker     Project1   \n",
       "\n",
       "      Export date Participant name Recording name Recording date  \\\n",
       "26877  17-05-2024           SIMRAN   Recording025     15-05-2024   \n",
       "26878  17-05-2024           SIMRAN   Recording025     15-05-2024   \n",
       "26879  17-05-2024           SIMRAN   Recording025     15-05-2024   \n",
       "26880  17-05-2024           SIMRAN   Recording025     15-05-2024   \n",
       "26881  17-05-2024           SIMRAN   Recording025     15-05-2024   \n",
       "\n",
       "      Recording date UTC Recording start time  ... Recording media name  \\\n",
       "26877         15-05-2024         14:31:17.063  ...       fullstream.mp4   \n",
       "26878         15-05-2024         14:31:17.063  ...       fullstream.mp4   \n",
       "26879         15-05-2024         14:31:17.063  ...       fullstream.mp4   \n",
       "26880         15-05-2024         14:31:17.063  ...       fullstream.mp4   \n",
       "26881         15-05-2024         14:31:17.063  ...       fullstream.mp4   \n",
       "\n",
       "       Recording media width Recording media height  Eye movement type  \\\n",
       "26877                 1920.0                 1080.0           Fixation   \n",
       "26878                 1920.0                 1080.0           Fixation   \n",
       "26879                 1920.0                 1080.0           Fixation   \n",
       "26880                 1920.0                 1080.0           Fixation   \n",
       "26881                 1920.0                 1080.0           Fixation   \n",
       "\n",
       "       Gaze event duration  Eye movement type index  Fixation point X  \\\n",
       "26877                  120                      579             875.0   \n",
       "26878                  120                      579             875.0   \n",
       "26879                  120                      579             875.0   \n",
       "26880                  120                      579             875.0   \n",
       "26881                  120                      579             875.0   \n",
       "\n",
       "       Fixation point Y  Ungrouped  Disease  \n",
       "26877             559.0        NaN        0  \n",
       "26878             559.0        NaN        0  \n",
       "26879             559.0        NaN        0  \n",
       "26880             559.0        NaN        0  \n",
       "26881             559.0        NaN        0  \n",
       "\n",
       "[5 rows x 46 columns]"
      ]
     },
     "execution_count": 6,
     "metadata": {},
     "output_type": "execute_result"
    }
   ],
   "source": [
    "data.tail()"
   ]
  },
  {
   "cell_type": "code",
   "execution_count": 7,
   "id": "fc368384",
   "metadata": {},
   "outputs": [
    {
     "data": {
      "text/plain": [
       "Index(['Recording timestamp', 'Computer timestamp', 'Sensor', 'Project name',\n",
       "       'Export date', 'Participant name', 'Recording name', 'Recording date',\n",
       "       'Recording date UTC', 'Recording start time',\n",
       "       'Recording start time UTC', 'Recording duration',\n",
       "       'Recording Fixation filter name', 'Event', 'Event value',\n",
       "       'Gaze point X', 'Gaze point Y', 'Gaze point 3D X', 'Gaze point 3D Y',\n",
       "       'Gaze point 3D Z', 'Gaze direction left X', 'Gaze direction left Y',\n",
       "       'Gaze direction left Z', 'Gaze direction right X',\n",
       "       'Gaze direction right Y', 'Gaze direction right Z',\n",
       "       'Pupil position left X', 'Pupil position left Y',\n",
       "       'Pupil position left Z', 'Pupil position right X',\n",
       "       'Pupil position right Y', 'Pupil position right Z',\n",
       "       'Pupil diameter left', 'Pupil diameter right', 'Validity left',\n",
       "       'Validity right', 'Recording media name', 'Recording media width',\n",
       "       'Recording media height', 'Eye movement type', 'Gaze event duration',\n",
       "       'Eye movement type index', 'Fixation point X', 'Fixation point Y',\n",
       "       'Ungrouped', 'Disease'],\n",
       "      dtype='object')"
      ]
     },
     "execution_count": 7,
     "metadata": {},
     "output_type": "execute_result"
    }
   ],
   "source": [
    "data.columns"
   ]
  },
  {
   "cell_type": "code",
   "execution_count": 8,
   "id": "3676aa16",
   "metadata": {},
   "outputs": [
    {
     "name": "stdout",
     "output_type": "stream",
     "text": [
      "<class 'pandas.core.frame.DataFrame'>\n",
      "Index: 57239 entries, 0 to 26881\n",
      "Data columns (total 46 columns):\n",
      " #   Column                          Non-Null Count  Dtype  \n",
      "---  ------                          --------------  -----  \n",
      " 0   Recording timestamp             57239 non-null  int64  \n",
      " 1   Computer timestamp              57239 non-null  int64  \n",
      " 2   Sensor                          57239 non-null  object \n",
      " 3   Project name                    57239 non-null  object \n",
      " 4   Export date                     57239 non-null  object \n",
      " 5   Participant name                57239 non-null  object \n",
      " 6   Recording name                  57239 non-null  object \n",
      " 7   Recording date                  57239 non-null  object \n",
      " 8   Recording date UTC              57239 non-null  object \n",
      " 9   Recording start time            57239 non-null  object \n",
      " 10  Recording start time UTC        57239 non-null  object \n",
      " 11  Recording duration              57239 non-null  int64  \n",
      " 12  Recording Fixation filter name  57239 non-null  object \n",
      " 13  Event                           0 non-null      float64\n",
      " 14  Event value                     0 non-null      float64\n",
      " 15  Gaze point X                    57239 non-null  int64  \n",
      " 16  Gaze point Y                    57239 non-null  int64  \n",
      " 17  Gaze point 3D X                 57239 non-null  float64\n",
      " 18  Gaze point 3D Y                 57239 non-null  float64\n",
      " 19  Gaze point 3D Z                 57239 non-null  float64\n",
      " 20  Gaze direction left X           57239 non-null  float64\n",
      " 21  Gaze direction left Y           57239 non-null  float64\n",
      " 22  Gaze direction left Z           57239 non-null  float64\n",
      " 23  Gaze direction right X          57239 non-null  float64\n",
      " 24  Gaze direction right Y          57239 non-null  float64\n",
      " 25  Gaze direction right Z          57239 non-null  float64\n",
      " 26  Pupil position left X           57239 non-null  float64\n",
      " 27  Pupil position left Y           57239 non-null  float64\n",
      " 28  Pupil position left Z           57239 non-null  float64\n",
      " 29  Pupil position right X          57239 non-null  float64\n",
      " 30  Pupil position right Y          57239 non-null  float64\n",
      " 31  Pupil position right Z          57239 non-null  float64\n",
      " 32  Pupil diameter left             57239 non-null  float64\n",
      " 33  Pupil diameter right            57239 non-null  float64\n",
      " 34  Validity left                   57239 non-null  object \n",
      " 35  Validity right                  57239 non-null  object \n",
      " 36  Recording media name            57128 non-null  object \n",
      " 37  Recording media width           57128 non-null  float64\n",
      " 38  Recording media height          57128 non-null  float64\n",
      " 39  Eye movement type               57239 non-null  object \n",
      " 40  Gaze event duration             57239 non-null  int64  \n",
      " 41  Eye movement type index         57239 non-null  int64  \n",
      " 42  Fixation point X                48450 non-null  float64\n",
      " 43  Fixation point Y                48450 non-null  float64\n",
      " 44  Ungrouped                       0 non-null      float64\n",
      " 45  Disease                         57239 non-null  int64  \n",
      "dtypes: float64(24), int64(8), object(14)\n",
      "memory usage: 20.5+ MB\n"
     ]
    }
   ],
   "source": [
    "data.info()"
   ]
  },
  {
   "cell_type": "code",
   "execution_count": 9,
   "id": "5bb49a6f",
   "metadata": {},
   "outputs": [],
   "source": [
    "df = data.iloc[:,15:].drop(['Recording media name', 'Recording media width','Recording media height','Ungrouped','Validity left',\n",
    "       'Validity right',],axis=1)"
   ]
  },
  {
   "cell_type": "code",
   "execution_count": 10,
   "id": "9331a6ab",
   "metadata": {},
   "outputs": [
    {
     "data": {
      "text/html": [
       "<div>\n",
       "<style scoped>\n",
       "    .dataframe tbody tr th:only-of-type {\n",
       "        vertical-align: middle;\n",
       "    }\n",
       "\n",
       "    .dataframe tbody tr th {\n",
       "        vertical-align: top;\n",
       "    }\n",
       "\n",
       "    .dataframe thead th {\n",
       "        text-align: right;\n",
       "    }\n",
       "</style>\n",
       "<table border=\"1\" class=\"dataframe\">\n",
       "  <thead>\n",
       "    <tr style=\"text-align: right;\">\n",
       "      <th></th>\n",
       "      <th>Gaze point X</th>\n",
       "      <th>Gaze point Y</th>\n",
       "      <th>Gaze point 3D X</th>\n",
       "      <th>Gaze point 3D Y</th>\n",
       "      <th>Gaze point 3D Z</th>\n",
       "      <th>Gaze direction left X</th>\n",
       "      <th>Gaze direction left Y</th>\n",
       "      <th>Gaze direction left Z</th>\n",
       "      <th>Gaze direction right X</th>\n",
       "      <th>Gaze direction right Y</th>\n",
       "      <th>...</th>\n",
       "      <th>Pupil position right Y</th>\n",
       "      <th>Pupil position right Z</th>\n",
       "      <th>Pupil diameter left</th>\n",
       "      <th>Pupil diameter right</th>\n",
       "      <th>Eye movement type</th>\n",
       "      <th>Gaze event duration</th>\n",
       "      <th>Eye movement type index</th>\n",
       "      <th>Fixation point X</th>\n",
       "      <th>Fixation point Y</th>\n",
       "      <th>Disease</th>\n",
       "    </tr>\n",
       "  </thead>\n",
       "  <tbody>\n",
       "    <tr>\n",
       "      <th>0</th>\n",
       "      <td>834</td>\n",
       "      <td>201</td>\n",
       "      <td>65.2976</td>\n",
       "      <td>194.7396</td>\n",
       "      <td>705.0029</td>\n",
       "      <td>0.04664</td>\n",
       "      <td>0.27595</td>\n",
       "      <td>0.96004</td>\n",
       "      <td>0.12449</td>\n",
       "      <td>0.28892</td>\n",
       "      <td>...</td>\n",
       "      <td>-22.12</td>\n",
       "      <td>-29.27</td>\n",
       "      <td>4.549</td>\n",
       "      <td>4.651</td>\n",
       "      <td>Fixation</td>\n",
       "      <td>165</td>\n",
       "      <td>1</td>\n",
       "      <td>832.0</td>\n",
       "      <td>204.0</td>\n",
       "      <td>1</td>\n",
       "    </tr>\n",
       "    <tr>\n",
       "      <th>1</th>\n",
       "      <td>834</td>\n",
       "      <td>201</td>\n",
       "      <td>66.5085</td>\n",
       "      <td>198.3373</td>\n",
       "      <td>718.1160</td>\n",
       "      <td>0.04779</td>\n",
       "      <td>0.27486</td>\n",
       "      <td>0.96029</td>\n",
       "      <td>0.12346</td>\n",
       "      <td>0.28925</td>\n",
       "      <td>...</td>\n",
       "      <td>-21.99</td>\n",
       "      <td>-29.26</td>\n",
       "      <td>4.596</td>\n",
       "      <td>4.688</td>\n",
       "      <td>Fixation</td>\n",
       "      <td>165</td>\n",
       "      <td>1</td>\n",
       "      <td>832.0</td>\n",
       "      <td>204.0</td>\n",
       "      <td>1</td>\n",
       "    </tr>\n",
       "    <tr>\n",
       "      <th>2</th>\n",
       "      <td>834</td>\n",
       "      <td>201</td>\n",
       "      <td>68.3859</td>\n",
       "      <td>204.2005</td>\n",
       "      <td>740.0531</td>\n",
       "      <td>0.04834</td>\n",
       "      <td>0.27521</td>\n",
       "      <td>0.96017</td>\n",
       "      <td>0.12270</td>\n",
       "      <td>0.28760</td>\n",
       "      <td>...</td>\n",
       "      <td>-22.12</td>\n",
       "      <td>-29.26</td>\n",
       "      <td>4.556</td>\n",
       "      <td>4.641</td>\n",
       "      <td>Fixation</td>\n",
       "      <td>165</td>\n",
       "      <td>1</td>\n",
       "      <td>832.0</td>\n",
       "      <td>204.0</td>\n",
       "      <td>1</td>\n",
       "    </tr>\n",
       "    <tr>\n",
       "      <th>3</th>\n",
       "      <td>833</td>\n",
       "      <td>202</td>\n",
       "      <td>69.6918</td>\n",
       "      <td>206.0272</td>\n",
       "      <td>749.0504</td>\n",
       "      <td>0.04987</td>\n",
       "      <td>0.27338</td>\n",
       "      <td>0.96061</td>\n",
       "      <td>0.12245</td>\n",
       "      <td>0.28747</td>\n",
       "      <td>...</td>\n",
       "      <td>-21.99</td>\n",
       "      <td>-29.25</td>\n",
       "      <td>4.588</td>\n",
       "      <td>4.671</td>\n",
       "      <td>Fixation</td>\n",
       "      <td>165</td>\n",
       "      <td>1</td>\n",
       "      <td>832.0</td>\n",
       "      <td>204.0</td>\n",
       "      <td>1</td>\n",
       "    </tr>\n",
       "    <tr>\n",
       "      <th>4</th>\n",
       "      <td>832</td>\n",
       "      <td>202</td>\n",
       "      <td>70.5377</td>\n",
       "      <td>207.4391</td>\n",
       "      <td>753.7401</td>\n",
       "      <td>0.04989</td>\n",
       "      <td>0.27496</td>\n",
       "      <td>0.96016</td>\n",
       "      <td>0.12342</td>\n",
       "      <td>0.28600</td>\n",
       "      <td>...</td>\n",
       "      <td>-22.12</td>\n",
       "      <td>-29.26</td>\n",
       "      <td>4.558</td>\n",
       "      <td>4.624</td>\n",
       "      <td>Fixation</td>\n",
       "      <td>165</td>\n",
       "      <td>1</td>\n",
       "      <td>832.0</td>\n",
       "      <td>204.0</td>\n",
       "      <td>1</td>\n",
       "    </tr>\n",
       "  </tbody>\n",
       "</table>\n",
       "<p>5 rows × 25 columns</p>\n",
       "</div>"
      ],
      "text/plain": [
       "   Gaze point X  Gaze point Y  Gaze point 3D X  Gaze point 3D Y  \\\n",
       "0           834           201          65.2976         194.7396   \n",
       "1           834           201          66.5085         198.3373   \n",
       "2           834           201          68.3859         204.2005   \n",
       "3           833           202          69.6918         206.0272   \n",
       "4           832           202          70.5377         207.4391   \n",
       "\n",
       "   Gaze point 3D Z  Gaze direction left X  Gaze direction left Y  \\\n",
       "0         705.0029                0.04664                0.27595   \n",
       "1         718.1160                0.04779                0.27486   \n",
       "2         740.0531                0.04834                0.27521   \n",
       "3         749.0504                0.04987                0.27338   \n",
       "4         753.7401                0.04989                0.27496   \n",
       "\n",
       "   Gaze direction left Z  Gaze direction right X  Gaze direction right Y  ...  \\\n",
       "0                0.96004                 0.12449                 0.28892  ...   \n",
       "1                0.96029                 0.12346                 0.28925  ...   \n",
       "2                0.96017                 0.12270                 0.28760  ...   \n",
       "3                0.96061                 0.12245                 0.28747  ...   \n",
       "4                0.96016                 0.12342                 0.28600  ...   \n",
       "\n",
       "   Pupil position right Y  Pupil position right Z  Pupil diameter left  \\\n",
       "0                  -22.12                  -29.27                4.549   \n",
       "1                  -21.99                  -29.26                4.596   \n",
       "2                  -22.12                  -29.26                4.556   \n",
       "3                  -21.99                  -29.25                4.588   \n",
       "4                  -22.12                  -29.26                4.558   \n",
       "\n",
       "   Pupil diameter right  Eye movement type  Gaze event duration  \\\n",
       "0                 4.651           Fixation                  165   \n",
       "1                 4.688           Fixation                  165   \n",
       "2                 4.641           Fixation                  165   \n",
       "3                 4.671           Fixation                  165   \n",
       "4                 4.624           Fixation                  165   \n",
       "\n",
       "   Eye movement type index  Fixation point X  Fixation point Y Disease  \n",
       "0                        1             832.0             204.0       1  \n",
       "1                        1             832.0             204.0       1  \n",
       "2                        1             832.0             204.0       1  \n",
       "3                        1             832.0             204.0       1  \n",
       "4                        1             832.0             204.0       1  \n",
       "\n",
       "[5 rows x 25 columns]"
      ]
     },
     "execution_count": 10,
     "metadata": {},
     "output_type": "execute_result"
    }
   ],
   "source": [
    "df.head()"
   ]
  },
  {
   "cell_type": "code",
   "execution_count": 11,
   "id": "b34a4718",
   "metadata": {},
   "outputs": [
    {
     "name": "stdout",
     "output_type": "stream",
     "text": [
      "<class 'pandas.core.frame.DataFrame'>\n",
      "Index: 57239 entries, 0 to 26881\n",
      "Data columns (total 25 columns):\n",
      " #   Column                   Non-Null Count  Dtype  \n",
      "---  ------                   --------------  -----  \n",
      " 0   Gaze point X             57239 non-null  int64  \n",
      " 1   Gaze point Y             57239 non-null  int64  \n",
      " 2   Gaze point 3D X          57239 non-null  float64\n",
      " 3   Gaze point 3D Y          57239 non-null  float64\n",
      " 4   Gaze point 3D Z          57239 non-null  float64\n",
      " 5   Gaze direction left X    57239 non-null  float64\n",
      " 6   Gaze direction left Y    57239 non-null  float64\n",
      " 7   Gaze direction left Z    57239 non-null  float64\n",
      " 8   Gaze direction right X   57239 non-null  float64\n",
      " 9   Gaze direction right Y   57239 non-null  float64\n",
      " 10  Gaze direction right Z   57239 non-null  float64\n",
      " 11  Pupil position left X    57239 non-null  float64\n",
      " 12  Pupil position left Y    57239 non-null  float64\n",
      " 13  Pupil position left Z    57239 non-null  float64\n",
      " 14  Pupil position right X   57239 non-null  float64\n",
      " 15  Pupil position right Y   57239 non-null  float64\n",
      " 16  Pupil position right Z   57239 non-null  float64\n",
      " 17  Pupil diameter left      57239 non-null  float64\n",
      " 18  Pupil diameter right     57239 non-null  float64\n",
      " 19  Eye movement type        57239 non-null  object \n",
      " 20  Gaze event duration      57239 non-null  int64  \n",
      " 21  Eye movement type index  57239 non-null  int64  \n",
      " 22  Fixation point X         48450 non-null  float64\n",
      " 23  Fixation point Y         48450 non-null  float64\n",
      " 24  Disease                  57239 non-null  int64  \n",
      "dtypes: float64(19), int64(5), object(1)\n",
      "memory usage: 11.4+ MB\n"
     ]
    }
   ],
   "source": [
    "df.info()"
   ]
  },
  {
   "cell_type": "code",
   "execution_count": 12,
   "id": "0883c8c4",
   "metadata": {},
   "outputs": [
    {
     "data": {
      "text/plain": [
       "array(['Fixation', 'EyesNotFound', 'Unclassified', 'Saccade'],\n",
       "      dtype=object)"
      ]
     },
     "execution_count": 12,
     "metadata": {},
     "output_type": "execute_result"
    }
   ],
   "source": [
    "df['Eye movement type'].unique()"
   ]
  },
  {
   "cell_type": "code",
   "execution_count": 13,
   "id": "18d30bca",
   "metadata": {},
   "outputs": [],
   "source": [
    "valuesToEncode = {'Fixation':0, 'EyesNotFound':1, 'Saccade':2, 'Unclassified':3}"
   ]
  },
  {
   "cell_type": "code",
   "execution_count": 14,
   "id": "246e90c0",
   "metadata": {},
   "outputs": [],
   "source": [
    "# df[['Eye movement type']].applymap(valuesToEncode)\n",
    "df.drop(['Eye movement type','Gaze event duration','Eye movement type index'],axis=1,inplace=True)"
   ]
  },
  {
   "cell_type": "code",
   "execution_count": 15,
   "id": "85a86ecf",
   "metadata": {},
   "outputs": [
    {
     "name": "stdout",
     "output_type": "stream",
     "text": [
      "<class 'pandas.core.frame.DataFrame'>\n",
      "Index: 57239 entries, 0 to 26881\n",
      "Data columns (total 22 columns):\n",
      " #   Column                  Non-Null Count  Dtype  \n",
      "---  ------                  --------------  -----  \n",
      " 0   Gaze point X            57239 non-null  int64  \n",
      " 1   Gaze point Y            57239 non-null  int64  \n",
      " 2   Gaze point 3D X         57239 non-null  float64\n",
      " 3   Gaze point 3D Y         57239 non-null  float64\n",
      " 4   Gaze point 3D Z         57239 non-null  float64\n",
      " 5   Gaze direction left X   57239 non-null  float64\n",
      " 6   Gaze direction left Y   57239 non-null  float64\n",
      " 7   Gaze direction left Z   57239 non-null  float64\n",
      " 8   Gaze direction right X  57239 non-null  float64\n",
      " 9   Gaze direction right Y  57239 non-null  float64\n",
      " 10  Gaze direction right Z  57239 non-null  float64\n",
      " 11  Pupil position left X   57239 non-null  float64\n",
      " 12  Pupil position left Y   57239 non-null  float64\n",
      " 13  Pupil position left Z   57239 non-null  float64\n",
      " 14  Pupil position right X  57239 non-null  float64\n",
      " 15  Pupil position right Y  57239 non-null  float64\n",
      " 16  Pupil position right Z  57239 non-null  float64\n",
      " 17  Pupil diameter left     57239 non-null  float64\n",
      " 18  Pupil diameter right    57239 non-null  float64\n",
      " 19  Fixation point X        48450 non-null  float64\n",
      " 20  Fixation point Y        48450 non-null  float64\n",
      " 21  Disease                 57239 non-null  int64  \n",
      "dtypes: float64(19), int64(3)\n",
      "memory usage: 10.0 MB\n"
     ]
    }
   ],
   "source": [
    "df.info()"
   ]
  },
  {
   "cell_type": "code",
   "execution_count": 16,
   "id": "b91a8de2",
   "metadata": {},
   "outputs": [
    {
     "data": {
      "text/plain": [
       "0      834\n",
       "1      834\n",
       "2      834\n",
       "3      833\n",
       "4      832\n",
       "      ... \n",
       "995    920\n",
       "996    919\n",
       "997    918\n",
       "998    916\n",
       "999    915\n",
       "Name: Gaze point X, Length: 1000, dtype: int64"
      ]
     },
     "execution_count": 16,
     "metadata": {},
     "output_type": "execute_result"
    }
   ],
   "source": [
    "df['Gaze point X'].iloc[:1000]"
   ]
  },
  {
   "cell_type": "code",
   "execution_count": 17,
   "id": "c846e3f9",
   "metadata": {},
   "outputs": [],
   "source": [
    "df['Fixation point X'].fillna(df['Fixation point X'].mean(),inplace=True)\n",
    "df['Fixation point Y'].fillna(df['Fixation point Y'].mean(),inplace=True)"
   ]
  },
  {
   "cell_type": "code",
   "execution_count": 18,
   "id": "6f39a711",
   "metadata": {},
   "outputs": [
    {
     "data": {
      "text/plain": [
       "Gaze point X              0\n",
       "Gaze point Y              0\n",
       "Gaze point 3D X           0\n",
       "Gaze point 3D Y           0\n",
       "Gaze point 3D Z           0\n",
       "Gaze direction left X     0\n",
       "Gaze direction left Y     0\n",
       "Gaze direction left Z     0\n",
       "Gaze direction right X    0\n",
       "Gaze direction right Y    0\n",
       "Gaze direction right Z    0\n",
       "Pupil position left X     0\n",
       "Pupil position left Y     0\n",
       "Pupil position left Z     0\n",
       "Pupil position right X    0\n",
       "Pupil position right Y    0\n",
       "Pupil position right Z    0\n",
       "Pupil diameter left       0\n",
       "Pupil diameter right      0\n",
       "Fixation point X          0\n",
       "Fixation point Y          0\n",
       "Disease                   0\n",
       "dtype: int64"
      ]
     },
     "execution_count": 18,
     "metadata": {},
     "output_type": "execute_result"
    }
   ],
   "source": [
    "df.isnull().sum()"
   ]
  },
  {
   "cell_type": "code",
   "execution_count": 19,
   "id": "792c0596",
   "metadata": {},
   "outputs": [],
   "source": [
    "df.drop(['Fixation point X','Fixation point Y'],axis=1,inplace=True)"
   ]
  },
  {
   "cell_type": "code",
   "execution_count": 20,
   "id": "17570a2c",
   "metadata": {},
   "outputs": [],
   "source": [
    "df = df.sample(frac=1).reset_index(drop=True)"
   ]
  },
  {
   "cell_type": "code",
   "execution_count": 21,
   "id": "63e9e362",
   "metadata": {},
   "outputs": [
    {
     "data": {
      "text/html": [
       "<div>\n",
       "<style scoped>\n",
       "    .dataframe tbody tr th:only-of-type {\n",
       "        vertical-align: middle;\n",
       "    }\n",
       "\n",
       "    .dataframe tbody tr th {\n",
       "        vertical-align: top;\n",
       "    }\n",
       "\n",
       "    .dataframe thead th {\n",
       "        text-align: right;\n",
       "    }\n",
       "</style>\n",
       "<table border=\"1\" class=\"dataframe\">\n",
       "  <thead>\n",
       "    <tr style=\"text-align: right;\">\n",
       "      <th></th>\n",
       "      <th>Gaze point X</th>\n",
       "      <th>Gaze point Y</th>\n",
       "      <th>Gaze point 3D X</th>\n",
       "      <th>Gaze point 3D Y</th>\n",
       "      <th>Gaze point 3D Z</th>\n",
       "      <th>Gaze direction left X</th>\n",
       "      <th>Gaze direction left Y</th>\n",
       "      <th>Gaze direction left Z</th>\n",
       "      <th>Gaze direction right X</th>\n",
       "      <th>Gaze direction right Y</th>\n",
       "      <th>Gaze direction right Z</th>\n",
       "      <th>Pupil position left X</th>\n",
       "      <th>Pupil position left Y</th>\n",
       "      <th>Pupil position left Z</th>\n",
       "      <th>Pupil position right X</th>\n",
       "      <th>Pupil position right Y</th>\n",
       "      <th>Pupil position right Z</th>\n",
       "      <th>Pupil diameter left</th>\n",
       "      <th>Pupil diameter right</th>\n",
       "      <th>Disease</th>\n",
       "    </tr>\n",
       "  </thead>\n",
       "  <tbody>\n",
       "    <tr>\n",
       "      <th>0</th>\n",
       "      <td>870</td>\n",
       "      <td>447</td>\n",
       "      <td>30.0412</td>\n",
       "      <td>30.7271</td>\n",
       "      <td>489.4609</td>\n",
       "      <td>-0.00233</td>\n",
       "      <td>0.09347</td>\n",
       "      <td>0.99562</td>\n",
       "      <td>0.11711</td>\n",
       "      <td>0.09674</td>\n",
       "      <td>0.98840</td>\n",
       "      <td>31.31</td>\n",
       "      <td>-18.89</td>\n",
       "      <td>-27.32</td>\n",
       "      <td>-31.20</td>\n",
       "      <td>-18.75</td>\n",
       "      <td>-27.16</td>\n",
       "      <td>3.676</td>\n",
       "      <td>3.440</td>\n",
       "      <td>0</td>\n",
       "    </tr>\n",
       "    <tr>\n",
       "      <th>1</th>\n",
       "      <td>621</td>\n",
       "      <td>176</td>\n",
       "      <td>161.5331</td>\n",
       "      <td>173.2975</td>\n",
       "      <td>583.4825</td>\n",
       "      <td>0.20433</td>\n",
       "      <td>0.28133</td>\n",
       "      <td>0.93761</td>\n",
       "      <td>0.28050</td>\n",
       "      <td>0.30803</td>\n",
       "      <td>0.90909</td>\n",
       "      <td>31.78</td>\n",
       "      <td>-23.44</td>\n",
       "      <td>-31.93</td>\n",
       "      <td>-31.67</td>\n",
       "      <td>-22.12</td>\n",
       "      <td>-29.04</td>\n",
       "      <td>4.227</td>\n",
       "      <td>4.111</td>\n",
       "      <td>1</td>\n",
       "    </tr>\n",
       "    <tr>\n",
       "      <th>2</th>\n",
       "      <td>870</td>\n",
       "      <td>138</td>\n",
       "      <td>40.0813</td>\n",
       "      <td>216.5730</td>\n",
       "      <td>655.9355</td>\n",
       "      <td>0.01606</td>\n",
       "      <td>0.33951</td>\n",
       "      <td>0.94046</td>\n",
       "      <td>0.09615</td>\n",
       "      <td>0.31660</td>\n",
       "      <td>0.94368</td>\n",
       "      <td>30.63</td>\n",
       "      <td>-23.18</td>\n",
       "      <td>-31.73</td>\n",
       "      <td>-32.22</td>\n",
       "      <td>-21.75</td>\n",
       "      <td>-29.35</td>\n",
       "      <td>4.045</td>\n",
       "      <td>3.998</td>\n",
       "      <td>1</td>\n",
       "    </tr>\n",
       "    <tr>\n",
       "      <th>3</th>\n",
       "      <td>965</td>\n",
       "      <td>425</td>\n",
       "      <td>-11.9307</td>\n",
       "      <td>44.8149</td>\n",
       "      <td>543.5453</td>\n",
       "      <td>-0.07379</td>\n",
       "      <td>0.11524</td>\n",
       "      <td>0.99059</td>\n",
       "      <td>0.03322</td>\n",
       "      <td>0.10874</td>\n",
       "      <td>0.99352</td>\n",
       "      <td>30.90</td>\n",
       "      <td>-18.69</td>\n",
       "      <td>-27.70</td>\n",
       "      <td>-31.55</td>\n",
       "      <td>-18.30</td>\n",
       "      <td>-27.71</td>\n",
       "      <td>4.024</td>\n",
       "      <td>3.845</td>\n",
       "      <td>0</td>\n",
       "    </tr>\n",
       "    <tr>\n",
       "      <th>4</th>\n",
       "      <td>833</td>\n",
       "      <td>37</td>\n",
       "      <td>65.6117</td>\n",
       "      <td>294.4182</td>\n",
       "      <td>705.6104</td>\n",
       "      <td>0.04967</td>\n",
       "      <td>0.40779</td>\n",
       "      <td>0.91172</td>\n",
       "      <td>0.11505</td>\n",
       "      <td>0.37934</td>\n",
       "      <td>0.91808</td>\n",
       "      <td>30.68</td>\n",
       "      <td>-23.09</td>\n",
       "      <td>-31.89</td>\n",
       "      <td>-32.13</td>\n",
       "      <td>-21.50</td>\n",
       "      <td>-29.50</td>\n",
       "      <td>4.838</td>\n",
       "      <td>4.625</td>\n",
       "      <td>1</td>\n",
       "    </tr>\n",
       "    <tr>\n",
       "      <th>5</th>\n",
       "      <td>953</td>\n",
       "      <td>442</td>\n",
       "      <td>-5.3173</td>\n",
       "      <td>32.3118</td>\n",
       "      <td>478.9254</td>\n",
       "      <td>-0.07085</td>\n",
       "      <td>0.09549</td>\n",
       "      <td>0.99291</td>\n",
       "      <td>0.05129</td>\n",
       "      <td>0.10323</td>\n",
       "      <td>0.99333</td>\n",
       "      <td>31.02</td>\n",
       "      <td>-18.58</td>\n",
       "      <td>-27.91</td>\n",
       "      <td>-31.62</td>\n",
       "      <td>-18.24</td>\n",
       "      <td>-27.86</td>\n",
       "      <td>3.594</td>\n",
       "      <td>3.487</td>\n",
       "      <td>0</td>\n",
       "    </tr>\n",
       "    <tr>\n",
       "      <th>6</th>\n",
       "      <td>775</td>\n",
       "      <td>175</td>\n",
       "      <td>87.0287</td>\n",
       "      <td>180.5656</td>\n",
       "      <td>604.8428</td>\n",
       "      <td>0.08490</td>\n",
       "      <td>0.31118</td>\n",
       "      <td>0.94655</td>\n",
       "      <td>0.17450</td>\n",
       "      <td>0.29199</td>\n",
       "      <td>0.94037</td>\n",
       "      <td>31.01</td>\n",
       "      <td>-23.22</td>\n",
       "      <td>-31.86</td>\n",
       "      <td>-31.88</td>\n",
       "      <td>-21.80</td>\n",
       "      <td>-29.32</td>\n",
       "      <td>3.866</td>\n",
       "      <td>3.763</td>\n",
       "      <td>1</td>\n",
       "    </tr>\n",
       "    <tr>\n",
       "      <th>7</th>\n",
       "      <td>998</td>\n",
       "      <td>444</td>\n",
       "      <td>-23.3229</td>\n",
       "      <td>30.0399</td>\n",
       "      <td>459.1394</td>\n",
       "      <td>-0.10869</td>\n",
       "      <td>0.10799</td>\n",
       "      <td>0.98819</td>\n",
       "      <td>0.01617</td>\n",
       "      <td>0.09030</td>\n",
       "      <td>0.99578</td>\n",
       "      <td>30.74</td>\n",
       "      <td>-18.87</td>\n",
       "      <td>-27.34</td>\n",
       "      <td>-31.82</td>\n",
       "      <td>-18.31</td>\n",
       "      <td>-27.66</td>\n",
       "      <td>3.536</td>\n",
       "      <td>3.450</td>\n",
       "      <td>0</td>\n",
       "    </tr>\n",
       "    <tr>\n",
       "      <th>8</th>\n",
       "      <td>852</td>\n",
       "      <td>181</td>\n",
       "      <td>53.5353</td>\n",
       "      <td>204.8895</td>\n",
       "      <td>697.5514</td>\n",
       "      <td>0.02991</td>\n",
       "      <td>0.30190</td>\n",
       "      <td>0.95287</td>\n",
       "      <td>0.11191</td>\n",
       "      <td>0.29270</td>\n",
       "      <td>0.94963</td>\n",
       "      <td>30.90</td>\n",
       "      <td>-23.39</td>\n",
       "      <td>-31.71</td>\n",
       "      <td>-32.42</td>\n",
       "      <td>-21.88</td>\n",
       "      <td>-29.30</td>\n",
       "      <td>4.314</td>\n",
       "      <td>4.390</td>\n",
       "      <td>1</td>\n",
       "    </tr>\n",
       "    <tr>\n",
       "      <th>9</th>\n",
       "      <td>960</td>\n",
       "      <td>479</td>\n",
       "      <td>-7.8326</td>\n",
       "      <td>15.6056</td>\n",
       "      <td>443.2979</td>\n",
       "      <td>-0.08149</td>\n",
       "      <td>0.07309</td>\n",
       "      <td>0.99399</td>\n",
       "      <td>0.05049</td>\n",
       "      <td>0.07029</td>\n",
       "      <td>0.99625</td>\n",
       "      <td>30.86</td>\n",
       "      <td>-18.61</td>\n",
       "      <td>-28.29</td>\n",
       "      <td>-31.76</td>\n",
       "      <td>-18.13</td>\n",
       "      <td>-28.08</td>\n",
       "      <td>3.506</td>\n",
       "      <td>3.389</td>\n",
       "      <td>0</td>\n",
       "    </tr>\n",
       "  </tbody>\n",
       "</table>\n",
       "</div>"
      ],
      "text/plain": [
       "   Gaze point X  Gaze point Y  Gaze point 3D X  Gaze point 3D Y  \\\n",
       "0           870           447          30.0412          30.7271   \n",
       "1           621           176         161.5331         173.2975   \n",
       "2           870           138          40.0813         216.5730   \n",
       "3           965           425         -11.9307          44.8149   \n",
       "4           833            37          65.6117         294.4182   \n",
       "5           953           442          -5.3173          32.3118   \n",
       "6           775           175          87.0287         180.5656   \n",
       "7           998           444         -23.3229          30.0399   \n",
       "8           852           181          53.5353         204.8895   \n",
       "9           960           479          -7.8326          15.6056   \n",
       "\n",
       "   Gaze point 3D Z  Gaze direction left X  Gaze direction left Y  \\\n",
       "0         489.4609               -0.00233                0.09347   \n",
       "1         583.4825                0.20433                0.28133   \n",
       "2         655.9355                0.01606                0.33951   \n",
       "3         543.5453               -0.07379                0.11524   \n",
       "4         705.6104                0.04967                0.40779   \n",
       "5         478.9254               -0.07085                0.09549   \n",
       "6         604.8428                0.08490                0.31118   \n",
       "7         459.1394               -0.10869                0.10799   \n",
       "8         697.5514                0.02991                0.30190   \n",
       "9         443.2979               -0.08149                0.07309   \n",
       "\n",
       "   Gaze direction left Z  Gaze direction right X  Gaze direction right Y  \\\n",
       "0                0.99562                 0.11711                 0.09674   \n",
       "1                0.93761                 0.28050                 0.30803   \n",
       "2                0.94046                 0.09615                 0.31660   \n",
       "3                0.99059                 0.03322                 0.10874   \n",
       "4                0.91172                 0.11505                 0.37934   \n",
       "5                0.99291                 0.05129                 0.10323   \n",
       "6                0.94655                 0.17450                 0.29199   \n",
       "7                0.98819                 0.01617                 0.09030   \n",
       "8                0.95287                 0.11191                 0.29270   \n",
       "9                0.99399                 0.05049                 0.07029   \n",
       "\n",
       "   Gaze direction right Z  Pupil position left X  Pupil position left Y  \\\n",
       "0                 0.98840                  31.31                 -18.89   \n",
       "1                 0.90909                  31.78                 -23.44   \n",
       "2                 0.94368                  30.63                 -23.18   \n",
       "3                 0.99352                  30.90                 -18.69   \n",
       "4                 0.91808                  30.68                 -23.09   \n",
       "5                 0.99333                  31.02                 -18.58   \n",
       "6                 0.94037                  31.01                 -23.22   \n",
       "7                 0.99578                  30.74                 -18.87   \n",
       "8                 0.94963                  30.90                 -23.39   \n",
       "9                 0.99625                  30.86                 -18.61   \n",
       "\n",
       "   Pupil position left Z  Pupil position right X  Pupil position right Y  \\\n",
       "0                 -27.32                  -31.20                  -18.75   \n",
       "1                 -31.93                  -31.67                  -22.12   \n",
       "2                 -31.73                  -32.22                  -21.75   \n",
       "3                 -27.70                  -31.55                  -18.30   \n",
       "4                 -31.89                  -32.13                  -21.50   \n",
       "5                 -27.91                  -31.62                  -18.24   \n",
       "6                 -31.86                  -31.88                  -21.80   \n",
       "7                 -27.34                  -31.82                  -18.31   \n",
       "8                 -31.71                  -32.42                  -21.88   \n",
       "9                 -28.29                  -31.76                  -18.13   \n",
       "\n",
       "   Pupil position right Z  Pupil diameter left  Pupil diameter right  Disease  \n",
       "0                  -27.16                3.676                 3.440        0  \n",
       "1                  -29.04                4.227                 4.111        1  \n",
       "2                  -29.35                4.045                 3.998        1  \n",
       "3                  -27.71                4.024                 3.845        0  \n",
       "4                  -29.50                4.838                 4.625        1  \n",
       "5                  -27.86                3.594                 3.487        0  \n",
       "6                  -29.32                3.866                 3.763        1  \n",
       "7                  -27.66                3.536                 3.450        0  \n",
       "8                  -29.30                4.314                 4.390        1  \n",
       "9                  -28.08                3.506                 3.389        0  "
      ]
     },
     "execution_count": 21,
     "metadata": {},
     "output_type": "execute_result"
    }
   ],
   "source": [
    "df.head(10)"
   ]
  },
  {
   "cell_type": "code",
   "execution_count": 22,
   "id": "97d8e051",
   "metadata": {},
   "outputs": [],
   "source": [
    "X = df.iloc[:,:-1]\n",
    "y = df['Disease']"
   ]
  },
  {
   "cell_type": "code",
   "execution_count": 23,
   "id": "02c4ff1a",
   "metadata": {},
   "outputs": [
    {
     "data": {
      "text/html": [
       "<div>\n",
       "<style scoped>\n",
       "    .dataframe tbody tr th:only-of-type {\n",
       "        vertical-align: middle;\n",
       "    }\n",
       "\n",
       "    .dataframe tbody tr th {\n",
       "        vertical-align: top;\n",
       "    }\n",
       "\n",
       "    .dataframe thead th {\n",
       "        text-align: right;\n",
       "    }\n",
       "</style>\n",
       "<table border=\"1\" class=\"dataframe\">\n",
       "  <thead>\n",
       "    <tr style=\"text-align: right;\">\n",
       "      <th></th>\n",
       "      <th>Gaze point X</th>\n",
       "      <th>Gaze point Y</th>\n",
       "      <th>Gaze point 3D X</th>\n",
       "      <th>Gaze point 3D Y</th>\n",
       "      <th>Gaze point 3D Z</th>\n",
       "      <th>Gaze direction left X</th>\n",
       "      <th>Gaze direction left Y</th>\n",
       "      <th>Gaze direction left Z</th>\n",
       "      <th>Gaze direction right X</th>\n",
       "      <th>Gaze direction right Y</th>\n",
       "      <th>Gaze direction right Z</th>\n",
       "      <th>Pupil position left X</th>\n",
       "      <th>Pupil position left Y</th>\n",
       "      <th>Pupil position left Z</th>\n",
       "      <th>Pupil position right X</th>\n",
       "      <th>Pupil position right Y</th>\n",
       "      <th>Pupil position right Z</th>\n",
       "      <th>Pupil diameter left</th>\n",
       "      <th>Pupil diameter right</th>\n",
       "    </tr>\n",
       "  </thead>\n",
       "  <tbody>\n",
       "    <tr>\n",
       "      <th>0</th>\n",
       "      <td>870</td>\n",
       "      <td>447</td>\n",
       "      <td>30.0412</td>\n",
       "      <td>30.7271</td>\n",
       "      <td>489.4609</td>\n",
       "      <td>-0.00233</td>\n",
       "      <td>0.09347</td>\n",
       "      <td>0.99562</td>\n",
       "      <td>0.11711</td>\n",
       "      <td>0.09674</td>\n",
       "      <td>0.98840</td>\n",
       "      <td>31.31</td>\n",
       "      <td>-18.89</td>\n",
       "      <td>-27.32</td>\n",
       "      <td>-31.20</td>\n",
       "      <td>-18.75</td>\n",
       "      <td>-27.16</td>\n",
       "      <td>3.676</td>\n",
       "      <td>3.440</td>\n",
       "    </tr>\n",
       "    <tr>\n",
       "      <th>1</th>\n",
       "      <td>621</td>\n",
       "      <td>176</td>\n",
       "      <td>161.5331</td>\n",
       "      <td>173.2975</td>\n",
       "      <td>583.4825</td>\n",
       "      <td>0.20433</td>\n",
       "      <td>0.28133</td>\n",
       "      <td>0.93761</td>\n",
       "      <td>0.28050</td>\n",
       "      <td>0.30803</td>\n",
       "      <td>0.90909</td>\n",
       "      <td>31.78</td>\n",
       "      <td>-23.44</td>\n",
       "      <td>-31.93</td>\n",
       "      <td>-31.67</td>\n",
       "      <td>-22.12</td>\n",
       "      <td>-29.04</td>\n",
       "      <td>4.227</td>\n",
       "      <td>4.111</td>\n",
       "    </tr>\n",
       "    <tr>\n",
       "      <th>2</th>\n",
       "      <td>870</td>\n",
       "      <td>138</td>\n",
       "      <td>40.0813</td>\n",
       "      <td>216.5730</td>\n",
       "      <td>655.9355</td>\n",
       "      <td>0.01606</td>\n",
       "      <td>0.33951</td>\n",
       "      <td>0.94046</td>\n",
       "      <td>0.09615</td>\n",
       "      <td>0.31660</td>\n",
       "      <td>0.94368</td>\n",
       "      <td>30.63</td>\n",
       "      <td>-23.18</td>\n",
       "      <td>-31.73</td>\n",
       "      <td>-32.22</td>\n",
       "      <td>-21.75</td>\n",
       "      <td>-29.35</td>\n",
       "      <td>4.045</td>\n",
       "      <td>3.998</td>\n",
       "    </tr>\n",
       "    <tr>\n",
       "      <th>3</th>\n",
       "      <td>965</td>\n",
       "      <td>425</td>\n",
       "      <td>-11.9307</td>\n",
       "      <td>44.8149</td>\n",
       "      <td>543.5453</td>\n",
       "      <td>-0.07379</td>\n",
       "      <td>0.11524</td>\n",
       "      <td>0.99059</td>\n",
       "      <td>0.03322</td>\n",
       "      <td>0.10874</td>\n",
       "      <td>0.99352</td>\n",
       "      <td>30.90</td>\n",
       "      <td>-18.69</td>\n",
       "      <td>-27.70</td>\n",
       "      <td>-31.55</td>\n",
       "      <td>-18.30</td>\n",
       "      <td>-27.71</td>\n",
       "      <td>4.024</td>\n",
       "      <td>3.845</td>\n",
       "    </tr>\n",
       "    <tr>\n",
       "      <th>4</th>\n",
       "      <td>833</td>\n",
       "      <td>37</td>\n",
       "      <td>65.6117</td>\n",
       "      <td>294.4182</td>\n",
       "      <td>705.6104</td>\n",
       "      <td>0.04967</td>\n",
       "      <td>0.40779</td>\n",
       "      <td>0.91172</td>\n",
       "      <td>0.11505</td>\n",
       "      <td>0.37934</td>\n",
       "      <td>0.91808</td>\n",
       "      <td>30.68</td>\n",
       "      <td>-23.09</td>\n",
       "      <td>-31.89</td>\n",
       "      <td>-32.13</td>\n",
       "      <td>-21.50</td>\n",
       "      <td>-29.50</td>\n",
       "      <td>4.838</td>\n",
       "      <td>4.625</td>\n",
       "    </tr>\n",
       "  </tbody>\n",
       "</table>\n",
       "</div>"
      ],
      "text/plain": [
       "   Gaze point X  Gaze point Y  Gaze point 3D X  Gaze point 3D Y  \\\n",
       "0           870           447          30.0412          30.7271   \n",
       "1           621           176         161.5331         173.2975   \n",
       "2           870           138          40.0813         216.5730   \n",
       "3           965           425         -11.9307          44.8149   \n",
       "4           833            37          65.6117         294.4182   \n",
       "\n",
       "   Gaze point 3D Z  Gaze direction left X  Gaze direction left Y  \\\n",
       "0         489.4609               -0.00233                0.09347   \n",
       "1         583.4825                0.20433                0.28133   \n",
       "2         655.9355                0.01606                0.33951   \n",
       "3         543.5453               -0.07379                0.11524   \n",
       "4         705.6104                0.04967                0.40779   \n",
       "\n",
       "   Gaze direction left Z  Gaze direction right X  Gaze direction right Y  \\\n",
       "0                0.99562                 0.11711                 0.09674   \n",
       "1                0.93761                 0.28050                 0.30803   \n",
       "2                0.94046                 0.09615                 0.31660   \n",
       "3                0.99059                 0.03322                 0.10874   \n",
       "4                0.91172                 0.11505                 0.37934   \n",
       "\n",
       "   Gaze direction right Z  Pupil position left X  Pupil position left Y  \\\n",
       "0                 0.98840                  31.31                 -18.89   \n",
       "1                 0.90909                  31.78                 -23.44   \n",
       "2                 0.94368                  30.63                 -23.18   \n",
       "3                 0.99352                  30.90                 -18.69   \n",
       "4                 0.91808                  30.68                 -23.09   \n",
       "\n",
       "   Pupil position left Z  Pupil position right X  Pupil position right Y  \\\n",
       "0                 -27.32                  -31.20                  -18.75   \n",
       "1                 -31.93                  -31.67                  -22.12   \n",
       "2                 -31.73                  -32.22                  -21.75   \n",
       "3                 -27.70                  -31.55                  -18.30   \n",
       "4                 -31.89                  -32.13                  -21.50   \n",
       "\n",
       "   Pupil position right Z  Pupil diameter left  Pupil diameter right  \n",
       "0                  -27.16                3.676                 3.440  \n",
       "1                  -29.04                4.227                 4.111  \n",
       "2                  -29.35                4.045                 3.998  \n",
       "3                  -27.71                4.024                 3.845  \n",
       "4                  -29.50                4.838                 4.625  "
      ]
     },
     "execution_count": 23,
     "metadata": {},
     "output_type": "execute_result"
    }
   ],
   "source": [
    "X.head()"
   ]
  },
  {
   "cell_type": "code",
   "execution_count": 24,
   "id": "6f88b2e8",
   "metadata": {},
   "outputs": [
    {
     "data": {
      "text/plain": [
       "0        0\n",
       "1        1\n",
       "2        1\n",
       "3        0\n",
       "4        1\n",
       "        ..\n",
       "57234    0\n",
       "57235    1\n",
       "57236    1\n",
       "57237    1\n",
       "57238    1\n",
       "Name: Disease, Length: 57239, dtype: int64"
      ]
     },
     "execution_count": 24,
     "metadata": {},
     "output_type": "execute_result"
    }
   ],
   "source": [
    "y"
   ]
  },
  {
   "cell_type": "code",
   "execution_count": 25,
   "id": "59ad91d2",
   "metadata": {},
   "outputs": [],
   "source": [
    "from sklearn.model_selection import train_test_split"
   ]
  },
  {
   "cell_type": "code",
   "execution_count": 26,
   "id": "65e2b1e8",
   "metadata": {},
   "outputs": [],
   "source": [
    "X_train,X_test,y_train,y_test = train_test_split(X,y,train_size=0.75)"
   ]
  },
  {
   "cell_type": "code",
   "execution_count": 27,
   "id": "12e01364",
   "metadata": {},
   "outputs": [
    {
     "data": {
      "text/plain": [
       "(42929, 19)"
      ]
     },
     "execution_count": 27,
     "metadata": {},
     "output_type": "execute_result"
    }
   ],
   "source": [
    "X_train.shape"
   ]
  },
  {
   "cell_type": "code",
   "execution_count": 28,
   "id": "8cf9595b",
   "metadata": {},
   "outputs": [
    {
     "data": {
      "text/plain": [
       "(14310, 19)"
      ]
     },
     "execution_count": 28,
     "metadata": {},
     "output_type": "execute_result"
    }
   ],
   "source": [
    "X_test.shape"
   ]
  },
  {
   "cell_type": "markdown",
   "id": "47295b9a",
   "metadata": {},
   "source": [
    "# Support Vector Machine (SVM)"
   ]
  },
  {
   "cell_type": "code",
   "execution_count": 29,
   "id": "eb74586a",
   "metadata": {},
   "outputs": [],
   "source": [
    "from sklearn.svm import SVC"
   ]
  },
  {
   "cell_type": "code",
   "execution_count": 30,
   "id": "8c53c1bb",
   "metadata": {},
   "outputs": [],
   "source": [
    "svc = SVC()"
   ]
  },
  {
   "cell_type": "code",
   "execution_count": 31,
   "id": "884f655b",
   "metadata": {},
   "outputs": [
    {
     "data": {
      "text/html": [
       "<style>#sk-container-id-1 {color: black;}#sk-container-id-1 pre{padding: 0;}#sk-container-id-1 div.sk-toggleable {background-color: white;}#sk-container-id-1 label.sk-toggleable__label {cursor: pointer;display: block;width: 100%;margin-bottom: 0;padding: 0.3em;box-sizing: border-box;text-align: center;}#sk-container-id-1 label.sk-toggleable__label-arrow:before {content: \"▸\";float: left;margin-right: 0.25em;color: #696969;}#sk-container-id-1 label.sk-toggleable__label-arrow:hover:before {color: black;}#sk-container-id-1 div.sk-estimator:hover label.sk-toggleable__label-arrow:before {color: black;}#sk-container-id-1 div.sk-toggleable__content {max-height: 0;max-width: 0;overflow: hidden;text-align: left;background-color: #f0f8ff;}#sk-container-id-1 div.sk-toggleable__content pre {margin: 0.2em;color: black;border-radius: 0.25em;background-color: #f0f8ff;}#sk-container-id-1 input.sk-toggleable__control:checked~div.sk-toggleable__content {max-height: 200px;max-width: 100%;overflow: auto;}#sk-container-id-1 input.sk-toggleable__control:checked~label.sk-toggleable__label-arrow:before {content: \"▾\";}#sk-container-id-1 div.sk-estimator input.sk-toggleable__control:checked~label.sk-toggleable__label {background-color: #d4ebff;}#sk-container-id-1 div.sk-label input.sk-toggleable__control:checked~label.sk-toggleable__label {background-color: #d4ebff;}#sk-container-id-1 input.sk-hidden--visually {border: 0;clip: rect(1px 1px 1px 1px);clip: rect(1px, 1px, 1px, 1px);height: 1px;margin: -1px;overflow: hidden;padding: 0;position: absolute;width: 1px;}#sk-container-id-1 div.sk-estimator {font-family: monospace;background-color: #f0f8ff;border: 1px dotted black;border-radius: 0.25em;box-sizing: border-box;margin-bottom: 0.5em;}#sk-container-id-1 div.sk-estimator:hover {background-color: #d4ebff;}#sk-container-id-1 div.sk-parallel-item::after {content: \"\";width: 100%;border-bottom: 1px solid gray;flex-grow: 1;}#sk-container-id-1 div.sk-label:hover label.sk-toggleable__label {background-color: #d4ebff;}#sk-container-id-1 div.sk-serial::before {content: \"\";position: absolute;border-left: 1px solid gray;box-sizing: border-box;top: 0;bottom: 0;left: 50%;z-index: 0;}#sk-container-id-1 div.sk-serial {display: flex;flex-direction: column;align-items: center;background-color: white;padding-right: 0.2em;padding-left: 0.2em;position: relative;}#sk-container-id-1 div.sk-item {position: relative;z-index: 1;}#sk-container-id-1 div.sk-parallel {display: flex;align-items: stretch;justify-content: center;background-color: white;position: relative;}#sk-container-id-1 div.sk-item::before, #sk-container-id-1 div.sk-parallel-item::before {content: \"\";position: absolute;border-left: 1px solid gray;box-sizing: border-box;top: 0;bottom: 0;left: 50%;z-index: -1;}#sk-container-id-1 div.sk-parallel-item {display: flex;flex-direction: column;z-index: 1;position: relative;background-color: white;}#sk-container-id-1 div.sk-parallel-item:first-child::after {align-self: flex-end;width: 50%;}#sk-container-id-1 div.sk-parallel-item:last-child::after {align-self: flex-start;width: 50%;}#sk-container-id-1 div.sk-parallel-item:only-child::after {width: 0;}#sk-container-id-1 div.sk-dashed-wrapped {border: 1px dashed gray;margin: 0 0.4em 0.5em 0.4em;box-sizing: border-box;padding-bottom: 0.4em;background-color: white;}#sk-container-id-1 div.sk-label label {font-family: monospace;font-weight: bold;display: inline-block;line-height: 1.2em;}#sk-container-id-1 div.sk-label-container {text-align: center;}#sk-container-id-1 div.sk-container {/* jupyter's `normalize.less` sets `[hidden] { display: none; }` but bootstrap.min.css set `[hidden] { display: none !important; }` so we also need the `!important` here to be able to override the default hidden behavior on the sphinx rendered scikit-learn.org. See: https://github.com/scikit-learn/scikit-learn/issues/21755 */display: inline-block !important;position: relative;}#sk-container-id-1 div.sk-text-repr-fallback {display: none;}</style><div id=\"sk-container-id-1\" class=\"sk-top-container\"><div class=\"sk-text-repr-fallback\"><pre>SVC()</pre><b>In a Jupyter environment, please rerun this cell to show the HTML representation or trust the notebook. <br />On GitHub, the HTML representation is unable to render, please try loading this page with nbviewer.org.</b></div><div class=\"sk-container\" hidden><div class=\"sk-item\"><div class=\"sk-estimator sk-toggleable\"><input class=\"sk-toggleable__control sk-hidden--visually\" id=\"sk-estimator-id-1\" type=\"checkbox\" checked><label for=\"sk-estimator-id-1\" class=\"sk-toggleable__label sk-toggleable__label-arrow\">SVC</label><div class=\"sk-toggleable__content\"><pre>SVC()</pre></div></div></div></div></div>"
      ],
      "text/plain": [
       "SVC()"
      ]
     },
     "execution_count": 31,
     "metadata": {},
     "output_type": "execute_result"
    }
   ],
   "source": [
    "svc.fit(X_train,y_train)"
   ]
  },
  {
   "cell_type": "code",
   "execution_count": 32,
   "id": "facf963e",
   "metadata": {},
   "outputs": [],
   "source": [
    "pred = svc.predict(X_test)"
   ]
  },
  {
   "cell_type": "code",
   "execution_count": 33,
   "id": "d9a9f170",
   "metadata": {},
   "outputs": [
    {
     "data": {
      "text/plain": [
       "array([1, 0, 0, ..., 0, 0, 0], dtype=int64)"
      ]
     },
     "execution_count": 33,
     "metadata": {},
     "output_type": "execute_result"
    }
   ],
   "source": [
    "pred"
   ]
  },
  {
   "cell_type": "code",
   "execution_count": 34,
   "id": "524e810e",
   "metadata": {},
   "outputs": [],
   "source": [
    "from sklearn.metrics import accuracy_score,recall_score,confusion_matrix,ConfusionMatrixDisplay"
   ]
  },
  {
   "cell_type": "code",
   "execution_count": 35,
   "id": "8adc8563",
   "metadata": {},
   "outputs": [],
   "source": [
    "accuracy = accuracy_score(pred,y_test)"
   ]
  },
  {
   "cell_type": "code",
   "execution_count": 36,
   "id": "749642a0",
   "metadata": {},
   "outputs": [
    {
     "data": {
      "text/plain": [
       "99.95108315863033"
      ]
     },
     "execution_count": 36,
     "metadata": {},
     "output_type": "execute_result"
    }
   ],
   "source": [
    "accuracy*100"
   ]
  },
  {
   "cell_type": "code",
   "execution_count": 37,
   "id": "7ebcc9b1",
   "metadata": {},
   "outputs": [
    {
     "data": {
      "text/plain": [
       "0.9996065573770492"
      ]
     },
     "execution_count": 37,
     "metadata": {},
     "output_type": "execute_result"
    }
   ],
   "source": [
    "svc_recall = recall_score(y_test,pred)\n",
    "svc_recall"
   ]
  },
  {
   "cell_type": "code",
   "execution_count": 38,
   "id": "ad5ceca0",
   "metadata": {},
   "outputs": [],
   "source": [
    "cm = confusion_matrix(y_test,pred)"
   ]
  },
  {
   "cell_type": "code",
   "execution_count": 39,
   "id": "924b41c8",
   "metadata": {},
   "outputs": [
    {
     "data": {
      "text/plain": [
       "array([[6681,    4],\n",
       "       [   3, 7622]], dtype=int64)"
      ]
     },
     "execution_count": 39,
     "metadata": {},
     "output_type": "execute_result"
    }
   ],
   "source": [
    "cm"
   ]
  },
  {
   "cell_type": "code",
   "execution_count": 40,
   "id": "228474a1",
   "metadata": {},
   "outputs": [
    {
     "data": {
      "text/plain": [
       "array([0, 1], dtype=int64)"
      ]
     },
     "execution_count": 40,
     "metadata": {},
     "output_type": "execute_result"
    }
   ],
   "source": [
    "svc.classes_"
   ]
  },
  {
   "cell_type": "code",
   "execution_count": 41,
   "id": "4425d3e3",
   "metadata": {},
   "outputs": [],
   "source": [
    "disp = ConfusionMatrixDisplay(confusion_matrix=cm,\n",
    "                              display_labels=svc.classes_)"
   ]
  },
  {
   "cell_type": "code",
   "execution_count": 42,
   "id": "46495ecd",
   "metadata": {},
   "outputs": [
    {
     "data": {
      "text/plain": [
       "<sklearn.metrics._plot.confusion_matrix.ConfusionMatrixDisplay at 0x23332a8b350>"
      ]
     },
     "execution_count": 42,
     "metadata": {},
     "output_type": "execute_result"
    },
    {
     "data": {
      "image/png": "[encoded data removed]",
      "text/plain": [
       "<Figure size 640x480 with 2 Axes>"
      ]
     },
     "metadata": {},
     "output_type": "display_data"
    }
   ],
   "source": [
    "disp.plot()"
   ]
  },
  {
   "cell_type": "markdown",
   "id": "c3e22855",
   "metadata": {},
   "source": [
    "# Precision Recall Curve"
   ]
  },
  {
   "cell_type": "markdown",
   "id": "638aafc8",
   "metadata": {},
   "source": [
    "# The PR-curve requires precision-recall to be calculated, and for that we need probabilities of the predictions.\n"
   ]
  },
  {
   "cell_type": "markdown",
   "id": "f6c7cc1f",
   "metadata": {},
   "source": [
    "# Support Vector Classifier (SVC)"
   ]
  },
  {
   "cell_type": "code",
   "execution_count": 43,
   "id": "ee759c81",
   "metadata": {},
   "outputs": [],
   "source": [
    "svc = SVC(probability=True)\n",
    "svc.fit(X_train,y_train)\n",
    "\n",
    "svc_preds = svc.predict(X_test) # Predictions\n",
    "svc_prob = svc.predict_proba(X_test)[:,1] \n",
    "\n",
    "# THIS WILL BE USED FOR PR-CURVE"
   ]
  },
  {
   "cell_type": "code",
   "execution_count": 44,
   "id": "285c5920",
   "metadata": {},
   "outputs": [
    {
     "data": {
      "text/plain": [
       "array([1.00000000e+00, 1.00000010e-07, 6.24034837e-06, ...,\n",
       "       1.00000010e-07, 5.36245207e-05, 1.00000010e-07])"
      ]
     },
     "execution_count": 44,
     "metadata": {},
     "output_type": "execute_result"
    }
   ],
   "source": [
    "svc_prob"
   ]
  },
  {
   "cell_type": "code",
   "execution_count": 45,
   "id": "a54358fd",
   "metadata": {},
   "outputs": [
    {
     "name": "stdout",
     "output_type": "stream",
     "text": [
      "Accuracy : 99.95%\n"
     ]
    }
   ],
   "source": [
    "accuracy = accuracy_score(y_test,svc_preds)\n",
    "print(f'Accuracy : {round(accuracy*100,2)}%')"
   ]
  },
  {
   "cell_type": "code",
   "execution_count": 46,
   "id": "70ffeca8",
   "metadata": {},
   "outputs": [],
   "source": [
    "from sklearn.metrics import accuracy_score,precision_recall_curve,auc"
   ]
  },
  {
   "cell_type": "code",
   "execution_count": 47,
   "id": "bad7c3e8",
   "metadata": {},
   "outputs": [],
   "source": [
    "precision_1,recall_1,threshold_1 = precision_recall_curve(y_test,svc_prob)"
   ]
  },
  {
   "cell_type": "markdown",
   "id": "03744291",
   "metadata": {},
   "source": [
    "# This is Area Under Curve (AUC) which measures the performance of the model.\n",
    "# Higher AUC means better model.\n",
    "# Range of AUC is 0 to 1"
   ]
  },
  {
   "cell_type": "code",
   "execution_count": 48,
   "id": "5a9be500",
   "metadata": {},
   "outputs": [
    {
     "name": "stdout",
     "output_type": "stream",
     "text": [
      "0.9999724381334831\n"
     ]
    }
   ],
   "source": [
    "auc_1= auc(recall_1,precision_1)\n",
    "print(auc_1)"
   ]
  },
  {
   "cell_type": "code",
   "execution_count": 49,
   "id": "3d53923a",
   "metadata": {},
   "outputs": [
    {
     "data": {
      "text/plain": [
       "<matplotlib.legend.Legend at 0x23332e7a3d0>"
      ]
     },
     "execution_count": 49,
     "metadata": {},
     "output_type": "execute_result"
    },
    {
     "data": {
      "image/png": "[encoded data removed]",
      "text/plain": [
       "<Figure size 640x480 with 1 Axes>"
      ]
     },
     "metadata": {},
     "output_type": "display_data"
    }
   ],
   "source": [
    "plt.title('PR-curve: SVC')\n",
    "\n",
    "plt.plot(recall_1,precision_1,label=f'AUC: {round(auc_1,2)}')\n",
    "\n",
    "plt.fill_between(recall_1,precision_1,alpha=0.2)\n",
    "\n",
    "plt.xlabel('Recall')\n",
    "plt.ylabel('Precision')\n",
    "plt.legend()"
   ]
  },
  {
   "cell_type": "code",
   "execution_count": 50,
   "id": "8998ca28",
   "metadata": {},
   "outputs": [
    {
     "data": {
      "text/html": [
       "<div>\n",
       "<style scoped>\n",
       "    .dataframe tbody tr th:only-of-type {\n",
       "        vertical-align: middle;\n",
       "    }\n",
       "\n",
       "    .dataframe tbody tr th {\n",
       "        vertical-align: top;\n",
       "    }\n",
       "\n",
       "    .dataframe thead th {\n",
       "        text-align: right;\n",
       "    }\n",
       "</style>\n",
       "<table border=\"1\" class=\"dataframe\">\n",
       "  <thead>\n",
       "    <tr style=\"text-align: right;\">\n",
       "      <th></th>\n",
       "      <th>Gaze point X</th>\n",
       "      <th>Gaze point Y</th>\n",
       "      <th>Gaze point 3D X</th>\n",
       "      <th>Gaze point 3D Y</th>\n",
       "      <th>Gaze point 3D Z</th>\n",
       "      <th>Gaze direction left X</th>\n",
       "      <th>Gaze direction left Y</th>\n",
       "      <th>Gaze direction left Z</th>\n",
       "      <th>Gaze direction right X</th>\n",
       "      <th>Gaze direction right Y</th>\n",
       "      <th>Gaze direction right Z</th>\n",
       "      <th>Pupil position left X</th>\n",
       "      <th>Pupil position left Y</th>\n",
       "      <th>Pupil position left Z</th>\n",
       "      <th>Pupil position right X</th>\n",
       "      <th>Pupil position right Y</th>\n",
       "      <th>Pupil position right Z</th>\n",
       "      <th>Pupil diameter left</th>\n",
       "      <th>Pupil diameter right</th>\n",
       "      <th>Disease</th>\n",
       "    </tr>\n",
       "  </thead>\n",
       "  <tbody>\n",
       "    <tr>\n",
       "      <th>1</th>\n",
       "      <td>621</td>\n",
       "      <td>176</td>\n",
       "      <td>161.5331</td>\n",
       "      <td>173.2975</td>\n",
       "      <td>583.4825</td>\n",
       "      <td>0.20433</td>\n",
       "      <td>0.28133</td>\n",
       "      <td>0.93761</td>\n",
       "      <td>0.28050</td>\n",
       "      <td>0.30803</td>\n",
       "      <td>0.90909</td>\n",
       "      <td>31.78</td>\n",
       "      <td>-23.44</td>\n",
       "      <td>-31.93</td>\n",
       "      <td>-31.67</td>\n",
       "      <td>-22.12</td>\n",
       "      <td>-29.04</td>\n",
       "      <td>4.227</td>\n",
       "      <td>4.111</td>\n",
       "      <td>1</td>\n",
       "    </tr>\n",
       "    <tr>\n",
       "      <th>2</th>\n",
       "      <td>870</td>\n",
       "      <td>138</td>\n",
       "      <td>40.0813</td>\n",
       "      <td>216.5730</td>\n",
       "      <td>655.9355</td>\n",
       "      <td>0.01606</td>\n",
       "      <td>0.33951</td>\n",
       "      <td>0.94046</td>\n",
       "      <td>0.09615</td>\n",
       "      <td>0.31660</td>\n",
       "      <td>0.94368</td>\n",
       "      <td>30.63</td>\n",
       "      <td>-23.18</td>\n",
       "      <td>-31.73</td>\n",
       "      <td>-32.22</td>\n",
       "      <td>-21.75</td>\n",
       "      <td>-29.35</td>\n",
       "      <td>4.045</td>\n",
       "      <td>3.998</td>\n",
       "      <td>1</td>\n",
       "    </tr>\n",
       "    <tr>\n",
       "      <th>4</th>\n",
       "      <td>833</td>\n",
       "      <td>37</td>\n",
       "      <td>65.6117</td>\n",
       "      <td>294.4182</td>\n",
       "      <td>705.6104</td>\n",
       "      <td>0.04967</td>\n",
       "      <td>0.40779</td>\n",
       "      <td>0.91172</td>\n",
       "      <td>0.11505</td>\n",
       "      <td>0.37934</td>\n",
       "      <td>0.91808</td>\n",
       "      <td>30.68</td>\n",
       "      <td>-23.09</td>\n",
       "      <td>-31.89</td>\n",
       "      <td>-32.13</td>\n",
       "      <td>-21.50</td>\n",
       "      <td>-29.50</td>\n",
       "      <td>4.838</td>\n",
       "      <td>4.625</td>\n",
       "      <td>1</td>\n",
       "    </tr>\n",
       "    <tr>\n",
       "      <th>6</th>\n",
       "      <td>775</td>\n",
       "      <td>175</td>\n",
       "      <td>87.0287</td>\n",
       "      <td>180.5656</td>\n",
       "      <td>604.8428</td>\n",
       "      <td>0.08490</td>\n",
       "      <td>0.31118</td>\n",
       "      <td>0.94655</td>\n",
       "      <td>0.17450</td>\n",
       "      <td>0.29199</td>\n",
       "      <td>0.94037</td>\n",
       "      <td>31.01</td>\n",
       "      <td>-23.22</td>\n",
       "      <td>-31.86</td>\n",
       "      <td>-31.88</td>\n",
       "      <td>-21.80</td>\n",
       "      <td>-29.32</td>\n",
       "      <td>3.866</td>\n",
       "      <td>3.763</td>\n",
       "      <td>1</td>\n",
       "    </tr>\n",
       "    <tr>\n",
       "      <th>8</th>\n",
       "      <td>852</td>\n",
       "      <td>181</td>\n",
       "      <td>53.5353</td>\n",
       "      <td>204.8895</td>\n",
       "      <td>697.5514</td>\n",
       "      <td>0.02991</td>\n",
       "      <td>0.30190</td>\n",
       "      <td>0.95287</td>\n",
       "      <td>0.11191</td>\n",
       "      <td>0.29270</td>\n",
       "      <td>0.94963</td>\n",
       "      <td>30.90</td>\n",
       "      <td>-23.39</td>\n",
       "      <td>-31.71</td>\n",
       "      <td>-32.42</td>\n",
       "      <td>-21.88</td>\n",
       "      <td>-29.30</td>\n",
       "      <td>4.314</td>\n",
       "      <td>4.390</td>\n",
       "      <td>1</td>\n",
       "    </tr>\n",
       "    <tr>\n",
       "      <th>...</th>\n",
       "      <td>...</td>\n",
       "      <td>...</td>\n",
       "      <td>...</td>\n",
       "      <td>...</td>\n",
       "      <td>...</td>\n",
       "      <td>...</td>\n",
       "      <td>...</td>\n",
       "      <td>...</td>\n",
       "      <td>...</td>\n",
       "      <td>...</td>\n",
       "      <td>...</td>\n",
       "      <td>...</td>\n",
       "      <td>...</td>\n",
       "      <td>...</td>\n",
       "      <td>...</td>\n",
       "      <td>...</td>\n",
       "      <td>...</td>\n",
       "      <td>...</td>\n",
       "      <td>...</td>\n",
       "      <td>...</td>\n",
       "    </tr>\n",
       "    <tr>\n",
       "      <th>57233</th>\n",
       "      <td>748</td>\n",
       "      <td>133</td>\n",
       "      <td>91.9512</td>\n",
       "      <td>184.4469</td>\n",
       "      <td>551.7711</td>\n",
       "      <td>0.09782</td>\n",
       "      <td>0.33072</td>\n",
       "      <td>0.93864</td>\n",
       "      <td>0.19683</td>\n",
       "      <td>0.33069</td>\n",
       "      <td>0.92299</td>\n",
       "      <td>31.14</td>\n",
       "      <td>-23.27</td>\n",
       "      <td>-31.88</td>\n",
       "      <td>-31.92</td>\n",
       "      <td>-21.66</td>\n",
       "      <td>-29.52</td>\n",
       "      <td>4.083</td>\n",
       "      <td>4.064</td>\n",
       "      <td>1</td>\n",
       "    </tr>\n",
       "    <tr>\n",
       "      <th>57235</th>\n",
       "      <td>114</td>\n",
       "      <td>441</td>\n",
       "      <td>137.7565</td>\n",
       "      <td>12.7628</td>\n",
       "      <td>190.3752</td>\n",
       "      <td>0.09068</td>\n",
       "      <td>0.31422</td>\n",
       "      <td>0.94501</td>\n",
       "      <td>0.59927</td>\n",
       "      <td>0.12501</td>\n",
       "      <td>0.79073</td>\n",
       "      <td>31.02</td>\n",
       "      <td>-22.84</td>\n",
       "      <td>-32.81</td>\n",
       "      <td>-29.24</td>\n",
       "      <td>-22.19</td>\n",
       "      <td>-29.75</td>\n",
       "      <td>4.246</td>\n",
       "      <td>4.464</td>\n",
       "      <td>1</td>\n",
       "    </tr>\n",
       "    <tr>\n",
       "      <th>57236</th>\n",
       "      <td>751</td>\n",
       "      <td>260</td>\n",
       "      <td>110.1506</td>\n",
       "      <td>150.2694</td>\n",
       "      <td>667.4919</td>\n",
       "      <td>0.10655</td>\n",
       "      <td>0.24303</td>\n",
       "      <td>0.96415</td>\n",
       "      <td>0.19398</td>\n",
       "      <td>0.23720</td>\n",
       "      <td>0.95190</td>\n",
       "      <td>31.21</td>\n",
       "      <td>-23.71</td>\n",
       "      <td>-31.66</td>\n",
       "      <td>-31.85</td>\n",
       "      <td>-21.97</td>\n",
       "      <td>-29.27</td>\n",
       "      <td>4.254</td>\n",
       "      <td>4.206</td>\n",
       "      <td>1</td>\n",
       "    </tr>\n",
       "    <tr>\n",
       "      <th>57237</th>\n",
       "      <td>604</td>\n",
       "      <td>220</td>\n",
       "      <td>175.9074</td>\n",
       "      <td>156.1956</td>\n",
       "      <td>601.8901</td>\n",
       "      <td>0.21334</td>\n",
       "      <td>0.25474</td>\n",
       "      <td>0.94318</td>\n",
       "      <td>0.29250</td>\n",
       "      <td>0.27827</td>\n",
       "      <td>0.91488</td>\n",
       "      <td>31.78</td>\n",
       "      <td>-23.65</td>\n",
       "      <td>-31.73</td>\n",
       "      <td>-31.62</td>\n",
       "      <td>-22.39</td>\n",
       "      <td>-29.02</td>\n",
       "      <td>4.166</td>\n",
       "      <td>4.011</td>\n",
       "      <td>1</td>\n",
       "    </tr>\n",
       "    <tr>\n",
       "      <th>57238</th>\n",
       "      <td>769</td>\n",
       "      <td>279</td>\n",
       "      <td>120.5018</td>\n",
       "      <td>168.6795</td>\n",
       "      <td>807.3708</td>\n",
       "      <td>0.10323</td>\n",
       "      <td>0.22350</td>\n",
       "      <td>0.96922</td>\n",
       "      <td>0.17488</td>\n",
       "      <td>0.21692</td>\n",
       "      <td>0.96040</td>\n",
       "      <td>31.20</td>\n",
       "      <td>-23.35</td>\n",
       "      <td>-32.21</td>\n",
       "      <td>-32.04</td>\n",
       "      <td>-21.91</td>\n",
       "      <td>-29.69</td>\n",
       "      <td>4.195</td>\n",
       "      <td>4.333</td>\n",
       "      <td>1</td>\n",
       "    </tr>\n",
       "  </tbody>\n",
       "</table>\n",
       "<p>30357 rows × 20 columns</p>\n",
       "</div>"
      ],
      "text/plain": [
       "       Gaze point X  Gaze point Y  Gaze point 3D X  Gaze point 3D Y  \\\n",
       "1               621           176         161.5331         173.2975   \n",
       "2               870           138          40.0813         216.5730   \n",
       "4               833            37          65.6117         294.4182   \n",
       "6               775           175          87.0287         180.5656   \n",
       "8               852           181          53.5353         204.8895   \n",
       "...             ...           ...              ...              ...   \n",
       "57233           748           133          91.9512         184.4469   \n",
       "57235           114           441         137.7565          12.7628   \n",
       "57236           751           260         110.1506         150.2694   \n",
       "57237           604           220         175.9074         156.1956   \n",
       "57238           769           279         120.5018         168.6795   \n",
       "\n",
       "       Gaze point 3D Z  Gaze direction left X  Gaze direction left Y  \\\n",
       "1             583.4825                0.20433                0.28133   \n",
       "2             655.9355                0.01606                0.33951   \n",
       "4             705.6104                0.04967                0.40779   \n",
       "6             604.8428                0.08490                0.31118   \n",
       "8             697.5514                0.02991                0.30190   \n",
       "...                ...                    ...                    ...   \n",
       "57233         551.7711                0.09782                0.33072   \n",
       "57235         190.3752                0.09068                0.31422   \n",
       "57236         667.4919                0.10655                0.24303   \n",
       "57237         601.8901                0.21334                0.25474   \n",
       "57238         807.3708                0.10323                0.22350   \n",
       "\n",
       "       Gaze direction left Z  Gaze direction right X  Gaze direction right Y  \\\n",
       "1                    0.93761                 0.28050                 0.30803   \n",
       "2                    0.94046                 0.09615                 0.31660   \n",
       "4                    0.91172                 0.11505                 0.37934   \n",
       "6                    0.94655                 0.17450                 0.29199   \n",
       "8                    0.95287                 0.11191                 0.29270   \n",
       "...                      ...                     ...                     ...   \n",
       "57233                0.93864                 0.19683                 0.33069   \n",
       "57235                0.94501                 0.59927                 0.12501   \n",
       "57236                0.96415                 0.19398                 0.23720   \n",
       "57237                0.94318                 0.29250                 0.27827   \n",
       "57238                0.96922                 0.17488                 0.21692   \n",
       "\n",
       "       Gaze direction right Z  Pupil position left X  Pupil position left Y  \\\n",
       "1                     0.90909                  31.78                 -23.44   \n",
       "2                     0.94368                  30.63                 -23.18   \n",
       "4                     0.91808                  30.68                 -23.09   \n",
       "6                     0.94037                  31.01                 -23.22   \n",
       "8                     0.94963                  30.90                 -23.39   \n",
       "...                       ...                    ...                    ...   \n",
       "57233                 0.92299                  31.14                 -23.27   \n",
       "57235                 0.79073                  31.02                 -22.84   \n",
       "57236                 0.95190                  31.21                 -23.71   \n",
       "57237                 0.91488                  31.78                 -23.65   \n",
       "57238                 0.96040                  31.20                 -23.35   \n",
       "\n",
       "       Pupil position left Z  Pupil position right X  Pupil position right Y  \\\n",
       "1                     -31.93                  -31.67                  -22.12   \n",
       "2                     -31.73                  -32.22                  -21.75   \n",
       "4                     -31.89                  -32.13                  -21.50   \n",
       "6                     -31.86                  -31.88                  -21.80   \n",
       "8                     -31.71                  -32.42                  -21.88   \n",
       "...                      ...                     ...                     ...   \n",
       "57233                 -31.88                  -31.92                  -21.66   \n",
       "57235                 -32.81                  -29.24                  -22.19   \n",
       "57236                 -31.66                  -31.85                  -21.97   \n",
       "57237                 -31.73                  -31.62                  -22.39   \n",
       "57238                 -32.21                  -32.04                  -21.91   \n",
       "\n",
       "       Pupil position right Z  Pupil diameter left  Pupil diameter right  \\\n",
       "1                      -29.04                4.227                 4.111   \n",
       "2                      -29.35                4.045                 3.998   \n",
       "4                      -29.50                4.838                 4.625   \n",
       "6                      -29.32                3.866                 3.763   \n",
       "8                      -29.30                4.314                 4.390   \n",
       "...                       ...                  ...                   ...   \n",
       "57233                  -29.52                4.083                 4.064   \n",
       "57235                  -29.75                4.246                 4.464   \n",
       "57236                  -29.27                4.254                 4.206   \n",
       "57237                  -29.02                4.166                 4.011   \n",
       "57238                  -29.69                4.195                 4.333   \n",
       "\n",
       "       Disease  \n",
       "1            1  \n",
       "2            1  \n",
       "4            1  \n",
       "6            1  \n",
       "8            1  \n",
       "...        ...  \n",
       "57233        1  \n",
       "57235        1  \n",
       "57236        1  \n",
       "57237        1  \n",
       "57238        1  \n",
       "\n",
       "[30357 rows x 20 columns]"
      ]
     },
     "execution_count": 50,
     "metadata": {},
     "output_type": "execute_result"
    }
   ],
   "source": [
    "df[df['Disease']==1]"
   ]
  },
  {
   "cell_type": "markdown",
   "id": "3cfe8d9a",
   "metadata": {},
   "source": [
    "# Random Forest"
   ]
  },
  {
   "cell_type": "code",
   "execution_count": 51,
   "id": "b40cce42",
   "metadata": {},
   "outputs": [],
   "source": [
    "from sklearn.ensemble import RandomForestClassifier"
   ]
  },
  {
   "cell_type": "code",
   "execution_count": 52,
   "id": "9f2da97f",
   "metadata": {},
   "outputs": [],
   "source": [
    "rfc = RandomForestClassifier(max_depth=5,min_samples_split=200)"
   ]
  },
  {
   "cell_type": "code",
   "execution_count": 53,
   "id": "dc0dae92",
   "metadata": {},
   "outputs": [
    {
     "data": {
      "text/html": [
       "<style>#sk-container-id-2 {color: black;}#sk-container-id-2 pre{padding: 0;}#sk-container-id-2 div.sk-toggleable {background-color: white;}#sk-container-id-2 label.sk-toggleable__label {cursor: pointer;display: block;width: 100%;margin-bottom: 0;padding: 0.3em;box-sizing: border-box;text-align: center;}#sk-container-id-2 label.sk-toggleable__label-arrow:before {content: \"▸\";float: left;margin-right: 0.25em;color: #696969;}#sk-container-id-2 label.sk-toggleable__label-arrow:hover:before {color: black;}#sk-container-id-2 div.sk-estimator:hover label.sk-toggleable__label-arrow:before {color: black;}#sk-container-id-2 div.sk-toggleable__content {max-height: 0;max-width: 0;overflow: hidden;text-align: left;background-color: #f0f8ff;}#sk-container-id-2 div.sk-toggleable__content pre {margin: 0.2em;color: black;border-radius: 0.25em;background-color: #f0f8ff;}#sk-container-id-2 input.sk-toggleable__control:checked~div.sk-toggleable__content {max-height: 200px;max-width: 100%;overflow: auto;}#sk-container-id-2 input.sk-toggleable__control:checked~label.sk-toggleable__label-arrow:before {content: \"▾\";}#sk-container-id-2 div.sk-estimator input.sk-toggleable__control:checked~label.sk-toggleable__label {background-color: #d4ebff;}#sk-container-id-2 div.sk-label input.sk-toggleable__control:checked~label.sk-toggleable__label {background-color: #d4ebff;}#sk-container-id-2 input.sk-hidden--visually {border: 0;clip: rect(1px 1px 1px 1px);clip: rect(1px, 1px, 1px, 1px);height: 1px;margin: -1px;overflow: hidden;padding: 0;position: absolute;width: 1px;}#sk-container-id-2 div.sk-estimator {font-family: monospace;background-color: #f0f8ff;border: 1px dotted black;border-radius: 0.25em;box-sizing: border-box;margin-bottom: 0.5em;}#sk-container-id-2 div.sk-estimator:hover {background-color: #d4ebff;}#sk-container-id-2 div.sk-parallel-item::after {content: \"\";width: 100%;border-bottom: 1px solid gray;flex-grow: 1;}#sk-container-id-2 div.sk-label:hover label.sk-toggleable__label {background-color: #d4ebff;}#sk-container-id-2 div.sk-serial::before {content: \"\";position: absolute;border-left: 1px solid gray;box-sizing: border-box;top: 0;bottom: 0;left: 50%;z-index: 0;}#sk-container-id-2 div.sk-serial {display: flex;flex-direction: column;align-items: center;background-color: white;padding-right: 0.2em;padding-left: 0.2em;position: relative;}#sk-container-id-2 div.sk-item {position: relative;z-index: 1;}#sk-container-id-2 div.sk-parallel {display: flex;align-items: stretch;justify-content: center;background-color: white;position: relative;}#sk-container-id-2 div.sk-item::before, #sk-container-id-2 div.sk-parallel-item::before {content: \"\";position: absolute;border-left: 1px solid gray;box-sizing: border-box;top: 0;bottom: 0;left: 50%;z-index: -1;}#sk-container-id-2 div.sk-parallel-item {display: flex;flex-direction: column;z-index: 1;position: relative;background-color: white;}#sk-container-id-2 div.sk-parallel-item:first-child::after {align-self: flex-end;width: 50%;}#sk-container-id-2 div.sk-parallel-item:last-child::after {align-self: flex-start;width: 50%;}#sk-container-id-2 div.sk-parallel-item:only-child::after {width: 0;}#sk-container-id-2 div.sk-dashed-wrapped {border: 1px dashed gray;margin: 0 0.4em 0.5em 0.4em;box-sizing: border-box;padding-bottom: 0.4em;background-color: white;}#sk-container-id-2 div.sk-label label {font-family: monospace;font-weight: bold;display: inline-block;line-height: 1.2em;}#sk-container-id-2 div.sk-label-container {text-align: center;}#sk-container-id-2 div.sk-container {/* jupyter's `normalize.less` sets `[hidden] { display: none; }` but bootstrap.min.css set `[hidden] { display: none !important; }` so we also need the `!important` here to be able to override the default hidden behavior on the sphinx rendered scikit-learn.org. See: https://github.com/scikit-learn/scikit-learn/issues/21755 */display: inline-block !important;position: relative;}#sk-container-id-2 div.sk-text-repr-fallback {display: none;}</style><div id=\"sk-container-id-2\" class=\"sk-top-container\"><div class=\"sk-text-repr-fallback\"><pre>RandomForestClassifier(max_depth=5, min_samples_split=200)</pre><b>In a Jupyter environment, please rerun this cell to show the HTML representation or trust the notebook. <br />On GitHub, the HTML representation is unable to render, please try loading this page with nbviewer.org.</b></div><div class=\"sk-container\" hidden><div class=\"sk-item\"><div class=\"sk-estimator sk-toggleable\"><input class=\"sk-toggleable__control sk-hidden--visually\" id=\"sk-estimator-id-2\" type=\"checkbox\" checked><label for=\"sk-estimator-id-2\" class=\"sk-toggleable__label sk-toggleable__label-arrow\">RandomForestClassifier</label><div class=\"sk-toggleable__content\"><pre>RandomForestClassifier(max_depth=5, min_samples_split=200)</pre></div></div></div></div></div>"
      ],
      "text/plain": [
       "RandomForestClassifier(max_depth=5, min_samples_split=200)"
      ]
     },
     "execution_count": 53,
     "metadata": {},
     "output_type": "execute_result"
    }
   ],
   "source": [
    "rfc.fit(X_train,y_train)"
   ]
  },
  {
   "cell_type": "code",
   "execution_count": 54,
   "id": "a44e201f",
   "metadata": {},
   "outputs": [],
   "source": [
    "rfc_pred = rfc.predict(X_test)"
   ]
  },
  {
   "cell_type": "code",
   "execution_count": 55,
   "id": "c203386f",
   "metadata": {},
   "outputs": [],
   "source": [
    "rfc_accuracy = accuracy_score(y_test,rfc_pred)"
   ]
  },
  {
   "cell_type": "code",
   "execution_count": 56,
   "id": "fb651ff3",
   "metadata": {},
   "outputs": [
    {
     "data": {
      "text/plain": [
       "100.0"
      ]
     },
     "execution_count": 56,
     "metadata": {},
     "output_type": "execute_result"
    }
   ],
   "source": [
    "rfc_accuracy*100"
   ]
  },
  {
   "cell_type": "code",
   "execution_count": 57,
   "id": "58f18ad7",
   "metadata": {},
   "outputs": [
    {
     "name": "stdout",
     "output_type": "stream",
     "text": [
      "1.0\n"
     ]
    }
   ],
   "source": [
    "rfc_recall = recall_score(y_test,rfc_pred)\n",
    "print(rfc_recall)"
   ]
  },
  {
   "cell_type": "code",
   "execution_count": 58,
   "id": "9e6167ce",
   "metadata": {},
   "outputs": [],
   "source": [
    "cm = confusion_matrix(y_test,rfc_pred)"
   ]
  },
  {
   "cell_type": "code",
   "execution_count": 59,
   "id": "7815b4d9",
   "metadata": {},
   "outputs": [
    {
     "data": {
      "text/plain": [
       "array([[6685,    0],\n",
       "       [   0, 7625]], dtype=int64)"
      ]
     },
     "execution_count": 59,
     "metadata": {},
     "output_type": "execute_result"
    }
   ],
   "source": [
    "cm"
   ]
  },
  {
   "cell_type": "code",
   "execution_count": 60,
   "id": "3bbc05c5",
   "metadata": {},
   "outputs": [
    {
     "data": {
      "image/png": "[encoded data removed]",
      "text/plain": [
       "<Figure size 640x480 with 2 Axes>"
      ]
     },
     "metadata": {},
     "output_type": "display_data"
    }
   ],
   "source": [
    "# plt.title('Random Forest Classifier')\n",
    "\n",
    "disp = ConfusionMatrixDisplay(confusion_matrix=cm,\n",
    "                              display_labels=rfc.classes_)\n",
    "disp.plot()\n",
    "plt.show()"
   ]
  },
  {
   "cell_type": "code",
   "execution_count": 61,
   "id": "428858ec",
   "metadata": {},
   "outputs": [],
   "source": [
    "rfc = RandomForestClassifier()\n",
    "rfc.fit(X_train,y_train)\n",
    "\n",
    "rfc_preds = rfc.predict(X_test) # Predictions\n",
    "rfc_prob = rfc.predict_proba(X_test)[:,1] \n",
    "\n",
    "# THIS WILL BE USED FOR PR-CURVE"
   ]
  },
  {
   "cell_type": "code",
   "execution_count": 62,
   "id": "6de8be88",
   "metadata": {},
   "outputs": [
    {
     "data": {
      "text/plain": [
       "array([1., 0., 0., ..., 0., 0., 0.])"
      ]
     },
     "execution_count": 62,
     "metadata": {},
     "output_type": "execute_result"
    }
   ],
   "source": [
    "rfc_prob"
   ]
  },
  {
   "cell_type": "code",
   "execution_count": 63,
   "id": "2c23d905",
   "metadata": {},
   "outputs": [
    {
     "name": "stdout",
     "output_type": "stream",
     "text": [
      "Accuracy : 100.0%\n"
     ]
    }
   ],
   "source": [
    "accuracy = accuracy_score(y_test,rfc_preds)\n",
    "print(f'Accuracy : {round(accuracy*100,2)}%')"
   ]
  },
  {
   "cell_type": "code",
   "execution_count": 64,
   "id": "baa7e20b",
   "metadata": {},
   "outputs": [],
   "source": [
    "precision_2,recall_2,threshold_2 = precision_recall_curve(y_test,rfc_prob)"
   ]
  },
  {
   "cell_type": "code",
   "execution_count": 65,
   "id": "b1fd57d6",
   "metadata": {},
   "outputs": [
    {
     "name": "stdout",
     "output_type": "stream",
     "text": [
      "1.0\n"
     ]
    }
   ],
   "source": [
    "auc_2 =auc(recall_2,precision_2)  \n",
    "print(auc_2)"
   ]
  },
  {
   "cell_type": "code",
   "execution_count": 66,
   "id": "64044487",
   "metadata": {},
   "outputs": [
    {
     "data": {
      "text/plain": [
       "<matplotlib.legend.Legend at 0x233310c2a90>"
      ]
     },
     "execution_count": 66,
     "metadata": {},
     "output_type": "execute_result"
    },
    {
     "data": {
      "image/png": "[encoded data removed]",
      "text/plain": [
       "<Figure size 640x480 with 1 Axes>"
      ]
     },
     "metadata": {},
     "output_type": "display_data"
    }
   ],
   "source": [
    "plt.title('PR-curve: Random Forest')\n",
    "\n",
    "plt.plot(recall_2,precision_2,label=f'AUC: {round(auc_2,2)}')\n",
    "\n",
    "plt.fill_between(recall_2,precision_2,alpha=0.2)\n",
    "\n",
    "plt.xlabel('Recall')\n",
    "plt.ylabel('Precision')\n",
    "plt.legend()"
   ]
  },
  {
   "cell_type": "markdown",
   "id": "b4a6e91c",
   "metadata": {},
   "source": [
    "# Gradient Boosting"
   ]
  },
  {
   "cell_type": "code",
   "execution_count": 67,
   "id": "b35a7bc2",
   "metadata": {},
   "outputs": [],
   "source": [
    "from sklearn.ensemble import GradientBoostingClassifier"
   ]
  },
  {
   "cell_type": "code",
   "execution_count": 68,
   "id": "fc7255ce",
   "metadata": {},
   "outputs": [],
   "source": [
    "gbc = GradientBoostingClassifier(learning_rate=0.01)"
   ]
  },
  {
   "cell_type": "code",
   "execution_count": 69,
   "id": "5470f534",
   "metadata": {},
   "outputs": [
    {
     "data": {
      "text/html": [
       "<style>#sk-container-id-3 {color: black;}#sk-container-id-3 pre{padding: 0;}#sk-container-id-3 div.sk-toggleable {background-color: white;}#sk-container-id-3 label.sk-toggleable__label {cursor: pointer;display: block;width: 100%;margin-bottom: 0;padding: 0.3em;box-sizing: border-box;text-align: center;}#sk-container-id-3 label.sk-toggleable__label-arrow:before {content: \"▸\";float: left;margin-right: 0.25em;color: #696969;}#sk-container-id-3 label.sk-toggleable__label-arrow:hover:before {color: black;}#sk-container-id-3 div.sk-estimator:hover label.sk-toggleable__label-arrow:before {color: black;}#sk-container-id-3 div.sk-toggleable__content {max-height: 0;max-width: 0;overflow: hidden;text-align: left;background-color: #f0f8ff;}#sk-container-id-3 div.sk-toggleable__content pre {margin: 0.2em;color: black;border-radius: 0.25em;background-color: #f0f8ff;}#sk-container-id-3 input.sk-toggleable__control:checked~div.sk-toggleable__content {max-height: 200px;max-width: 100%;overflow: auto;}#sk-container-id-3 input.sk-toggleable__control:checked~label.sk-toggleable__label-arrow:before {content: \"▾\";}#sk-container-id-3 div.sk-estimator input.sk-toggleable__control:checked~label.sk-toggleable__label {background-color: #d4ebff;}#sk-container-id-3 div.sk-label input.sk-toggleable__control:checked~label.sk-toggleable__label {background-color: #d4ebff;}#sk-container-id-3 input.sk-hidden--visually {border: 0;clip: rect(1px 1px 1px 1px);clip: rect(1px, 1px, 1px, 1px);height: 1px;margin: -1px;overflow: hidden;padding: 0;position: absolute;width: 1px;}#sk-container-id-3 div.sk-estimator {font-family: monospace;background-color: #f0f8ff;border: 1px dotted black;border-radius: 0.25em;box-sizing: border-box;margin-bottom: 0.5em;}#sk-container-id-3 div.sk-estimator:hover {background-color: #d4ebff;}#sk-container-id-3 div.sk-parallel-item::after {content: \"\";width: 100%;border-bottom: 1px solid gray;flex-grow: 1;}#sk-container-id-3 div.sk-label:hover label.sk-toggleable__label {background-color: #d4ebff;}#sk-container-id-3 div.sk-serial::before {content: \"\";position: absolute;border-left: 1px solid gray;box-sizing: border-box;top: 0;bottom: 0;left: 50%;z-index: 0;}#sk-container-id-3 div.sk-serial {display: flex;flex-direction: column;align-items: center;background-color: white;padding-right: 0.2em;padding-left: 0.2em;position: relative;}#sk-container-id-3 div.sk-item {position: relative;z-index: 1;}#sk-container-id-3 div.sk-parallel {display: flex;align-items: stretch;justify-content: center;background-color: white;position: relative;}#sk-container-id-3 div.sk-item::before, #sk-container-id-3 div.sk-parallel-item::before {content: \"\";position: absolute;border-left: 1px solid gray;box-sizing: border-box;top: 0;bottom: 0;left: 50%;z-index: -1;}#sk-container-id-3 div.sk-parallel-item {display: flex;flex-direction: column;z-index: 1;position: relative;background-color: white;}#sk-container-id-3 div.sk-parallel-item:first-child::after {align-self: flex-end;width: 50%;}#sk-container-id-3 div.sk-parallel-item:last-child::after {align-self: flex-start;width: 50%;}#sk-container-id-3 div.sk-parallel-item:only-child::after {width: 0;}#sk-container-id-3 div.sk-dashed-wrapped {border: 1px dashed gray;margin: 0 0.4em 0.5em 0.4em;box-sizing: border-box;padding-bottom: 0.4em;background-color: white;}#sk-container-id-3 div.sk-label label {font-family: monospace;font-weight: bold;display: inline-block;line-height: 1.2em;}#sk-container-id-3 div.sk-label-container {text-align: center;}#sk-container-id-3 div.sk-container {/* jupyter's `normalize.less` sets `[hidden] { display: none; }` but bootstrap.min.css set `[hidden] { display: none !important; }` so we also need the `!important` here to be able to override the default hidden behavior on the sphinx rendered scikit-learn.org. See: https://github.com/scikit-learn/scikit-learn/issues/21755 */display: inline-block !important;position: relative;}#sk-container-id-3 div.sk-text-repr-fallback {display: none;}</style><div id=\"sk-container-id-3\" class=\"sk-top-container\"><div class=\"sk-text-repr-fallback\"><pre>GradientBoostingClassifier(learning_rate=0.01)</pre><b>In a Jupyter environment, please rerun this cell to show the HTML representation or trust the notebook. <br />On GitHub, the HTML representation is unable to render, please try loading this page with nbviewer.org.</b></div><div class=\"sk-container\" hidden><div class=\"sk-item\"><div class=\"sk-estimator sk-toggleable\"><input class=\"sk-toggleable__control sk-hidden--visually\" id=\"sk-estimator-id-3\" type=\"checkbox\" checked><label for=\"sk-estimator-id-3\" class=\"sk-toggleable__label sk-toggleable__label-arrow\">GradientBoostingClassifier</label><div class=\"sk-toggleable__content\"><pre>GradientBoostingClassifier(learning_rate=0.01)</pre></div></div></div></div></div>"
      ],
      "text/plain": [
       "GradientBoostingClassifier(learning_rate=0.01)"
      ]
     },
     "execution_count": 69,
     "metadata": {},
     "output_type": "execute_result"
    }
   ],
   "source": [
    "gbc.fit(X_train,y_train)"
   ]
  },
  {
   "cell_type": "code",
   "execution_count": 70,
   "id": "dae8246d",
   "metadata": {},
   "outputs": [],
   "source": [
    "gbc_pred = gbc.predict(X_test)"
   ]
  },
  {
   "cell_type": "code",
   "execution_count": 71,
   "id": "fd56e970",
   "metadata": {},
   "outputs": [],
   "source": [
    "gbc_accuracy = accuracy_score(y_test,gbc_pred)\n",
    "gbc_recall = recall_score(y_test,gbc_pred)"
   ]
  },
  {
   "cell_type": "code",
   "execution_count": 72,
   "id": "960a9c13",
   "metadata": {},
   "outputs": [
    {
     "data": {
      "text/plain": [
       "99.99301187980433"
      ]
     },
     "execution_count": 72,
     "metadata": {},
     "output_type": "execute_result"
    }
   ],
   "source": [
    "gbc_accuracy*100"
   ]
  },
  {
   "cell_type": "code",
   "execution_count": 73,
   "id": "3b72fa09",
   "metadata": {},
   "outputs": [
    {
     "data": {
      "text/plain": [
       "100.0"
      ]
     },
     "execution_count": 73,
     "metadata": {},
     "output_type": "execute_result"
    }
   ],
   "source": [
    "gbc_recall*100"
   ]
  },
  {
   "cell_type": "code",
   "execution_count": 74,
   "id": "8a9297a9",
   "metadata": {},
   "outputs": [],
   "source": [
    "cm = confusion_matrix(y_test,gbc_pred)"
   ]
  },
  {
   "cell_type": "code",
   "execution_count": 75,
   "id": "9cbfb0e8",
   "metadata": {},
   "outputs": [
    {
     "data": {
      "text/plain": [
       "array([[6684,    1],\n",
       "       [   0, 7625]], dtype=int64)"
      ]
     },
     "execution_count": 75,
     "metadata": {},
     "output_type": "execute_result"
    }
   ],
   "source": [
    "cm"
   ]
  },
  {
   "cell_type": "code",
   "execution_count": 76,
   "id": "0a196860",
   "metadata": {},
   "outputs": [
    {
     "data": {
      "image/png": "[encoded data removed]",
      "text/plain": [
       "<Figure size 640x480 with 2 Axes>"
      ]
     },
     "metadata": {},
     "output_type": "display_data"
    }
   ],
   "source": [
    "# plt.title('GradientBoosting')\n",
    "\n",
    "disp = ConfusionMatrixDisplay(confusion_matrix=cm,\n",
    "                              display_labels=gbc.classes_)\n",
    "disp.plot()\n",
    "plt.show()"
   ]
  },
  {
   "cell_type": "code",
   "execution_count": 77,
   "id": "5bb49867",
   "metadata": {},
   "outputs": [],
   "source": [
    "grad_boost = GradientBoostingClassifier()\n",
    "grad_boost.fit(X_train,y_train)\n",
    "\n",
    "grad_boost_preds = grad_boost.predict(X_test) # Predictions\n",
    "grad_boost_prob = grad_boost.predict_proba(X_test)[:,1] \n",
    "\n",
    "# THIS WILL BE USED FOR PR-CURVE"
   ]
  },
  {
   "cell_type": "code",
   "execution_count": 78,
   "id": "1bfb052d",
   "metadata": {},
   "outputs": [
    {
     "data": {
      "text/plain": [
       "array([9.99979329e-01, 2.31205517e-05, 2.31205517e-05, ...,\n",
       "       2.31205517e-05, 2.31205517e-05, 2.31205517e-05])"
      ]
     },
     "execution_count": 78,
     "metadata": {},
     "output_type": "execute_result"
    }
   ],
   "source": [
    "grad_boost_prob"
   ]
  },
  {
   "cell_type": "code",
   "execution_count": 79,
   "id": "6542160c",
   "metadata": {},
   "outputs": [
    {
     "name": "stdout",
     "output_type": "stream",
     "text": [
      "Accuracy : 99.99%\n"
     ]
    }
   ],
   "source": [
    "accuracy = accuracy_score(y_test,grad_boost_preds)\n",
    "print(f'Accuracy : {round(accuracy*100,2)}%')"
   ]
  },
  {
   "cell_type": "code",
   "execution_count": 80,
   "id": "c4cb3534",
   "metadata": {},
   "outputs": [],
   "source": [
    "precision_3,recall_3,threshold_3 = precision_recall_curve(y_test,grad_boost_prob)"
   ]
  },
  {
   "cell_type": "code",
   "execution_count": 81,
   "id": "fca5c99c",
   "metadata": {},
   "outputs": [
    {
     "name": "stdout",
     "output_type": "stream",
     "text": [
      "0.9999344348282193\n"
     ]
    }
   ],
   "source": [
    "auc_3 =auc(recall_3,precision_3)  \n",
    "print(auc_3)"
   ]
  },
  {
   "cell_type": "code",
   "execution_count": 82,
   "id": "f6e81fd6",
   "metadata": {},
   "outputs": [
    {
     "data": {
      "text/plain": [
       "<matplotlib.legend.Legend at 0x233314ef850>"
      ]
     },
     "execution_count": 82,
     "metadata": {},
     "output_type": "execute_result"
    },
    {
     "data": {
      "image/png": "[encoded data removed]",
      "text/plain": [
       "<Figure size 640x480 with 1 Axes>"
      ]
     },
     "metadata": {},
     "output_type": "display_data"
    }
   ],
   "source": [
    "plt.title('PR-curve: Gradient Boosting')\n",
    "\n",
    "plt.plot(recall_3,precision_3,label=f'AUC: {round(auc_3,2)}')\n",
    "\n",
    "plt.fill_between(recall_3,precision_3,alpha=0.2)\n",
    "\n",
    "plt.xlabel('Recall')\n",
    "plt.ylabel('Precision')\n",
    "plt.legend()"
   ]
  },
  {
   "cell_type": "markdown",
   "id": "c60733ea",
   "metadata": {},
   "source": [
    "# Logistic Regression (LR)"
   ]
  },
  {
   "cell_type": "code",
   "execution_count": 83,
   "id": "69177a02",
   "metadata": {},
   "outputs": [],
   "source": [
    "from sklearn.linear_model import LogisticRegression"
   ]
  },
  {
   "cell_type": "code",
   "execution_count": 84,
   "id": "a24fc2d4",
   "metadata": {},
   "outputs": [],
   "source": [
    "logit = LogisticRegression(penalty = 'l1', solver='liblinear')"
   ]
  },
  {
   "cell_type": "code",
   "execution_count": 85,
   "id": "57f72b7e",
   "metadata": {},
   "outputs": [
    {
     "data": {
      "text/html": [
       "<style>#sk-container-id-4 {color: black;}#sk-container-id-4 pre{padding: 0;}#sk-container-id-4 div.sk-toggleable {background-color: white;}#sk-container-id-4 label.sk-toggleable__label {cursor: pointer;display: block;width: 100%;margin-bottom: 0;padding: 0.3em;box-sizing: border-box;text-align: center;}#sk-container-id-4 label.sk-toggleable__label-arrow:before {content: \"▸\";float: left;margin-right: 0.25em;color: #696969;}#sk-container-id-4 label.sk-toggleable__label-arrow:hover:before {color: black;}#sk-container-id-4 div.sk-estimator:hover label.sk-toggleable__label-arrow:before {color: black;}#sk-container-id-4 div.sk-toggleable__content {max-height: 0;max-width: 0;overflow: hidden;text-align: left;background-color: #f0f8ff;}#sk-container-id-4 div.sk-toggleable__content pre {margin: 0.2em;color: black;border-radius: 0.25em;background-color: #f0f8ff;}#sk-container-id-4 input.sk-toggleable__control:checked~div.sk-toggleable__content {max-height: 200px;max-width: 100%;overflow: auto;}#sk-container-id-4 input.sk-toggleable__control:checked~label.sk-toggleable__label-arrow:before {content: \"▾\";}#sk-container-id-4 div.sk-estimator input.sk-toggleable__control:checked~label.sk-toggleable__label {background-color: #d4ebff;}#sk-container-id-4 div.sk-label input.sk-toggleable__control:checked~label.sk-toggleable__label {background-color: #d4ebff;}#sk-container-id-4 input.sk-hidden--visually {border: 0;clip: rect(1px 1px 1px 1px);clip: rect(1px, 1px, 1px, 1px);height: 1px;margin: -1px;overflow: hidden;padding: 0;position: absolute;width: 1px;}#sk-container-id-4 div.sk-estimator {font-family: monospace;background-color: #f0f8ff;border: 1px dotted black;border-radius: 0.25em;box-sizing: border-box;margin-bottom: 0.5em;}#sk-container-id-4 div.sk-estimator:hover {background-color: #d4ebff;}#sk-container-id-4 div.sk-parallel-item::after {content: \"\";width: 100%;border-bottom: 1px solid gray;flex-grow: 1;}#sk-container-id-4 div.sk-label:hover label.sk-toggleable__label {background-color: #d4ebff;}#sk-container-id-4 div.sk-serial::before {content: \"\";position: absolute;border-left: 1px solid gray;box-sizing: border-box;top: 0;bottom: 0;left: 50%;z-index: 0;}#sk-container-id-4 div.sk-serial {display: flex;flex-direction: column;align-items: center;background-color: white;padding-right: 0.2em;padding-left: 0.2em;position: relative;}#sk-container-id-4 div.sk-item {position: relative;z-index: 1;}#sk-container-id-4 div.sk-parallel {display: flex;align-items: stretch;justify-content: center;background-color: white;position: relative;}#sk-container-id-4 div.sk-item::before, #sk-container-id-4 div.sk-parallel-item::before {content: \"\";position: absolute;border-left: 1px solid gray;box-sizing: border-box;top: 0;bottom: 0;left: 50%;z-index: -1;}#sk-container-id-4 div.sk-parallel-item {display: flex;flex-direction: column;z-index: 1;position: relative;background-color: white;}#sk-container-id-4 div.sk-parallel-item:first-child::after {align-self: flex-end;width: 50%;}#sk-container-id-4 div.sk-parallel-item:last-child::after {align-self: flex-start;width: 50%;}#sk-container-id-4 div.sk-parallel-item:only-child::after {width: 0;}#sk-container-id-4 div.sk-dashed-wrapped {border: 1px dashed gray;margin: 0 0.4em 0.5em 0.4em;box-sizing: border-box;padding-bottom: 0.4em;background-color: white;}#sk-container-id-4 div.sk-label label {font-family: monospace;font-weight: bold;display: inline-block;line-height: 1.2em;}#sk-container-id-4 div.sk-label-container {text-align: center;}#sk-container-id-4 div.sk-container {/* jupyter's `normalize.less` sets `[hidden] { display: none; }` but bootstrap.min.css set `[hidden] { display: none !important; }` so we also need the `!important` here to be able to override the default hidden behavior on the sphinx rendered scikit-learn.org. See: https://github.com/scikit-learn/scikit-learn/issues/21755 */display: inline-block !important;position: relative;}#sk-container-id-4 div.sk-text-repr-fallback {display: none;}</style><div id=\"sk-container-id-4\" class=\"sk-top-container\"><div class=\"sk-text-repr-fallback\"><pre>LogisticRegression(penalty=&#x27;l1&#x27;, solver=&#x27;liblinear&#x27;)</pre><b>In a Jupyter environment, please rerun this cell to show the HTML representation or trust the notebook. <br />On GitHub, the HTML representation is unable to render, please try loading this page with nbviewer.org.</b></div><div class=\"sk-container\" hidden><div class=\"sk-item\"><div class=\"sk-estimator sk-toggleable\"><input class=\"sk-toggleable__control sk-hidden--visually\" id=\"sk-estimator-id-4\" type=\"checkbox\" checked><label for=\"sk-estimator-id-4\" class=\"sk-toggleable__label sk-toggleable__label-arrow\">LogisticRegression</label><div class=\"sk-toggleable__content\"><pre>LogisticRegression(penalty=&#x27;l1&#x27;, solver=&#x27;liblinear&#x27;)</pre></div></div></div></div></div>"
      ],
      "text/plain": [
       "LogisticRegression(penalty='l1', solver='liblinear')"
      ]
     },
     "execution_count": 85,
     "metadata": {},
     "output_type": "execute_result"
    }
   ],
   "source": [
    "logit.fit(X_train,y_train)"
   ]
  },
  {
   "cell_type": "code",
   "execution_count": 86,
   "id": "bbe54fa0",
   "metadata": {},
   "outputs": [],
   "source": [
    "logit_pred = logit.predict(X_test)"
   ]
  },
  {
   "cell_type": "code",
   "execution_count": 87,
   "id": "af99f004",
   "metadata": {},
   "outputs": [],
   "source": [
    "logit_accuracy = accuracy_score(y_test,logit_pred)\n",
    "logit_recall = recall_score(y_test,logit_pred)"
   ]
  },
  {
   "cell_type": "code",
   "execution_count": 88,
   "id": "199bd52f",
   "metadata": {},
   "outputs": [
    {
     "data": {
      "text/plain": [
       "99.99301187980433"
      ]
     },
     "execution_count": 88,
     "metadata": {},
     "output_type": "execute_result"
    }
   ],
   "source": [
    "logit_accuracy*100"
   ]
  },
  {
   "cell_type": "code",
   "execution_count": 89,
   "id": "93d6aabf",
   "metadata": {},
   "outputs": [
    {
     "data": {
      "text/plain": [
       "99.98688524590163"
      ]
     },
     "execution_count": 89,
     "metadata": {},
     "output_type": "execute_result"
    }
   ],
   "source": [
    "logit_recall*100"
   ]
  },
  {
   "cell_type": "code",
   "execution_count": 90,
   "id": "99055a53",
   "metadata": {},
   "outputs": [],
   "source": [
    "cm = confusion_matrix(y_test,logit_pred)"
   ]
  },
  {
   "cell_type": "code",
   "execution_count": 91,
   "id": "badea2cd",
   "metadata": {},
   "outputs": [
    {
     "data": {
      "text/plain": [
       "array([[6685,    0],\n",
       "       [   1, 7624]], dtype=int64)"
      ]
     },
     "execution_count": 91,
     "metadata": {},
     "output_type": "execute_result"
    }
   ],
   "source": [
    "cm"
   ]
  },
  {
   "cell_type": "code",
   "execution_count": 92,
   "id": "28f1f967",
   "metadata": {},
   "outputs": [
    {
     "data": {
      "image/png": "[encoded data removed]",
      "text/plain": [
       "<Figure size 640x480 with 2 Axes>"
      ]
     },
     "metadata": {},
     "output_type": "display_data"
    }
   ],
   "source": [
    "# plt.title('Logistic Regression')\n",
    "\n",
    "disp = ConfusionMatrixDisplay(confusion_matrix=cm,\n",
    "                              display_labels=logit.classes_)\n",
    "disp.plot()\n",
    "plt.show()"
   ]
  },
  {
   "cell_type": "code",
   "execution_count": 93,
   "id": "1a6f65a8",
   "metadata": {},
   "outputs": [],
   "source": [
    "log_reg = LogisticRegression(solver='liblinear')\n",
    "log_reg.fit(X_train,y_train)\n",
    "\n",
    "log_reg_preds = log_reg.predict(X_test) # Predictions\n",
    "log_reg_prob = log_reg.predict_proba(X_test)[:,1] \n",
    "\n",
    "# THIS WILL BE USED FOR PR-CURVE "
   ]
  },
  {
   "cell_type": "code",
   "execution_count": 94,
   "id": "02de7831",
   "metadata": {},
   "outputs": [
    {
     "data": {
      "text/plain": [
       "array([9.99999999e-01, 1.31218987e-10, 4.49151668e-07, ...,\n",
       "       3.77314831e-10, 5.65976664e-05, 1.95312793e-08])"
      ]
     },
     "execution_count": 94,
     "metadata": {},
     "output_type": "execute_result"
    }
   ],
   "source": [
    "log_reg_prob"
   ]
  },
  {
   "cell_type": "code",
   "execution_count": 95,
   "id": "5294390e",
   "metadata": {},
   "outputs": [
    {
     "name": "stdout",
     "output_type": "stream",
     "text": [
      "Accuracy : 99.96%\n"
     ]
    }
   ],
   "source": [
    "accuracy = accuracy_score(y_test,log_reg_preds)\n",
    "print(f'Accuracy : {round(accuracy*100,2)}%')"
   ]
  },
  {
   "cell_type": "code",
   "execution_count": 96,
   "id": "30e8d2a4",
   "metadata": {},
   "outputs": [],
   "source": [
    "precision_4,recall_4,threshold_4 = precision_recall_curve(y_test,log_reg_prob)"
   ]
  },
  {
   "cell_type": "code",
   "execution_count": 97,
   "id": "e295cd83",
   "metadata": {},
   "outputs": [
    {
     "name": "stdout",
     "output_type": "stream",
     "text": [
      "0.9999730425548566\n"
     ]
    }
   ],
   "source": [
    "auc_4 =auc(recall_4,precision_4)  \n",
    "print(auc_4)"
   ]
  },
  {
   "cell_type": "code",
   "execution_count": 98,
   "id": "488e1c08",
   "metadata": {},
   "outputs": [
    {
     "data": {
      "text/plain": [
       "<matplotlib.legend.Legend at 0x2333155a3d0>"
      ]
     },
     "execution_count": 98,
     "metadata": {},
     "output_type": "execute_result"
    },
    {
     "data": {
      "image/png": "[encoded data removed]",
      "text/plain": [
       "<Figure size 640x480 with 1 Axes>"
      ]
     },
     "metadata": {},
     "output_type": "display_data"
    }
   ],
   "source": [
    "plt.title('PR-curve: Logistic Regression')\n",
    "\n",
    "plt.plot(recall_4,precision_4,label=f'AUC: {round(auc_4,2)}')\n",
    "\n",
    "plt.fill_between(recall_4,precision_4,alpha=0.2)\n",
    "\n",
    "plt.xlabel('Recall')\n",
    "plt.ylabel('Precision')\n",
    "plt.legend()"
   ]
  },
  {
   "cell_type": "markdown",
   "id": "c05ab64a",
   "metadata": {},
   "source": [
    "# MODEL PERFORMANCE"
   ]
  },
  {
   "cell_type": "markdown",
   "id": "8b76b532",
   "metadata": {},
   "source": [
    "# ==> Comparing all four charts/plots"
   ]
  },
  {
   "cell_type": "code",
   "execution_count": 99,
   "id": "9848ef4c",
   "metadata": {},
   "outputs": [
    {
     "data": {
      "text/plain": [
       "<matplotlib.legend.Legend at 0x23330e76c10>"
      ]
     },
     "execution_count": 99,
     "metadata": {},
     "output_type": "execute_result"
    },
    {
     "data": {
      "image/png": "[encoded data removed]",
      "text/plain": [
       "<Figure size 640x480 with 1 Axes>"
      ]
     },
     "metadata": {},
     "output_type": "display_data"
    }
   ],
   "source": [
    "plt.title('PR-curve: Support Vector Classifier')\n",
    "# Support Vector Classifier\n",
    "plt.plot(recall_1,precision_1,label=f'Support Vector Classifier AUC: {round(auc_1,2)}')\n",
    "plt.fill_between(recall_1,precision_1,alpha=0.2)\n",
    "\n",
    "\n",
    "# Random Forest\n",
    "plt.plot(recall_2,precision_2,label=f'Random Forest AUC: {round(auc_2,2)}')\n",
    "plt.fill_between(recall_2,precision_2,alpha=0.2)\n",
    "\n",
    "# Gradient Boosting\n",
    "plt.plot(recall_3,precision_3,label=f'Gradient Boosting AUC: {round(auc_3,2)}')\n",
    "plt.fill_between(recall_3,precision_3,alpha=0.2)\n",
    "\n",
    "# Logistic Regression\n",
    "plt.plot(recall_4,precision_4,label=f'Logistic Regression AUC: {round(auc_4,2)}')\n",
    "\n",
    "# plt.fill_between(recall_1,precision_1,alpha=0.2)\n",
    "\n",
    "plt.xlabel('Recall')\n",
    "plt.ylabel('Precision')\n",
    "plt.legend()"
   ]
  },
  {
   "cell_type": "code",
   "execution_count": null,
   "id": "9d7d2965",
   "metadata": {},
   "outputs": [],
   "source": []
  },
  {
   "cell_type": "code",
   "execution_count": null,
   "id": "12174b3c",
   "metadata": {},
   "outputs": [],
   "source": []
  }
 ],
 "metadata": {
  "kernelspec": {
   "display_name": "Python 3 (ipykernel)",
   "language": "python",
   "name": "python3"
  },
  "language_info": {
   "codemirror_mode": {
    "name": "ipython",
    "version": 3
   },
   "file_extension": ".py",
   "mimetype": "text/x-python",
   "name": "python",
   "nbconvert_exporter": "python",
   "pygments_lexer": "ipython3",
   "version": "3.11.5"
  }
 },
 "nbformat": 4,
 "nbformat_minor": 5
}
