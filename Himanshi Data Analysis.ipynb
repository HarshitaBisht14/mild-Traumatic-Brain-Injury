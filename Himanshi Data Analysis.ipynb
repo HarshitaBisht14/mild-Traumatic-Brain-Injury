{
 "cells": [
  {
   "cell_type": "code",
   "execution_count": 1,
   "id": "7b368b31",
   "metadata": {},
   "outputs": [],
   "source": [
    "import pandas as pd\n",
    "import numpy as np\n",
    "import seaborn as sns\n",
    "import matplotlib.pyplot as plt"
   ]
  },
  {
   "cell_type": "code",
   "execution_count": 2,
   "id": "7a3a9fd1",
   "metadata": {},
   "outputs": [],
   "source": [
    "disease_df = pd.read_excel('TBT_02_updated_data.xlsx')"
   ]
  },
  {
   "cell_type": "code",
   "execution_count": 3,
   "id": "c5a81297",
   "metadata": {},
   "outputs": [],
   "source": [
    "healthy_df = pd.read_excel('Himanshi_updated_data.xlsx')"
   ]
  },
  {
   "cell_type": "code",
   "execution_count": 4,
   "id": "f92345c4",
   "metadata": {},
   "outputs": [
    {
     "data": {
      "text/plain": [
       "((33276, 46), (27886, 46))"
      ]
     },
     "execution_count": 4,
     "metadata": {},
     "output_type": "execute_result"
    }
   ],
   "source": [
    "disease_df.shape,healthy_df.shape"
   ]
  },
  {
   "cell_type": "code",
   "execution_count": 5,
   "id": "f76887b6",
   "metadata": {},
   "outputs": [],
   "source": [
    "data = pd.concat([disease_df,healthy_df])"
   ]
  },
  {
   "cell_type": "code",
   "execution_count": 6,
   "id": "1fc94c36",
   "metadata": {},
   "outputs": [
    {
     "data": {
      "text/html": [
       "<div>\n",
       "<style scoped>\n",
       "    .dataframe tbody tr th:only-of-type {\n",
       "        vertical-align: middle;\n",
       "    }\n",
       "\n",
       "    .dataframe tbody tr th {\n",
       "        vertical-align: top;\n",
       "    }\n",
       "\n",
       "    .dataframe thead th {\n",
       "        text-align: right;\n",
       "    }\n",
       "</style>\n",
       "<table border=\"1\" class=\"dataframe\">\n",
       "  <thead>\n",
       "    <tr style=\"text-align: right;\">\n",
       "      <th></th>\n",
       "      <th>Recording timestamp</th>\n",
       "      <th>Computer timestamp</th>\n",
       "      <th>Sensor</th>\n",
       "      <th>Project name</th>\n",
       "      <th>Export date</th>\n",
       "      <th>Participant name</th>\n",
       "      <th>Recording name</th>\n",
       "      <th>Recording date</th>\n",
       "      <th>Recording date UTC</th>\n",
       "      <th>Recording start time</th>\n",
       "      <th>...</th>\n",
       "      <th>Recording media name</th>\n",
       "      <th>Recording media width</th>\n",
       "      <th>Recording media height</th>\n",
       "      <th>Eye movement type</th>\n",
       "      <th>Gaze event duration</th>\n",
       "      <th>Eye movement type index</th>\n",
       "      <th>Fixation point X</th>\n",
       "      <th>Fixation point Y</th>\n",
       "      <th>Ungrouped</th>\n",
       "      <th>Disease</th>\n",
       "    </tr>\n",
       "  </thead>\n",
       "  <tbody>\n",
       "    <tr>\n",
       "      <th>27881</th>\n",
       "      <td>304793536.0</td>\n",
       "      <td>538439893.0</td>\n",
       "      <td>Eye Tracker</td>\n",
       "      <td>Project1</td>\n",
       "      <td>17-05-2024</td>\n",
       "      <td>Hmanshi_Control_Subject_17_May</td>\n",
       "      <td>Recording002</td>\n",
       "      <td>17-05-2024</td>\n",
       "      <td>17-05-2024</td>\n",
       "      <td>10:24:45.973</td>\n",
       "      <td>...</td>\n",
       "      <td>fullstream.mp4</td>\n",
       "      <td>1920.0</td>\n",
       "      <td>1080.0</td>\n",
       "      <td>Fixation</td>\n",
       "      <td>190.0</td>\n",
       "      <td>721.0</td>\n",
       "      <td>961.0</td>\n",
       "      <td>569.0</td>\n",
       "      <td>NaN</td>\n",
       "      <td>0.0</td>\n",
       "    </tr>\n",
       "    <tr>\n",
       "      <th>27882</th>\n",
       "      <td>304803531.0</td>\n",
       "      <td>538449888.0</td>\n",
       "      <td>Eye Tracker</td>\n",
       "      <td>Project1</td>\n",
       "      <td>17-05-2024</td>\n",
       "      <td>Hmanshi_Control_Subject_17_May</td>\n",
       "      <td>Recording002</td>\n",
       "      <td>17-05-2024</td>\n",
       "      <td>17-05-2024</td>\n",
       "      <td>10:24:45.973</td>\n",
       "      <td>...</td>\n",
       "      <td>fullstream.mp4</td>\n",
       "      <td>1920.0</td>\n",
       "      <td>1080.0</td>\n",
       "      <td>Fixation</td>\n",
       "      <td>190.0</td>\n",
       "      <td>721.0</td>\n",
       "      <td>961.0</td>\n",
       "      <td>569.0</td>\n",
       "      <td>NaN</td>\n",
       "      <td>0.0</td>\n",
       "    </tr>\n",
       "    <tr>\n",
       "      <th>27883</th>\n",
       "      <td>304813523.0</td>\n",
       "      <td>538459880.0</td>\n",
       "      <td>Eye Tracker</td>\n",
       "      <td>Project1</td>\n",
       "      <td>17-05-2024</td>\n",
       "      <td>Hmanshi_Control_Subject_17_May</td>\n",
       "      <td>Recording002</td>\n",
       "      <td>17-05-2024</td>\n",
       "      <td>17-05-2024</td>\n",
       "      <td>10:24:45.973</td>\n",
       "      <td>...</td>\n",
       "      <td>fullstream.mp4</td>\n",
       "      <td>1920.0</td>\n",
       "      <td>1080.0</td>\n",
       "      <td>Fixation</td>\n",
       "      <td>190.0</td>\n",
       "      <td>721.0</td>\n",
       "      <td>961.0</td>\n",
       "      <td>569.0</td>\n",
       "      <td>NaN</td>\n",
       "      <td>0.0</td>\n",
       "    </tr>\n",
       "    <tr>\n",
       "      <th>27884</th>\n",
       "      <td>304823515.0</td>\n",
       "      <td>538469872.0</td>\n",
       "      <td>Eye Tracker</td>\n",
       "      <td>Project1</td>\n",
       "      <td>17-05-2024</td>\n",
       "      <td>Hmanshi_Control_Subject_17_May</td>\n",
       "      <td>Recording002</td>\n",
       "      <td>17-05-2024</td>\n",
       "      <td>17-05-2024</td>\n",
       "      <td>10:24:45.973</td>\n",
       "      <td>...</td>\n",
       "      <td>fullstream.mp4</td>\n",
       "      <td>1920.0</td>\n",
       "      <td>1080.0</td>\n",
       "      <td>Fixation</td>\n",
       "      <td>190.0</td>\n",
       "      <td>721.0</td>\n",
       "      <td>961.0</td>\n",
       "      <td>569.0</td>\n",
       "      <td>NaN</td>\n",
       "      <td>0.0</td>\n",
       "    </tr>\n",
       "    <tr>\n",
       "      <th>27885</th>\n",
       "      <td>304833505.0</td>\n",
       "      <td>538479862.0</td>\n",
       "      <td>Eye Tracker</td>\n",
       "      <td>Project1</td>\n",
       "      <td>17-05-2024</td>\n",
       "      <td>Hmanshi_Control_Subject_17_May</td>\n",
       "      <td>Recording002</td>\n",
       "      <td>17-05-2024</td>\n",
       "      <td>17-05-2024</td>\n",
       "      <td>10:24:45.973</td>\n",
       "      <td>...</td>\n",
       "      <td>fullstream.mp4</td>\n",
       "      <td>1920.0</td>\n",
       "      <td>1080.0</td>\n",
       "      <td>Fixation</td>\n",
       "      <td>190.0</td>\n",
       "      <td>721.0</td>\n",
       "      <td>961.0</td>\n",
       "      <td>569.0</td>\n",
       "      <td>NaN</td>\n",
       "      <td>0.0</td>\n",
       "    </tr>\n",
       "  </tbody>\n",
       "</table>\n",
       "<p>5 rows × 46 columns</p>\n",
       "</div>"
      ],
      "text/plain": [
       "       Recording timestamp  Computer timestamp       Sensor Project name  \\\n",
       "27881          304793536.0         538439893.0  Eye Tracker     Project1   \n",
       "27882          304803531.0         538449888.0  Eye Tracker     Project1   \n",
       "27883          304813523.0         538459880.0  Eye Tracker     Project1   \n",
       "27884          304823515.0         538469872.0  Eye Tracker     Project1   \n",
       "27885          304833505.0         538479862.0  Eye Tracker     Project1   \n",
       "\n",
       "      Export date                Participant name Recording name  \\\n",
       "27881  17-05-2024  Hmanshi_Control_Subject_17_May   Recording002   \n",
       "27882  17-05-2024  Hmanshi_Control_Subject_17_May   Recording002   \n",
       "27883  17-05-2024  Hmanshi_Control_Subject_17_May   Recording002   \n",
       "27884  17-05-2024  Hmanshi_Control_Subject_17_May   Recording002   \n",
       "27885  17-05-2024  Hmanshi_Control_Subject_17_May   Recording002   \n",
       "\n",
       "      Recording date Recording date UTC Recording start time  ...  \\\n",
       "27881     17-05-2024         17-05-2024         10:24:45.973  ...   \n",
       "27882     17-05-2024         17-05-2024         10:24:45.973  ...   \n",
       "27883     17-05-2024         17-05-2024         10:24:45.973  ...   \n",
       "27884     17-05-2024         17-05-2024         10:24:45.973  ...   \n",
       "27885     17-05-2024         17-05-2024         10:24:45.973  ...   \n",
       "\n",
       "      Recording media name  Recording media width Recording media height  \\\n",
       "27881       fullstream.mp4                 1920.0                 1080.0   \n",
       "27882       fullstream.mp4                 1920.0                 1080.0   \n",
       "27883       fullstream.mp4                 1920.0                 1080.0   \n",
       "27884       fullstream.mp4                 1920.0                 1080.0   \n",
       "27885       fullstream.mp4                 1920.0                 1080.0   \n",
       "\n",
       "       Eye movement type  Gaze event duration  Eye movement type index  \\\n",
       "27881           Fixation                190.0                    721.0   \n",
       "27882           Fixation                190.0                    721.0   \n",
       "27883           Fixation                190.0                    721.0   \n",
       "27884           Fixation                190.0                    721.0   \n",
       "27885           Fixation                190.0                    721.0   \n",
       "\n",
       "       Fixation point X  Fixation point Y  Ungrouped  Disease  \n",
       "27881             961.0             569.0        NaN      0.0  \n",
       "27882             961.0             569.0        NaN      0.0  \n",
       "27883             961.0             569.0        NaN      0.0  \n",
       "27884             961.0             569.0        NaN      0.0  \n",
       "27885             961.0             569.0        NaN      0.0  \n",
       "\n",
       "[5 rows x 46 columns]"
      ]
     },
     "execution_count": 6,
     "metadata": {},
     "output_type": "execute_result"
    }
   ],
   "source": [
    "data.tail()"
   ]
  },
  {
   "cell_type": "code",
   "execution_count": 7,
   "id": "6f318eb9",
   "metadata": {},
   "outputs": [
    {
     "data": {
      "text/plain": [
       "Index(['Recording timestamp', 'Computer timestamp', 'Sensor', 'Project name',\n",
       "       'Export date', 'Participant name', 'Recording name', 'Recording date',\n",
       "       'Recording date UTC', 'Recording start time',\n",
       "       'Recording start time UTC', 'Recording duration',\n",
       "       'Recording Fixation filter name', 'Event', 'Event value',\n",
       "       'Gaze point X', 'Gaze point Y', 'Gaze point 3D X', 'Gaze point 3D Y',\n",
       "       'Gaze point 3D Z', 'Gaze direction left X', 'Gaze direction left Y',\n",
       "       'Gaze direction left Z', 'Gaze direction right X',\n",
       "       'Gaze direction right Y', 'Gaze direction right Z',\n",
       "       'Pupil position left X', 'Pupil position left Y',\n",
       "       'Pupil position left Z', 'Pupil position right X',\n",
       "       'Pupil position right Y', 'Pupil position right Z',\n",
       "       'Pupil diameter left', 'Pupil diameter right', 'Validity left',\n",
       "       'Validity right', 'Recording media name', 'Recording media width',\n",
       "       'Recording media height', 'Eye movement type', 'Gaze event duration',\n",
       "       'Eye movement type index', 'Fixation point X', 'Fixation point Y',\n",
       "       'Ungrouped', 'Disease'],\n",
       "      dtype='object')"
      ]
     },
     "execution_count": 7,
     "metadata": {},
     "output_type": "execute_result"
    }
   ],
   "source": [
    "data.columns"
   ]
  },
  {
   "cell_type": "code",
   "execution_count": 8,
   "id": "7c066d60",
   "metadata": {},
   "outputs": [
    {
     "name": "stdout",
     "output_type": "stream",
     "text": [
      "<class 'pandas.core.frame.DataFrame'>\n",
      "Index: 61162 entries, 0 to 27885\n",
      "Data columns (total 46 columns):\n",
      " #   Column                          Non-Null Count  Dtype  \n",
      "---  ------                          --------------  -----  \n",
      " 0   Recording timestamp             58666 non-null  float64\n",
      " 1   Computer timestamp              58666 non-null  float64\n",
      " 2   Sensor                          58666 non-null  object \n",
      " 3   Project name                    58666 non-null  object \n",
      " 4   Export date                     58666 non-null  object \n",
      " 5   Participant name                58666 non-null  object \n",
      " 6   Recording name                  58666 non-null  object \n",
      " 7   Recording date                  58666 non-null  object \n",
      " 8   Recording date UTC              58666 non-null  object \n",
      " 9   Recording start time            58666 non-null  object \n",
      " 10  Recording start time UTC        58666 non-null  object \n",
      " 11  Recording duration              58666 non-null  float64\n",
      " 12  Recording Fixation filter name  58666 non-null  object \n",
      " 13  Event                           0 non-null      float64\n",
      " 14  Event value                     0 non-null      float64\n",
      " 15  Gaze point X                    58649 non-null  float64\n",
      " 16  Gaze point Y                    58649 non-null  float64\n",
      " 17  Gaze point 3D X                 58649 non-null  float64\n",
      " 18  Gaze point 3D Y                 58649 non-null  float64\n",
      " 19  Gaze point 3D Z                 58649 non-null  float64\n",
      " 20  Gaze direction left X           58649 non-null  float64\n",
      " 21  Gaze direction left Y           58649 non-null  float64\n",
      " 22  Gaze direction left Z           58649 non-null  float64\n",
      " 23  Gaze direction right X          58649 non-null  float64\n",
      " 24  Gaze direction right Y          58649 non-null  float64\n",
      " 25  Gaze direction right Z          58649 non-null  float64\n",
      " 26  Pupil position left X           58649 non-null  float64\n",
      " 27  Pupil position left Y           58649 non-null  float64\n",
      " 28  Pupil position left Z           58649 non-null  float64\n",
      " 29  Pupil position right X          58649 non-null  float64\n",
      " 30  Pupil position right Y          58649 non-null  float64\n",
      " 31  Pupil position right Z          58649 non-null  float64\n",
      " 32  Pupil diameter left             58649 non-null  float64\n",
      " 33  Pupil diameter right            58649 non-null  float64\n",
      " 34  Validity left                   58666 non-null  object \n",
      " 35  Validity right                  58666 non-null  object \n",
      " 36  Recording media name            58585 non-null  object \n",
      " 37  Recording media width           58585 non-null  float64\n",
      " 38  Recording media height          58585 non-null  float64\n",
      " 39  Eye movement type               58666 non-null  object \n",
      " 40  Gaze event duration             58666 non-null  float64\n",
      " 41  Eye movement type index         58666 non-null  float64\n",
      " 42  Fixation point X                42863 non-null  float64\n",
      " 43  Fixation point Y                42863 non-null  float64\n",
      " 44  Ungrouped                       0 non-null      float64\n",
      " 45  Disease                         59358 non-null  float64\n",
      "dtypes: float64(32), object(14)\n",
      "memory usage: 21.9+ MB\n"
     ]
    }
   ],
   "source": [
    "data.info()"
   ]
  },
  {
   "cell_type": "code",
   "execution_count": 9,
   "id": "65efebbb",
   "metadata": {},
   "outputs": [],
   "source": [
    "df = data.iloc[:,15:].drop(['Recording media name', 'Recording media width','Recording media height','Ungrouped','Validity left',\n",
    "       'Validity right',],axis=1)"
   ]
  },
  {
   "cell_type": "code",
   "execution_count": 10,
   "id": "23a3b4ab",
   "metadata": {
    "scrolled": true
   },
   "outputs": [
    {
     "data": {
      "text/html": [
       "<div>\n",
       "<style scoped>\n",
       "    .dataframe tbody tr th:only-of-type {\n",
       "        vertical-align: middle;\n",
       "    }\n",
       "\n",
       "    .dataframe tbody tr th {\n",
       "        vertical-align: top;\n",
       "    }\n",
       "\n",
       "    .dataframe thead th {\n",
       "        text-align: right;\n",
       "    }\n",
       "</style>\n",
       "<table border=\"1\" class=\"dataframe\">\n",
       "  <thead>\n",
       "    <tr style=\"text-align: right;\">\n",
       "      <th></th>\n",
       "      <th>Gaze point X</th>\n",
       "      <th>Gaze point Y</th>\n",
       "      <th>Gaze point 3D X</th>\n",
       "      <th>Gaze point 3D Y</th>\n",
       "      <th>Gaze point 3D Z</th>\n",
       "      <th>Gaze direction left X</th>\n",
       "      <th>Gaze direction left Y</th>\n",
       "      <th>Gaze direction left Z</th>\n",
       "      <th>Gaze direction right X</th>\n",
       "      <th>Gaze direction right Y</th>\n",
       "      <th>...</th>\n",
       "      <th>Pupil position right Y</th>\n",
       "      <th>Pupil position right Z</th>\n",
       "      <th>Pupil diameter left</th>\n",
       "      <th>Pupil diameter right</th>\n",
       "      <th>Eye movement type</th>\n",
       "      <th>Gaze event duration</th>\n",
       "      <th>Eye movement type index</th>\n",
       "      <th>Fixation point X</th>\n",
       "      <th>Fixation point Y</th>\n",
       "      <th>Disease</th>\n",
       "    </tr>\n",
       "  </thead>\n",
       "  <tbody>\n",
       "    <tr>\n",
       "      <th>0</th>\n",
       "      <td>NaN</td>\n",
       "      <td>NaN</td>\n",
       "      <td>NaN</td>\n",
       "      <td>NaN</td>\n",
       "      <td>NaN</td>\n",
       "      <td>NaN</td>\n",
       "      <td>NaN</td>\n",
       "      <td>NaN</td>\n",
       "      <td>NaN</td>\n",
       "      <td>NaN</td>\n",
       "      <td>...</td>\n",
       "      <td>NaN</td>\n",
       "      <td>NaN</td>\n",
       "      <td>NaN</td>\n",
       "      <td>NaN</td>\n",
       "      <td>EyesNotFound</td>\n",
       "      <td>165.0</td>\n",
       "      <td>1.0</td>\n",
       "      <td>NaN</td>\n",
       "      <td>NaN</td>\n",
       "      <td>1.0</td>\n",
       "    </tr>\n",
       "    <tr>\n",
       "      <th>1</th>\n",
       "      <td>NaN</td>\n",
       "      <td>NaN</td>\n",
       "      <td>NaN</td>\n",
       "      <td>NaN</td>\n",
       "      <td>NaN</td>\n",
       "      <td>NaN</td>\n",
       "      <td>NaN</td>\n",
       "      <td>NaN</td>\n",
       "      <td>NaN</td>\n",
       "      <td>NaN</td>\n",
       "      <td>...</td>\n",
       "      <td>NaN</td>\n",
       "      <td>NaN</td>\n",
       "      <td>NaN</td>\n",
       "      <td>NaN</td>\n",
       "      <td>EyesNotFound</td>\n",
       "      <td>165.0</td>\n",
       "      <td>1.0</td>\n",
       "      <td>NaN</td>\n",
       "      <td>NaN</td>\n",
       "      <td>1.0</td>\n",
       "    </tr>\n",
       "    <tr>\n",
       "      <th>2</th>\n",
       "      <td>NaN</td>\n",
       "      <td>NaN</td>\n",
       "      <td>NaN</td>\n",
       "      <td>NaN</td>\n",
       "      <td>NaN</td>\n",
       "      <td>NaN</td>\n",
       "      <td>NaN</td>\n",
       "      <td>NaN</td>\n",
       "      <td>NaN</td>\n",
       "      <td>NaN</td>\n",
       "      <td>...</td>\n",
       "      <td>NaN</td>\n",
       "      <td>NaN</td>\n",
       "      <td>NaN</td>\n",
       "      <td>NaN</td>\n",
       "      <td>EyesNotFound</td>\n",
       "      <td>165.0</td>\n",
       "      <td>1.0</td>\n",
       "      <td>NaN</td>\n",
       "      <td>NaN</td>\n",
       "      <td>1.0</td>\n",
       "    </tr>\n",
       "    <tr>\n",
       "      <th>3</th>\n",
       "      <td>NaN</td>\n",
       "      <td>NaN</td>\n",
       "      <td>NaN</td>\n",
       "      <td>NaN</td>\n",
       "      <td>NaN</td>\n",
       "      <td>NaN</td>\n",
       "      <td>NaN</td>\n",
       "      <td>NaN</td>\n",
       "      <td>NaN</td>\n",
       "      <td>NaN</td>\n",
       "      <td>...</td>\n",
       "      <td>NaN</td>\n",
       "      <td>NaN</td>\n",
       "      <td>NaN</td>\n",
       "      <td>NaN</td>\n",
       "      <td>EyesNotFound</td>\n",
       "      <td>165.0</td>\n",
       "      <td>1.0</td>\n",
       "      <td>NaN</td>\n",
       "      <td>NaN</td>\n",
       "      <td>1.0</td>\n",
       "    </tr>\n",
       "    <tr>\n",
       "      <th>4</th>\n",
       "      <td>NaN</td>\n",
       "      <td>NaN</td>\n",
       "      <td>NaN</td>\n",
       "      <td>NaN</td>\n",
       "      <td>NaN</td>\n",
       "      <td>NaN</td>\n",
       "      <td>NaN</td>\n",
       "      <td>NaN</td>\n",
       "      <td>NaN</td>\n",
       "      <td>NaN</td>\n",
       "      <td>...</td>\n",
       "      <td>NaN</td>\n",
       "      <td>NaN</td>\n",
       "      <td>NaN</td>\n",
       "      <td>NaN</td>\n",
       "      <td>EyesNotFound</td>\n",
       "      <td>165.0</td>\n",
       "      <td>1.0</td>\n",
       "      <td>NaN</td>\n",
       "      <td>NaN</td>\n",
       "      <td>1.0</td>\n",
       "    </tr>\n",
       "  </tbody>\n",
       "</table>\n",
       "<p>5 rows × 25 columns</p>\n",
       "</div>"
      ],
      "text/plain": [
       "   Gaze point X  Gaze point Y  Gaze point 3D X  Gaze point 3D Y  \\\n",
       "0           NaN           NaN              NaN              NaN   \n",
       "1           NaN           NaN              NaN              NaN   \n",
       "2           NaN           NaN              NaN              NaN   \n",
       "3           NaN           NaN              NaN              NaN   \n",
       "4           NaN           NaN              NaN              NaN   \n",
       "\n",
       "   Gaze point 3D Z  Gaze direction left X  Gaze direction left Y  \\\n",
       "0              NaN                    NaN                    NaN   \n",
       "1              NaN                    NaN                    NaN   \n",
       "2              NaN                    NaN                    NaN   \n",
       "3              NaN                    NaN                    NaN   \n",
       "4              NaN                    NaN                    NaN   \n",
       "\n",
       "   Gaze direction left Z  Gaze direction right X  Gaze direction right Y  ...  \\\n",
       "0                    NaN                     NaN                     NaN  ...   \n",
       "1                    NaN                     NaN                     NaN  ...   \n",
       "2                    NaN                     NaN                     NaN  ...   \n",
       "3                    NaN                     NaN                     NaN  ...   \n",
       "4                    NaN                     NaN                     NaN  ...   \n",
       "\n",
       "   Pupil position right Y  Pupil position right Z  Pupil diameter left  \\\n",
       "0                     NaN                     NaN                  NaN   \n",
       "1                     NaN                     NaN                  NaN   \n",
       "2                     NaN                     NaN                  NaN   \n",
       "3                     NaN                     NaN                  NaN   \n",
       "4                     NaN                     NaN                  NaN   \n",
       "\n",
       "   Pupil diameter right  Eye movement type  Gaze event duration  \\\n",
       "0                   NaN       EyesNotFound                165.0   \n",
       "1                   NaN       EyesNotFound                165.0   \n",
       "2                   NaN       EyesNotFound                165.0   \n",
       "3                   NaN       EyesNotFound                165.0   \n",
       "4                   NaN       EyesNotFound                165.0   \n",
       "\n",
       "   Eye movement type index  Fixation point X  Fixation point Y Disease  \n",
       "0                      1.0               NaN               NaN     1.0  \n",
       "1                      1.0               NaN               NaN     1.0  \n",
       "2                      1.0               NaN               NaN     1.0  \n",
       "3                      1.0               NaN               NaN     1.0  \n",
       "4                      1.0               NaN               NaN     1.0  \n",
       "\n",
       "[5 rows x 25 columns]"
      ]
     },
     "execution_count": 10,
     "metadata": {},
     "output_type": "execute_result"
    }
   ],
   "source": [
    "df.head()"
   ]
  },
  {
   "cell_type": "code",
   "execution_count": 11,
   "id": "3012e2d9",
   "metadata": {},
   "outputs": [
    {
     "data": {
      "text/html": [
       "<div>\n",
       "<style scoped>\n",
       "    .dataframe tbody tr th:only-of-type {\n",
       "        vertical-align: middle;\n",
       "    }\n",
       "\n",
       "    .dataframe tbody tr th {\n",
       "        vertical-align: top;\n",
       "    }\n",
       "\n",
       "    .dataframe thead th {\n",
       "        text-align: right;\n",
       "    }\n",
       "</style>\n",
       "<table border=\"1\" class=\"dataframe\">\n",
       "  <thead>\n",
       "    <tr style=\"text-align: right;\">\n",
       "      <th></th>\n",
       "      <th>Gaze point X</th>\n",
       "      <th>Gaze point Y</th>\n",
       "      <th>Gaze point 3D X</th>\n",
       "      <th>Gaze point 3D Y</th>\n",
       "      <th>Gaze point 3D Z</th>\n",
       "      <th>Gaze direction left X</th>\n",
       "      <th>Gaze direction left Y</th>\n",
       "      <th>Gaze direction left Z</th>\n",
       "      <th>Gaze direction right X</th>\n",
       "      <th>Gaze direction right Y</th>\n",
       "      <th>...</th>\n",
       "      <th>Pupil position right Y</th>\n",
       "      <th>Pupil position right Z</th>\n",
       "      <th>Pupil diameter left</th>\n",
       "      <th>Pupil diameter right</th>\n",
       "      <th>Eye movement type</th>\n",
       "      <th>Gaze event duration</th>\n",
       "      <th>Eye movement type index</th>\n",
       "      <th>Fixation point X</th>\n",
       "      <th>Fixation point Y</th>\n",
       "      <th>Disease</th>\n",
       "    </tr>\n",
       "  </thead>\n",
       "  <tbody>\n",
       "    <tr>\n",
       "      <th>27881</th>\n",
       "      <td>960.0</td>\n",
       "      <td>573.0</td>\n",
       "      <td>-6.9084</td>\n",
       "      <td>-18.6143</td>\n",
       "      <td>395.3579</td>\n",
       "      <td>-0.08397</td>\n",
       "      <td>0.00971</td>\n",
       "      <td>0.99642</td>\n",
       "      <td>0.05391</td>\n",
       "      <td>-0.02036</td>\n",
       "      <td>...</td>\n",
       "      <td>-15.47</td>\n",
       "      <td>-31.51</td>\n",
       "      <td>4.034</td>\n",
       "      <td>4.243</td>\n",
       "      <td>Fixation</td>\n",
       "      <td>190.0</td>\n",
       "      <td>721.0</td>\n",
       "      <td>961.0</td>\n",
       "      <td>569.0</td>\n",
       "      <td>0.0</td>\n",
       "    </tr>\n",
       "    <tr>\n",
       "      <th>27882</th>\n",
       "      <td>960.0</td>\n",
       "      <td>574.0</td>\n",
       "      <td>-6.8635</td>\n",
       "      <td>-18.7157</td>\n",
       "      <td>391.0934</td>\n",
       "      <td>-0.08659</td>\n",
       "      <td>0.00648</td>\n",
       "      <td>0.99622</td>\n",
       "      <td>0.05601</td>\n",
       "      <td>-0.01701</td>\n",
       "      <td>...</td>\n",
       "      <td>-15.76</td>\n",
       "      <td>-31.49</td>\n",
       "      <td>3.974</td>\n",
       "      <td>4.236</td>\n",
       "      <td>Fixation</td>\n",
       "      <td>190.0</td>\n",
       "      <td>721.0</td>\n",
       "      <td>961.0</td>\n",
       "      <td>569.0</td>\n",
       "      <td>0.0</td>\n",
       "    </tr>\n",
       "    <tr>\n",
       "      <th>27883</th>\n",
       "      <td>960.0</td>\n",
       "      <td>574.0</td>\n",
       "      <td>-6.9156</td>\n",
       "      <td>-18.8225</td>\n",
       "      <td>390.3372</td>\n",
       "      <td>-0.08496</td>\n",
       "      <td>0.00939</td>\n",
       "      <td>0.99634</td>\n",
       "      <td>0.05453</td>\n",
       "      <td>-0.02114</td>\n",
       "      <td>...</td>\n",
       "      <td>-15.47</td>\n",
       "      <td>-31.51</td>\n",
       "      <td>4.025</td>\n",
       "      <td>4.225</td>\n",
       "      <td>Fixation</td>\n",
       "      <td>190.0</td>\n",
       "      <td>721.0</td>\n",
       "      <td>961.0</td>\n",
       "      <td>569.0</td>\n",
       "      <td>0.0</td>\n",
       "    </tr>\n",
       "    <tr>\n",
       "      <th>27884</th>\n",
       "      <td>959.0</td>\n",
       "      <td>575.0</td>\n",
       "      <td>-6.7966</td>\n",
       "      <td>-19.1360</td>\n",
       "      <td>391.1780</td>\n",
       "      <td>-0.08644</td>\n",
       "      <td>0.00545</td>\n",
       "      <td>0.99624</td>\n",
       "      <td>0.05618</td>\n",
       "      <td>-0.01795</td>\n",
       "      <td>...</td>\n",
       "      <td>-15.76</td>\n",
       "      <td>-31.49</td>\n",
       "      <td>3.959</td>\n",
       "      <td>4.220</td>\n",
       "      <td>Fixation</td>\n",
       "      <td>190.0</td>\n",
       "      <td>721.0</td>\n",
       "      <td>961.0</td>\n",
       "      <td>569.0</td>\n",
       "      <td>0.0</td>\n",
       "    </tr>\n",
       "    <tr>\n",
       "      <th>27885</th>\n",
       "      <td>959.0</td>\n",
       "      <td>575.0</td>\n",
       "      <td>-6.7055</td>\n",
       "      <td>-19.2701</td>\n",
       "      <td>391.6775</td>\n",
       "      <td>-0.08412</td>\n",
       "      <td>0.00851</td>\n",
       "      <td>0.99642</td>\n",
       "      <td>0.05478</td>\n",
       "      <td>-0.02230</td>\n",
       "      <td>...</td>\n",
       "      <td>-15.47</td>\n",
       "      <td>-31.50</td>\n",
       "      <td>3.999</td>\n",
       "      <td>4.209</td>\n",
       "      <td>Fixation</td>\n",
       "      <td>190.0</td>\n",
       "      <td>721.0</td>\n",
       "      <td>961.0</td>\n",
       "      <td>569.0</td>\n",
       "      <td>0.0</td>\n",
       "    </tr>\n",
       "  </tbody>\n",
       "</table>\n",
       "<p>5 rows × 25 columns</p>\n",
       "</div>"
      ],
      "text/plain": [
       "       Gaze point X  Gaze point Y  Gaze point 3D X  Gaze point 3D Y  \\\n",
       "27881         960.0         573.0          -6.9084         -18.6143   \n",
       "27882         960.0         574.0          -6.8635         -18.7157   \n",
       "27883         960.0         574.0          -6.9156         -18.8225   \n",
       "27884         959.0         575.0          -6.7966         -19.1360   \n",
       "27885         959.0         575.0          -6.7055         -19.2701   \n",
       "\n",
       "       Gaze point 3D Z  Gaze direction left X  Gaze direction left Y  \\\n",
       "27881         395.3579               -0.08397                0.00971   \n",
       "27882         391.0934               -0.08659                0.00648   \n",
       "27883         390.3372               -0.08496                0.00939   \n",
       "27884         391.1780               -0.08644                0.00545   \n",
       "27885         391.6775               -0.08412                0.00851   \n",
       "\n",
       "       Gaze direction left Z  Gaze direction right X  Gaze direction right Y  \\\n",
       "27881                0.99642                 0.05391                -0.02036   \n",
       "27882                0.99622                 0.05601                -0.01701   \n",
       "27883                0.99634                 0.05453                -0.02114   \n",
       "27884                0.99624                 0.05618                -0.01795   \n",
       "27885                0.99642                 0.05478                -0.02230   \n",
       "\n",
       "       ...  Pupil position right Y  Pupil position right Z  \\\n",
       "27881  ...                  -15.47                  -31.51   \n",
       "27882  ...                  -15.76                  -31.49   \n",
       "27883  ...                  -15.47                  -31.51   \n",
       "27884  ...                  -15.76                  -31.49   \n",
       "27885  ...                  -15.47                  -31.50   \n",
       "\n",
       "       Pupil diameter left  Pupil diameter right  Eye movement type  \\\n",
       "27881                4.034                 4.243           Fixation   \n",
       "27882                3.974                 4.236           Fixation   \n",
       "27883                4.025                 4.225           Fixation   \n",
       "27884                3.959                 4.220           Fixation   \n",
       "27885                3.999                 4.209           Fixation   \n",
       "\n",
       "       Gaze event duration  Eye movement type index  Fixation point X  \\\n",
       "27881                190.0                    721.0             961.0   \n",
       "27882                190.0                    721.0             961.0   \n",
       "27883                190.0                    721.0             961.0   \n",
       "27884                190.0                    721.0             961.0   \n",
       "27885                190.0                    721.0             961.0   \n",
       "\n",
       "       Fixation point Y Disease  \n",
       "27881             569.0     0.0  \n",
       "27882             569.0     0.0  \n",
       "27883             569.0     0.0  \n",
       "27884             569.0     0.0  \n",
       "27885             569.0     0.0  \n",
       "\n",
       "[5 rows x 25 columns]"
      ]
     },
     "execution_count": 11,
     "metadata": {},
     "output_type": "execute_result"
    }
   ],
   "source": [
    "df.tail()"
   ]
  },
  {
   "cell_type": "code",
   "execution_count": 12,
   "id": "a0919cde",
   "metadata": {},
   "outputs": [
    {
     "name": "stdout",
     "output_type": "stream",
     "text": [
      "<class 'pandas.core.frame.DataFrame'>\n",
      "Index: 61162 entries, 0 to 27885\n",
      "Data columns (total 25 columns):\n",
      " #   Column                   Non-Null Count  Dtype  \n",
      "---  ------                   --------------  -----  \n",
      " 0   Gaze point X             58649 non-null  float64\n",
      " 1   Gaze point Y             58649 non-null  float64\n",
      " 2   Gaze point 3D X          58649 non-null  float64\n",
      " 3   Gaze point 3D Y          58649 non-null  float64\n",
      " 4   Gaze point 3D Z          58649 non-null  float64\n",
      " 5   Gaze direction left X    58649 non-null  float64\n",
      " 6   Gaze direction left Y    58649 non-null  float64\n",
      " 7   Gaze direction left Z    58649 non-null  float64\n",
      " 8   Gaze direction right X   58649 non-null  float64\n",
      " 9   Gaze direction right Y   58649 non-null  float64\n",
      " 10  Gaze direction right Z   58649 non-null  float64\n",
      " 11  Pupil position left X    58649 non-null  float64\n",
      " 12  Pupil position left Y    58649 non-null  float64\n",
      " 13  Pupil position left Z    58649 non-null  float64\n",
      " 14  Pupil position right X   58649 non-null  float64\n",
      " 15  Pupil position right Y   58649 non-null  float64\n",
      " 16  Pupil position right Z   58649 non-null  float64\n",
      " 17  Pupil diameter left      58649 non-null  float64\n",
      " 18  Pupil diameter right     58649 non-null  float64\n",
      " 19  Eye movement type        58666 non-null  object \n",
      " 20  Gaze event duration      58666 non-null  float64\n",
      " 21  Eye movement type index  58666 non-null  float64\n",
      " 22  Fixation point X         42863 non-null  float64\n",
      " 23  Fixation point Y         42863 non-null  float64\n",
      " 24  Disease                  59358 non-null  float64\n",
      "dtypes: float64(24), object(1)\n",
      "memory usage: 12.1+ MB\n"
     ]
    }
   ],
   "source": [
    "df.info()"
   ]
  },
  {
   "cell_type": "code",
   "execution_count": 13,
   "id": "6874c98f",
   "metadata": {},
   "outputs": [
    {
     "data": {
      "text/plain": [
       "array(['EyesNotFound', 'Unclassified', 'Fixation', 'Saccade', nan],\n",
       "      dtype=object)"
      ]
     },
     "execution_count": 13,
     "metadata": {},
     "output_type": "execute_result"
    }
   ],
   "source": [
    "df['Eye movement type'].unique()"
   ]
  },
  {
   "cell_type": "code",
   "execution_count": 14,
   "id": "c7606676",
   "metadata": {},
   "outputs": [],
   "source": [
    "valuesToEncode = {'Fixation':0, 'EyesNotFound':1, 'Saccade':2, 'Unclassified':3}"
   ]
  },
  {
   "cell_type": "code",
   "execution_count": 15,
   "id": "63d30a2d",
   "metadata": {},
   "outputs": [],
   "source": [
    "# df[['Eye movement type']].applymap(valuesToEncode)\n",
    "df.drop(['Eye movement type','Gaze event duration','Eye movement type index'],axis=1,inplace=True)"
   ]
  },
  {
   "cell_type": "code",
   "execution_count": 16,
   "id": "f055bfc7",
   "metadata": {},
   "outputs": [
    {
     "name": "stdout",
     "output_type": "stream",
     "text": [
      "<class 'pandas.core.frame.DataFrame'>\n",
      "Index: 61162 entries, 0 to 27885\n",
      "Data columns (total 22 columns):\n",
      " #   Column                  Non-Null Count  Dtype  \n",
      "---  ------                  --------------  -----  \n",
      " 0   Gaze point X            58649 non-null  float64\n",
      " 1   Gaze point Y            58649 non-null  float64\n",
      " 2   Gaze point 3D X         58649 non-null  float64\n",
      " 3   Gaze point 3D Y         58649 non-null  float64\n",
      " 4   Gaze point 3D Z         58649 non-null  float64\n",
      " 5   Gaze direction left X   58649 non-null  float64\n",
      " 6   Gaze direction left Y   58649 non-null  float64\n",
      " 7   Gaze direction left Z   58649 non-null  float64\n",
      " 8   Gaze direction right X  58649 non-null  float64\n",
      " 9   Gaze direction right Y  58649 non-null  float64\n",
      " 10  Gaze direction right Z  58649 non-null  float64\n",
      " 11  Pupil position left X   58649 non-null  float64\n",
      " 12  Pupil position left Y   58649 non-null  float64\n",
      " 13  Pupil position left Z   58649 non-null  float64\n",
      " 14  Pupil position right X  58649 non-null  float64\n",
      " 15  Pupil position right Y  58649 non-null  float64\n",
      " 16  Pupil position right Z  58649 non-null  float64\n",
      " 17  Pupil diameter left     58649 non-null  float64\n",
      " 18  Pupil diameter right    58649 non-null  float64\n",
      " 19  Fixation point X        42863 non-null  float64\n",
      " 20  Fixation point Y        42863 non-null  float64\n",
      " 21  Disease                 59358 non-null  float64\n",
      "dtypes: float64(22)\n",
      "memory usage: 10.7 MB\n"
     ]
    }
   ],
   "source": [
    "df.info()"
   ]
  },
  {
   "cell_type": "code",
   "execution_count": 17,
   "id": "96603ba2",
   "metadata": {},
   "outputs": [
    {
     "data": {
      "text/plain": [
       "0         NaN\n",
       "1         NaN\n",
       "2         NaN\n",
       "3         NaN\n",
       "4         NaN\n",
       "        ...  \n",
       "995    1102.0\n",
       "996    1102.0\n",
       "997    1102.0\n",
       "998    1102.0\n",
       "999    1102.0\n",
       "Name: Gaze point X, Length: 1000, dtype: float64"
      ]
     },
     "execution_count": 17,
     "metadata": {},
     "output_type": "execute_result"
    }
   ],
   "source": [
    "df['Gaze point X'].iloc[:1000]"
   ]
  },
  {
   "cell_type": "code",
   "execution_count": 18,
   "id": "a2cd65ce",
   "metadata": {},
   "outputs": [],
   "source": [
    "df['Fixation point X'].fillna(df['Fixation point X'].mean(),inplace=True)\n",
    "df['Fixation point Y'].fillna(df['Fixation point Y'].mean(),inplace=True)"
   ]
  },
  {
   "cell_type": "code",
   "execution_count": 19,
   "id": "92553064",
   "metadata": {},
   "outputs": [],
   "source": [
    "df['Gaze point X'].fillna(df['Gaze point X'].mean(),inplace=True)\n",
    "df['Gaze point Y'].fillna(df['Gaze point Y'].mean(),inplace=True)"
   ]
  },
  {
   "cell_type": "code",
   "execution_count": 20,
   "id": "e29c60a0",
   "metadata": {},
   "outputs": [],
   "source": [
    "df['Gaze point 3D X'].fillna(df['Gaze point 3D X'].mean(),inplace=True)\n",
    "df['Gaze point 3D Y'].fillna(df['Gaze point 3D Y'].mean(),inplace=True)\n",
    "df['Gaze point 3D Z'].fillna(df['Gaze point 3D Z'].mean(),inplace=True)\n",
    "df['Gaze direction left X'].fillna(df['Gaze direction left X'].mean(),inplace=True)\n",
    "df['Gaze direction left Y'].fillna(df['Gaze direction left Y'].mean(),inplace=True)\n",
    "df['Gaze direction left Z'].fillna(df['Gaze direction left Z'].mean(),inplace=True)\n",
    "df['Gaze direction right X'].fillna(df['Gaze direction right X'].mean(),inplace=True)\n",
    "df['Gaze direction right Y'].fillna(df['Gaze direction right Y'].mean(),inplace=True)\n",
    "df['Gaze direction right Z'].fillna(df['Gaze direction right Z'].mean(),inplace=True)\n",
    "df['Pupil position left X'].fillna(df['Pupil position left X'].mean(),inplace=True)\n",
    "df['Pupil position left Y'].fillna(df['Pupil position left Y'].mean(),inplace=True)\n",
    "df['Pupil position left Z'].fillna(df['Pupil position left Z'].mean(),inplace=True)\n",
    "df['Pupil position right X'].fillna(df['Pupil position right X'].mean(),inplace=True)\n",
    "df['Pupil position right Y'].fillna(df['Pupil position right Y'].mean(),inplace=True)\n",
    "df['Pupil position right Z'].fillna(df['Pupil position right Z'].mean(),inplace=True)\n",
    "df['Pupil diameter left'].fillna(df['Pupil diameter left'].mean(),inplace=True)\n",
    "df['Pupil diameter right'].fillna(df['Pupil diameter right'].mean(),inplace=True)\n",
    "df['Disease'].fillna(df['Disease'].mean(),inplace=True)"
   ]
  },
  {
   "cell_type": "code",
   "execution_count": null,
   "id": "6ed08489",
   "metadata": {},
   "outputs": [],
   "source": []
  },
  {
   "cell_type": "code",
   "execution_count": 21,
   "id": "6e30d6ee",
   "metadata": {},
   "outputs": [
    {
     "data": {
      "text/plain": [
       "Gaze point X              0\n",
       "Gaze point Y              0\n",
       "Gaze point 3D X           0\n",
       "Gaze point 3D Y           0\n",
       "Gaze point 3D Z           0\n",
       "Gaze direction left X     0\n",
       "Gaze direction left Y     0\n",
       "Gaze direction left Z     0\n",
       "Gaze direction right X    0\n",
       "Gaze direction right Y    0\n",
       "Gaze direction right Z    0\n",
       "Pupil position left X     0\n",
       "Pupil position left Y     0\n",
       "Pupil position left Z     0\n",
       "Pupil position right X    0\n",
       "Pupil position right Y    0\n",
       "Pupil position right Z    0\n",
       "Pupil diameter left       0\n",
       "Pupil diameter right      0\n",
       "Fixation point X          0\n",
       "Fixation point Y          0\n",
       "Disease                   0\n",
       "dtype: int64"
      ]
     },
     "execution_count": 21,
     "metadata": {},
     "output_type": "execute_result"
    }
   ],
   "source": [
    "df.isnull().sum()"
   ]
  },
  {
   "cell_type": "code",
   "execution_count": 22,
   "id": "eb155a1c",
   "metadata": {},
   "outputs": [],
   "source": [
    "df.drop(['Fixation point X','Fixation point Y'],axis=1,inplace=True)"
   ]
  },
  {
   "cell_type": "code",
   "execution_count": 23,
   "id": "0d6e304c",
   "metadata": {},
   "outputs": [],
   "source": [
    "df = df.sample(frac=1).reset_index(drop=True)"
   ]
  },
  {
   "cell_type": "code",
   "execution_count": 24,
   "id": "a5368d13",
   "metadata": {
    "scrolled": false
   },
   "outputs": [
    {
     "data": {
      "text/html": [
       "<div>\n",
       "<style scoped>\n",
       "    .dataframe tbody tr th:only-of-type {\n",
       "        vertical-align: middle;\n",
       "    }\n",
       "\n",
       "    .dataframe tbody tr th {\n",
       "        vertical-align: top;\n",
       "    }\n",
       "\n",
       "    .dataframe thead th {\n",
       "        text-align: right;\n",
       "    }\n",
       "</style>\n",
       "<table border=\"1\" class=\"dataframe\">\n",
       "  <thead>\n",
       "    <tr style=\"text-align: right;\">\n",
       "      <th></th>\n",
       "      <th>Gaze point X</th>\n",
       "      <th>Gaze point Y</th>\n",
       "      <th>Gaze point 3D X</th>\n",
       "      <th>Gaze point 3D Y</th>\n",
       "      <th>Gaze point 3D Z</th>\n",
       "      <th>Gaze direction left X</th>\n",
       "      <th>Gaze direction left Y</th>\n",
       "      <th>Gaze direction left Z</th>\n",
       "      <th>Gaze direction right X</th>\n",
       "      <th>Gaze direction right Y</th>\n",
       "      <th>Gaze direction right Z</th>\n",
       "      <th>Pupil position left X</th>\n",
       "      <th>Pupil position left Y</th>\n",
       "      <th>Pupil position left Z</th>\n",
       "      <th>Pupil position right X</th>\n",
       "      <th>Pupil position right Y</th>\n",
       "      <th>Pupil position right Z</th>\n",
       "      <th>Pupil diameter left</th>\n",
       "      <th>Pupil diameter right</th>\n",
       "      <th>Disease</th>\n",
       "    </tr>\n",
       "  </thead>\n",
       "  <tbody>\n",
       "    <tr>\n",
       "      <th>0</th>\n",
       "      <td>986.0</td>\n",
       "      <td>725.0</td>\n",
       "      <td>-11.8946</td>\n",
       "      <td>-53.0859</td>\n",
       "      <td>295.2186</td>\n",
       "      <td>0.01522</td>\n",
       "      <td>0.18490</td>\n",
       "      <td>0.98264</td>\n",
       "      <td>0.05868</td>\n",
       "      <td>-0.11407</td>\n",
       "      <td>0.99174</td>\n",
       "      <td>30.78</td>\n",
       "      <td>-16.86</td>\n",
       "      <td>-36.06</td>\n",
       "      <td>-31.24</td>\n",
       "      <td>-15.46</td>\n",
       "      <td>-31.86</td>\n",
       "      <td>3.536</td>\n",
       "      <td>3.490</td>\n",
       "      <td>0.0</td>\n",
       "    </tr>\n",
       "    <tr>\n",
       "      <th>1</th>\n",
       "      <td>876.0</td>\n",
       "      <td>489.0</td>\n",
       "      <td>20.3915</td>\n",
       "      <td>9.4475</td>\n",
       "      <td>363.6293</td>\n",
       "      <td>-0.02443</td>\n",
       "      <td>0.07897</td>\n",
       "      <td>0.99658</td>\n",
       "      <td>0.12864</td>\n",
       "      <td>0.05317</td>\n",
       "      <td>0.99026</td>\n",
       "      <td>30.93</td>\n",
       "      <td>-17.23</td>\n",
       "      <td>-32.75</td>\n",
       "      <td>-30.95</td>\n",
       "      <td>-15.96</td>\n",
       "      <td>-31.07</td>\n",
       "      <td>3.182</td>\n",
       "      <td>3.425</td>\n",
       "      <td>0.0</td>\n",
       "    </tr>\n",
       "    <tr>\n",
       "      <th>2</th>\n",
       "      <td>1026.0</td>\n",
       "      <td>544.0</td>\n",
       "      <td>-48.2752</td>\n",
       "      <td>-13.9107</td>\n",
       "      <td>639.3869</td>\n",
       "      <td>-0.11169</td>\n",
       "      <td>0.00201</td>\n",
       "      <td>0.99374</td>\n",
       "      <td>-0.03363</td>\n",
       "      <td>0.03017</td>\n",
       "      <td>0.99898</td>\n",
       "      <td>29.61</td>\n",
       "      <td>-24.68</td>\n",
       "      <td>-23.20</td>\n",
       "      <td>-29.32</td>\n",
       "      <td>-24.54</td>\n",
       "      <td>-24.29</td>\n",
       "      <td>3.205</td>\n",
       "      <td>3.203</td>\n",
       "      <td>1.0</td>\n",
       "    </tr>\n",
       "    <tr>\n",
       "      <th>3</th>\n",
       "      <td>1097.0</td>\n",
       "      <td>416.0</td>\n",
       "      <td>-91.0707</td>\n",
       "      <td>59.5265</td>\n",
       "      <td>663.5567</td>\n",
       "      <td>-0.17039</td>\n",
       "      <td>0.11191</td>\n",
       "      <td>0.97900</td>\n",
       "      <td>-0.08979</td>\n",
       "      <td>0.12758</td>\n",
       "      <td>0.98776</td>\n",
       "      <td>29.46</td>\n",
       "      <td>-24.26</td>\n",
       "      <td>-23.07</td>\n",
       "      <td>-29.58</td>\n",
       "      <td>-23.98</td>\n",
       "      <td>-24.35</td>\n",
       "      <td>3.114</td>\n",
       "      <td>3.045</td>\n",
       "      <td>1.0</td>\n",
       "    </tr>\n",
       "    <tr>\n",
       "      <th>4</th>\n",
       "      <td>1070.0</td>\n",
       "      <td>516.0</td>\n",
       "      <td>-44.6482</td>\n",
       "      <td>1.2887</td>\n",
       "      <td>391.2511</td>\n",
       "      <td>-0.17240</td>\n",
       "      <td>0.04868</td>\n",
       "      <td>0.98382</td>\n",
       "      <td>-0.03138</td>\n",
       "      <td>0.03325</td>\n",
       "      <td>0.99895</td>\n",
       "      <td>29.92</td>\n",
       "      <td>-17.02</td>\n",
       "      <td>-32.84</td>\n",
       "      <td>-31.65</td>\n",
       "      <td>-15.43</td>\n",
       "      <td>-31.60</td>\n",
       "      <td>3.466</td>\n",
       "      <td>3.598</td>\n",
       "      <td>0.0</td>\n",
       "    </tr>\n",
       "    <tr>\n",
       "      <th>5</th>\n",
       "      <td>870.0</td>\n",
       "      <td>441.0</td>\n",
       "      <td>29.5202</td>\n",
       "      <td>32.9039</td>\n",
       "      <td>481.2555</td>\n",
       "      <td>-0.00050</td>\n",
       "      <td>0.09565</td>\n",
       "      <td>0.99542</td>\n",
       "      <td>0.64797</td>\n",
       "      <td>-0.34038</td>\n",
       "      <td>0.68138</td>\n",
       "      <td>30.31</td>\n",
       "      <td>-16.98</td>\n",
       "      <td>-32.50</td>\n",
       "      <td>-34.82</td>\n",
       "      <td>-17.82</td>\n",
       "      <td>-24.76</td>\n",
       "      <td>3.418</td>\n",
       "      <td>2.629</td>\n",
       "      <td>0.0</td>\n",
       "    </tr>\n",
       "    <tr>\n",
       "      <th>6</th>\n",
       "      <td>851.0</td>\n",
       "      <td>528.0</td>\n",
       "      <td>26.2536</td>\n",
       "      <td>-2.7112</td>\n",
       "      <td>336.9000</td>\n",
       "      <td>-0.01010</td>\n",
       "      <td>0.05404</td>\n",
       "      <td>0.99849</td>\n",
       "      <td>0.14994</td>\n",
       "      <td>0.01898</td>\n",
       "      <td>0.98851</td>\n",
       "      <td>31.26</td>\n",
       "      <td>-16.99</td>\n",
       "      <td>-33.23</td>\n",
       "      <td>-30.93</td>\n",
       "      <td>-15.54</td>\n",
       "      <td>-31.59</td>\n",
       "      <td>3.499</td>\n",
       "      <td>3.641</td>\n",
       "      <td>0.0</td>\n",
       "    </tr>\n",
       "    <tr>\n",
       "      <th>7</th>\n",
       "      <td>1103.0</td>\n",
       "      <td>473.0</td>\n",
       "      <td>-62.4648</td>\n",
       "      <td>17.5467</td>\n",
       "      <td>438.1270</td>\n",
       "      <td>-0.19164</td>\n",
       "      <td>0.07457</td>\n",
       "      <td>0.97863</td>\n",
       "      <td>-0.06656</td>\n",
       "      <td>0.06314</td>\n",
       "      <td>0.99578</td>\n",
       "      <td>29.83</td>\n",
       "      <td>-17.01</td>\n",
       "      <td>-32.77</td>\n",
       "      <td>-31.61</td>\n",
       "      <td>-15.72</td>\n",
       "      <td>-31.19</td>\n",
       "      <td>3.437</td>\n",
       "      <td>3.547</td>\n",
       "      <td>0.0</td>\n",
       "    </tr>\n",
       "    <tr>\n",
       "      <th>8</th>\n",
       "      <td>1000.0</td>\n",
       "      <td>519.0</td>\n",
       "      <td>-25.0486</td>\n",
       "      <td>0.2680</td>\n",
       "      <td>476.7529</td>\n",
       "      <td>-0.10971</td>\n",
       "      <td>0.04799</td>\n",
       "      <td>0.99280</td>\n",
       "      <td>0.00823</td>\n",
       "      <td>0.04985</td>\n",
       "      <td>0.99872</td>\n",
       "      <td>30.31</td>\n",
       "      <td>-24.36</td>\n",
       "      <td>-23.72</td>\n",
       "      <td>-29.13</td>\n",
       "      <td>-24.35</td>\n",
       "      <td>-24.22</td>\n",
       "      <td>3.618</td>\n",
       "      <td>3.405</td>\n",
       "      <td>1.0</td>\n",
       "    </tr>\n",
       "    <tr>\n",
       "      <th>9</th>\n",
       "      <td>885.0</td>\n",
       "      <td>505.0</td>\n",
       "      <td>15.1857</td>\n",
       "      <td>3.8539</td>\n",
       "      <td>315.2512</td>\n",
       "      <td>-0.04171</td>\n",
       "      <td>0.07653</td>\n",
       "      <td>0.99619</td>\n",
       "      <td>0.12860</td>\n",
       "      <td>0.04013</td>\n",
       "      <td>0.99088</td>\n",
       "      <td>30.94</td>\n",
       "      <td>-17.29</td>\n",
       "      <td>-32.72</td>\n",
       "      <td>-31.04</td>\n",
       "      <td>-15.78</td>\n",
       "      <td>-31.35</td>\n",
       "      <td>3.258</td>\n",
       "      <td>3.439</td>\n",
       "      <td>0.0</td>\n",
       "    </tr>\n",
       "  </tbody>\n",
       "</table>\n",
       "</div>"
      ],
      "text/plain": [
       "   Gaze point X  Gaze point Y  Gaze point 3D X  Gaze point 3D Y  \\\n",
       "0         986.0         725.0         -11.8946         -53.0859   \n",
       "1         876.0         489.0          20.3915           9.4475   \n",
       "2        1026.0         544.0         -48.2752         -13.9107   \n",
       "3        1097.0         416.0         -91.0707          59.5265   \n",
       "4        1070.0         516.0         -44.6482           1.2887   \n",
       "5         870.0         441.0          29.5202          32.9039   \n",
       "6         851.0         528.0          26.2536          -2.7112   \n",
       "7        1103.0         473.0         -62.4648          17.5467   \n",
       "8        1000.0         519.0         -25.0486           0.2680   \n",
       "9         885.0         505.0          15.1857           3.8539   \n",
       "\n",
       "   Gaze point 3D Z  Gaze direction left X  Gaze direction left Y  \\\n",
       "0         295.2186                0.01522                0.18490   \n",
       "1         363.6293               -0.02443                0.07897   \n",
       "2         639.3869               -0.11169                0.00201   \n",
       "3         663.5567               -0.17039                0.11191   \n",
       "4         391.2511               -0.17240                0.04868   \n",
       "5         481.2555               -0.00050                0.09565   \n",
       "6         336.9000               -0.01010                0.05404   \n",
       "7         438.1270               -0.19164                0.07457   \n",
       "8         476.7529               -0.10971                0.04799   \n",
       "9         315.2512               -0.04171                0.07653   \n",
       "\n",
       "   Gaze direction left Z  Gaze direction right X  Gaze direction right Y  \\\n",
       "0                0.98264                 0.05868                -0.11407   \n",
       "1                0.99658                 0.12864                 0.05317   \n",
       "2                0.99374                -0.03363                 0.03017   \n",
       "3                0.97900                -0.08979                 0.12758   \n",
       "4                0.98382                -0.03138                 0.03325   \n",
       "5                0.99542                 0.64797                -0.34038   \n",
       "6                0.99849                 0.14994                 0.01898   \n",
       "7                0.97863                -0.06656                 0.06314   \n",
       "8                0.99280                 0.00823                 0.04985   \n",
       "9                0.99619                 0.12860                 0.04013   \n",
       "\n",
       "   Gaze direction right Z  Pupil position left X  Pupil position left Y  \\\n",
       "0                 0.99174                  30.78                 -16.86   \n",
       "1                 0.99026                  30.93                 -17.23   \n",
       "2                 0.99898                  29.61                 -24.68   \n",
       "3                 0.98776                  29.46                 -24.26   \n",
       "4                 0.99895                  29.92                 -17.02   \n",
       "5                 0.68138                  30.31                 -16.98   \n",
       "6                 0.98851                  31.26                 -16.99   \n",
       "7                 0.99578                  29.83                 -17.01   \n",
       "8                 0.99872                  30.31                 -24.36   \n",
       "9                 0.99088                  30.94                 -17.29   \n",
       "\n",
       "   Pupil position left Z  Pupil position right X  Pupil position right Y  \\\n",
       "0                 -36.06                  -31.24                  -15.46   \n",
       "1                 -32.75                  -30.95                  -15.96   \n",
       "2                 -23.20                  -29.32                  -24.54   \n",
       "3                 -23.07                  -29.58                  -23.98   \n",
       "4                 -32.84                  -31.65                  -15.43   \n",
       "5                 -32.50                  -34.82                  -17.82   \n",
       "6                 -33.23                  -30.93                  -15.54   \n",
       "7                 -32.77                  -31.61                  -15.72   \n",
       "8                 -23.72                  -29.13                  -24.35   \n",
       "9                 -32.72                  -31.04                  -15.78   \n",
       "\n",
       "   Pupil position right Z  Pupil diameter left  Pupil diameter right  Disease  \n",
       "0                  -31.86                3.536                 3.490      0.0  \n",
       "1                  -31.07                3.182                 3.425      0.0  \n",
       "2                  -24.29                3.205                 3.203      1.0  \n",
       "3                  -24.35                3.114                 3.045      1.0  \n",
       "4                  -31.60                3.466                 3.598      0.0  \n",
       "5                  -24.76                3.418                 2.629      0.0  \n",
       "6                  -31.59                3.499                 3.641      0.0  \n",
       "7                  -31.19                3.437                 3.547      0.0  \n",
       "8                  -24.22                3.618                 3.405      1.0  \n",
       "9                  -31.35                3.258                 3.439      0.0  "
      ]
     },
     "execution_count": 24,
     "metadata": {},
     "output_type": "execute_result"
    }
   ],
   "source": [
    "df.head(10)"
   ]
  },
  {
   "cell_type": "code",
   "execution_count": 25,
   "id": "2fa805fb",
   "metadata": {},
   "outputs": [],
   "source": [
    "df['Disease'] = df['Disease'].astype(int)"
   ]
  },
  {
   "cell_type": "code",
   "execution_count": 26,
   "id": "e91f6ba2",
   "metadata": {},
   "outputs": [],
   "source": [
    "X = df.iloc[:,:-1]\n",
    "y = df['Disease']"
   ]
  },
  {
   "cell_type": "code",
   "execution_count": 27,
   "id": "2a588ff6",
   "metadata": {},
   "outputs": [
    {
     "data": {
      "text/html": [
       "<div>\n",
       "<style scoped>\n",
       "    .dataframe tbody tr th:only-of-type {\n",
       "        vertical-align: middle;\n",
       "    }\n",
       "\n",
       "    .dataframe tbody tr th {\n",
       "        vertical-align: top;\n",
       "    }\n",
       "\n",
       "    .dataframe thead th {\n",
       "        text-align: right;\n",
       "    }\n",
       "</style>\n",
       "<table border=\"1\" class=\"dataframe\">\n",
       "  <thead>\n",
       "    <tr style=\"text-align: right;\">\n",
       "      <th></th>\n",
       "      <th>Gaze point X</th>\n",
       "      <th>Gaze point Y</th>\n",
       "      <th>Gaze point 3D X</th>\n",
       "      <th>Gaze point 3D Y</th>\n",
       "      <th>Gaze point 3D Z</th>\n",
       "      <th>Gaze direction left X</th>\n",
       "      <th>Gaze direction left Y</th>\n",
       "      <th>Gaze direction left Z</th>\n",
       "      <th>Gaze direction right X</th>\n",
       "      <th>Gaze direction right Y</th>\n",
       "      <th>Gaze direction right Z</th>\n",
       "      <th>Pupil position left X</th>\n",
       "      <th>Pupil position left Y</th>\n",
       "      <th>Pupil position left Z</th>\n",
       "      <th>Pupil position right X</th>\n",
       "      <th>Pupil position right Y</th>\n",
       "      <th>Pupil position right Z</th>\n",
       "      <th>Pupil diameter left</th>\n",
       "      <th>Pupil diameter right</th>\n",
       "    </tr>\n",
       "  </thead>\n",
       "  <tbody>\n",
       "    <tr>\n",
       "      <th>0</th>\n",
       "      <td>986.0</td>\n",
       "      <td>725.0</td>\n",
       "      <td>-11.8946</td>\n",
       "      <td>-53.0859</td>\n",
       "      <td>295.2186</td>\n",
       "      <td>0.01522</td>\n",
       "      <td>0.18490</td>\n",
       "      <td>0.98264</td>\n",
       "      <td>0.05868</td>\n",
       "      <td>-0.11407</td>\n",
       "      <td>0.99174</td>\n",
       "      <td>30.78</td>\n",
       "      <td>-16.86</td>\n",
       "      <td>-36.06</td>\n",
       "      <td>-31.24</td>\n",
       "      <td>-15.46</td>\n",
       "      <td>-31.86</td>\n",
       "      <td>3.536</td>\n",
       "      <td>3.490</td>\n",
       "    </tr>\n",
       "    <tr>\n",
       "      <th>1</th>\n",
       "      <td>876.0</td>\n",
       "      <td>489.0</td>\n",
       "      <td>20.3915</td>\n",
       "      <td>9.4475</td>\n",
       "      <td>363.6293</td>\n",
       "      <td>-0.02443</td>\n",
       "      <td>0.07897</td>\n",
       "      <td>0.99658</td>\n",
       "      <td>0.12864</td>\n",
       "      <td>0.05317</td>\n",
       "      <td>0.99026</td>\n",
       "      <td>30.93</td>\n",
       "      <td>-17.23</td>\n",
       "      <td>-32.75</td>\n",
       "      <td>-30.95</td>\n",
       "      <td>-15.96</td>\n",
       "      <td>-31.07</td>\n",
       "      <td>3.182</td>\n",
       "      <td>3.425</td>\n",
       "    </tr>\n",
       "    <tr>\n",
       "      <th>2</th>\n",
       "      <td>1026.0</td>\n",
       "      <td>544.0</td>\n",
       "      <td>-48.2752</td>\n",
       "      <td>-13.9107</td>\n",
       "      <td>639.3869</td>\n",
       "      <td>-0.11169</td>\n",
       "      <td>0.00201</td>\n",
       "      <td>0.99374</td>\n",
       "      <td>-0.03363</td>\n",
       "      <td>0.03017</td>\n",
       "      <td>0.99898</td>\n",
       "      <td>29.61</td>\n",
       "      <td>-24.68</td>\n",
       "      <td>-23.20</td>\n",
       "      <td>-29.32</td>\n",
       "      <td>-24.54</td>\n",
       "      <td>-24.29</td>\n",
       "      <td>3.205</td>\n",
       "      <td>3.203</td>\n",
       "    </tr>\n",
       "    <tr>\n",
       "      <th>3</th>\n",
       "      <td>1097.0</td>\n",
       "      <td>416.0</td>\n",
       "      <td>-91.0707</td>\n",
       "      <td>59.5265</td>\n",
       "      <td>663.5567</td>\n",
       "      <td>-0.17039</td>\n",
       "      <td>0.11191</td>\n",
       "      <td>0.97900</td>\n",
       "      <td>-0.08979</td>\n",
       "      <td>0.12758</td>\n",
       "      <td>0.98776</td>\n",
       "      <td>29.46</td>\n",
       "      <td>-24.26</td>\n",
       "      <td>-23.07</td>\n",
       "      <td>-29.58</td>\n",
       "      <td>-23.98</td>\n",
       "      <td>-24.35</td>\n",
       "      <td>3.114</td>\n",
       "      <td>3.045</td>\n",
       "    </tr>\n",
       "    <tr>\n",
       "      <th>4</th>\n",
       "      <td>1070.0</td>\n",
       "      <td>516.0</td>\n",
       "      <td>-44.6482</td>\n",
       "      <td>1.2887</td>\n",
       "      <td>391.2511</td>\n",
       "      <td>-0.17240</td>\n",
       "      <td>0.04868</td>\n",
       "      <td>0.98382</td>\n",
       "      <td>-0.03138</td>\n",
       "      <td>0.03325</td>\n",
       "      <td>0.99895</td>\n",
       "      <td>29.92</td>\n",
       "      <td>-17.02</td>\n",
       "      <td>-32.84</td>\n",
       "      <td>-31.65</td>\n",
       "      <td>-15.43</td>\n",
       "      <td>-31.60</td>\n",
       "      <td>3.466</td>\n",
       "      <td>3.598</td>\n",
       "    </tr>\n",
       "  </tbody>\n",
       "</table>\n",
       "</div>"
      ],
      "text/plain": [
       "   Gaze point X  Gaze point Y  Gaze point 3D X  Gaze point 3D Y  \\\n",
       "0         986.0         725.0         -11.8946         -53.0859   \n",
       "1         876.0         489.0          20.3915           9.4475   \n",
       "2        1026.0         544.0         -48.2752         -13.9107   \n",
       "3        1097.0         416.0         -91.0707          59.5265   \n",
       "4        1070.0         516.0         -44.6482           1.2887   \n",
       "\n",
       "   Gaze point 3D Z  Gaze direction left X  Gaze direction left Y  \\\n",
       "0         295.2186                0.01522                0.18490   \n",
       "1         363.6293               -0.02443                0.07897   \n",
       "2         639.3869               -0.11169                0.00201   \n",
       "3         663.5567               -0.17039                0.11191   \n",
       "4         391.2511               -0.17240                0.04868   \n",
       "\n",
       "   Gaze direction left Z  Gaze direction right X  Gaze direction right Y  \\\n",
       "0                0.98264                 0.05868                -0.11407   \n",
       "1                0.99658                 0.12864                 0.05317   \n",
       "2                0.99374                -0.03363                 0.03017   \n",
       "3                0.97900                -0.08979                 0.12758   \n",
       "4                0.98382                -0.03138                 0.03325   \n",
       "\n",
       "   Gaze direction right Z  Pupil position left X  Pupil position left Y  \\\n",
       "0                 0.99174                  30.78                 -16.86   \n",
       "1                 0.99026                  30.93                 -17.23   \n",
       "2                 0.99898                  29.61                 -24.68   \n",
       "3                 0.98776                  29.46                 -24.26   \n",
       "4                 0.99895                  29.92                 -17.02   \n",
       "\n",
       "   Pupil position left Z  Pupil position right X  Pupil position right Y  \\\n",
       "0                 -36.06                  -31.24                  -15.46   \n",
       "1                 -32.75                  -30.95                  -15.96   \n",
       "2                 -23.20                  -29.32                  -24.54   \n",
       "3                 -23.07                  -29.58                  -23.98   \n",
       "4                 -32.84                  -31.65                  -15.43   \n",
       "\n",
       "   Pupil position right Z  Pupil diameter left  Pupil diameter right  \n",
       "0                  -31.86                3.536                 3.490  \n",
       "1                  -31.07                3.182                 3.425  \n",
       "2                  -24.29                3.205                 3.203  \n",
       "3                  -24.35                3.114                 3.045  \n",
       "4                  -31.60                3.466                 3.598  "
      ]
     },
     "execution_count": 27,
     "metadata": {},
     "output_type": "execute_result"
    }
   ],
   "source": [
    "X.head()"
   ]
  },
  {
   "cell_type": "code",
   "execution_count": 28,
   "id": "af8cedba",
   "metadata": {
    "scrolled": true
   },
   "outputs": [
    {
     "data": {
      "text/plain": [
       "0        0\n",
       "1        0\n",
       "2        1\n",
       "3        1\n",
       "4        0\n",
       "        ..\n",
       "61157    1\n",
       "61158    0\n",
       "61159    1\n",
       "61160    1\n",
       "61161    0\n",
       "Name: Disease, Length: 61162, dtype: int32"
      ]
     },
     "execution_count": 28,
     "metadata": {},
     "output_type": "execute_result"
    }
   ],
   "source": [
    "y"
   ]
  },
  {
   "cell_type": "code",
   "execution_count": 29,
   "id": "dc276b1d",
   "metadata": {},
   "outputs": [],
   "source": [
    "from sklearn.model_selection import train_test_split"
   ]
  },
  {
   "cell_type": "code",
   "execution_count": 30,
   "id": "74f86a52",
   "metadata": {},
   "outputs": [],
   "source": [
    "X_train,X_test,y_train,y_test = train_test_split(X,y,train_size=0.75)"
   ]
  },
  {
   "cell_type": "code",
   "execution_count": 31,
   "id": "f941873e",
   "metadata": {},
   "outputs": [
    {
     "data": {
      "text/plain": [
       "(45871, 19)"
      ]
     },
     "execution_count": 31,
     "metadata": {},
     "output_type": "execute_result"
    }
   ],
   "source": [
    "X_train.shape"
   ]
  },
  {
   "cell_type": "code",
   "execution_count": 32,
   "id": "e9929b21",
   "metadata": {
    "scrolled": true
   },
   "outputs": [
    {
     "data": {
      "text/plain": [
       "(15291, 19)"
      ]
     },
     "execution_count": 32,
     "metadata": {},
     "output_type": "execute_result"
    }
   ],
   "source": [
    "X_test.shape"
   ]
  },
  {
   "cell_type": "code",
   "execution_count": 33,
   "id": "fcf199cb",
   "metadata": {},
   "outputs": [
    {
     "data": {
      "text/plain": [
       "14631    0\n",
       "26644    0\n",
       "15657    0\n",
       "15063    1\n",
       "8749     0\n",
       "        ..\n",
       "37094    1\n",
       "2482     1\n",
       "59772    1\n",
       "8497     0\n",
       "4312     0\n",
       "Name: Disease, Length: 45871, dtype: int32"
      ]
     },
     "execution_count": 33,
     "metadata": {},
     "output_type": "execute_result"
    }
   ],
   "source": [
    "y_train"
   ]
  },
  {
   "cell_type": "markdown",
   "id": "44ce452a",
   "metadata": {},
   "source": [
    "# Support Vector Machine(SVM)"
   ]
  },
  {
   "cell_type": "code",
   "execution_count": 34,
   "id": "b65b04eb",
   "metadata": {},
   "outputs": [],
   "source": [
    "from sklearn.svm import SVC"
   ]
  },
  {
   "cell_type": "code",
   "execution_count": 35,
   "id": "56b3d99b",
   "metadata": {},
   "outputs": [],
   "source": [
    "svc = SVC()"
   ]
  },
  {
   "cell_type": "code",
   "execution_count": 36,
   "id": "37b72240",
   "metadata": {},
   "outputs": [
    {
     "data": {
      "text/html": [
       "<style>#sk-container-id-1 {color: black;}#sk-container-id-1 pre{padding: 0;}#sk-container-id-1 div.sk-toggleable {background-color: white;}#sk-container-id-1 label.sk-toggleable__label {cursor: pointer;display: block;width: 100%;margin-bottom: 0;padding: 0.3em;box-sizing: border-box;text-align: center;}#sk-container-id-1 label.sk-toggleable__label-arrow:before {content: \"▸\";float: left;margin-right: 0.25em;color: #696969;}#sk-container-id-1 label.sk-toggleable__label-arrow:hover:before {color: black;}#sk-container-id-1 div.sk-estimator:hover label.sk-toggleable__label-arrow:before {color: black;}#sk-container-id-1 div.sk-toggleable__content {max-height: 0;max-width: 0;overflow: hidden;text-align: left;background-color: #f0f8ff;}#sk-container-id-1 div.sk-toggleable__content pre {margin: 0.2em;color: black;border-radius: 0.25em;background-color: #f0f8ff;}#sk-container-id-1 input.sk-toggleable__control:checked~div.sk-toggleable__content {max-height: 200px;max-width: 100%;overflow: auto;}#sk-container-id-1 input.sk-toggleable__control:checked~label.sk-toggleable__label-arrow:before {content: \"▾\";}#sk-container-id-1 div.sk-estimator input.sk-toggleable__control:checked~label.sk-toggleable__label {background-color: #d4ebff;}#sk-container-id-1 div.sk-label input.sk-toggleable__control:checked~label.sk-toggleable__label {background-color: #d4ebff;}#sk-container-id-1 input.sk-hidden--visually {border: 0;clip: rect(1px 1px 1px 1px);clip: rect(1px, 1px, 1px, 1px);height: 1px;margin: -1px;overflow: hidden;padding: 0;position: absolute;width: 1px;}#sk-container-id-1 div.sk-estimator {font-family: monospace;background-color: #f0f8ff;border: 1px dotted black;border-radius: 0.25em;box-sizing: border-box;margin-bottom: 0.5em;}#sk-container-id-1 div.sk-estimator:hover {background-color: #d4ebff;}#sk-container-id-1 div.sk-parallel-item::after {content: \"\";width: 100%;border-bottom: 1px solid gray;flex-grow: 1;}#sk-container-id-1 div.sk-label:hover label.sk-toggleable__label {background-color: #d4ebff;}#sk-container-id-1 div.sk-serial::before {content: \"\";position: absolute;border-left: 1px solid gray;box-sizing: border-box;top: 0;bottom: 0;left: 50%;z-index: 0;}#sk-container-id-1 div.sk-serial {display: flex;flex-direction: column;align-items: center;background-color: white;padding-right: 0.2em;padding-left: 0.2em;position: relative;}#sk-container-id-1 div.sk-item {position: relative;z-index: 1;}#sk-container-id-1 div.sk-parallel {display: flex;align-items: stretch;justify-content: center;background-color: white;position: relative;}#sk-container-id-1 div.sk-item::before, #sk-container-id-1 div.sk-parallel-item::before {content: \"\";position: absolute;border-left: 1px solid gray;box-sizing: border-box;top: 0;bottom: 0;left: 50%;z-index: -1;}#sk-container-id-1 div.sk-parallel-item {display: flex;flex-direction: column;z-index: 1;position: relative;background-color: white;}#sk-container-id-1 div.sk-parallel-item:first-child::after {align-self: flex-end;width: 50%;}#sk-container-id-1 div.sk-parallel-item:last-child::after {align-self: flex-start;width: 50%;}#sk-container-id-1 div.sk-parallel-item:only-child::after {width: 0;}#sk-container-id-1 div.sk-dashed-wrapped {border: 1px dashed gray;margin: 0 0.4em 0.5em 0.4em;box-sizing: border-box;padding-bottom: 0.4em;background-color: white;}#sk-container-id-1 div.sk-label label {font-family: monospace;font-weight: bold;display: inline-block;line-height: 1.2em;}#sk-container-id-1 div.sk-label-container {text-align: center;}#sk-container-id-1 div.sk-container {/* jupyter's `normalize.less` sets `[hidden] { display: none; }` but bootstrap.min.css set `[hidden] { display: none !important; }` so we also need the `!important` here to be able to override the default hidden behavior on the sphinx rendered scikit-learn.org. See: https://github.com/scikit-learn/scikit-learn/issues/21755 */display: inline-block !important;position: relative;}#sk-container-id-1 div.sk-text-repr-fallback {display: none;}</style><div id=\"sk-container-id-1\" class=\"sk-top-container\"><div class=\"sk-text-repr-fallback\"><pre>SVC()</pre><b>In a Jupyter environment, please rerun this cell to show the HTML representation or trust the notebook. <br />On GitHub, the HTML representation is unable to render, please try loading this page with nbviewer.org.</b></div><div class=\"sk-container\" hidden><div class=\"sk-item\"><div class=\"sk-estimator sk-toggleable\"><input class=\"sk-toggleable__control sk-hidden--visually\" id=\"sk-estimator-id-1\" type=\"checkbox\" checked><label for=\"sk-estimator-id-1\" class=\"sk-toggleable__label sk-toggleable__label-arrow\">SVC</label><div class=\"sk-toggleable__content\"><pre>SVC()</pre></div></div></div></div></div>"
      ],
      "text/plain": [
       "SVC()"
      ]
     },
     "execution_count": 36,
     "metadata": {},
     "output_type": "execute_result"
    }
   ],
   "source": [
    "svc.fit(X_train,y_train)"
   ]
  },
  {
   "cell_type": "code",
   "execution_count": 37,
   "id": "1f714fa4",
   "metadata": {},
   "outputs": [],
   "source": [
    "pred = svc.predict(X_test)"
   ]
  },
  {
   "cell_type": "code",
   "execution_count": 38,
   "id": "370793f1",
   "metadata": {},
   "outputs": [
    {
     "data": {
      "text/plain": [
       "array([1, 1, 1, ..., 0, 1, 1])"
      ]
     },
     "execution_count": 38,
     "metadata": {},
     "output_type": "execute_result"
    }
   ],
   "source": [
    "pred"
   ]
  },
  {
   "cell_type": "code",
   "execution_count": 39,
   "id": "d04d266f",
   "metadata": {},
   "outputs": [],
   "source": [
    "from sklearn.metrics import accuracy_score,recall_score,confusion_matrix,ConfusionMatrixDisplay"
   ]
  },
  {
   "cell_type": "code",
   "execution_count": 40,
   "id": "171e52fe",
   "metadata": {},
   "outputs": [],
   "source": [
    "accuracy = accuracy_score(pred,y_test)"
   ]
  },
  {
   "cell_type": "code",
   "execution_count": 41,
   "id": "c1bf8666",
   "metadata": {},
   "outputs": [
    {
     "data": {
      "text/plain": [
       "97.14210973775424"
      ]
     },
     "execution_count": 41,
     "metadata": {},
     "output_type": "execute_result"
    }
   ],
   "source": [
    "accuracy*100"
   ]
  },
  {
   "cell_type": "code",
   "execution_count": 42,
   "id": "98e77b1b",
   "metadata": {},
   "outputs": [
    {
     "name": "stdout",
     "output_type": "stream",
     "text": [
      "0.9993678887484198\n"
     ]
    }
   ],
   "source": [
    "svc_recall = recall_score(y_test,pred)\n",
    "print(svc_recall)"
   ]
  },
  {
   "cell_type": "code",
   "execution_count": 43,
   "id": "f9ce6dbe",
   "metadata": {},
   "outputs": [],
   "source": [
    "cm =confusion_matrix(y_test,pred)"
   ]
  },
  {
   "cell_type": "code",
   "execution_count": 44,
   "id": "6b85d5e5",
   "metadata": {},
   "outputs": [
    {
     "data": {
      "text/plain": [
       "array([0, 1])"
      ]
     },
     "execution_count": 44,
     "metadata": {},
     "output_type": "execute_result"
    }
   ],
   "source": [
    "svc.classes_"
   ]
  },
  {
   "cell_type": "code",
   "execution_count": 45,
   "id": "2a84139f",
   "metadata": {},
   "outputs": [],
   "source": [
    "disp = ConfusionMatrixDisplay(confusion_matrix=cm,\n",
    "                              display_labels=svc.classes_)"
   ]
  },
  {
   "cell_type": "code",
   "execution_count": 46,
   "id": "336d4b86",
   "metadata": {
    "scrolled": true
   },
   "outputs": [
    {
     "data": {
      "text/plain": [
       "<sklearn.metrics._plot.confusion_matrix.ConfusionMatrixDisplay at 0x23ca2077690>"
      ]
     },
     "execution_count": 46,
     "metadata": {},
     "output_type": "execute_result"
    },
    {
     "data": {
      "image/png": "[encoded data removed]",
      "text/plain": [
       "<Figure size 640x480 with 2 Axes>"
      ]
     },
     "metadata": {},
     "output_type": "display_data"
    }
   ],
   "source": [
    "disp.plot()"
   ]
  },
  {
   "cell_type": "markdown",
   "id": "65efd16e",
   "metadata": {},
   "source": [
    "# Precision Recall Curve"
   ]
  },
  {
   "cell_type": "markdown",
   "id": "42dead8c",
   "metadata": {},
   "source": [
    "# The PR-curve requires precision-recall to be calculated, and for that we need probabilities of the predictions."
   ]
  },
  {
   "cell_type": "markdown",
   "id": "fcafc10d",
   "metadata": {},
   "source": [
    "# Support Vector Classifier (SVC)"
   ]
  },
  {
   "cell_type": "code",
   "execution_count": 47,
   "id": "96259073",
   "metadata": {},
   "outputs": [],
   "source": [
    "svc = SVC(probability=True)\n",
    "svc.fit(X_train,y_train)\n",
    "\n",
    "svc_preds = svc.predict(X_test) # Predictions\n",
    "svc_prob = svc.predict_proba(X_test)[:,1] \n",
    "\n",
    "# THIS WILL BE USED FOR PR-CURVE"
   ]
  },
  {
   "cell_type": "code",
   "execution_count": 48,
   "id": "508b114f",
   "metadata": {},
   "outputs": [
    {
     "data": {
      "text/plain": [
       "array([9.99998931e-01, 9.99999977e-01, 2.93608157e-01, ...,\n",
       "       2.09167591e-05, 9.99999997e-01, 9.99999998e-01])"
      ]
     },
     "execution_count": 48,
     "metadata": {},
     "output_type": "execute_result"
    }
   ],
   "source": [
    "svc_prob"
   ]
  },
  {
   "cell_type": "code",
   "execution_count": 49,
   "id": "f806e3d0",
   "metadata": {},
   "outputs": [
    {
     "name": "stdout",
     "output_type": "stream",
     "text": [
      "Accuracy : 97.14%\n"
     ]
    }
   ],
   "source": [
    "accuracy = accuracy_score(y_test,svc_preds)\n",
    "print(f'Accuracy : {round(accuracy*100,2)}%')"
   ]
  },
  {
   "cell_type": "code",
   "execution_count": 50,
   "id": "b843ac67",
   "metadata": {},
   "outputs": [],
   "source": [
    "from sklearn.metrics import accuracy_score,precision_recall_curve,auc"
   ]
  },
  {
   "cell_type": "code",
   "execution_count": 51,
   "id": "67da82b9",
   "metadata": {},
   "outputs": [],
   "source": [
    "precision_1,recall_1,threshold_1 = precision_recall_curve(y_test,svc_prob)"
   ]
  },
  {
   "cell_type": "markdown",
   "id": "3fa43146",
   "metadata": {},
   "source": [
    "# This is Area Under Curve (AUC) which measures the performance of the model.\n",
    "# Higher AUC means better model.\n",
    "# range of AUC is 0 to 1"
   ]
  },
  {
   "cell_type": "code",
   "execution_count": 52,
   "id": "26701ee8",
   "metadata": {},
   "outputs": [
    {
     "name": "stdout",
     "output_type": "stream",
     "text": [
      "0.9992006966715368\n"
     ]
    }
   ],
   "source": [
    "auc_1= auc(recall_1,precision_1)\n",
    "print(auc_1)"
   ]
  },
  {
   "cell_type": "code",
   "execution_count": 53,
   "id": "9137d3a0",
   "metadata": {},
   "outputs": [
    {
     "data": {
      "text/plain": [
       "<matplotlib.legend.Legend at 0x23ca17af850>"
      ]
     },
     "execution_count": 53,
     "metadata": {},
     "output_type": "execute_result"
    },
    {
     "data": {
      "image/png": "[encoded data removed]",
      "text/plain": [
       "<Figure size 640x480 with 1 Axes>"
      ]
     },
     "metadata": {},
     "output_type": "display_data"
    }
   ],
   "source": [
    "plt.title('PR-curve: SVC')\n",
    "\n",
    "plt.plot(recall_1,precision_1,label=f'AUC: {round(auc_1,2)}')\n",
    "\n",
    "plt.fill_between(recall_1,precision_1,alpha=0.2)\n",
    "\n",
    "plt.xlabel('Recall')\n",
    "plt.ylabel('Precision')\n",
    "plt.legend()"
   ]
  },
  {
   "cell_type": "code",
   "execution_count": 54,
   "id": "f5163e71",
   "metadata": {},
   "outputs": [
    {
     "data": {
      "text/html": [
       "<div>\n",
       "<style scoped>\n",
       "    .dataframe tbody tr th:only-of-type {\n",
       "        vertical-align: middle;\n",
       "    }\n",
       "\n",
       "    .dataframe tbody tr th {\n",
       "        vertical-align: top;\n",
       "    }\n",
       "\n",
       "    .dataframe thead th {\n",
       "        text-align: right;\n",
       "    }\n",
       "</style>\n",
       "<table border=\"1\" class=\"dataframe\">\n",
       "  <thead>\n",
       "    <tr style=\"text-align: right;\">\n",
       "      <th></th>\n",
       "      <th>Gaze point X</th>\n",
       "      <th>Gaze point Y</th>\n",
       "      <th>Gaze point 3D X</th>\n",
       "      <th>Gaze point 3D Y</th>\n",
       "      <th>Gaze point 3D Z</th>\n",
       "      <th>Gaze direction left X</th>\n",
       "      <th>Gaze direction left Y</th>\n",
       "      <th>Gaze direction left Z</th>\n",
       "      <th>Gaze direction right X</th>\n",
       "      <th>Gaze direction right Y</th>\n",
       "      <th>Gaze direction right Z</th>\n",
       "      <th>Pupil position left X</th>\n",
       "      <th>Pupil position left Y</th>\n",
       "      <th>Pupil position left Z</th>\n",
       "      <th>Pupil position right X</th>\n",
       "      <th>Pupil position right Y</th>\n",
       "      <th>Pupil position right Z</th>\n",
       "      <th>Pupil diameter left</th>\n",
       "      <th>Pupil diameter right</th>\n",
       "      <th>Disease</th>\n",
       "    </tr>\n",
       "  </thead>\n",
       "  <tbody>\n",
       "    <tr>\n",
       "      <th>2</th>\n",
       "      <td>1026.0</td>\n",
       "      <td>544.0</td>\n",
       "      <td>-48.2752</td>\n",
       "      <td>-13.9107</td>\n",
       "      <td>639.3869</td>\n",
       "      <td>-0.11169</td>\n",
       "      <td>0.00201</td>\n",
       "      <td>0.99374</td>\n",
       "      <td>-0.03363</td>\n",
       "      <td>0.03017</td>\n",
       "      <td>0.99898</td>\n",
       "      <td>29.61</td>\n",
       "      <td>-24.68</td>\n",
       "      <td>-23.20</td>\n",
       "      <td>-29.32</td>\n",
       "      <td>-24.54</td>\n",
       "      <td>-24.29</td>\n",
       "      <td>3.205</td>\n",
       "      <td>3.203</td>\n",
       "      <td>1</td>\n",
       "    </tr>\n",
       "    <tr>\n",
       "      <th>3</th>\n",
       "      <td>1097.0</td>\n",
       "      <td>416.0</td>\n",
       "      <td>-91.0707</td>\n",
       "      <td>59.5265</td>\n",
       "      <td>663.5567</td>\n",
       "      <td>-0.17039</td>\n",
       "      <td>0.11191</td>\n",
       "      <td>0.97900</td>\n",
       "      <td>-0.08979</td>\n",
       "      <td>0.12758</td>\n",
       "      <td>0.98776</td>\n",
       "      <td>29.46</td>\n",
       "      <td>-24.26</td>\n",
       "      <td>-23.07</td>\n",
       "      <td>-29.58</td>\n",
       "      <td>-23.98</td>\n",
       "      <td>-24.35</td>\n",
       "      <td>3.114</td>\n",
       "      <td>3.045</td>\n",
       "      <td>1</td>\n",
       "    </tr>\n",
       "    <tr>\n",
       "      <th>8</th>\n",
       "      <td>1000.0</td>\n",
       "      <td>519.0</td>\n",
       "      <td>-25.0486</td>\n",
       "      <td>0.2680</td>\n",
       "      <td>476.7529</td>\n",
       "      <td>-0.10971</td>\n",
       "      <td>0.04799</td>\n",
       "      <td>0.99280</td>\n",
       "      <td>0.00823</td>\n",
       "      <td>0.04985</td>\n",
       "      <td>0.99872</td>\n",
       "      <td>30.31</td>\n",
       "      <td>-24.36</td>\n",
       "      <td>-23.72</td>\n",
       "      <td>-29.13</td>\n",
       "      <td>-24.35</td>\n",
       "      <td>-24.22</td>\n",
       "      <td>3.618</td>\n",
       "      <td>3.405</td>\n",
       "      <td>1</td>\n",
       "    </tr>\n",
       "    <tr>\n",
       "      <th>11</th>\n",
       "      <td>991.0</td>\n",
       "      <td>478.0</td>\n",
       "      <td>-35.6496</td>\n",
       "      <td>29.0839</td>\n",
       "      <td>801.3521</td>\n",
       "      <td>-0.07889</td>\n",
       "      <td>0.06463</td>\n",
       "      <td>0.99479</td>\n",
       "      <td>-0.01515</td>\n",
       "      <td>0.07994</td>\n",
       "      <td>0.99668</td>\n",
       "      <td>29.76</td>\n",
       "      <td>-24.47</td>\n",
       "      <td>-23.11</td>\n",
       "      <td>-29.27</td>\n",
       "      <td>-24.18</td>\n",
       "      <td>-24.45</td>\n",
       "      <td>3.320</td>\n",
       "      <td>3.275</td>\n",
       "      <td>1</td>\n",
       "    </tr>\n",
       "    <tr>\n",
       "      <th>15</th>\n",
       "      <td>1028.0</td>\n",
       "      <td>417.0</td>\n",
       "      <td>-106.9984</td>\n",
       "      <td>124.3168</td>\n",
       "      <td>1391.3270</td>\n",
       "      <td>-0.09539</td>\n",
       "      <td>0.10184</td>\n",
       "      <td>0.99022</td>\n",
       "      <td>-0.05464</td>\n",
       "      <td>0.10570</td>\n",
       "      <td>0.99290</td>\n",
       "      <td>29.59</td>\n",
       "      <td>-23.99</td>\n",
       "      <td>-23.25</td>\n",
       "      <td>-29.39</td>\n",
       "      <td>-23.66</td>\n",
       "      <td>-24.57</td>\n",
       "      <td>3.181</td>\n",
       "      <td>3.129</td>\n",
       "      <td>1</td>\n",
       "    </tr>\n",
       "    <tr>\n",
       "      <th>...</th>\n",
       "      <td>...</td>\n",
       "      <td>...</td>\n",
       "      <td>...</td>\n",
       "      <td>...</td>\n",
       "      <td>...</td>\n",
       "      <td>...</td>\n",
       "      <td>...</td>\n",
       "      <td>...</td>\n",
       "      <td>...</td>\n",
       "      <td>...</td>\n",
       "      <td>...</td>\n",
       "      <td>...</td>\n",
       "      <td>...</td>\n",
       "      <td>...</td>\n",
       "      <td>...</td>\n",
       "      <td>...</td>\n",
       "      <td>...</td>\n",
       "      <td>...</td>\n",
       "      <td>...</td>\n",
       "      <td>...</td>\n",
       "    </tr>\n",
       "    <tr>\n",
       "      <th>61155</th>\n",
       "      <td>1000.0</td>\n",
       "      <td>490.0</td>\n",
       "      <td>-28.5221</td>\n",
       "      <td>13.9714</td>\n",
       "      <td>542.7061</td>\n",
       "      <td>-0.10118</td>\n",
       "      <td>0.06048</td>\n",
       "      <td>0.99303</td>\n",
       "      <td>0.00107</td>\n",
       "      <td>0.07454</td>\n",
       "      <td>0.99722</td>\n",
       "      <td>29.71</td>\n",
       "      <td>-24.68</td>\n",
       "      <td>-22.93</td>\n",
       "      <td>-29.65</td>\n",
       "      <td>-24.20</td>\n",
       "      <td>-24.60</td>\n",
       "      <td>3.098</td>\n",
       "      <td>3.163</td>\n",
       "      <td>1</td>\n",
       "    </tr>\n",
       "    <tr>\n",
       "      <th>61156</th>\n",
       "      <td>995.0</td>\n",
       "      <td>525.0</td>\n",
       "      <td>-39.1759</td>\n",
       "      <td>-4.1814</td>\n",
       "      <td>812.0294</td>\n",
       "      <td>-0.08231</td>\n",
       "      <td>0.02271</td>\n",
       "      <td>0.99635</td>\n",
       "      <td>-0.01195</td>\n",
       "      <td>0.02569</td>\n",
       "      <td>0.99960</td>\n",
       "      <td>29.90</td>\n",
       "      <td>-24.51</td>\n",
       "      <td>-23.59</td>\n",
       "      <td>-29.25</td>\n",
       "      <td>-24.43</td>\n",
       "      <td>-24.37</td>\n",
       "      <td>3.167</td>\n",
       "      <td>3.064</td>\n",
       "      <td>1</td>\n",
       "    </tr>\n",
       "    <tr>\n",
       "      <th>61157</th>\n",
       "      <td>1075.0</td>\n",
       "      <td>564.0</td>\n",
       "      <td>-90.1673</td>\n",
       "      <td>-29.7303</td>\n",
       "      <td>761.5046</td>\n",
       "      <td>-0.15040</td>\n",
       "      <td>-0.01023</td>\n",
       "      <td>0.98857</td>\n",
       "      <td>-0.07742</td>\n",
       "      <td>-0.00253</td>\n",
       "      <td>0.99700</td>\n",
       "      <td>29.58</td>\n",
       "      <td>-24.73</td>\n",
       "      <td>-23.50</td>\n",
       "      <td>-29.50</td>\n",
       "      <td>-24.68</td>\n",
       "      <td>-24.16</td>\n",
       "      <td>3.234</td>\n",
       "      <td>3.187</td>\n",
       "      <td>1</td>\n",
       "    </tr>\n",
       "    <tr>\n",
       "      <th>61159</th>\n",
       "      <td>1007.0</td>\n",
       "      <td>462.0</td>\n",
       "      <td>-28.3935</td>\n",
       "      <td>24.0420</td>\n",
       "      <td>483.4341</td>\n",
       "      <td>-0.11366</td>\n",
       "      <td>0.07389</td>\n",
       "      <td>0.99077</td>\n",
       "      <td>0.00242</td>\n",
       "      <td>0.09945</td>\n",
       "      <td>0.99504</td>\n",
       "      <td>29.75</td>\n",
       "      <td>-24.68</td>\n",
       "      <td>-22.98</td>\n",
       "      <td>-29.75</td>\n",
       "      <td>-23.95</td>\n",
       "      <td>-24.95</td>\n",
       "      <td>3.167</td>\n",
       "      <td>3.200</td>\n",
       "      <td>1</td>\n",
       "    </tr>\n",
       "    <tr>\n",
       "      <th>61160</th>\n",
       "      <td>1019.0</td>\n",
       "      <td>594.0</td>\n",
       "      <td>-44.1993</td>\n",
       "      <td>-41.3628</td>\n",
       "      <td>634.8684</td>\n",
       "      <td>-0.11156</td>\n",
       "      <td>-0.02482</td>\n",
       "      <td>0.99345</td>\n",
       "      <td>-0.02493</td>\n",
       "      <td>-0.01536</td>\n",
       "      <td>0.99957</td>\n",
       "      <td>29.68</td>\n",
       "      <td>-24.90</td>\n",
       "      <td>-23.06</td>\n",
       "      <td>-29.35</td>\n",
       "      <td>-24.69</td>\n",
       "      <td>-24.18</td>\n",
       "      <td>3.308</td>\n",
       "      <td>3.220</td>\n",
       "      <td>1</td>\n",
       "    </tr>\n",
       "  </tbody>\n",
       "</table>\n",
       "<p>31472 rows × 20 columns</p>\n",
       "</div>"
      ],
      "text/plain": [
       "       Gaze point X  Gaze point Y  Gaze point 3D X  Gaze point 3D Y  \\\n",
       "2            1026.0         544.0         -48.2752         -13.9107   \n",
       "3            1097.0         416.0         -91.0707          59.5265   \n",
       "8            1000.0         519.0         -25.0486           0.2680   \n",
       "11            991.0         478.0         -35.6496          29.0839   \n",
       "15           1028.0         417.0        -106.9984         124.3168   \n",
       "...             ...           ...              ...              ...   \n",
       "61155        1000.0         490.0         -28.5221          13.9714   \n",
       "61156         995.0         525.0         -39.1759          -4.1814   \n",
       "61157        1075.0         564.0         -90.1673         -29.7303   \n",
       "61159        1007.0         462.0         -28.3935          24.0420   \n",
       "61160        1019.0         594.0         -44.1993         -41.3628   \n",
       "\n",
       "       Gaze point 3D Z  Gaze direction left X  Gaze direction left Y  \\\n",
       "2             639.3869               -0.11169                0.00201   \n",
       "3             663.5567               -0.17039                0.11191   \n",
       "8             476.7529               -0.10971                0.04799   \n",
       "11            801.3521               -0.07889                0.06463   \n",
       "15           1391.3270               -0.09539                0.10184   \n",
       "...                ...                    ...                    ...   \n",
       "61155         542.7061               -0.10118                0.06048   \n",
       "61156         812.0294               -0.08231                0.02271   \n",
       "61157         761.5046               -0.15040               -0.01023   \n",
       "61159         483.4341               -0.11366                0.07389   \n",
       "61160         634.8684               -0.11156               -0.02482   \n",
       "\n",
       "       Gaze direction left Z  Gaze direction right X  Gaze direction right Y  \\\n",
       "2                    0.99374                -0.03363                 0.03017   \n",
       "3                    0.97900                -0.08979                 0.12758   \n",
       "8                    0.99280                 0.00823                 0.04985   \n",
       "11                   0.99479                -0.01515                 0.07994   \n",
       "15                   0.99022                -0.05464                 0.10570   \n",
       "...                      ...                     ...                     ...   \n",
       "61155                0.99303                 0.00107                 0.07454   \n",
       "61156                0.99635                -0.01195                 0.02569   \n",
       "61157                0.98857                -0.07742                -0.00253   \n",
       "61159                0.99077                 0.00242                 0.09945   \n",
       "61160                0.99345                -0.02493                -0.01536   \n",
       "\n",
       "       Gaze direction right Z  Pupil position left X  Pupil position left Y  \\\n",
       "2                     0.99898                  29.61                 -24.68   \n",
       "3                     0.98776                  29.46                 -24.26   \n",
       "8                     0.99872                  30.31                 -24.36   \n",
       "11                    0.99668                  29.76                 -24.47   \n",
       "15                    0.99290                  29.59                 -23.99   \n",
       "...                       ...                    ...                    ...   \n",
       "61155                 0.99722                  29.71                 -24.68   \n",
       "61156                 0.99960                  29.90                 -24.51   \n",
       "61157                 0.99700                  29.58                 -24.73   \n",
       "61159                 0.99504                  29.75                 -24.68   \n",
       "61160                 0.99957                  29.68                 -24.90   \n",
       "\n",
       "       Pupil position left Z  Pupil position right X  Pupil position right Y  \\\n",
       "2                     -23.20                  -29.32                  -24.54   \n",
       "3                     -23.07                  -29.58                  -23.98   \n",
       "8                     -23.72                  -29.13                  -24.35   \n",
       "11                    -23.11                  -29.27                  -24.18   \n",
       "15                    -23.25                  -29.39                  -23.66   \n",
       "...                      ...                     ...                     ...   \n",
       "61155                 -22.93                  -29.65                  -24.20   \n",
       "61156                 -23.59                  -29.25                  -24.43   \n",
       "61157                 -23.50                  -29.50                  -24.68   \n",
       "61159                 -22.98                  -29.75                  -23.95   \n",
       "61160                 -23.06                  -29.35                  -24.69   \n",
       "\n",
       "       Pupil position right Z  Pupil diameter left  Pupil diameter right  \\\n",
       "2                      -24.29                3.205                 3.203   \n",
       "3                      -24.35                3.114                 3.045   \n",
       "8                      -24.22                3.618                 3.405   \n",
       "11                     -24.45                3.320                 3.275   \n",
       "15                     -24.57                3.181                 3.129   \n",
       "...                       ...                  ...                   ...   \n",
       "61155                  -24.60                3.098                 3.163   \n",
       "61156                  -24.37                3.167                 3.064   \n",
       "61157                  -24.16                3.234                 3.187   \n",
       "61159                  -24.95                3.167                 3.200   \n",
       "61160                  -24.18                3.308                 3.220   \n",
       "\n",
       "       Disease  \n",
       "2            1  \n",
       "3            1  \n",
       "8            1  \n",
       "11           1  \n",
       "15           1  \n",
       "...        ...  \n",
       "61155        1  \n",
       "61156        1  \n",
       "61157        1  \n",
       "61159        1  \n",
       "61160        1  \n",
       "\n",
       "[31472 rows x 20 columns]"
      ]
     },
     "execution_count": 54,
     "metadata": {},
     "output_type": "execute_result"
    }
   ],
   "source": [
    "df[df['Disease']==1]"
   ]
  },
  {
   "cell_type": "markdown",
   "id": "acb8b8f8",
   "metadata": {},
   "source": [
    "# Random Forest"
   ]
  },
  {
   "cell_type": "code",
   "execution_count": 55,
   "id": "cbc1cba9",
   "metadata": {},
   "outputs": [],
   "source": [
    "from sklearn.ensemble import RandomForestClassifier"
   ]
  },
  {
   "cell_type": "code",
   "execution_count": 56,
   "id": "76c3abd7",
   "metadata": {},
   "outputs": [],
   "source": [
    "rfc = RandomForestClassifier(max_depth=5,min_samples_split=200)"
   ]
  },
  {
   "cell_type": "code",
   "execution_count": 57,
   "id": "f54588c4",
   "metadata": {},
   "outputs": [
    {
     "data": {
      "text/html": [
       "<style>#sk-container-id-2 {color: black;}#sk-container-id-2 pre{padding: 0;}#sk-container-id-2 div.sk-toggleable {background-color: white;}#sk-container-id-2 label.sk-toggleable__label {cursor: pointer;display: block;width: 100%;margin-bottom: 0;padding: 0.3em;box-sizing: border-box;text-align: center;}#sk-container-id-2 label.sk-toggleable__label-arrow:before {content: \"▸\";float: left;margin-right: 0.25em;color: #696969;}#sk-container-id-2 label.sk-toggleable__label-arrow:hover:before {color: black;}#sk-container-id-2 div.sk-estimator:hover label.sk-toggleable__label-arrow:before {color: black;}#sk-container-id-2 div.sk-toggleable__content {max-height: 0;max-width: 0;overflow: hidden;text-align: left;background-color: #f0f8ff;}#sk-container-id-2 div.sk-toggleable__content pre {margin: 0.2em;color: black;border-radius: 0.25em;background-color: #f0f8ff;}#sk-container-id-2 input.sk-toggleable__control:checked~div.sk-toggleable__content {max-height: 200px;max-width: 100%;overflow: auto;}#sk-container-id-2 input.sk-toggleable__control:checked~label.sk-toggleable__label-arrow:before {content: \"▾\";}#sk-container-id-2 div.sk-estimator input.sk-toggleable__control:checked~label.sk-toggleable__label {background-color: #d4ebff;}#sk-container-id-2 div.sk-label input.sk-toggleable__control:checked~label.sk-toggleable__label {background-color: #d4ebff;}#sk-container-id-2 input.sk-hidden--visually {border: 0;clip: rect(1px 1px 1px 1px);clip: rect(1px, 1px, 1px, 1px);height: 1px;margin: -1px;overflow: hidden;padding: 0;position: absolute;width: 1px;}#sk-container-id-2 div.sk-estimator {font-family: monospace;background-color: #f0f8ff;border: 1px dotted black;border-radius: 0.25em;box-sizing: border-box;margin-bottom: 0.5em;}#sk-container-id-2 div.sk-estimator:hover {background-color: #d4ebff;}#sk-container-id-2 div.sk-parallel-item::after {content: \"\";width: 100%;border-bottom: 1px solid gray;flex-grow: 1;}#sk-container-id-2 div.sk-label:hover label.sk-toggleable__label {background-color: #d4ebff;}#sk-container-id-2 div.sk-serial::before {content: \"\";position: absolute;border-left: 1px solid gray;box-sizing: border-box;top: 0;bottom: 0;left: 50%;z-index: 0;}#sk-container-id-2 div.sk-serial {display: flex;flex-direction: column;align-items: center;background-color: white;padding-right: 0.2em;padding-left: 0.2em;position: relative;}#sk-container-id-2 div.sk-item {position: relative;z-index: 1;}#sk-container-id-2 div.sk-parallel {display: flex;align-items: stretch;justify-content: center;background-color: white;position: relative;}#sk-container-id-2 div.sk-item::before, #sk-container-id-2 div.sk-parallel-item::before {content: \"\";position: absolute;border-left: 1px solid gray;box-sizing: border-box;top: 0;bottom: 0;left: 50%;z-index: -1;}#sk-container-id-2 div.sk-parallel-item {display: flex;flex-direction: column;z-index: 1;position: relative;background-color: white;}#sk-container-id-2 div.sk-parallel-item:first-child::after {align-self: flex-end;width: 50%;}#sk-container-id-2 div.sk-parallel-item:last-child::after {align-self: flex-start;width: 50%;}#sk-container-id-2 div.sk-parallel-item:only-child::after {width: 0;}#sk-container-id-2 div.sk-dashed-wrapped {border: 1px dashed gray;margin: 0 0.4em 0.5em 0.4em;box-sizing: border-box;padding-bottom: 0.4em;background-color: white;}#sk-container-id-2 div.sk-label label {font-family: monospace;font-weight: bold;display: inline-block;line-height: 1.2em;}#sk-container-id-2 div.sk-label-container {text-align: center;}#sk-container-id-2 div.sk-container {/* jupyter's `normalize.less` sets `[hidden] { display: none; }` but bootstrap.min.css set `[hidden] { display: none !important; }` so we also need the `!important` here to be able to override the default hidden behavior on the sphinx rendered scikit-learn.org. See: https://github.com/scikit-learn/scikit-learn/issues/21755 */display: inline-block !important;position: relative;}#sk-container-id-2 div.sk-text-repr-fallback {display: none;}</style><div id=\"sk-container-id-2\" class=\"sk-top-container\"><div class=\"sk-text-repr-fallback\"><pre>RandomForestClassifier(max_depth=5, min_samples_split=200)</pre><b>In a Jupyter environment, please rerun this cell to show the HTML representation or trust the notebook. <br />On GitHub, the HTML representation is unable to render, please try loading this page with nbviewer.org.</b></div><div class=\"sk-container\" hidden><div class=\"sk-item\"><div class=\"sk-estimator sk-toggleable\"><input class=\"sk-toggleable__control sk-hidden--visually\" id=\"sk-estimator-id-2\" type=\"checkbox\" checked><label for=\"sk-estimator-id-2\" class=\"sk-toggleable__label sk-toggleable__label-arrow\">RandomForestClassifier</label><div class=\"sk-toggleable__content\"><pre>RandomForestClassifier(max_depth=5, min_samples_split=200)</pre></div></div></div></div></div>"
      ],
      "text/plain": [
       "RandomForestClassifier(max_depth=5, min_samples_split=200)"
      ]
     },
     "execution_count": 57,
     "metadata": {},
     "output_type": "execute_result"
    }
   ],
   "source": [
    "rfc.fit(X_train,y_train)"
   ]
  },
  {
   "cell_type": "code",
   "execution_count": 58,
   "id": "c0df60a6",
   "metadata": {},
   "outputs": [],
   "source": [
    "rfc_pred = rfc.predict(X_test)"
   ]
  },
  {
   "cell_type": "code",
   "execution_count": 59,
   "id": "247a0fd5",
   "metadata": {},
   "outputs": [],
   "source": [
    "rfc_accuracy = accuracy_score(y_test,rfc_pred)"
   ]
  },
  {
   "cell_type": "code",
   "execution_count": 60,
   "id": "39cd0b4f",
   "metadata": {},
   "outputs": [
    {
     "data": {
      "text/plain": [
       "98.71166045386175"
      ]
     },
     "execution_count": 60,
     "metadata": {},
     "output_type": "execute_result"
    }
   ],
   "source": [
    "rfc_accuracy*100"
   ]
  },
  {
   "cell_type": "code",
   "execution_count": 61,
   "id": "7dbc4a4b",
   "metadata": {},
   "outputs": [
    {
     "name": "stdout",
     "output_type": "stream",
     "text": [
      "0.975094816687737\n"
     ]
    }
   ],
   "source": [
    "rfc_recall = recall_score(y_test,rfc_pred)\n",
    "print(rfc_recall)"
   ]
  },
  {
   "cell_type": "code",
   "execution_count": 62,
   "id": "f8dd421b",
   "metadata": {},
   "outputs": [],
   "source": [
    "cm = confusion_matrix(y_test,rfc_pred)"
   ]
  },
  {
   "cell_type": "code",
   "execution_count": 63,
   "id": "2ab5c9df",
   "metadata": {},
   "outputs": [
    {
     "data": {
      "image/png": "[encoded data removed]",
      "text/plain": [
       "<Figure size 640x480 with 2 Axes>"
      ]
     },
     "metadata": {},
     "output_type": "display_data"
    }
   ],
   "source": [
    "# plt.title('Random Forest Classifier')\n",
    "\n",
    "disp = ConfusionMatrixDisplay(confusion_matrix=cm,\n",
    "                              display_labels=rfc.classes_)\n",
    "disp.plot()\n",
    "plt.show()"
   ]
  },
  {
   "cell_type": "code",
   "execution_count": 64,
   "id": "365c2996",
   "metadata": {},
   "outputs": [],
   "source": [
    "rfc = RandomForestClassifier()\n",
    "rfc.fit(X_train,y_train)\n",
    "\n",
    "rfc_preds = rfc.predict(X_test) # Predictions\n",
    "rfc_prob = rfc.predict_proba(X_test)[:,1] \n",
    "\n",
    "# THIS WILL BE USED FOR PR-CURVE"
   ]
  },
  {
   "cell_type": "code",
   "execution_count": 65,
   "id": "59238514",
   "metadata": {},
   "outputs": [
    {
     "data": {
      "text/plain": [
       "array([1.        , 1.        , 0.26950724, ..., 0.        , 1.        ,\n",
       "       1.        ])"
      ]
     },
     "execution_count": 65,
     "metadata": {},
     "output_type": "execute_result"
    }
   ],
   "source": [
    "rfc_prob"
   ]
  },
  {
   "cell_type": "code",
   "execution_count": 66,
   "id": "409d01fc",
   "metadata": {},
   "outputs": [
    {
     "name": "stdout",
     "output_type": "stream",
     "text": [
      "Accuracy : 98.71%\n"
     ]
    }
   ],
   "source": [
    "accuracy = accuracy_score(y_test,rfc_preds)\n",
    "print(f'Accuracy : {round(accuracy*100,2)}%')"
   ]
  },
  {
   "cell_type": "code",
   "execution_count": 67,
   "id": "fc43d8d4",
   "metadata": {},
   "outputs": [],
   "source": [
    "precision_2,recall_2,threshold_2 = precision_recall_curve(y_test,rfc_prob)"
   ]
  },
  {
   "cell_type": "code",
   "execution_count": 68,
   "id": "c8ce8e85",
   "metadata": {},
   "outputs": [
    {
     "name": "stdout",
     "output_type": "stream",
     "text": [
      "0.999360792848546\n"
     ]
    }
   ],
   "source": [
    "auc_2 =auc(recall_2,precision_2)  \n",
    "print(auc_2)"
   ]
  },
  {
   "cell_type": "code",
   "execution_count": 69,
   "id": "9c0300f0",
   "metadata": {},
   "outputs": [
    {
     "data": {
      "text/plain": [
       "<matplotlib.legend.Legend at 0x23ca174c0d0>"
      ]
     },
     "execution_count": 69,
     "metadata": {},
     "output_type": "execute_result"
    },
    {
     "data": {
      "image/png": "[encoded data removed]",
      "text/plain": [
       "<Figure size 640x480 with 1 Axes>"
      ]
     },
     "metadata": {},
     "output_type": "display_data"
    }
   ],
   "source": [
    "plt.title('PR-curve: Random Forest')\n",
    "\n",
    "plt.plot(recall_2,precision_2,label=f'AUC: {round(auc_2,2)}')\n",
    "\n",
    "plt.fill_between(recall_2,precision_2,alpha=0.2)\n",
    "\n",
    "plt.xlabel('Recall')\n",
    "plt.ylabel('Precision')\n",
    "plt.legend()"
   ]
  },
  {
   "cell_type": "markdown",
   "id": "b93db339",
   "metadata": {},
   "source": [
    "# Gradient Boosting"
   ]
  },
  {
   "cell_type": "code",
   "execution_count": 70,
   "id": "d4848191",
   "metadata": {},
   "outputs": [],
   "source": [
    "from sklearn.ensemble import GradientBoostingClassifier"
   ]
  },
  {
   "cell_type": "code",
   "execution_count": 71,
   "id": "3e1596c1",
   "metadata": {},
   "outputs": [],
   "source": [
    "gbc = GradientBoostingClassifier(learning_rate=0.01)"
   ]
  },
  {
   "cell_type": "code",
   "execution_count": 72,
   "id": "27a39605",
   "metadata": {},
   "outputs": [
    {
     "data": {
      "text/html": [
       "<style>#sk-container-id-3 {color: black;}#sk-container-id-3 pre{padding: 0;}#sk-container-id-3 div.sk-toggleable {background-color: white;}#sk-container-id-3 label.sk-toggleable__label {cursor: pointer;display: block;width: 100%;margin-bottom: 0;padding: 0.3em;box-sizing: border-box;text-align: center;}#sk-container-id-3 label.sk-toggleable__label-arrow:before {content: \"▸\";float: left;margin-right: 0.25em;color: #696969;}#sk-container-id-3 label.sk-toggleable__label-arrow:hover:before {color: black;}#sk-container-id-3 div.sk-estimator:hover label.sk-toggleable__label-arrow:before {color: black;}#sk-container-id-3 div.sk-toggleable__content {max-height: 0;max-width: 0;overflow: hidden;text-align: left;background-color: #f0f8ff;}#sk-container-id-3 div.sk-toggleable__content pre {margin: 0.2em;color: black;border-radius: 0.25em;background-color: #f0f8ff;}#sk-container-id-3 input.sk-toggleable__control:checked~div.sk-toggleable__content {max-height: 200px;max-width: 100%;overflow: auto;}#sk-container-id-3 input.sk-toggleable__control:checked~label.sk-toggleable__label-arrow:before {content: \"▾\";}#sk-container-id-3 div.sk-estimator input.sk-toggleable__control:checked~label.sk-toggleable__label {background-color: #d4ebff;}#sk-container-id-3 div.sk-label input.sk-toggleable__control:checked~label.sk-toggleable__label {background-color: #d4ebff;}#sk-container-id-3 input.sk-hidden--visually {border: 0;clip: rect(1px 1px 1px 1px);clip: rect(1px, 1px, 1px, 1px);height: 1px;margin: -1px;overflow: hidden;padding: 0;position: absolute;width: 1px;}#sk-container-id-3 div.sk-estimator {font-family: monospace;background-color: #f0f8ff;border: 1px dotted black;border-radius: 0.25em;box-sizing: border-box;margin-bottom: 0.5em;}#sk-container-id-3 div.sk-estimator:hover {background-color: #d4ebff;}#sk-container-id-3 div.sk-parallel-item::after {content: \"\";width: 100%;border-bottom: 1px solid gray;flex-grow: 1;}#sk-container-id-3 div.sk-label:hover label.sk-toggleable__label {background-color: #d4ebff;}#sk-container-id-3 div.sk-serial::before {content: \"\";position: absolute;border-left: 1px solid gray;box-sizing: border-box;top: 0;bottom: 0;left: 50%;z-index: 0;}#sk-container-id-3 div.sk-serial {display: flex;flex-direction: column;align-items: center;background-color: white;padding-right: 0.2em;padding-left: 0.2em;position: relative;}#sk-container-id-3 div.sk-item {position: relative;z-index: 1;}#sk-container-id-3 div.sk-parallel {display: flex;align-items: stretch;justify-content: center;background-color: white;position: relative;}#sk-container-id-3 div.sk-item::before, #sk-container-id-3 div.sk-parallel-item::before {content: \"\";position: absolute;border-left: 1px solid gray;box-sizing: border-box;top: 0;bottom: 0;left: 50%;z-index: -1;}#sk-container-id-3 div.sk-parallel-item {display: flex;flex-direction: column;z-index: 1;position: relative;background-color: white;}#sk-container-id-3 div.sk-parallel-item:first-child::after {align-self: flex-end;width: 50%;}#sk-container-id-3 div.sk-parallel-item:last-child::after {align-self: flex-start;width: 50%;}#sk-container-id-3 div.sk-parallel-item:only-child::after {width: 0;}#sk-container-id-3 div.sk-dashed-wrapped {border: 1px dashed gray;margin: 0 0.4em 0.5em 0.4em;box-sizing: border-box;padding-bottom: 0.4em;background-color: white;}#sk-container-id-3 div.sk-label label {font-family: monospace;font-weight: bold;display: inline-block;line-height: 1.2em;}#sk-container-id-3 div.sk-label-container {text-align: center;}#sk-container-id-3 div.sk-container {/* jupyter's `normalize.less` sets `[hidden] { display: none; }` but bootstrap.min.css set `[hidden] { display: none !important; }` so we also need the `!important` here to be able to override the default hidden behavior on the sphinx rendered scikit-learn.org. See: https://github.com/scikit-learn/scikit-learn/issues/21755 */display: inline-block !important;position: relative;}#sk-container-id-3 div.sk-text-repr-fallback {display: none;}</style><div id=\"sk-container-id-3\" class=\"sk-top-container\"><div class=\"sk-text-repr-fallback\"><pre>GradientBoostingClassifier(learning_rate=0.01)</pre><b>In a Jupyter environment, please rerun this cell to show the HTML representation or trust the notebook. <br />On GitHub, the HTML representation is unable to render, please try loading this page with nbviewer.org.</b></div><div class=\"sk-container\" hidden><div class=\"sk-item\"><div class=\"sk-estimator sk-toggleable\"><input class=\"sk-toggleable__control sk-hidden--visually\" id=\"sk-estimator-id-3\" type=\"checkbox\" checked><label for=\"sk-estimator-id-3\" class=\"sk-toggleable__label sk-toggleable__label-arrow\">GradientBoostingClassifier</label><div class=\"sk-toggleable__content\"><pre>GradientBoostingClassifier(learning_rate=0.01)</pre></div></div></div></div></div>"
      ],
      "text/plain": [
       "GradientBoostingClassifier(learning_rate=0.01)"
      ]
     },
     "execution_count": 72,
     "metadata": {},
     "output_type": "execute_result"
    }
   ],
   "source": [
    "gbc.fit(X_train,y_train)"
   ]
  },
  {
   "cell_type": "code",
   "execution_count": 73,
   "id": "72997e06",
   "metadata": {},
   "outputs": [],
   "source": [
    "gbc_pred = gbc.predict(X_test)"
   ]
  },
  {
   "cell_type": "code",
   "execution_count": 74,
   "id": "4b136ebe",
   "metadata": {},
   "outputs": [],
   "source": [
    "gbc_accuracy = accuracy_score(y_test,gbc_pred)\n",
    "gbc_recall = recall_score(y_test,gbc_pred)"
   ]
  },
  {
   "cell_type": "code",
   "execution_count": 75,
   "id": "6976e54d",
   "metadata": {},
   "outputs": [
    {
     "data": {
      "text/plain": [
       "98.71166045386175"
      ]
     },
     "execution_count": 75,
     "metadata": {},
     "output_type": "execute_result"
    }
   ],
   "source": [
    "gbc_accuracy*100"
   ]
  },
  {
   "cell_type": "code",
   "execution_count": 76,
   "id": "4e082de2",
   "metadata": {},
   "outputs": [
    {
     "data": {
      "text/plain": [
       "0.975094816687737"
      ]
     },
     "execution_count": 76,
     "metadata": {},
     "output_type": "execute_result"
    }
   ],
   "source": [
    "gbc_recall"
   ]
  },
  {
   "cell_type": "code",
   "execution_count": 77,
   "id": "decebf78",
   "metadata": {},
   "outputs": [],
   "source": [
    "cm = confusion_matrix(y_test,gbc_pred)"
   ]
  },
  {
   "cell_type": "code",
   "execution_count": 78,
   "id": "bf061940",
   "metadata": {
    "scrolled": true
   },
   "outputs": [
    {
     "data": {
      "image/png": "[encoded data removed]",
      "text/plain": [
       "<Figure size 640x480 with 2 Axes>"
      ]
     },
     "metadata": {},
     "output_type": "display_data"
    }
   ],
   "source": [
    "# plt.title('GradientBoosting')\n",
    "\n",
    "disp = ConfusionMatrixDisplay(confusion_matrix=cm,\n",
    "                              display_labels=gbc.classes_)\n",
    "disp.plot()\n",
    "plt.show()"
   ]
  },
  {
   "cell_type": "code",
   "execution_count": 79,
   "id": "ad01115c",
   "metadata": {},
   "outputs": [],
   "source": [
    "grad_boost = GradientBoostingClassifier()\n",
    "grad_boost.fit(X_train,y_train)\n",
    "\n",
    "grad_boost_preds = grad_boost.predict(X_test) # Predictions\n",
    "grad_boost_prob = grad_boost.predict_proba(X_test)[:,1] \n",
    "\n",
    "# THIS WILL BE USED FOR PR-CURVE"
   ]
  },
  {
   "cell_type": "code",
   "execution_count": 80,
   "id": "3021cadc",
   "metadata": {},
   "outputs": [
    {
     "data": {
      "text/plain": [
       "array([9.99978666e-01, 9.99978666e-01, 2.71192964e-01, ...,\n",
       "       2.24671254e-05, 9.99978666e-01, 9.99978666e-01])"
      ]
     },
     "execution_count": 80,
     "metadata": {},
     "output_type": "execute_result"
    }
   ],
   "source": [
    "grad_boost_prob"
   ]
  },
  {
   "cell_type": "code",
   "execution_count": 81,
   "id": "6c5f2896",
   "metadata": {},
   "outputs": [
    {
     "name": "stdout",
     "output_type": "stream",
     "text": [
      "Accuracy : 98.71%\n"
     ]
    }
   ],
   "source": [
    "accuracy = accuracy_score(y_test,grad_boost_preds)\n",
    "print(f'Accuracy : {round(accuracy*100,2)}%')"
   ]
  },
  {
   "cell_type": "code",
   "execution_count": 82,
   "id": "c80fddd5",
   "metadata": {},
   "outputs": [],
   "source": [
    "precision_3,recall_3,threshold_3 = precision_recall_curve(y_test,grad_boost_prob)"
   ]
  },
  {
   "cell_type": "code",
   "execution_count": 83,
   "id": "0c36402e",
   "metadata": {},
   "outputs": [
    {
     "name": "stdout",
     "output_type": "stream",
     "text": [
      "0.999360792848546\n"
     ]
    }
   ],
   "source": [
    "auc_3 =auc(recall_3,precision_3)  \n",
    "print(auc_3)"
   ]
  },
  {
   "cell_type": "code",
   "execution_count": 84,
   "id": "defb3cd5",
   "metadata": {},
   "outputs": [
    {
     "data": {
      "text/plain": [
       "<matplotlib.legend.Legend at 0x23ca0f92450>"
      ]
     },
     "execution_count": 84,
     "metadata": {},
     "output_type": "execute_result"
    },
    {
     "data": {
      "image/png": "[encoded data removed]",
      "text/plain": [
       "<Figure size 640x480 with 1 Axes>"
      ]
     },
     "metadata": {},
     "output_type": "display_data"
    }
   ],
   "source": [
    "plt.title('PR-curve: Gradient Boosting')\n",
    "\n",
    "plt.plot(recall_3,precision_3,label=f'AUC: {round(auc_3,2)}')\n",
    "\n",
    "plt.fill_between(recall_3,precision_3,alpha=0.2)\n",
    "\n",
    "plt.xlabel('Recall')\n",
    "plt.ylabel('Precision')\n",
    "plt.legend()"
   ]
  },
  {
   "cell_type": "markdown",
   "id": "9bbbf847",
   "metadata": {},
   "source": [
    "# Logistic Regression (LR)"
   ]
  },
  {
   "cell_type": "code",
   "execution_count": 85,
   "id": "f7d47114",
   "metadata": {},
   "outputs": [],
   "source": [
    "from sklearn.linear_model import LogisticRegression"
   ]
  },
  {
   "cell_type": "code",
   "execution_count": 86,
   "id": "c0450ef2",
   "metadata": {},
   "outputs": [],
   "source": [
    "logit = LogisticRegression(penalty = 'l1', solver='liblinear')"
   ]
  },
  {
   "cell_type": "code",
   "execution_count": 87,
   "id": "88f4a650",
   "metadata": {},
   "outputs": [
    {
     "data": {
      "text/html": [
       "<style>#sk-container-id-4 {color: black;}#sk-container-id-4 pre{padding: 0;}#sk-container-id-4 div.sk-toggleable {background-color: white;}#sk-container-id-4 label.sk-toggleable__label {cursor: pointer;display: block;width: 100%;margin-bottom: 0;padding: 0.3em;box-sizing: border-box;text-align: center;}#sk-container-id-4 label.sk-toggleable__label-arrow:before {content: \"▸\";float: left;margin-right: 0.25em;color: #696969;}#sk-container-id-4 label.sk-toggleable__label-arrow:hover:before {color: black;}#sk-container-id-4 div.sk-estimator:hover label.sk-toggleable__label-arrow:before {color: black;}#sk-container-id-4 div.sk-toggleable__content {max-height: 0;max-width: 0;overflow: hidden;text-align: left;background-color: #f0f8ff;}#sk-container-id-4 div.sk-toggleable__content pre {margin: 0.2em;color: black;border-radius: 0.25em;background-color: #f0f8ff;}#sk-container-id-4 input.sk-toggleable__control:checked~div.sk-toggleable__content {max-height: 200px;max-width: 100%;overflow: auto;}#sk-container-id-4 input.sk-toggleable__control:checked~label.sk-toggleable__label-arrow:before {content: \"▾\";}#sk-container-id-4 div.sk-estimator input.sk-toggleable__control:checked~label.sk-toggleable__label {background-color: #d4ebff;}#sk-container-id-4 div.sk-label input.sk-toggleable__control:checked~label.sk-toggleable__label {background-color: #d4ebff;}#sk-container-id-4 input.sk-hidden--visually {border: 0;clip: rect(1px 1px 1px 1px);clip: rect(1px, 1px, 1px, 1px);height: 1px;margin: -1px;overflow: hidden;padding: 0;position: absolute;width: 1px;}#sk-container-id-4 div.sk-estimator {font-family: monospace;background-color: #f0f8ff;border: 1px dotted black;border-radius: 0.25em;box-sizing: border-box;margin-bottom: 0.5em;}#sk-container-id-4 div.sk-estimator:hover {background-color: #d4ebff;}#sk-container-id-4 div.sk-parallel-item::after {content: \"\";width: 100%;border-bottom: 1px solid gray;flex-grow: 1;}#sk-container-id-4 div.sk-label:hover label.sk-toggleable__label {background-color: #d4ebff;}#sk-container-id-4 div.sk-serial::before {content: \"\";position: absolute;border-left: 1px solid gray;box-sizing: border-box;top: 0;bottom: 0;left: 50%;z-index: 0;}#sk-container-id-4 div.sk-serial {display: flex;flex-direction: column;align-items: center;background-color: white;padding-right: 0.2em;padding-left: 0.2em;position: relative;}#sk-container-id-4 div.sk-item {position: relative;z-index: 1;}#sk-container-id-4 div.sk-parallel {display: flex;align-items: stretch;justify-content: center;background-color: white;position: relative;}#sk-container-id-4 div.sk-item::before, #sk-container-id-4 div.sk-parallel-item::before {content: \"\";position: absolute;border-left: 1px solid gray;box-sizing: border-box;top: 0;bottom: 0;left: 50%;z-index: -1;}#sk-container-id-4 div.sk-parallel-item {display: flex;flex-direction: column;z-index: 1;position: relative;background-color: white;}#sk-container-id-4 div.sk-parallel-item:first-child::after {align-self: flex-end;width: 50%;}#sk-container-id-4 div.sk-parallel-item:last-child::after {align-self: flex-start;width: 50%;}#sk-container-id-4 div.sk-parallel-item:only-child::after {width: 0;}#sk-container-id-4 div.sk-dashed-wrapped {border: 1px dashed gray;margin: 0 0.4em 0.5em 0.4em;box-sizing: border-box;padding-bottom: 0.4em;background-color: white;}#sk-container-id-4 div.sk-label label {font-family: monospace;font-weight: bold;display: inline-block;line-height: 1.2em;}#sk-container-id-4 div.sk-label-container {text-align: center;}#sk-container-id-4 div.sk-container {/* jupyter's `normalize.less` sets `[hidden] { display: none; }` but bootstrap.min.css set `[hidden] { display: none !important; }` so we also need the `!important` here to be able to override the default hidden behavior on the sphinx rendered scikit-learn.org. See: https://github.com/scikit-learn/scikit-learn/issues/21755 */display: inline-block !important;position: relative;}#sk-container-id-4 div.sk-text-repr-fallback {display: none;}</style><div id=\"sk-container-id-4\" class=\"sk-top-container\"><div class=\"sk-text-repr-fallback\"><pre>LogisticRegression(penalty=&#x27;l1&#x27;, solver=&#x27;liblinear&#x27;)</pre><b>In a Jupyter environment, please rerun this cell to show the HTML representation or trust the notebook. <br />On GitHub, the HTML representation is unable to render, please try loading this page with nbviewer.org.</b></div><div class=\"sk-container\" hidden><div class=\"sk-item\"><div class=\"sk-estimator sk-toggleable\"><input class=\"sk-toggleable__control sk-hidden--visually\" id=\"sk-estimator-id-4\" type=\"checkbox\" checked><label for=\"sk-estimator-id-4\" class=\"sk-toggleable__label sk-toggleable__label-arrow\">LogisticRegression</label><div class=\"sk-toggleable__content\"><pre>LogisticRegression(penalty=&#x27;l1&#x27;, solver=&#x27;liblinear&#x27;)</pre></div></div></div></div></div>"
      ],
      "text/plain": [
       "LogisticRegression(penalty='l1', solver='liblinear')"
      ]
     },
     "execution_count": 87,
     "metadata": {},
     "output_type": "execute_result"
    }
   ],
   "source": [
    "logit.fit(X_train,y_train)"
   ]
  },
  {
   "cell_type": "code",
   "execution_count": 88,
   "id": "b9ab1c34",
   "metadata": {},
   "outputs": [],
   "source": [
    "logit_pred = logit.predict(X_test)"
   ]
  },
  {
   "cell_type": "code",
   "execution_count": 89,
   "id": "362664b9",
   "metadata": {},
   "outputs": [],
   "source": [
    "logit_accuracy = accuracy_score(y_test,logit_pred)\n",
    "logit_recall = recall_score(y_test,logit_pred)"
   ]
  },
  {
   "cell_type": "code",
   "execution_count": 90,
   "id": "2ce474f6",
   "metadata": {},
   "outputs": [
    {
     "data": {
      "text/plain": [
       "98.71166045386175"
      ]
     },
     "execution_count": 90,
     "metadata": {},
     "output_type": "execute_result"
    }
   ],
   "source": [
    "logit_accuracy*100"
   ]
  },
  {
   "cell_type": "code",
   "execution_count": 91,
   "id": "d5d9306c",
   "metadata": {},
   "outputs": [
    {
     "data": {
      "text/plain": [
       "0.975094816687737"
      ]
     },
     "execution_count": 91,
     "metadata": {},
     "output_type": "execute_result"
    }
   ],
   "source": [
    "logit_recall"
   ]
  },
  {
   "cell_type": "code",
   "execution_count": 92,
   "id": "8e170535",
   "metadata": {},
   "outputs": [],
   "source": [
    "cm = confusion_matrix(y_test,logit_pred)"
   ]
  },
  {
   "cell_type": "code",
   "execution_count": 93,
   "id": "f9c4e2e9",
   "metadata": {},
   "outputs": [
    {
     "data": {
      "image/png": "[encoded data removed]",
      "text/plain": [
       "<Figure size 640x480 with 2 Axes>"
      ]
     },
     "metadata": {},
     "output_type": "display_data"
    }
   ],
   "source": [
    "# plt.title('Logistic Regression')\n",
    "\n",
    "disp = ConfusionMatrixDisplay(confusion_matrix=cm,\n",
    "                              display_labels=logit.classes_)\n",
    "disp.plot()\n",
    "plt.show()"
   ]
  },
  {
   "cell_type": "code",
   "execution_count": 94,
   "id": "05f5e1ec",
   "metadata": {},
   "outputs": [],
   "source": [
    "log_reg = LogisticRegression(solver='liblinear')\n",
    "log_reg.fit(X_train,y_train)\n",
    "\n",
    "log_reg_preds = log_reg.predict(X_test) # Predictions\n",
    "log_reg_prob = log_reg.predict_proba(X_test)[:,1] \n",
    "\n",
    "# THIS WILL BE USED FOR PR-CURVE "
   ]
  },
  {
   "cell_type": "code",
   "execution_count": 95,
   "id": "827d0204",
   "metadata": {},
   "outputs": [
    {
     "data": {
      "text/plain": [
       "array([9.99768770e-01, 9.99936226e-01, 2.74058708e-01, ...,\n",
       "       4.26991849e-06, 9.99917230e-01, 9.99933749e-01])"
      ]
     },
     "execution_count": 95,
     "metadata": {},
     "output_type": "execute_result"
    }
   ],
   "source": [
    "log_reg_prob"
   ]
  },
  {
   "cell_type": "code",
   "execution_count": 96,
   "id": "44f1d4ad",
   "metadata": {},
   "outputs": [
    {
     "name": "stdout",
     "output_type": "stream",
     "text": [
      "Accuracy : 98.71%\n"
     ]
    }
   ],
   "source": [
    "accuracy = accuracy_score(y_test,log_reg_preds)\n",
    "print(f'Accuracy : {round(accuracy*100,2)}%')"
   ]
  },
  {
   "cell_type": "code",
   "execution_count": 97,
   "id": "3a5e0dc7",
   "metadata": {},
   "outputs": [],
   "source": [
    "precision_4,recall_4,threshold_4 = precision_recall_curve(y_test,log_reg_prob)"
   ]
  },
  {
   "cell_type": "code",
   "execution_count": 98,
   "id": "65344d0d",
   "metadata": {},
   "outputs": [
    {
     "name": "stdout",
     "output_type": "stream",
     "text": [
      "0.999360792848546\n"
     ]
    }
   ],
   "source": [
    "auc_4 =auc(recall_4,precision_4)  \n",
    "print(auc_4)"
   ]
  },
  {
   "cell_type": "code",
   "execution_count": 99,
   "id": "22622ac6",
   "metadata": {},
   "outputs": [
    {
     "data": {
      "text/plain": [
       "<matplotlib.legend.Legend at 0x23ca0c6bed0>"
      ]
     },
     "execution_count": 99,
     "metadata": {},
     "output_type": "execute_result"
    },
    {
     "data": {
      "image/png": "[encoded data removed]",
      "text/plain": [
       "<Figure size 640x480 with 1 Axes>"
      ]
     },
     "metadata": {},
     "output_type": "display_data"
    }
   ],
   "source": [
    "plt.title('PR-curve: Logistic Regression')\n",
    "\n",
    "plt.plot(recall_4,precision_4,label=f'AUC: {round(auc_4,2)}')\n",
    "\n",
    "plt.fill_between(recall_4,precision_4,alpha=0.2)\n",
    "\n",
    "plt.xlabel('Recall')\n",
    "plt.ylabel('Precision')\n",
    "plt.legend()"
   ]
  },
  {
   "cell_type": "markdown",
   "id": "75393bdf",
   "metadata": {},
   "source": [
    "# MODEL PERFORMANCE"
   ]
  },
  {
   "cell_type": "markdown",
   "id": "bb0d1ec7",
   "metadata": {},
   "source": [
    "# ==> Comparing all four charts/plots"
   ]
  },
  {
   "cell_type": "code",
   "execution_count": 100,
   "id": "8e2d3c51",
   "metadata": {},
   "outputs": [
    {
     "data": {
      "text/plain": [
       "<matplotlib.legend.Legend at 0x23ca17f35d0>"
      ]
     },
     "execution_count": 100,
     "metadata": {},
     "output_type": "execute_result"
    },
    {
     "data": {
      "image/png": "[encoded data removed]",
      "text/plain": [
       "<Figure size 640x480 with 1 Axes>"
      ]
     },
     "metadata": {},
     "output_type": "display_data"
    }
   ],
   "source": [
    "plt.title('PR-curve: Support Vector Classifier')\n",
    "# Support Vector Classifier\n",
    "plt.plot(recall_1,precision_1,label=f'Support Vector Classifier AUC: {round(auc_1,2)}')\n",
    "plt.fill_between(recall_1,precision_1,alpha=0.2)\n",
    "\n",
    "\n",
    "# Random Forest\n",
    "plt.plot(recall_2,precision_2,label=f'Random Forest AUC: {round(auc_2,2)}')\n",
    "plt.fill_between(recall_2,precision_2,alpha=0.2)\n",
    "\n",
    "# Gradient Boosting\n",
    "plt.plot(recall_3,precision_3,label=f'Gradient Boosting AUC: {round(auc_3,2)}')\n",
    "plt.fill_between(recall_3,precision_3,alpha=0.2)\n",
    "\n",
    "# Logistic Regression\n",
    "plt.plot(recall_4,precision_4,label=f'Logistic Regression AUC: {round(auc_4,2)}')\n",
    "\n",
    "# plt.fill_between(recall_1,precision_1,alpha=0.2)\n",
    "\n",
    "plt.xlabel('Recall')\n",
    "plt.ylabel('Precision')\n",
    "plt.legend()"
   ]
  },
  {
   "cell_type": "code",
   "execution_count": null,
   "id": "d3b34024",
   "metadata": {},
   "outputs": [],
   "source": []
  },
  {
   "cell_type": "code",
   "execution_count": null,
   "id": "db6290dc",
   "metadata": {},
   "outputs": [],
   "source": []
  }
 ],
 "metadata": {
  "kernelspec": {
   "display_name": "Python 3 (ipykernel)",
   "language": "python",
   "name": "python3"
  },
  "language_info": {
   "codemirror_mode": {
    "name": "ipython",
    "version": 3
   },
   "file_extension": ".py",
   "mimetype": "text/x-python",
   "name": "python",
   "nbconvert_exporter": "python",
   "pygments_lexer": "ipython3",
   "version": "3.11.5"
  }
 },
 "nbformat": 4,
 "nbformat_minor": 5
}
