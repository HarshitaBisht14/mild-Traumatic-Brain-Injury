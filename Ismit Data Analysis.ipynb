{
 "cells": [
  {
   "cell_type": "code",
   "execution_count": 1,
   "id": "f03d778a",
   "metadata": {},
   "outputs": [],
   "source": [
    "import pandas as pd\n",
    "import numpy as np\n",
    "import seaborn as sns\n",
    "import matplotlib.pyplot as plt"
   ]
  },
  {
   "cell_type": "code",
   "execution_count": 2,
   "id": "922eb767",
   "metadata": {},
   "outputs": [],
   "source": [
    "disease_df = pd.read_excel('TBT_03_updated_data.xlsx')"
   ]
  },
  {
   "cell_type": "code",
   "execution_count": 3,
   "id": "d96d325b",
   "metadata": {},
   "outputs": [],
   "source": [
    "healthy_df = pd.read_excel('Ismit_updated_data.xlsx')"
   ]
  },
  {
   "cell_type": "code",
   "execution_count": 4,
   "id": "093ee788",
   "metadata": {},
   "outputs": [
    {
     "data": {
      "text/plain": [
       "((28417, 46), (29220, 46))"
      ]
     },
     "execution_count": 4,
     "metadata": {},
     "output_type": "execute_result"
    }
   ],
   "source": [
    "disease_df.shape,healthy_df.shape"
   ]
  },
  {
   "cell_type": "code",
   "execution_count": 5,
   "id": "1c979872",
   "metadata": {},
   "outputs": [],
   "source": [
    "data = pd.concat([disease_df,healthy_df])"
   ]
  },
  {
   "cell_type": "code",
   "execution_count": 6,
   "id": "f0745a36",
   "metadata": {},
   "outputs": [
    {
     "data": {
      "text/html": [
       "<div>\n",
       "<style scoped>\n",
       "    .dataframe tbody tr th:only-of-type {\n",
       "        vertical-align: middle;\n",
       "    }\n",
       "\n",
       "    .dataframe tbody tr th {\n",
       "        vertical-align: top;\n",
       "    }\n",
       "\n",
       "    .dataframe thead th {\n",
       "        text-align: right;\n",
       "    }\n",
       "</style>\n",
       "<table border=\"1\" class=\"dataframe\">\n",
       "  <thead>\n",
       "    <tr style=\"text-align: right;\">\n",
       "      <th></th>\n",
       "      <th>Recording timestamp</th>\n",
       "      <th>Computer timestamp</th>\n",
       "      <th>Sensor</th>\n",
       "      <th>Project name</th>\n",
       "      <th>Export date</th>\n",
       "      <th>Participant name</th>\n",
       "      <th>Recording name</th>\n",
       "      <th>Recording date</th>\n",
       "      <th>Recording date UTC</th>\n",
       "      <th>Recording start time</th>\n",
       "      <th>...</th>\n",
       "      <th>Recording media name</th>\n",
       "      <th>Recording media width</th>\n",
       "      <th>Recording media height</th>\n",
       "      <th>Eye movement type</th>\n",
       "      <th>Gaze event duration</th>\n",
       "      <th>Eye movement type index</th>\n",
       "      <th>Fixation point X</th>\n",
       "      <th>Fixation point Y</th>\n",
       "      <th>Ungrouped</th>\n",
       "      <th>Disease</th>\n",
       "    </tr>\n",
       "  </thead>\n",
       "  <tbody>\n",
       "    <tr>\n",
       "      <th>29215</th>\n",
       "      <td>302515934</td>\n",
       "      <td>907598210</td>\n",
       "      <td>Eye Tracker</td>\n",
       "      <td>Project1</td>\n",
       "      <td>17-05-2024</td>\n",
       "      <td>ISMIT</td>\n",
       "      <td>Recording026</td>\n",
       "      <td>15-05-2024</td>\n",
       "      <td>15-05-2024</td>\n",
       "      <td>14:39:42.980</td>\n",
       "      <td>...</td>\n",
       "      <td>fullstream.mp4</td>\n",
       "      <td>1920.0</td>\n",
       "      <td>1080.0</td>\n",
       "      <td>Unclassified</td>\n",
       "      <td>10</td>\n",
       "      <td>280</td>\n",
       "      <td>NaN</td>\n",
       "      <td>NaN</td>\n",
       "      <td>NaN</td>\n",
       "      <td>0</td>\n",
       "    </tr>\n",
       "    <tr>\n",
       "      <th>29216</th>\n",
       "      <td>302525925</td>\n",
       "      <td>907608201</td>\n",
       "      <td>Eye Tracker</td>\n",
       "      <td>Project1</td>\n",
       "      <td>17-05-2024</td>\n",
       "      <td>ISMIT</td>\n",
       "      <td>Recording026</td>\n",
       "      <td>15-05-2024</td>\n",
       "      <td>15-05-2024</td>\n",
       "      <td>14:39:42.980</td>\n",
       "      <td>...</td>\n",
       "      <td>fullstream.mp4</td>\n",
       "      <td>1920.0</td>\n",
       "      <td>1080.0</td>\n",
       "      <td>Saccade</td>\n",
       "      <td>20</td>\n",
       "      <td>378</td>\n",
       "      <td>NaN</td>\n",
       "      <td>NaN</td>\n",
       "      <td>NaN</td>\n",
       "      <td>0</td>\n",
       "    </tr>\n",
       "    <tr>\n",
       "      <th>29217</th>\n",
       "      <td>302535915</td>\n",
       "      <td>907618191</td>\n",
       "      <td>Eye Tracker</td>\n",
       "      <td>Project1</td>\n",
       "      <td>17-05-2024</td>\n",
       "      <td>ISMIT</td>\n",
       "      <td>Recording026</td>\n",
       "      <td>15-05-2024</td>\n",
       "      <td>15-05-2024</td>\n",
       "      <td>14:39:42.980</td>\n",
       "      <td>...</td>\n",
       "      <td>fullstream.mp4</td>\n",
       "      <td>1920.0</td>\n",
       "      <td>1080.0</td>\n",
       "      <td>Saccade</td>\n",
       "      <td>20</td>\n",
       "      <td>378</td>\n",
       "      <td>NaN</td>\n",
       "      <td>NaN</td>\n",
       "      <td>NaN</td>\n",
       "      <td>0</td>\n",
       "    </tr>\n",
       "    <tr>\n",
       "      <th>29218</th>\n",
       "      <td>302545904</td>\n",
       "      <td>907628180</td>\n",
       "      <td>Eye Tracker</td>\n",
       "      <td>Project1</td>\n",
       "      <td>17-05-2024</td>\n",
       "      <td>ISMIT</td>\n",
       "      <td>Recording026</td>\n",
       "      <td>15-05-2024</td>\n",
       "      <td>15-05-2024</td>\n",
       "      <td>14:39:42.980</td>\n",
       "      <td>...</td>\n",
       "      <td>fullstream.mp4</td>\n",
       "      <td>1920.0</td>\n",
       "      <td>1080.0</td>\n",
       "      <td>EyesNotFound</td>\n",
       "      <td>10</td>\n",
       "      <td>380</td>\n",
       "      <td>NaN</td>\n",
       "      <td>NaN</td>\n",
       "      <td>NaN</td>\n",
       "      <td>0</td>\n",
       "    </tr>\n",
       "    <tr>\n",
       "      <th>29219</th>\n",
       "      <td>302555901</td>\n",
       "      <td>907638177</td>\n",
       "      <td>Eye Tracker</td>\n",
       "      <td>Project1</td>\n",
       "      <td>17-05-2024</td>\n",
       "      <td>ISMIT</td>\n",
       "      <td>Recording026</td>\n",
       "      <td>15-05-2024</td>\n",
       "      <td>15-05-2024</td>\n",
       "      <td>14:39:42.980</td>\n",
       "      <td>...</td>\n",
       "      <td>fullstream.mp4</td>\n",
       "      <td>1920.0</td>\n",
       "      <td>1080.0</td>\n",
       "      <td>Unclassified</td>\n",
       "      <td>10</td>\n",
       "      <td>281</td>\n",
       "      <td>NaN</td>\n",
       "      <td>NaN</td>\n",
       "      <td>NaN</td>\n",
       "      <td>0</td>\n",
       "    </tr>\n",
       "  </tbody>\n",
       "</table>\n",
       "<p>5 rows × 46 columns</p>\n",
       "</div>"
      ],
      "text/plain": [
       "       Recording timestamp  Computer timestamp       Sensor Project name  \\\n",
       "29215            302515934           907598210  Eye Tracker     Project1   \n",
       "29216            302525925           907608201  Eye Tracker     Project1   \n",
       "29217            302535915           907618191  Eye Tracker     Project1   \n",
       "29218            302545904           907628180  Eye Tracker     Project1   \n",
       "29219            302555901           907638177  Eye Tracker     Project1   \n",
       "\n",
       "      Export date Participant name Recording name Recording date  \\\n",
       "29215  17-05-2024            ISMIT   Recording026     15-05-2024   \n",
       "29216  17-05-2024            ISMIT   Recording026     15-05-2024   \n",
       "29217  17-05-2024            ISMIT   Recording026     15-05-2024   \n",
       "29218  17-05-2024            ISMIT   Recording026     15-05-2024   \n",
       "29219  17-05-2024            ISMIT   Recording026     15-05-2024   \n",
       "\n",
       "      Recording date UTC Recording start time  ... Recording media name  \\\n",
       "29215         15-05-2024         14:39:42.980  ...       fullstream.mp4   \n",
       "29216         15-05-2024         14:39:42.980  ...       fullstream.mp4   \n",
       "29217         15-05-2024         14:39:42.980  ...       fullstream.mp4   \n",
       "29218         15-05-2024         14:39:42.980  ...       fullstream.mp4   \n",
       "29219         15-05-2024         14:39:42.980  ...       fullstream.mp4   \n",
       "\n",
       "       Recording media width Recording media height  Eye movement type  \\\n",
       "29215                 1920.0                 1080.0       Unclassified   \n",
       "29216                 1920.0                 1080.0            Saccade   \n",
       "29217                 1920.0                 1080.0            Saccade   \n",
       "29218                 1920.0                 1080.0       EyesNotFound   \n",
       "29219                 1920.0                 1080.0       Unclassified   \n",
       "\n",
       "       Gaze event duration  Eye movement type index  Fixation point X  \\\n",
       "29215                   10                      280               NaN   \n",
       "29216                   20                      378               NaN   \n",
       "29217                   20                      378               NaN   \n",
       "29218                   10                      380               NaN   \n",
       "29219                   10                      281               NaN   \n",
       "\n",
       "       Fixation point Y  Ungrouped  Disease  \n",
       "29215               NaN        NaN        0  \n",
       "29216               NaN        NaN        0  \n",
       "29217               NaN        NaN        0  \n",
       "29218               NaN        NaN        0  \n",
       "29219               NaN        NaN        0  \n",
       "\n",
       "[5 rows x 46 columns]"
      ]
     },
     "execution_count": 6,
     "metadata": {},
     "output_type": "execute_result"
    }
   ],
   "source": [
    "data.tail()"
   ]
  },
  {
   "cell_type": "code",
   "execution_count": 7,
   "id": "d34a4a50",
   "metadata": {},
   "outputs": [
    {
     "data": {
      "text/plain": [
       "Index(['Recording timestamp', 'Computer timestamp', 'Sensor', 'Project name',\n",
       "       'Export date', 'Participant name', 'Recording name', 'Recording date',\n",
       "       'Recording date UTC', 'Recording start time',\n",
       "       'Recording start time UTC', 'Recording duration',\n",
       "       'Recording Fixation filter name', 'Event', 'Event value',\n",
       "       'Gaze point X', 'Gaze point Y', 'Gaze point 3D X', 'Gaze point 3D Y',\n",
       "       'Gaze point 3D Z', 'Gaze direction left X', 'Gaze direction left Y',\n",
       "       'Gaze direction left Z', 'Gaze direction right X',\n",
       "       'Gaze direction right Y', 'Gaze direction right Z',\n",
       "       'Pupil position left X', 'Pupil position left Y',\n",
       "       'Pupil position left Z', 'Pupil position right X',\n",
       "       'Pupil position right Y', 'Pupil position right Z',\n",
       "       'Pupil diameter left', 'Pupil diameter right', 'Validity left',\n",
       "       'Validity right', 'Recording media name', 'Recording media width',\n",
       "       'Recording media height', 'Eye movement type', 'Gaze event duration',\n",
       "       'Eye movement type index', 'Fixation point X', 'Fixation point Y',\n",
       "       'Ungrouped', 'Disease'],\n",
       "      dtype='object')"
      ]
     },
     "execution_count": 7,
     "metadata": {},
     "output_type": "execute_result"
    }
   ],
   "source": [
    "data.columns"
   ]
  },
  {
   "cell_type": "code",
   "execution_count": 8,
   "id": "a803bdaa",
   "metadata": {},
   "outputs": [
    {
     "name": "stdout",
     "output_type": "stream",
     "text": [
      "<class 'pandas.core.frame.DataFrame'>\n",
      "Index: 57637 entries, 0 to 29219\n",
      "Data columns (total 46 columns):\n",
      " #   Column                          Non-Null Count  Dtype  \n",
      "---  ------                          --------------  -----  \n",
      " 0   Recording timestamp             57637 non-null  int64  \n",
      " 1   Computer timestamp              57637 non-null  int64  \n",
      " 2   Sensor                          57637 non-null  object \n",
      " 3   Project name                    57637 non-null  object \n",
      " 4   Export date                     57637 non-null  object \n",
      " 5   Participant name                57637 non-null  object \n",
      " 6   Recording name                  57637 non-null  object \n",
      " 7   Recording date                  57637 non-null  object \n",
      " 8   Recording date UTC              57637 non-null  object \n",
      " 9   Recording start time            57637 non-null  object \n",
      " 10  Recording start time UTC        57637 non-null  object \n",
      " 11  Recording duration              57637 non-null  int64  \n",
      " 12  Recording Fixation filter name  57637 non-null  object \n",
      " 13  Event                           0 non-null      float64\n",
      " 14  Event value                     0 non-null      float64\n",
      " 15  Gaze point X                    57637 non-null  int64  \n",
      " 16  Gaze point Y                    57637 non-null  int64  \n",
      " 17  Gaze point 3D X                 57637 non-null  float64\n",
      " 18  Gaze point 3D Y                 57637 non-null  float64\n",
      " 19  Gaze point 3D Z                 57637 non-null  float64\n",
      " 20  Gaze direction left X           57637 non-null  float64\n",
      " 21  Gaze direction left Y           57637 non-null  float64\n",
      " 22  Gaze direction left Z           57637 non-null  float64\n",
      " 23  Gaze direction right X          57637 non-null  float64\n",
      " 24  Gaze direction right Y          57637 non-null  float64\n",
      " 25  Gaze direction right Z          57637 non-null  float64\n",
      " 26  Pupil position left X           57637 non-null  float64\n",
      " 27  Pupil position left Y           57637 non-null  float64\n",
      " 28  Pupil position left Z           57637 non-null  float64\n",
      " 29  Pupil position right X          57637 non-null  float64\n",
      " 30  Pupil position right Y          57637 non-null  float64\n",
      " 31  Pupil position right Z          57637 non-null  float64\n",
      " 32  Pupil diameter left             57637 non-null  float64\n",
      " 33  Pupil diameter right            57637 non-null  float64\n",
      " 34  Validity left                   57637 non-null  object \n",
      " 35  Validity right                  57637 non-null  object \n",
      " 36  Recording media name            57515 non-null  object \n",
      " 37  Recording media width           57515 non-null  float64\n",
      " 38  Recording media height          57515 non-null  float64\n",
      " 39  Eye movement type               57637 non-null  object \n",
      " 40  Gaze event duration             57637 non-null  int64  \n",
      " 41  Eye movement type index         57637 non-null  int64  \n",
      " 42  Fixation point X                45632 non-null  float64\n",
      " 43  Fixation point Y                45632 non-null  float64\n",
      " 44  Ungrouped                       0 non-null      float64\n",
      " 45  Disease                         57637 non-null  int64  \n",
      "dtypes: float64(24), int64(8), object(14)\n",
      "memory usage: 20.7+ MB\n"
     ]
    }
   ],
   "source": [
    "data.info()"
   ]
  },
  {
   "cell_type": "code",
   "execution_count": 9,
   "id": "35332600",
   "metadata": {},
   "outputs": [],
   "source": [
    "df = data.iloc[:,15:].drop(['Recording media name', 'Recording media width','Recording media height','Ungrouped','Validity left',\n",
    "       'Validity right',],axis=1)"
   ]
  },
  {
   "cell_type": "code",
   "execution_count": 10,
   "id": "425d6efa",
   "metadata": {},
   "outputs": [
    {
     "data": {
      "text/html": [
       "<div>\n",
       "<style scoped>\n",
       "    .dataframe tbody tr th:only-of-type {\n",
       "        vertical-align: middle;\n",
       "    }\n",
       "\n",
       "    .dataframe tbody tr th {\n",
       "        vertical-align: top;\n",
       "    }\n",
       "\n",
       "    .dataframe thead th {\n",
       "        text-align: right;\n",
       "    }\n",
       "</style>\n",
       "<table border=\"1\" class=\"dataframe\">\n",
       "  <thead>\n",
       "    <tr style=\"text-align: right;\">\n",
       "      <th></th>\n",
       "      <th>Gaze point X</th>\n",
       "      <th>Gaze point Y</th>\n",
       "      <th>Gaze point 3D X</th>\n",
       "      <th>Gaze point 3D Y</th>\n",
       "      <th>Gaze point 3D Z</th>\n",
       "      <th>Gaze direction left X</th>\n",
       "      <th>Gaze direction left Y</th>\n",
       "      <th>Gaze direction left Z</th>\n",
       "      <th>Gaze direction right X</th>\n",
       "      <th>Gaze direction right Y</th>\n",
       "      <th>...</th>\n",
       "      <th>Pupil position right Y</th>\n",
       "      <th>Pupil position right Z</th>\n",
       "      <th>Pupil diameter left</th>\n",
       "      <th>Pupil diameter right</th>\n",
       "      <th>Eye movement type</th>\n",
       "      <th>Gaze event duration</th>\n",
       "      <th>Eye movement type index</th>\n",
       "      <th>Fixation point X</th>\n",
       "      <th>Fixation point Y</th>\n",
       "      <th>Disease</th>\n",
       "    </tr>\n",
       "  </thead>\n",
       "  <tbody>\n",
       "    <tr>\n",
       "      <th>0</th>\n",
       "      <td>1102</td>\n",
       "      <td>411</td>\n",
       "      <td>-56.1282</td>\n",
       "      <td>37.5855</td>\n",
       "      <td>397.4568</td>\n",
       "      <td>-0.20564</td>\n",
       "      <td>0.12618</td>\n",
       "      <td>0.97046</td>\n",
       "      <td>-0.05332</td>\n",
       "      <td>0.15461</td>\n",
       "      <td>...</td>\n",
       "      <td>-22.03</td>\n",
       "      <td>-23.66</td>\n",
       "      <td>2.847</td>\n",
       "      <td>2.769</td>\n",
       "      <td>Unclassified</td>\n",
       "      <td>15</td>\n",
       "      <td>1</td>\n",
       "      <td>NaN</td>\n",
       "      <td>NaN</td>\n",
       "      <td>1</td>\n",
       "    </tr>\n",
       "    <tr>\n",
       "      <th>1</th>\n",
       "      <td>1102</td>\n",
       "      <td>411</td>\n",
       "      <td>-56.3145</td>\n",
       "      <td>37.5752</td>\n",
       "      <td>399.3653</td>\n",
       "      <td>-0.18079</td>\n",
       "      <td>0.10164</td>\n",
       "      <td>0.97826</td>\n",
       "      <td>-0.07822</td>\n",
       "      <td>0.17654</td>\n",
       "      <td>...</td>\n",
       "      <td>-21.86</td>\n",
       "      <td>-24.28</td>\n",
       "      <td>2.937</td>\n",
       "      <td>2.986</td>\n",
       "      <td>Unclassified</td>\n",
       "      <td>15</td>\n",
       "      <td>1</td>\n",
       "      <td>NaN</td>\n",
       "      <td>NaN</td>\n",
       "      <td>1</td>\n",
       "    </tr>\n",
       "    <tr>\n",
       "      <th>2</th>\n",
       "      <td>1119</td>\n",
       "      <td>401</td>\n",
       "      <td>-64.1452</td>\n",
       "      <td>42.5177</td>\n",
       "      <td>412.0795</td>\n",
       "      <td>-0.21512</td>\n",
       "      <td>0.13051</td>\n",
       "      <td>0.96783</td>\n",
       "      <td>-0.07076</td>\n",
       "      <td>0.16272</td>\n",
       "      <td>...</td>\n",
       "      <td>-22.09</td>\n",
       "      <td>-23.58</td>\n",
       "      <td>2.854</td>\n",
       "      <td>2.770</td>\n",
       "      <td>Saccade</td>\n",
       "      <td>10</td>\n",
       "      <td>1</td>\n",
       "      <td>NaN</td>\n",
       "      <td>NaN</td>\n",
       "      <td>1</td>\n",
       "    </tr>\n",
       "    <tr>\n",
       "      <th>3</th>\n",
       "      <td>1142</td>\n",
       "      <td>397</td>\n",
       "      <td>-71.9513</td>\n",
       "      <td>43.4501</td>\n",
       "      <td>408.7234</td>\n",
       "      <td>-0.21512</td>\n",
       "      <td>0.13051</td>\n",
       "      <td>0.96783</td>\n",
       "      <td>-0.08511</td>\n",
       "      <td>0.14843</td>\n",
       "      <td>...</td>\n",
       "      <td>-21.95</td>\n",
       "      <td>-24.17</td>\n",
       "      <td>2.854</td>\n",
       "      <td>2.917</td>\n",
       "      <td>Unclassified</td>\n",
       "      <td>40</td>\n",
       "      <td>2</td>\n",
       "      <td>NaN</td>\n",
       "      <td>NaN</td>\n",
       "      <td>1</td>\n",
       "    </tr>\n",
       "    <tr>\n",
       "      <th>4</th>\n",
       "      <td>1146</td>\n",
       "      <td>388</td>\n",
       "      <td>-75.0490</td>\n",
       "      <td>47.8626</td>\n",
       "      <td>418.9648</td>\n",
       "      <td>-0.23384</td>\n",
       "      <td>0.13901</td>\n",
       "      <td>0.96228</td>\n",
       "      <td>-0.09428</td>\n",
       "      <td>0.17266</td>\n",
       "      <td>...</td>\n",
       "      <td>-22.13</td>\n",
       "      <td>-23.54</td>\n",
       "      <td>2.825</td>\n",
       "      <td>2.745</td>\n",
       "      <td>Unclassified</td>\n",
       "      <td>40</td>\n",
       "      <td>2</td>\n",
       "      <td>NaN</td>\n",
       "      <td>NaN</td>\n",
       "      <td>1</td>\n",
       "    </tr>\n",
       "  </tbody>\n",
       "</table>\n",
       "<p>5 rows × 25 columns</p>\n",
       "</div>"
      ],
      "text/plain": [
       "   Gaze point X  Gaze point Y  Gaze point 3D X  Gaze point 3D Y  \\\n",
       "0          1102           411         -56.1282          37.5855   \n",
       "1          1102           411         -56.3145          37.5752   \n",
       "2          1119           401         -64.1452          42.5177   \n",
       "3          1142           397         -71.9513          43.4501   \n",
       "4          1146           388         -75.0490          47.8626   \n",
       "\n",
       "   Gaze point 3D Z  Gaze direction left X  Gaze direction left Y  \\\n",
       "0         397.4568               -0.20564                0.12618   \n",
       "1         399.3653               -0.18079                0.10164   \n",
       "2         412.0795               -0.21512                0.13051   \n",
       "3         408.7234               -0.21512                0.13051   \n",
       "4         418.9648               -0.23384                0.13901   \n",
       "\n",
       "   Gaze direction left Z  Gaze direction right X  Gaze direction right Y  ...  \\\n",
       "0                0.97046                -0.05332                 0.15461  ...   \n",
       "1                0.97826                -0.07822                 0.17654  ...   \n",
       "2                0.96783                -0.07076                 0.16272  ...   \n",
       "3                0.96783                -0.08511                 0.14843  ...   \n",
       "4                0.96228                -0.09428                 0.17266  ...   \n",
       "\n",
       "   Pupil position right Y  Pupil position right Z  Pupil diameter left  \\\n",
       "0                  -22.03                  -23.66                2.847   \n",
       "1                  -21.86                  -24.28                2.937   \n",
       "2                  -22.09                  -23.58                2.854   \n",
       "3                  -21.95                  -24.17                2.854   \n",
       "4                  -22.13                  -23.54                2.825   \n",
       "\n",
       "   Pupil diameter right  Eye movement type  Gaze event duration  \\\n",
       "0                 2.769       Unclassified                   15   \n",
       "1                 2.986       Unclassified                   15   \n",
       "2                 2.770            Saccade                   10   \n",
       "3                 2.917       Unclassified                   40   \n",
       "4                 2.745       Unclassified                   40   \n",
       "\n",
       "   Eye movement type index  Fixation point X  Fixation point Y Disease  \n",
       "0                        1               NaN               NaN       1  \n",
       "1                        1               NaN               NaN       1  \n",
       "2                        1               NaN               NaN       1  \n",
       "3                        2               NaN               NaN       1  \n",
       "4                        2               NaN               NaN       1  \n",
       "\n",
       "[5 rows x 25 columns]"
      ]
     },
     "execution_count": 10,
     "metadata": {},
     "output_type": "execute_result"
    }
   ],
   "source": [
    "df.head()"
   ]
  },
  {
   "cell_type": "code",
   "execution_count": 11,
   "id": "be6b1ee0",
   "metadata": {},
   "outputs": [
    {
     "data": {
      "text/html": [
       "<div>\n",
       "<style scoped>\n",
       "    .dataframe tbody tr th:only-of-type {\n",
       "        vertical-align: middle;\n",
       "    }\n",
       "\n",
       "    .dataframe tbody tr th {\n",
       "        vertical-align: top;\n",
       "    }\n",
       "\n",
       "    .dataframe thead th {\n",
       "        text-align: right;\n",
       "    }\n",
       "</style>\n",
       "<table border=\"1\" class=\"dataframe\">\n",
       "  <thead>\n",
       "    <tr style=\"text-align: right;\">\n",
       "      <th></th>\n",
       "      <th>Gaze point X</th>\n",
       "      <th>Gaze point Y</th>\n",
       "      <th>Gaze point 3D X</th>\n",
       "      <th>Gaze point 3D Y</th>\n",
       "      <th>Gaze point 3D Z</th>\n",
       "      <th>Gaze direction left X</th>\n",
       "      <th>Gaze direction left Y</th>\n",
       "      <th>Gaze direction left Z</th>\n",
       "      <th>Gaze direction right X</th>\n",
       "      <th>Gaze direction right Y</th>\n",
       "      <th>...</th>\n",
       "      <th>Pupil position right Y</th>\n",
       "      <th>Pupil position right Z</th>\n",
       "      <th>Pupil diameter left</th>\n",
       "      <th>Pupil diameter right</th>\n",
       "      <th>Eye movement type</th>\n",
       "      <th>Gaze event duration</th>\n",
       "      <th>Eye movement type index</th>\n",
       "      <th>Fixation point X</th>\n",
       "      <th>Fixation point Y</th>\n",
       "      <th>Disease</th>\n",
       "    </tr>\n",
       "  </thead>\n",
       "  <tbody>\n",
       "    <tr>\n",
       "      <th>0</th>\n",
       "      <td>1102</td>\n",
       "      <td>411</td>\n",
       "      <td>-56.1282</td>\n",
       "      <td>37.5855</td>\n",
       "      <td>397.4568</td>\n",
       "      <td>-0.20564</td>\n",
       "      <td>0.12618</td>\n",
       "      <td>0.97046</td>\n",
       "      <td>-0.05332</td>\n",
       "      <td>0.15461</td>\n",
       "      <td>...</td>\n",
       "      <td>-22.03</td>\n",
       "      <td>-23.66</td>\n",
       "      <td>2.847</td>\n",
       "      <td>2.769</td>\n",
       "      <td>Unclassified</td>\n",
       "      <td>15</td>\n",
       "      <td>1</td>\n",
       "      <td>NaN</td>\n",
       "      <td>NaN</td>\n",
       "      <td>1</td>\n",
       "    </tr>\n",
       "    <tr>\n",
       "      <th>1</th>\n",
       "      <td>1102</td>\n",
       "      <td>411</td>\n",
       "      <td>-56.3145</td>\n",
       "      <td>37.5752</td>\n",
       "      <td>399.3653</td>\n",
       "      <td>-0.18079</td>\n",
       "      <td>0.10164</td>\n",
       "      <td>0.97826</td>\n",
       "      <td>-0.07822</td>\n",
       "      <td>0.17654</td>\n",
       "      <td>...</td>\n",
       "      <td>-21.86</td>\n",
       "      <td>-24.28</td>\n",
       "      <td>2.937</td>\n",
       "      <td>2.986</td>\n",
       "      <td>Unclassified</td>\n",
       "      <td>15</td>\n",
       "      <td>1</td>\n",
       "      <td>NaN</td>\n",
       "      <td>NaN</td>\n",
       "      <td>1</td>\n",
       "    </tr>\n",
       "    <tr>\n",
       "      <th>2</th>\n",
       "      <td>1119</td>\n",
       "      <td>401</td>\n",
       "      <td>-64.1452</td>\n",
       "      <td>42.5177</td>\n",
       "      <td>412.0795</td>\n",
       "      <td>-0.21512</td>\n",
       "      <td>0.13051</td>\n",
       "      <td>0.96783</td>\n",
       "      <td>-0.07076</td>\n",
       "      <td>0.16272</td>\n",
       "      <td>...</td>\n",
       "      <td>-22.09</td>\n",
       "      <td>-23.58</td>\n",
       "      <td>2.854</td>\n",
       "      <td>2.770</td>\n",
       "      <td>Saccade</td>\n",
       "      <td>10</td>\n",
       "      <td>1</td>\n",
       "      <td>NaN</td>\n",
       "      <td>NaN</td>\n",
       "      <td>1</td>\n",
       "    </tr>\n",
       "    <tr>\n",
       "      <th>3</th>\n",
       "      <td>1142</td>\n",
       "      <td>397</td>\n",
       "      <td>-71.9513</td>\n",
       "      <td>43.4501</td>\n",
       "      <td>408.7234</td>\n",
       "      <td>-0.21512</td>\n",
       "      <td>0.13051</td>\n",
       "      <td>0.96783</td>\n",
       "      <td>-0.08511</td>\n",
       "      <td>0.14843</td>\n",
       "      <td>...</td>\n",
       "      <td>-21.95</td>\n",
       "      <td>-24.17</td>\n",
       "      <td>2.854</td>\n",
       "      <td>2.917</td>\n",
       "      <td>Unclassified</td>\n",
       "      <td>40</td>\n",
       "      <td>2</td>\n",
       "      <td>NaN</td>\n",
       "      <td>NaN</td>\n",
       "      <td>1</td>\n",
       "    </tr>\n",
       "    <tr>\n",
       "      <th>4</th>\n",
       "      <td>1146</td>\n",
       "      <td>388</td>\n",
       "      <td>-75.0490</td>\n",
       "      <td>47.8626</td>\n",
       "      <td>418.9648</td>\n",
       "      <td>-0.23384</td>\n",
       "      <td>0.13901</td>\n",
       "      <td>0.96228</td>\n",
       "      <td>-0.09428</td>\n",
       "      <td>0.17266</td>\n",
       "      <td>...</td>\n",
       "      <td>-22.13</td>\n",
       "      <td>-23.54</td>\n",
       "      <td>2.825</td>\n",
       "      <td>2.745</td>\n",
       "      <td>Unclassified</td>\n",
       "      <td>40</td>\n",
       "      <td>2</td>\n",
       "      <td>NaN</td>\n",
       "      <td>NaN</td>\n",
       "      <td>1</td>\n",
       "    </tr>\n",
       "  </tbody>\n",
       "</table>\n",
       "<p>5 rows × 25 columns</p>\n",
       "</div>"
      ],
      "text/plain": [
       "   Gaze point X  Gaze point Y  Gaze point 3D X  Gaze point 3D Y  \\\n",
       "0          1102           411         -56.1282          37.5855   \n",
       "1          1102           411         -56.3145          37.5752   \n",
       "2          1119           401         -64.1452          42.5177   \n",
       "3          1142           397         -71.9513          43.4501   \n",
       "4          1146           388         -75.0490          47.8626   \n",
       "\n",
       "   Gaze point 3D Z  Gaze direction left X  Gaze direction left Y  \\\n",
       "0         397.4568               -0.20564                0.12618   \n",
       "1         399.3653               -0.18079                0.10164   \n",
       "2         412.0795               -0.21512                0.13051   \n",
       "3         408.7234               -0.21512                0.13051   \n",
       "4         418.9648               -0.23384                0.13901   \n",
       "\n",
       "   Gaze direction left Z  Gaze direction right X  Gaze direction right Y  ...  \\\n",
       "0                0.97046                -0.05332                 0.15461  ...   \n",
       "1                0.97826                -0.07822                 0.17654  ...   \n",
       "2                0.96783                -0.07076                 0.16272  ...   \n",
       "3                0.96783                -0.08511                 0.14843  ...   \n",
       "4                0.96228                -0.09428                 0.17266  ...   \n",
       "\n",
       "   Pupil position right Y  Pupil position right Z  Pupil diameter left  \\\n",
       "0                  -22.03                  -23.66                2.847   \n",
       "1                  -21.86                  -24.28                2.937   \n",
       "2                  -22.09                  -23.58                2.854   \n",
       "3                  -21.95                  -24.17                2.854   \n",
       "4                  -22.13                  -23.54                2.825   \n",
       "\n",
       "   Pupil diameter right  Eye movement type  Gaze event duration  \\\n",
       "0                 2.769       Unclassified                   15   \n",
       "1                 2.986       Unclassified                   15   \n",
       "2                 2.770            Saccade                   10   \n",
       "3                 2.917       Unclassified                   40   \n",
       "4                 2.745       Unclassified                   40   \n",
       "\n",
       "   Eye movement type index  Fixation point X  Fixation point Y Disease  \n",
       "0                        1               NaN               NaN       1  \n",
       "1                        1               NaN               NaN       1  \n",
       "2                        1               NaN               NaN       1  \n",
       "3                        2               NaN               NaN       1  \n",
       "4                        2               NaN               NaN       1  \n",
       "\n",
       "[5 rows x 25 columns]"
      ]
     },
     "execution_count": 11,
     "metadata": {},
     "output_type": "execute_result"
    }
   ],
   "source": [
    "df.head()"
   ]
  },
  {
   "cell_type": "code",
   "execution_count": 12,
   "id": "edaffd0f",
   "metadata": {},
   "outputs": [
    {
     "data": {
      "text/html": [
       "<div>\n",
       "<style scoped>\n",
       "    .dataframe tbody tr th:only-of-type {\n",
       "        vertical-align: middle;\n",
       "    }\n",
       "\n",
       "    .dataframe tbody tr th {\n",
       "        vertical-align: top;\n",
       "    }\n",
       "\n",
       "    .dataframe thead th {\n",
       "        text-align: right;\n",
       "    }\n",
       "</style>\n",
       "<table border=\"1\" class=\"dataframe\">\n",
       "  <thead>\n",
       "    <tr style=\"text-align: right;\">\n",
       "      <th></th>\n",
       "      <th>Gaze point X</th>\n",
       "      <th>Gaze point Y</th>\n",
       "      <th>Gaze point 3D X</th>\n",
       "      <th>Gaze point 3D Y</th>\n",
       "      <th>Gaze point 3D Z</th>\n",
       "      <th>Gaze direction left X</th>\n",
       "      <th>Gaze direction left Y</th>\n",
       "      <th>Gaze direction left Z</th>\n",
       "      <th>Gaze direction right X</th>\n",
       "      <th>Gaze direction right Y</th>\n",
       "      <th>...</th>\n",
       "      <th>Pupil position right Y</th>\n",
       "      <th>Pupil position right Z</th>\n",
       "      <th>Pupil diameter left</th>\n",
       "      <th>Pupil diameter right</th>\n",
       "      <th>Eye movement type</th>\n",
       "      <th>Gaze event duration</th>\n",
       "      <th>Eye movement type index</th>\n",
       "      <th>Fixation point X</th>\n",
       "      <th>Fixation point Y</th>\n",
       "      <th>Disease</th>\n",
       "    </tr>\n",
       "  </thead>\n",
       "  <tbody>\n",
       "    <tr>\n",
       "      <th>29215</th>\n",
       "      <td>651</td>\n",
       "      <td>405</td>\n",
       "      <td>97.1192</td>\n",
       "      <td>38.2845</td>\n",
       "      <td>384.9611</td>\n",
       "      <td>0.20779</td>\n",
       "      <td>0.05633</td>\n",
       "      <td>0.97655</td>\n",
       "      <td>0.22065</td>\n",
       "      <td>0.20844</td>\n",
       "      <td>...</td>\n",
       "      <td>-20.33</td>\n",
       "      <td>-48.12</td>\n",
       "      <td>4.953</td>\n",
       "      <td>4.023</td>\n",
       "      <td>Unclassified</td>\n",
       "      <td>10</td>\n",
       "      <td>280</td>\n",
       "      <td>NaN</td>\n",
       "      <td>NaN</td>\n",
       "      <td>0</td>\n",
       "    </tr>\n",
       "    <tr>\n",
       "      <th>29216</th>\n",
       "      <td>679</td>\n",
       "      <td>394</td>\n",
       "      <td>56.7633</td>\n",
       "      <td>27.1626</td>\n",
       "      <td>248.8611</td>\n",
       "      <td>0.16063</td>\n",
       "      <td>0.12169</td>\n",
       "      <td>0.97948</td>\n",
       "      <td>0.20301</td>\n",
       "      <td>0.19749</td>\n",
       "      <td>...</td>\n",
       "      <td>-21.60</td>\n",
       "      <td>-46.37</td>\n",
       "      <td>4.277</td>\n",
       "      <td>3.752</td>\n",
       "      <td>Saccade</td>\n",
       "      <td>20</td>\n",
       "      <td>378</td>\n",
       "      <td>NaN</td>\n",
       "      <td>NaN</td>\n",
       "      <td>0</td>\n",
       "    </tr>\n",
       "    <tr>\n",
       "      <th>29217</th>\n",
       "      <td>766</td>\n",
       "      <td>334</td>\n",
       "      <td>18.9728</td>\n",
       "      <td>20.1949</td>\n",
       "      <td>125.2335</td>\n",
       "      <td>0.16063</td>\n",
       "      <td>0.12169</td>\n",
       "      <td>0.97948</td>\n",
       "      <td>0.25742</td>\n",
       "      <td>0.22386</td>\n",
       "      <td>...</td>\n",
       "      <td>-20.99</td>\n",
       "      <td>-48.26</td>\n",
       "      <td>4.277</td>\n",
       "      <td>4.035</td>\n",
       "      <td>Saccade</td>\n",
       "      <td>20</td>\n",
       "      <td>378</td>\n",
       "      <td>NaN</td>\n",
       "      <td>NaN</td>\n",
       "      <td>0</td>\n",
       "    </tr>\n",
       "    <tr>\n",
       "      <th>29218</th>\n",
       "      <td>766</td>\n",
       "      <td>334</td>\n",
       "      <td>18.9728</td>\n",
       "      <td>20.1949</td>\n",
       "      <td>125.2335</td>\n",
       "      <td>0.16063</td>\n",
       "      <td>0.12169</td>\n",
       "      <td>0.97948</td>\n",
       "      <td>0.25742</td>\n",
       "      <td>0.22386</td>\n",
       "      <td>...</td>\n",
       "      <td>-20.99</td>\n",
       "      <td>-48.26</td>\n",
       "      <td>4.277</td>\n",
       "      <td>4.035</td>\n",
       "      <td>EyesNotFound</td>\n",
       "      <td>10</td>\n",
       "      <td>380</td>\n",
       "      <td>NaN</td>\n",
       "      <td>NaN</td>\n",
       "      <td>0</td>\n",
       "    </tr>\n",
       "    <tr>\n",
       "      <th>29219</th>\n",
       "      <td>720</td>\n",
       "      <td>240</td>\n",
       "      <td>23.0918</td>\n",
       "      <td>29.2533</td>\n",
       "      <td>120.6020</td>\n",
       "      <td>0.16063</td>\n",
       "      <td>0.12169</td>\n",
       "      <td>0.97948</td>\n",
       "      <td>0.28105</td>\n",
       "      <td>0.27230</td>\n",
       "      <td>...</td>\n",
       "      <td>-20.95</td>\n",
       "      <td>-49.77</td>\n",
       "      <td>4.277</td>\n",
       "      <td>4.231</td>\n",
       "      <td>Unclassified</td>\n",
       "      <td>10</td>\n",
       "      <td>281</td>\n",
       "      <td>NaN</td>\n",
       "      <td>NaN</td>\n",
       "      <td>0</td>\n",
       "    </tr>\n",
       "  </tbody>\n",
       "</table>\n",
       "<p>5 rows × 25 columns</p>\n",
       "</div>"
      ],
      "text/plain": [
       "       Gaze point X  Gaze point Y  Gaze point 3D X  Gaze point 3D Y  \\\n",
       "29215           651           405          97.1192          38.2845   \n",
       "29216           679           394          56.7633          27.1626   \n",
       "29217           766           334          18.9728          20.1949   \n",
       "29218           766           334          18.9728          20.1949   \n",
       "29219           720           240          23.0918          29.2533   \n",
       "\n",
       "       Gaze point 3D Z  Gaze direction left X  Gaze direction left Y  \\\n",
       "29215         384.9611                0.20779                0.05633   \n",
       "29216         248.8611                0.16063                0.12169   \n",
       "29217         125.2335                0.16063                0.12169   \n",
       "29218         125.2335                0.16063                0.12169   \n",
       "29219         120.6020                0.16063                0.12169   \n",
       "\n",
       "       Gaze direction left Z  Gaze direction right X  Gaze direction right Y  \\\n",
       "29215                0.97655                 0.22065                 0.20844   \n",
       "29216                0.97948                 0.20301                 0.19749   \n",
       "29217                0.97948                 0.25742                 0.22386   \n",
       "29218                0.97948                 0.25742                 0.22386   \n",
       "29219                0.97948                 0.28105                 0.27230   \n",
       "\n",
       "       ...  Pupil position right Y  Pupil position right Z  \\\n",
       "29215  ...                  -20.33                  -48.12   \n",
       "29216  ...                  -21.60                  -46.37   \n",
       "29217  ...                  -20.99                  -48.26   \n",
       "29218  ...                  -20.99                  -48.26   \n",
       "29219  ...                  -20.95                  -49.77   \n",
       "\n",
       "       Pupil diameter left  Pupil diameter right  Eye movement type  \\\n",
       "29215                4.953                 4.023       Unclassified   \n",
       "29216                4.277                 3.752            Saccade   \n",
       "29217                4.277                 4.035            Saccade   \n",
       "29218                4.277                 4.035       EyesNotFound   \n",
       "29219                4.277                 4.231       Unclassified   \n",
       "\n",
       "       Gaze event duration  Eye movement type index  Fixation point X  \\\n",
       "29215                   10                      280               NaN   \n",
       "29216                   20                      378               NaN   \n",
       "29217                   20                      378               NaN   \n",
       "29218                   10                      380               NaN   \n",
       "29219                   10                      281               NaN   \n",
       "\n",
       "       Fixation point Y Disease  \n",
       "29215               NaN       0  \n",
       "29216               NaN       0  \n",
       "29217               NaN       0  \n",
       "29218               NaN       0  \n",
       "29219               NaN       0  \n",
       "\n",
       "[5 rows x 25 columns]"
      ]
     },
     "execution_count": 12,
     "metadata": {},
     "output_type": "execute_result"
    }
   ],
   "source": [
    "df.tail()"
   ]
  },
  {
   "cell_type": "code",
   "execution_count": 13,
   "id": "1000c1fc",
   "metadata": {},
   "outputs": [
    {
     "name": "stdout",
     "output_type": "stream",
     "text": [
      "<class 'pandas.core.frame.DataFrame'>\n",
      "Index: 57637 entries, 0 to 29219\n",
      "Data columns (total 25 columns):\n",
      " #   Column                   Non-Null Count  Dtype  \n",
      "---  ------                   --------------  -----  \n",
      " 0   Gaze point X             57637 non-null  int64  \n",
      " 1   Gaze point Y             57637 non-null  int64  \n",
      " 2   Gaze point 3D X          57637 non-null  float64\n",
      " 3   Gaze point 3D Y          57637 non-null  float64\n",
      " 4   Gaze point 3D Z          57637 non-null  float64\n",
      " 5   Gaze direction left X    57637 non-null  float64\n",
      " 6   Gaze direction left Y    57637 non-null  float64\n",
      " 7   Gaze direction left Z    57637 non-null  float64\n",
      " 8   Gaze direction right X   57637 non-null  float64\n",
      " 9   Gaze direction right Y   57637 non-null  float64\n",
      " 10  Gaze direction right Z   57637 non-null  float64\n",
      " 11  Pupil position left X    57637 non-null  float64\n",
      " 12  Pupil position left Y    57637 non-null  float64\n",
      " 13  Pupil position left Z    57637 non-null  float64\n",
      " 14  Pupil position right X   57637 non-null  float64\n",
      " 15  Pupil position right Y   57637 non-null  float64\n",
      " 16  Pupil position right Z   57637 non-null  float64\n",
      " 17  Pupil diameter left      57637 non-null  float64\n",
      " 18  Pupil diameter right     57637 non-null  float64\n",
      " 19  Eye movement type        57637 non-null  object \n",
      " 20  Gaze event duration      57637 non-null  int64  \n",
      " 21  Eye movement type index  57637 non-null  int64  \n",
      " 22  Fixation point X         45632 non-null  float64\n",
      " 23  Fixation point Y         45632 non-null  float64\n",
      " 24  Disease                  57637 non-null  int64  \n",
      "dtypes: float64(19), int64(5), object(1)\n",
      "memory usage: 11.4+ MB\n"
     ]
    }
   ],
   "source": [
    "df.info()"
   ]
  },
  {
   "cell_type": "code",
   "execution_count": 14,
   "id": "676c3a89",
   "metadata": {},
   "outputs": [
    {
     "data": {
      "text/plain": [
       "array(['Unclassified', 'Saccade', 'EyesNotFound', 'Fixation'],\n",
       "      dtype=object)"
      ]
     },
     "execution_count": 14,
     "metadata": {},
     "output_type": "execute_result"
    }
   ],
   "source": [
    "df['Eye movement type'].unique()"
   ]
  },
  {
   "cell_type": "code",
   "execution_count": 15,
   "id": "f087e799",
   "metadata": {},
   "outputs": [],
   "source": [
    "valuesToEncode = {'Fixation':0, 'EyesNotFound':1, 'Saccade':2, 'Unclassified':3}"
   ]
  },
  {
   "cell_type": "code",
   "execution_count": 16,
   "id": "da06dd4f",
   "metadata": {},
   "outputs": [],
   "source": [
    "# df[['Eye movement type']].applymap(valuesToEncode)\n",
    "df.drop(['Eye movement type','Gaze event duration','Eye movement type index'],axis=1,inplace=True)"
   ]
  },
  {
   "cell_type": "code",
   "execution_count": 17,
   "id": "351faec1",
   "metadata": {},
   "outputs": [
    {
     "name": "stdout",
     "output_type": "stream",
     "text": [
      "<class 'pandas.core.frame.DataFrame'>\n",
      "Index: 57637 entries, 0 to 29219\n",
      "Data columns (total 22 columns):\n",
      " #   Column                  Non-Null Count  Dtype  \n",
      "---  ------                  --------------  -----  \n",
      " 0   Gaze point X            57637 non-null  int64  \n",
      " 1   Gaze point Y            57637 non-null  int64  \n",
      " 2   Gaze point 3D X         57637 non-null  float64\n",
      " 3   Gaze point 3D Y         57637 non-null  float64\n",
      " 4   Gaze point 3D Z         57637 non-null  float64\n",
      " 5   Gaze direction left X   57637 non-null  float64\n",
      " 6   Gaze direction left Y   57637 non-null  float64\n",
      " 7   Gaze direction left Z   57637 non-null  float64\n",
      " 8   Gaze direction right X  57637 non-null  float64\n",
      " 9   Gaze direction right Y  57637 non-null  float64\n",
      " 10  Gaze direction right Z  57637 non-null  float64\n",
      " 11  Pupil position left X   57637 non-null  float64\n",
      " 12  Pupil position left Y   57637 non-null  float64\n",
      " 13  Pupil position left Z   57637 non-null  float64\n",
      " 14  Pupil position right X  57637 non-null  float64\n",
      " 15  Pupil position right Y  57637 non-null  float64\n",
      " 16  Pupil position right Z  57637 non-null  float64\n",
      " 17  Pupil diameter left     57637 non-null  float64\n",
      " 18  Pupil diameter right    57637 non-null  float64\n",
      " 19  Fixation point X        45632 non-null  float64\n",
      " 20  Fixation point Y        45632 non-null  float64\n",
      " 21  Disease                 57637 non-null  int64  \n",
      "dtypes: float64(19), int64(3)\n",
      "memory usage: 10.1 MB\n"
     ]
    }
   ],
   "source": [
    "df.info()"
   ]
  },
  {
   "cell_type": "code",
   "execution_count": 18,
   "id": "41129363",
   "metadata": {},
   "outputs": [
    {
     "data": {
      "text/plain": [
       "0      1102\n",
       "1      1102\n",
       "2      1119\n",
       "3      1142\n",
       "4      1146\n",
       "       ... \n",
       "995    1006\n",
       "996    1005\n",
       "997    1005\n",
       "998    1003\n",
       "999    1000\n",
       "Name: Gaze point X, Length: 1000, dtype: int64"
      ]
     },
     "execution_count": 18,
     "metadata": {},
     "output_type": "execute_result"
    }
   ],
   "source": [
    "df['Gaze point X'].iloc[:1000]"
   ]
  },
  {
   "cell_type": "code",
   "execution_count": 19,
   "id": "4e814bff",
   "metadata": {},
   "outputs": [],
   "source": [
    "df['Fixation point X'].fillna(df['Fixation point X'].mean(),inplace=True)\n",
    "df['Fixation point Y'].fillna(df['Fixation point Y'].mean(),inplace=True)"
   ]
  },
  {
   "cell_type": "code",
   "execution_count": 20,
   "id": "950c0281",
   "metadata": {},
   "outputs": [
    {
     "data": {
      "text/plain": [
       "Gaze point X              0\n",
       "Gaze point Y              0\n",
       "Gaze point 3D X           0\n",
       "Gaze point 3D Y           0\n",
       "Gaze point 3D Z           0\n",
       "Gaze direction left X     0\n",
       "Gaze direction left Y     0\n",
       "Gaze direction left Z     0\n",
       "Gaze direction right X    0\n",
       "Gaze direction right Y    0\n",
       "Gaze direction right Z    0\n",
       "Pupil position left X     0\n",
       "Pupil position left Y     0\n",
       "Pupil position left Z     0\n",
       "Pupil position right X    0\n",
       "Pupil position right Y    0\n",
       "Pupil position right Z    0\n",
       "Pupil diameter left       0\n",
       "Pupil diameter right      0\n",
       "Fixation point X          0\n",
       "Fixation point Y          0\n",
       "Disease                   0\n",
       "dtype: int64"
      ]
     },
     "execution_count": 20,
     "metadata": {},
     "output_type": "execute_result"
    }
   ],
   "source": [
    "df.isnull().sum()"
   ]
  },
  {
   "cell_type": "code",
   "execution_count": 21,
   "id": "2a095dc7",
   "metadata": {},
   "outputs": [],
   "source": [
    "df.drop(['Fixation point X','Fixation point Y'],axis=1,inplace=True)"
   ]
  },
  {
   "cell_type": "code",
   "execution_count": 22,
   "id": "fcdf89e9",
   "metadata": {},
   "outputs": [],
   "source": [
    "df = df.sample(frac=1).reset_index(drop=True)"
   ]
  },
  {
   "cell_type": "code",
   "execution_count": 23,
   "id": "398b5819",
   "metadata": {},
   "outputs": [
    {
     "data": {
      "text/html": [
       "<div>\n",
       "<style scoped>\n",
       "    .dataframe tbody tr th:only-of-type {\n",
       "        vertical-align: middle;\n",
       "    }\n",
       "\n",
       "    .dataframe tbody tr th {\n",
       "        vertical-align: top;\n",
       "    }\n",
       "\n",
       "    .dataframe thead th {\n",
       "        text-align: right;\n",
       "    }\n",
       "</style>\n",
       "<table border=\"1\" class=\"dataframe\">\n",
       "  <thead>\n",
       "    <tr style=\"text-align: right;\">\n",
       "      <th></th>\n",
       "      <th>Gaze point X</th>\n",
       "      <th>Gaze point Y</th>\n",
       "      <th>Gaze point 3D X</th>\n",
       "      <th>Gaze point 3D Y</th>\n",
       "      <th>Gaze point 3D Z</th>\n",
       "      <th>Gaze direction left X</th>\n",
       "      <th>Gaze direction left Y</th>\n",
       "      <th>Gaze direction left Z</th>\n",
       "      <th>Gaze direction right X</th>\n",
       "      <th>Gaze direction right Y</th>\n",
       "      <th>Gaze direction right Z</th>\n",
       "      <th>Pupil position left X</th>\n",
       "      <th>Pupil position left Y</th>\n",
       "      <th>Pupil position left Z</th>\n",
       "      <th>Pupil position right X</th>\n",
       "      <th>Pupil position right Y</th>\n",
       "      <th>Pupil position right Z</th>\n",
       "      <th>Pupil diameter left</th>\n",
       "      <th>Pupil diameter right</th>\n",
       "      <th>Disease</th>\n",
       "    </tr>\n",
       "  </thead>\n",
       "  <tbody>\n",
       "    <tr>\n",
       "      <th>0</th>\n",
       "      <td>1051</td>\n",
       "      <td>302</td>\n",
       "      <td>-49.2616</td>\n",
       "      <td>95.9365</td>\n",
       "      <td>507.7711</td>\n",
       "      <td>-0.15154</td>\n",
       "      <td>0.21442</td>\n",
       "      <td>0.96491</td>\n",
       "      <td>-0.03271</td>\n",
       "      <td>0.19727</td>\n",
       "      <td>0.97980</td>\n",
       "      <td>34.71</td>\n",
       "      <td>-22.88</td>\n",
       "      <td>-26.61</td>\n",
       "      <td>-34.46</td>\n",
       "      <td>-20.39</td>\n",
       "      <td>-24.32</td>\n",
       "      <td>2.785</td>\n",
       "      <td>2.764</td>\n",
       "      <td>1</td>\n",
       "    </tr>\n",
       "    <tr>\n",
       "      <th>1</th>\n",
       "      <td>970</td>\n",
       "      <td>354</td>\n",
       "      <td>-9.7804</td>\n",
       "      <td>53.8741</td>\n",
       "      <td>373.6652</td>\n",
       "      <td>-0.06369</td>\n",
       "      <td>0.17983</td>\n",
       "      <td>0.98163</td>\n",
       "      <td>0.05997</td>\n",
       "      <td>0.18509</td>\n",
       "      <td>0.98089</td>\n",
       "      <td>34.68</td>\n",
       "      <td>-23.17</td>\n",
       "      <td>-26.52</td>\n",
       "      <td>-33.91</td>\n",
       "      <td>-21.46</td>\n",
       "      <td>-24.22</td>\n",
       "      <td>2.580</td>\n",
       "      <td>2.609</td>\n",
       "      <td>1</td>\n",
       "    </tr>\n",
       "    <tr>\n",
       "      <th>2</th>\n",
       "      <td>936</td>\n",
       "      <td>487</td>\n",
       "      <td>2.0698</td>\n",
       "      <td>20.0998</td>\n",
       "      <td>705.3887</td>\n",
       "      <td>-0.01431</td>\n",
       "      <td>0.03084</td>\n",
       "      <td>0.99942</td>\n",
       "      <td>0.02054</td>\n",
       "      <td>0.06784</td>\n",
       "      <td>0.99748</td>\n",
       "      <td>28.82</td>\n",
       "      <td>-17.89</td>\n",
       "      <td>-33.14</td>\n",
       "      <td>-29.28</td>\n",
       "      <td>-14.90</td>\n",
       "      <td>-32.64</td>\n",
       "      <td>2.845</td>\n",
       "      <td>2.969</td>\n",
       "      <td>0</td>\n",
       "    </tr>\n",
       "    <tr>\n",
       "      <th>3</th>\n",
       "      <td>1053</td>\n",
       "      <td>185</td>\n",
       "      <td>-68.4640</td>\n",
       "      <td>202.3753</td>\n",
       "      <td>698.7917</td>\n",
       "      <td>-0.13032</td>\n",
       "      <td>0.30521</td>\n",
       "      <td>0.94333</td>\n",
       "      <td>-0.04903</td>\n",
       "      <td>0.28282</td>\n",
       "      <td>0.95792</td>\n",
       "      <td>34.25</td>\n",
       "      <td>-22.62</td>\n",
       "      <td>-26.44</td>\n",
       "      <td>-34.29</td>\n",
       "      <td>-20.47</td>\n",
       "      <td>-24.12</td>\n",
       "      <td>2.743</td>\n",
       "      <td>2.759</td>\n",
       "      <td>1</td>\n",
       "    </tr>\n",
       "    <tr>\n",
       "      <th>4</th>\n",
       "      <td>989</td>\n",
       "      <td>328</td>\n",
       "      <td>-12.8718</td>\n",
       "      <td>49.9011</td>\n",
       "      <td>298.6428</td>\n",
       "      <td>-0.09101</td>\n",
       "      <td>0.16967</td>\n",
       "      <td>0.98129</td>\n",
       "      <td>0.01012</td>\n",
       "      <td>0.27069</td>\n",
       "      <td>0.96261</td>\n",
       "      <td>34.70</td>\n",
       "      <td>-23.19</td>\n",
       "      <td>-26.84</td>\n",
       "      <td>-33.24</td>\n",
       "      <td>-22.80</td>\n",
       "      <td>-22.73</td>\n",
       "      <td>2.831</td>\n",
       "      <td>2.547</td>\n",
       "      <td>1</td>\n",
       "    </tr>\n",
       "    <tr>\n",
       "      <th>5</th>\n",
       "      <td>1042</td>\n",
       "      <td>308</td>\n",
       "      <td>-45.0013</td>\n",
       "      <td>93.3756</td>\n",
       "      <td>507.7543</td>\n",
       "      <td>-0.14382</td>\n",
       "      <td>0.21046</td>\n",
       "      <td>0.96696</td>\n",
       "      <td>-0.00399</td>\n",
       "      <td>0.23411</td>\n",
       "      <td>0.97220</td>\n",
       "      <td>34.49</td>\n",
       "      <td>-22.96</td>\n",
       "      <td>-26.82</td>\n",
       "      <td>-34.22</td>\n",
       "      <td>-21.53</td>\n",
       "      <td>-23.65</td>\n",
       "      <td>2.842</td>\n",
       "      <td>2.789</td>\n",
       "      <td>1</td>\n",
       "    </tr>\n",
       "    <tr>\n",
       "      <th>6</th>\n",
       "      <td>974</td>\n",
       "      <td>424</td>\n",
       "      <td>-36.8441</td>\n",
       "      <td>101.4332</td>\n",
       "      <td>1220.3584</td>\n",
       "      <td>-0.05141</td>\n",
       "      <td>0.09168</td>\n",
       "      <td>0.99446</td>\n",
       "      <td>-0.00644</td>\n",
       "      <td>0.09798</td>\n",
       "      <td>0.99517</td>\n",
       "      <td>28.52</td>\n",
       "      <td>-19.01</td>\n",
       "      <td>-30.22</td>\n",
       "      <td>-29.44</td>\n",
       "      <td>-16.50</td>\n",
       "      <td>-29.96</td>\n",
       "      <td>3.228</td>\n",
       "      <td>3.122</td>\n",
       "      <td>0</td>\n",
       "    </tr>\n",
       "    <tr>\n",
       "      <th>7</th>\n",
       "      <td>1133</td>\n",
       "      <td>378</td>\n",
       "      <td>-93.7209</td>\n",
       "      <td>68.7162</td>\n",
       "      <td>558.9550</td>\n",
       "      <td>-0.22485</td>\n",
       "      <td>0.15625</td>\n",
       "      <td>0.96178</td>\n",
       "      <td>0.08149</td>\n",
       "      <td>-0.12060</td>\n",
       "      <td>0.98935</td>\n",
       "      <td>34.54</td>\n",
       "      <td>-22.94</td>\n",
       "      <td>-26.93</td>\n",
       "      <td>-35.66</td>\n",
       "      <td>-20.90</td>\n",
       "      <td>-22.16</td>\n",
       "      <td>2.774</td>\n",
       "      <td>2.410</td>\n",
       "      <td>1</td>\n",
       "    </tr>\n",
       "    <tr>\n",
       "      <th>8</th>\n",
       "      <td>1062</td>\n",
       "      <td>386</td>\n",
       "      <td>-154.2553</td>\n",
       "      <td>168.2974</td>\n",
       "      <td>1451.2627</td>\n",
       "      <td>-0.12083</td>\n",
       "      <td>0.12050</td>\n",
       "      <td>0.98533</td>\n",
       "      <td>-0.08310</td>\n",
       "      <td>0.12425</td>\n",
       "      <td>0.98877</td>\n",
       "      <td>28.27</td>\n",
       "      <td>-17.56</td>\n",
       "      <td>-33.26</td>\n",
       "      <td>-29.87</td>\n",
       "      <td>-13.96</td>\n",
       "      <td>-33.19</td>\n",
       "      <td>3.061</td>\n",
       "      <td>3.234</td>\n",
       "      <td>0</td>\n",
       "    </tr>\n",
       "    <tr>\n",
       "      <th>9</th>\n",
       "      <td>986</td>\n",
       "      <td>478</td>\n",
       "      <td>-39.3772</td>\n",
       "      <td>35.0799</td>\n",
       "      <td>983.6415</td>\n",
       "      <td>-0.06027</td>\n",
       "      <td>0.04019</td>\n",
       "      <td>0.99737</td>\n",
       "      <td>-0.01621</td>\n",
       "      <td>0.06278</td>\n",
       "      <td>0.99790</td>\n",
       "      <td>28.55</td>\n",
       "      <td>-18.57</td>\n",
       "      <td>-31.36</td>\n",
       "      <td>-29.45</td>\n",
       "      <td>-16.01</td>\n",
       "      <td>-31.08</td>\n",
       "      <td>2.958</td>\n",
       "      <td>2.929</td>\n",
       "      <td>0</td>\n",
       "    </tr>\n",
       "  </tbody>\n",
       "</table>\n",
       "</div>"
      ],
      "text/plain": [
       "   Gaze point X  Gaze point Y  Gaze point 3D X  Gaze point 3D Y  \\\n",
       "0          1051           302         -49.2616          95.9365   \n",
       "1           970           354          -9.7804          53.8741   \n",
       "2           936           487           2.0698          20.0998   \n",
       "3          1053           185         -68.4640         202.3753   \n",
       "4           989           328         -12.8718          49.9011   \n",
       "5          1042           308         -45.0013          93.3756   \n",
       "6           974           424         -36.8441         101.4332   \n",
       "7          1133           378         -93.7209          68.7162   \n",
       "8          1062           386        -154.2553         168.2974   \n",
       "9           986           478         -39.3772          35.0799   \n",
       "\n",
       "   Gaze point 3D Z  Gaze direction left X  Gaze direction left Y  \\\n",
       "0         507.7711               -0.15154                0.21442   \n",
       "1         373.6652               -0.06369                0.17983   \n",
       "2         705.3887               -0.01431                0.03084   \n",
       "3         698.7917               -0.13032                0.30521   \n",
       "4         298.6428               -0.09101                0.16967   \n",
       "5         507.7543               -0.14382                0.21046   \n",
       "6        1220.3584               -0.05141                0.09168   \n",
       "7         558.9550               -0.22485                0.15625   \n",
       "8        1451.2627               -0.12083                0.12050   \n",
       "9         983.6415               -0.06027                0.04019   \n",
       "\n",
       "   Gaze direction left Z  Gaze direction right X  Gaze direction right Y  \\\n",
       "0                0.96491                -0.03271                 0.19727   \n",
       "1                0.98163                 0.05997                 0.18509   \n",
       "2                0.99942                 0.02054                 0.06784   \n",
       "3                0.94333                -0.04903                 0.28282   \n",
       "4                0.98129                 0.01012                 0.27069   \n",
       "5                0.96696                -0.00399                 0.23411   \n",
       "6                0.99446                -0.00644                 0.09798   \n",
       "7                0.96178                 0.08149                -0.12060   \n",
       "8                0.98533                -0.08310                 0.12425   \n",
       "9                0.99737                -0.01621                 0.06278   \n",
       "\n",
       "   Gaze direction right Z  Pupil position left X  Pupil position left Y  \\\n",
       "0                 0.97980                  34.71                 -22.88   \n",
       "1                 0.98089                  34.68                 -23.17   \n",
       "2                 0.99748                  28.82                 -17.89   \n",
       "3                 0.95792                  34.25                 -22.62   \n",
       "4                 0.96261                  34.70                 -23.19   \n",
       "5                 0.97220                  34.49                 -22.96   \n",
       "6                 0.99517                  28.52                 -19.01   \n",
       "7                 0.98935                  34.54                 -22.94   \n",
       "8                 0.98877                  28.27                 -17.56   \n",
       "9                 0.99790                  28.55                 -18.57   \n",
       "\n",
       "   Pupil position left Z  Pupil position right X  Pupil position right Y  \\\n",
       "0                 -26.61                  -34.46                  -20.39   \n",
       "1                 -26.52                  -33.91                  -21.46   \n",
       "2                 -33.14                  -29.28                  -14.90   \n",
       "3                 -26.44                  -34.29                  -20.47   \n",
       "4                 -26.84                  -33.24                  -22.80   \n",
       "5                 -26.82                  -34.22                  -21.53   \n",
       "6                 -30.22                  -29.44                  -16.50   \n",
       "7                 -26.93                  -35.66                  -20.90   \n",
       "8                 -33.26                  -29.87                  -13.96   \n",
       "9                 -31.36                  -29.45                  -16.01   \n",
       "\n",
       "   Pupil position right Z  Pupil diameter left  Pupil diameter right  Disease  \n",
       "0                  -24.32                2.785                 2.764        1  \n",
       "1                  -24.22                2.580                 2.609        1  \n",
       "2                  -32.64                2.845                 2.969        0  \n",
       "3                  -24.12                2.743                 2.759        1  \n",
       "4                  -22.73                2.831                 2.547        1  \n",
       "5                  -23.65                2.842                 2.789        1  \n",
       "6                  -29.96                3.228                 3.122        0  \n",
       "7                  -22.16                2.774                 2.410        1  \n",
       "8                  -33.19                3.061                 3.234        0  \n",
       "9                  -31.08                2.958                 2.929        0  "
      ]
     },
     "execution_count": 23,
     "metadata": {},
     "output_type": "execute_result"
    }
   ],
   "source": [
    "df.head(10)"
   ]
  },
  {
   "cell_type": "code",
   "execution_count": 24,
   "id": "10d0c882",
   "metadata": {},
   "outputs": [],
   "source": [
    "X = df.iloc[:,:-1]\n",
    "y = df['Disease']"
   ]
  },
  {
   "cell_type": "code",
   "execution_count": 25,
   "id": "fe0459c9",
   "metadata": {},
   "outputs": [
    {
     "data": {
      "text/html": [
       "<div>\n",
       "<style scoped>\n",
       "    .dataframe tbody tr th:only-of-type {\n",
       "        vertical-align: middle;\n",
       "    }\n",
       "\n",
       "    .dataframe tbody tr th {\n",
       "        vertical-align: top;\n",
       "    }\n",
       "\n",
       "    .dataframe thead th {\n",
       "        text-align: right;\n",
       "    }\n",
       "</style>\n",
       "<table border=\"1\" class=\"dataframe\">\n",
       "  <thead>\n",
       "    <tr style=\"text-align: right;\">\n",
       "      <th></th>\n",
       "      <th>Gaze point X</th>\n",
       "      <th>Gaze point Y</th>\n",
       "      <th>Gaze point 3D X</th>\n",
       "      <th>Gaze point 3D Y</th>\n",
       "      <th>Gaze point 3D Z</th>\n",
       "      <th>Gaze direction left X</th>\n",
       "      <th>Gaze direction left Y</th>\n",
       "      <th>Gaze direction left Z</th>\n",
       "      <th>Gaze direction right X</th>\n",
       "      <th>Gaze direction right Y</th>\n",
       "      <th>Gaze direction right Z</th>\n",
       "      <th>Pupil position left X</th>\n",
       "      <th>Pupil position left Y</th>\n",
       "      <th>Pupil position left Z</th>\n",
       "      <th>Pupil position right X</th>\n",
       "      <th>Pupil position right Y</th>\n",
       "      <th>Pupil position right Z</th>\n",
       "      <th>Pupil diameter left</th>\n",
       "      <th>Pupil diameter right</th>\n",
       "    </tr>\n",
       "  </thead>\n",
       "  <tbody>\n",
       "    <tr>\n",
       "      <th>0</th>\n",
       "      <td>1051</td>\n",
       "      <td>302</td>\n",
       "      <td>-49.2616</td>\n",
       "      <td>95.9365</td>\n",
       "      <td>507.7711</td>\n",
       "      <td>-0.15154</td>\n",
       "      <td>0.21442</td>\n",
       "      <td>0.96491</td>\n",
       "      <td>-0.03271</td>\n",
       "      <td>0.19727</td>\n",
       "      <td>0.97980</td>\n",
       "      <td>34.71</td>\n",
       "      <td>-22.88</td>\n",
       "      <td>-26.61</td>\n",
       "      <td>-34.46</td>\n",
       "      <td>-20.39</td>\n",
       "      <td>-24.32</td>\n",
       "      <td>2.785</td>\n",
       "      <td>2.764</td>\n",
       "    </tr>\n",
       "    <tr>\n",
       "      <th>1</th>\n",
       "      <td>970</td>\n",
       "      <td>354</td>\n",
       "      <td>-9.7804</td>\n",
       "      <td>53.8741</td>\n",
       "      <td>373.6652</td>\n",
       "      <td>-0.06369</td>\n",
       "      <td>0.17983</td>\n",
       "      <td>0.98163</td>\n",
       "      <td>0.05997</td>\n",
       "      <td>0.18509</td>\n",
       "      <td>0.98089</td>\n",
       "      <td>34.68</td>\n",
       "      <td>-23.17</td>\n",
       "      <td>-26.52</td>\n",
       "      <td>-33.91</td>\n",
       "      <td>-21.46</td>\n",
       "      <td>-24.22</td>\n",
       "      <td>2.580</td>\n",
       "      <td>2.609</td>\n",
       "    </tr>\n",
       "    <tr>\n",
       "      <th>2</th>\n",
       "      <td>936</td>\n",
       "      <td>487</td>\n",
       "      <td>2.0698</td>\n",
       "      <td>20.0998</td>\n",
       "      <td>705.3887</td>\n",
       "      <td>-0.01431</td>\n",
       "      <td>0.03084</td>\n",
       "      <td>0.99942</td>\n",
       "      <td>0.02054</td>\n",
       "      <td>0.06784</td>\n",
       "      <td>0.99748</td>\n",
       "      <td>28.82</td>\n",
       "      <td>-17.89</td>\n",
       "      <td>-33.14</td>\n",
       "      <td>-29.28</td>\n",
       "      <td>-14.90</td>\n",
       "      <td>-32.64</td>\n",
       "      <td>2.845</td>\n",
       "      <td>2.969</td>\n",
       "    </tr>\n",
       "    <tr>\n",
       "      <th>3</th>\n",
       "      <td>1053</td>\n",
       "      <td>185</td>\n",
       "      <td>-68.4640</td>\n",
       "      <td>202.3753</td>\n",
       "      <td>698.7917</td>\n",
       "      <td>-0.13032</td>\n",
       "      <td>0.30521</td>\n",
       "      <td>0.94333</td>\n",
       "      <td>-0.04903</td>\n",
       "      <td>0.28282</td>\n",
       "      <td>0.95792</td>\n",
       "      <td>34.25</td>\n",
       "      <td>-22.62</td>\n",
       "      <td>-26.44</td>\n",
       "      <td>-34.29</td>\n",
       "      <td>-20.47</td>\n",
       "      <td>-24.12</td>\n",
       "      <td>2.743</td>\n",
       "      <td>2.759</td>\n",
       "    </tr>\n",
       "    <tr>\n",
       "      <th>4</th>\n",
       "      <td>989</td>\n",
       "      <td>328</td>\n",
       "      <td>-12.8718</td>\n",
       "      <td>49.9011</td>\n",
       "      <td>298.6428</td>\n",
       "      <td>-0.09101</td>\n",
       "      <td>0.16967</td>\n",
       "      <td>0.98129</td>\n",
       "      <td>0.01012</td>\n",
       "      <td>0.27069</td>\n",
       "      <td>0.96261</td>\n",
       "      <td>34.70</td>\n",
       "      <td>-23.19</td>\n",
       "      <td>-26.84</td>\n",
       "      <td>-33.24</td>\n",
       "      <td>-22.80</td>\n",
       "      <td>-22.73</td>\n",
       "      <td>2.831</td>\n",
       "      <td>2.547</td>\n",
       "    </tr>\n",
       "  </tbody>\n",
       "</table>\n",
       "</div>"
      ],
      "text/plain": [
       "   Gaze point X  Gaze point Y  Gaze point 3D X  Gaze point 3D Y  \\\n",
       "0          1051           302         -49.2616          95.9365   \n",
       "1           970           354          -9.7804          53.8741   \n",
       "2           936           487           2.0698          20.0998   \n",
       "3          1053           185         -68.4640         202.3753   \n",
       "4           989           328         -12.8718          49.9011   \n",
       "\n",
       "   Gaze point 3D Z  Gaze direction left X  Gaze direction left Y  \\\n",
       "0         507.7711               -0.15154                0.21442   \n",
       "1         373.6652               -0.06369                0.17983   \n",
       "2         705.3887               -0.01431                0.03084   \n",
       "3         698.7917               -0.13032                0.30521   \n",
       "4         298.6428               -0.09101                0.16967   \n",
       "\n",
       "   Gaze direction left Z  Gaze direction right X  Gaze direction right Y  \\\n",
       "0                0.96491                -0.03271                 0.19727   \n",
       "1                0.98163                 0.05997                 0.18509   \n",
       "2                0.99942                 0.02054                 0.06784   \n",
       "3                0.94333                -0.04903                 0.28282   \n",
       "4                0.98129                 0.01012                 0.27069   \n",
       "\n",
       "   Gaze direction right Z  Pupil position left X  Pupil position left Y  \\\n",
       "0                 0.97980                  34.71                 -22.88   \n",
       "1                 0.98089                  34.68                 -23.17   \n",
       "2                 0.99748                  28.82                 -17.89   \n",
       "3                 0.95792                  34.25                 -22.62   \n",
       "4                 0.96261                  34.70                 -23.19   \n",
       "\n",
       "   Pupil position left Z  Pupil position right X  Pupil position right Y  \\\n",
       "0                 -26.61                  -34.46                  -20.39   \n",
       "1                 -26.52                  -33.91                  -21.46   \n",
       "2                 -33.14                  -29.28                  -14.90   \n",
       "3                 -26.44                  -34.29                  -20.47   \n",
       "4                 -26.84                  -33.24                  -22.80   \n",
       "\n",
       "   Pupil position right Z  Pupil diameter left  Pupil diameter right  \n",
       "0                  -24.32                2.785                 2.764  \n",
       "1                  -24.22                2.580                 2.609  \n",
       "2                  -32.64                2.845                 2.969  \n",
       "3                  -24.12                2.743                 2.759  \n",
       "4                  -22.73                2.831                 2.547  "
      ]
     },
     "execution_count": 25,
     "metadata": {},
     "output_type": "execute_result"
    }
   ],
   "source": [
    "X.head()"
   ]
  },
  {
   "cell_type": "code",
   "execution_count": 26,
   "id": "a792737a",
   "metadata": {},
   "outputs": [
    {
     "data": {
      "text/plain": [
       "0        1\n",
       "1        1\n",
       "2        0\n",
       "3        1\n",
       "4        1\n",
       "        ..\n",
       "57632    1\n",
       "57633    1\n",
       "57634    0\n",
       "57635    0\n",
       "57636    0\n",
       "Name: Disease, Length: 57637, dtype: int64"
      ]
     },
     "execution_count": 26,
     "metadata": {},
     "output_type": "execute_result"
    }
   ],
   "source": [
    "y"
   ]
  },
  {
   "cell_type": "code",
   "execution_count": 27,
   "id": "f448eb35",
   "metadata": {},
   "outputs": [],
   "source": [
    "from sklearn.model_selection import train_test_split"
   ]
  },
  {
   "cell_type": "code",
   "execution_count": 28,
   "id": "a386d6e3",
   "metadata": {},
   "outputs": [],
   "source": [
    "X_train,X_test,y_train,y_test = train_test_split(X,y,train_size=0.75)"
   ]
  },
  {
   "cell_type": "code",
   "execution_count": 29,
   "id": "badfdc3c",
   "metadata": {},
   "outputs": [
    {
     "data": {
      "text/plain": [
       "(43227, 19)"
      ]
     },
     "execution_count": 29,
     "metadata": {},
     "output_type": "execute_result"
    }
   ],
   "source": [
    "X_train.shape"
   ]
  },
  {
   "cell_type": "code",
   "execution_count": 30,
   "id": "e1c2ff01",
   "metadata": {},
   "outputs": [
    {
     "data": {
      "text/plain": [
       "(14410, 19)"
      ]
     },
     "execution_count": 30,
     "metadata": {},
     "output_type": "execute_result"
    }
   ],
   "source": [
    "X_test.shape"
   ]
  },
  {
   "cell_type": "markdown",
   "id": "9f143b4c",
   "metadata": {},
   "source": [
    "# Support Vector Machine(SVM)"
   ]
  },
  {
   "cell_type": "code",
   "execution_count": 31,
   "id": "f8a4bdb7",
   "metadata": {},
   "outputs": [],
   "source": [
    "from sklearn.svm import SVC"
   ]
  },
  {
   "cell_type": "code",
   "execution_count": 32,
   "id": "a78a566d",
   "metadata": {},
   "outputs": [],
   "source": [
    "svc = SVC()"
   ]
  },
  {
   "cell_type": "code",
   "execution_count": 33,
   "id": "d52d2437",
   "metadata": {},
   "outputs": [
    {
     "data": {
      "text/html": [
       "<style>#sk-container-id-1 {color: black;}#sk-container-id-1 pre{padding: 0;}#sk-container-id-1 div.sk-toggleable {background-color: white;}#sk-container-id-1 label.sk-toggleable__label {cursor: pointer;display: block;width: 100%;margin-bottom: 0;padding: 0.3em;box-sizing: border-box;text-align: center;}#sk-container-id-1 label.sk-toggleable__label-arrow:before {content: \"▸\";float: left;margin-right: 0.25em;color: #696969;}#sk-container-id-1 label.sk-toggleable__label-arrow:hover:before {color: black;}#sk-container-id-1 div.sk-estimator:hover label.sk-toggleable__label-arrow:before {color: black;}#sk-container-id-1 div.sk-toggleable__content {max-height: 0;max-width: 0;overflow: hidden;text-align: left;background-color: #f0f8ff;}#sk-container-id-1 div.sk-toggleable__content pre {margin: 0.2em;color: black;border-radius: 0.25em;background-color: #f0f8ff;}#sk-container-id-1 input.sk-toggleable__control:checked~div.sk-toggleable__content {max-height: 200px;max-width: 100%;overflow: auto;}#sk-container-id-1 input.sk-toggleable__control:checked~label.sk-toggleable__label-arrow:before {content: \"▾\";}#sk-container-id-1 div.sk-estimator input.sk-toggleable__control:checked~label.sk-toggleable__label {background-color: #d4ebff;}#sk-container-id-1 div.sk-label input.sk-toggleable__control:checked~label.sk-toggleable__label {background-color: #d4ebff;}#sk-container-id-1 input.sk-hidden--visually {border: 0;clip: rect(1px 1px 1px 1px);clip: rect(1px, 1px, 1px, 1px);height: 1px;margin: -1px;overflow: hidden;padding: 0;position: absolute;width: 1px;}#sk-container-id-1 div.sk-estimator {font-family: monospace;background-color: #f0f8ff;border: 1px dotted black;border-radius: 0.25em;box-sizing: border-box;margin-bottom: 0.5em;}#sk-container-id-1 div.sk-estimator:hover {background-color: #d4ebff;}#sk-container-id-1 div.sk-parallel-item::after {content: \"\";width: 100%;border-bottom: 1px solid gray;flex-grow: 1;}#sk-container-id-1 div.sk-label:hover label.sk-toggleable__label {background-color: #d4ebff;}#sk-container-id-1 div.sk-serial::before {content: \"\";position: absolute;border-left: 1px solid gray;box-sizing: border-box;top: 0;bottom: 0;left: 50%;z-index: 0;}#sk-container-id-1 div.sk-serial {display: flex;flex-direction: column;align-items: center;background-color: white;padding-right: 0.2em;padding-left: 0.2em;position: relative;}#sk-container-id-1 div.sk-item {position: relative;z-index: 1;}#sk-container-id-1 div.sk-parallel {display: flex;align-items: stretch;justify-content: center;background-color: white;position: relative;}#sk-container-id-1 div.sk-item::before, #sk-container-id-1 div.sk-parallel-item::before {content: \"\";position: absolute;border-left: 1px solid gray;box-sizing: border-box;top: 0;bottom: 0;left: 50%;z-index: -1;}#sk-container-id-1 div.sk-parallel-item {display: flex;flex-direction: column;z-index: 1;position: relative;background-color: white;}#sk-container-id-1 div.sk-parallel-item:first-child::after {align-self: flex-end;width: 50%;}#sk-container-id-1 div.sk-parallel-item:last-child::after {align-self: flex-start;width: 50%;}#sk-container-id-1 div.sk-parallel-item:only-child::after {width: 0;}#sk-container-id-1 div.sk-dashed-wrapped {border: 1px dashed gray;margin: 0 0.4em 0.5em 0.4em;box-sizing: border-box;padding-bottom: 0.4em;background-color: white;}#sk-container-id-1 div.sk-label label {font-family: monospace;font-weight: bold;display: inline-block;line-height: 1.2em;}#sk-container-id-1 div.sk-label-container {text-align: center;}#sk-container-id-1 div.sk-container {/* jupyter's `normalize.less` sets `[hidden] { display: none; }` but bootstrap.min.css set `[hidden] { display: none !important; }` so we also need the `!important` here to be able to override the default hidden behavior on the sphinx rendered scikit-learn.org. See: https://github.com/scikit-learn/scikit-learn/issues/21755 */display: inline-block !important;position: relative;}#sk-container-id-1 div.sk-text-repr-fallback {display: none;}</style><div id=\"sk-container-id-1\" class=\"sk-top-container\"><div class=\"sk-text-repr-fallback\"><pre>SVC()</pre><b>In a Jupyter environment, please rerun this cell to show the HTML representation or trust the notebook. <br />On GitHub, the HTML representation is unable to render, please try loading this page with nbviewer.org.</b></div><div class=\"sk-container\" hidden><div class=\"sk-item\"><div class=\"sk-estimator sk-toggleable\"><input class=\"sk-toggleable__control sk-hidden--visually\" id=\"sk-estimator-id-1\" type=\"checkbox\" checked><label for=\"sk-estimator-id-1\" class=\"sk-toggleable__label sk-toggleable__label-arrow\">SVC</label><div class=\"sk-toggleable__content\"><pre>SVC()</pre></div></div></div></div></div>"
      ],
      "text/plain": [
       "SVC()"
      ]
     },
     "execution_count": 33,
     "metadata": {},
     "output_type": "execute_result"
    }
   ],
   "source": [
    "svc.fit(X_train,y_train)"
   ]
  },
  {
   "cell_type": "code",
   "execution_count": 34,
   "id": "ed75d372",
   "metadata": {},
   "outputs": [],
   "source": [
    "pred = svc.predict(X_test)"
   ]
  },
  {
   "cell_type": "code",
   "execution_count": 35,
   "id": "fb05515f",
   "metadata": {},
   "outputs": [
    {
     "data": {
      "text/plain": [
       "array([0, 0, 1, ..., 0, 0, 1], dtype=int64)"
      ]
     },
     "execution_count": 35,
     "metadata": {},
     "output_type": "execute_result"
    }
   ],
   "source": [
    "pred"
   ]
  },
  {
   "cell_type": "code",
   "execution_count": 36,
   "id": "350a836e",
   "metadata": {},
   "outputs": [],
   "source": [
    "from sklearn.metrics import accuracy_score,recall_score,confusion_matrix,ConfusionMatrixDisplay"
   ]
  },
  {
   "cell_type": "code",
   "execution_count": 37,
   "id": "50b51dd4",
   "metadata": {},
   "outputs": [],
   "source": [
    "accuracy = accuracy_score(pred,y_test)"
   ]
  },
  {
   "cell_type": "code",
   "execution_count": 38,
   "id": "fba7959d",
   "metadata": {},
   "outputs": [
    {
     "data": {
      "text/plain": [
       "97.61970853573906"
      ]
     },
     "execution_count": 38,
     "metadata": {},
     "output_type": "execute_result"
    }
   ],
   "source": [
    "accuracy*100"
   ]
  },
  {
   "cell_type": "code",
   "execution_count": 39,
   "id": "5a490c36",
   "metadata": {},
   "outputs": [
    {
     "data": {
      "text/plain": [
       "0.9740673970323117"
      ]
     },
     "execution_count": 39,
     "metadata": {},
     "output_type": "execute_result"
    }
   ],
   "source": [
    "svc_recall = recall_score(y_test,pred)\n",
    "svc_recall"
   ]
  },
  {
   "cell_type": "code",
   "execution_count": 40,
   "id": "9d55b5a6",
   "metadata": {},
   "outputs": [
    {
     "data": {
      "text/plain": [
       "97.40673970323117"
      ]
     },
     "execution_count": 40,
     "metadata": {},
     "output_type": "execute_result"
    }
   ],
   "source": [
    "svc_recall*100"
   ]
  },
  {
   "cell_type": "code",
   "execution_count": 41,
   "id": "b6f7998a",
   "metadata": {},
   "outputs": [],
   "source": [
    "cm = confusion_matrix(pred,y_test)"
   ]
  },
  {
   "cell_type": "code",
   "execution_count": 42,
   "id": "9047301e",
   "metadata": {},
   "outputs": [
    {
     "data": {
      "text/plain": [
       "array([[7043,  187],\n",
       "       [ 156, 7024]], dtype=int64)"
      ]
     },
     "execution_count": 42,
     "metadata": {},
     "output_type": "execute_result"
    }
   ],
   "source": [
    "cm"
   ]
  },
  {
   "cell_type": "code",
   "execution_count": 43,
   "id": "76ed7b89",
   "metadata": {},
   "outputs": [
    {
     "data": {
      "text/plain": [
       "array([0, 1], dtype=int64)"
      ]
     },
     "execution_count": 43,
     "metadata": {},
     "output_type": "execute_result"
    }
   ],
   "source": [
    "svc.classes_"
   ]
  },
  {
   "cell_type": "code",
   "execution_count": 44,
   "id": "d5f226da",
   "metadata": {},
   "outputs": [],
   "source": [
    "disp = ConfusionMatrixDisplay(confusion_matrix=cm,\n",
    "                              display_labels=svc.classes_)"
   ]
  },
  {
   "cell_type": "code",
   "execution_count": 45,
   "id": "87eab599",
   "metadata": {
    "scrolled": true
   },
   "outputs": [
    {
     "data": {
      "text/plain": [
       "<sklearn.metrics._plot.confusion_matrix.ConfusionMatrixDisplay at 0x2702c37cbd0>"
      ]
     },
     "execution_count": 45,
     "metadata": {},
     "output_type": "execute_result"
    },
    {
     "data": {
      "image/png": "[encoded data removed]",
      "text/plain": [
       "<Figure size 640x480 with 2 Axes>"
      ]
     },
     "metadata": {},
     "output_type": "display_data"
    }
   ],
   "source": [
    "disp.plot()"
   ]
  },
  {
   "cell_type": "markdown",
   "id": "b3096ee0",
   "metadata": {},
   "source": [
    "# Precision Recall Curve"
   ]
  },
  {
   "cell_type": "markdown",
   "id": "930996d4",
   "metadata": {},
   "source": [
    "# Support Vector Classifier (SVC)"
   ]
  },
  {
   "cell_type": "code",
   "execution_count": 46,
   "id": "993b290c",
   "metadata": {},
   "outputs": [],
   "source": [
    "svc = SVC(probability=True)\n",
    "svc.fit(X_train,y_train)\n",
    "\n",
    "svc_preds = svc.predict(X_test) # Predictions\n",
    "svc_prob = svc.predict_proba(X_test)[:,1] \n",
    "\n",
    "# THIS WILL BE USED FOR PR-CURVE"
   ]
  },
  {
   "cell_type": "code",
   "execution_count": 47,
   "id": "ee574c4b",
   "metadata": {},
   "outputs": [
    {
     "data": {
      "text/plain": [
       "array([1.96264592e-03, 2.48889859e-02, 9.99992712e-01, ...,\n",
       "       1.35575586e-01, 1.00519774e-04, 9.95635915e-01])"
      ]
     },
     "execution_count": 47,
     "metadata": {},
     "output_type": "execute_result"
    }
   ],
   "source": [
    "svc_prob"
   ]
  },
  {
   "cell_type": "code",
   "execution_count": 48,
   "id": "3f064f8b",
   "metadata": {},
   "outputs": [
    {
     "name": "stdout",
     "output_type": "stream",
     "text": [
      "Accuracy : 97.62%\n"
     ]
    }
   ],
   "source": [
    "accuracy = accuracy_score(y_test,svc_preds)\n",
    "print(f'Accuracy : {round(accuracy*100,2)}%')"
   ]
  },
  {
   "cell_type": "code",
   "execution_count": 49,
   "id": "218e5bf5",
   "metadata": {},
   "outputs": [],
   "source": [
    "from sklearn.metrics import accuracy_score,precision_recall_curve,auc"
   ]
  },
  {
   "cell_type": "code",
   "execution_count": 50,
   "id": "c33d9bc7",
   "metadata": {},
   "outputs": [],
   "source": [
    "precision_1,recall_1,threshold_1 = precision_recall_curve(y_test,svc_prob)"
   ]
  },
  {
   "cell_type": "markdown",
   "id": "0851fd6d",
   "metadata": {},
   "source": [
    "## This is Area Under Curve (AUC) which measures the performance of the model. \n",
    "# Higher AUC means better model.\n",
    "# range of AUC is 0 to 1\n"
   ]
  },
  {
   "cell_type": "code",
   "execution_count": 51,
   "id": "9bc2b946",
   "metadata": {},
   "outputs": [
    {
     "name": "stdout",
     "output_type": "stream",
     "text": [
      "0.9931594023373295\n"
     ]
    }
   ],
   "source": [
    "auc_1= auc(recall_1,precision_1)\n",
    "print(auc_1)"
   ]
  },
  {
   "cell_type": "code",
   "execution_count": 52,
   "id": "85b71dfa",
   "metadata": {},
   "outputs": [
    {
     "data": {
      "text/plain": [
       "<matplotlib.legend.Legend at 0x2702be8a0d0>"
      ]
     },
     "execution_count": 52,
     "metadata": {},
     "output_type": "execute_result"
    },
    {
     "data": {
      "image/png": "[encoded data removed]",
      "text/plain": [
       "<Figure size 640x480 with 1 Axes>"
      ]
     },
     "metadata": {},
     "output_type": "display_data"
    }
   ],
   "source": [
    "plt.title('PR-curve: SVC')\n",
    "\n",
    "plt.plot(recall_1,precision_1,label=f'AUC: {round(auc_1,2)}')\n",
    "\n",
    "plt.fill_between(recall_1,precision_1,alpha=0.2)\n",
    "\n",
    "plt.xlabel('Recall')\n",
    "plt.ylabel('Precision')\n",
    "plt.legend()"
   ]
  },
  {
   "cell_type": "code",
   "execution_count": 53,
   "id": "f2cba2c0",
   "metadata": {},
   "outputs": [
    {
     "data": {
      "text/html": [
       "<div>\n",
       "<style scoped>\n",
       "    .dataframe tbody tr th:only-of-type {\n",
       "        vertical-align: middle;\n",
       "    }\n",
       "\n",
       "    .dataframe tbody tr th {\n",
       "        vertical-align: top;\n",
       "    }\n",
       "\n",
       "    .dataframe thead th {\n",
       "        text-align: right;\n",
       "    }\n",
       "</style>\n",
       "<table border=\"1\" class=\"dataframe\">\n",
       "  <thead>\n",
       "    <tr style=\"text-align: right;\">\n",
       "      <th></th>\n",
       "      <th>Gaze point X</th>\n",
       "      <th>Gaze point Y</th>\n",
       "      <th>Gaze point 3D X</th>\n",
       "      <th>Gaze point 3D Y</th>\n",
       "      <th>Gaze point 3D Z</th>\n",
       "      <th>Gaze direction left X</th>\n",
       "      <th>Gaze direction left Y</th>\n",
       "      <th>Gaze direction left Z</th>\n",
       "      <th>Gaze direction right X</th>\n",
       "      <th>Gaze direction right Y</th>\n",
       "      <th>Gaze direction right Z</th>\n",
       "      <th>Pupil position left X</th>\n",
       "      <th>Pupil position left Y</th>\n",
       "      <th>Pupil position left Z</th>\n",
       "      <th>Pupil position right X</th>\n",
       "      <th>Pupil position right Y</th>\n",
       "      <th>Pupil position right Z</th>\n",
       "      <th>Pupil diameter left</th>\n",
       "      <th>Pupil diameter right</th>\n",
       "      <th>Disease</th>\n",
       "    </tr>\n",
       "  </thead>\n",
       "  <tbody>\n",
       "    <tr>\n",
       "      <th>0</th>\n",
       "      <td>1051</td>\n",
       "      <td>302</td>\n",
       "      <td>-49.2616</td>\n",
       "      <td>95.9365</td>\n",
       "      <td>507.7711</td>\n",
       "      <td>-0.15154</td>\n",
       "      <td>0.21442</td>\n",
       "      <td>0.96491</td>\n",
       "      <td>-0.03271</td>\n",
       "      <td>0.19727</td>\n",
       "      <td>0.97980</td>\n",
       "      <td>34.71</td>\n",
       "      <td>-22.88</td>\n",
       "      <td>-26.61</td>\n",
       "      <td>-34.46</td>\n",
       "      <td>-20.39</td>\n",
       "      <td>-24.32</td>\n",
       "      <td>2.785</td>\n",
       "      <td>2.764</td>\n",
       "      <td>1</td>\n",
       "    </tr>\n",
       "    <tr>\n",
       "      <th>1</th>\n",
       "      <td>970</td>\n",
       "      <td>354</td>\n",
       "      <td>-9.7804</td>\n",
       "      <td>53.8741</td>\n",
       "      <td>373.6652</td>\n",
       "      <td>-0.06369</td>\n",
       "      <td>0.17983</td>\n",
       "      <td>0.98163</td>\n",
       "      <td>0.05997</td>\n",
       "      <td>0.18509</td>\n",
       "      <td>0.98089</td>\n",
       "      <td>34.68</td>\n",
       "      <td>-23.17</td>\n",
       "      <td>-26.52</td>\n",
       "      <td>-33.91</td>\n",
       "      <td>-21.46</td>\n",
       "      <td>-24.22</td>\n",
       "      <td>2.580</td>\n",
       "      <td>2.609</td>\n",
       "      <td>1</td>\n",
       "    </tr>\n",
       "    <tr>\n",
       "      <th>3</th>\n",
       "      <td>1053</td>\n",
       "      <td>185</td>\n",
       "      <td>-68.4640</td>\n",
       "      <td>202.3753</td>\n",
       "      <td>698.7917</td>\n",
       "      <td>-0.13032</td>\n",
       "      <td>0.30521</td>\n",
       "      <td>0.94333</td>\n",
       "      <td>-0.04903</td>\n",
       "      <td>0.28282</td>\n",
       "      <td>0.95792</td>\n",
       "      <td>34.25</td>\n",
       "      <td>-22.62</td>\n",
       "      <td>-26.44</td>\n",
       "      <td>-34.29</td>\n",
       "      <td>-20.47</td>\n",
       "      <td>-24.12</td>\n",
       "      <td>2.743</td>\n",
       "      <td>2.759</td>\n",
       "      <td>1</td>\n",
       "    </tr>\n",
       "    <tr>\n",
       "      <th>4</th>\n",
       "      <td>989</td>\n",
       "      <td>328</td>\n",
       "      <td>-12.8718</td>\n",
       "      <td>49.9011</td>\n",
       "      <td>298.6428</td>\n",
       "      <td>-0.09101</td>\n",
       "      <td>0.16967</td>\n",
       "      <td>0.98129</td>\n",
       "      <td>0.01012</td>\n",
       "      <td>0.27069</td>\n",
       "      <td>0.96261</td>\n",
       "      <td>34.70</td>\n",
       "      <td>-23.19</td>\n",
       "      <td>-26.84</td>\n",
       "      <td>-33.24</td>\n",
       "      <td>-22.80</td>\n",
       "      <td>-22.73</td>\n",
       "      <td>2.831</td>\n",
       "      <td>2.547</td>\n",
       "      <td>1</td>\n",
       "    </tr>\n",
       "    <tr>\n",
       "      <th>5</th>\n",
       "      <td>1042</td>\n",
       "      <td>308</td>\n",
       "      <td>-45.0013</td>\n",
       "      <td>93.3756</td>\n",
       "      <td>507.7543</td>\n",
       "      <td>-0.14382</td>\n",
       "      <td>0.21046</td>\n",
       "      <td>0.96696</td>\n",
       "      <td>-0.00399</td>\n",
       "      <td>0.23411</td>\n",
       "      <td>0.97220</td>\n",
       "      <td>34.49</td>\n",
       "      <td>-22.96</td>\n",
       "      <td>-26.82</td>\n",
       "      <td>-34.22</td>\n",
       "      <td>-21.53</td>\n",
       "      <td>-23.65</td>\n",
       "      <td>2.842</td>\n",
       "      <td>2.789</td>\n",
       "      <td>1</td>\n",
       "    </tr>\n",
       "    <tr>\n",
       "      <th>...</th>\n",
       "      <td>...</td>\n",
       "      <td>...</td>\n",
       "      <td>...</td>\n",
       "      <td>...</td>\n",
       "      <td>...</td>\n",
       "      <td>...</td>\n",
       "      <td>...</td>\n",
       "      <td>...</td>\n",
       "      <td>...</td>\n",
       "      <td>...</td>\n",
       "      <td>...</td>\n",
       "      <td>...</td>\n",
       "      <td>...</td>\n",
       "      <td>...</td>\n",
       "      <td>...</td>\n",
       "      <td>...</td>\n",
       "      <td>...</td>\n",
       "      <td>...</td>\n",
       "      <td>...</td>\n",
       "      <td>...</td>\n",
       "    </tr>\n",
       "    <tr>\n",
       "      <th>57623</th>\n",
       "      <td>1005</td>\n",
       "      <td>224</td>\n",
       "      <td>-20.4284</td>\n",
       "      <td>92.7524</td>\n",
       "      <td>362.1399</td>\n",
       "      <td>-0.13382</td>\n",
       "      <td>0.28295</td>\n",
       "      <td>0.94975</td>\n",
       "      <td>0.23186</td>\n",
       "      <td>-0.00157</td>\n",
       "      <td>0.97275</td>\n",
       "      <td>34.26</td>\n",
       "      <td>-22.92</td>\n",
       "      <td>-26.25</td>\n",
       "      <td>-35.31</td>\n",
       "      <td>-19.40</td>\n",
       "      <td>-23.23</td>\n",
       "      <td>2.857</td>\n",
       "      <td>2.808</td>\n",
       "      <td>1</td>\n",
       "    </tr>\n",
       "    <tr>\n",
       "      <th>57626</th>\n",
       "      <td>1031</td>\n",
       "      <td>349</td>\n",
       "      <td>-45.0102</td>\n",
       "      <td>84.6926</td>\n",
       "      <td>569.0803</td>\n",
       "      <td>-0.13078</td>\n",
       "      <td>0.17622</td>\n",
       "      <td>0.97563</td>\n",
       "      <td>-0.01991</td>\n",
       "      <td>0.18748</td>\n",
       "      <td>0.98207</td>\n",
       "      <td>34.91</td>\n",
       "      <td>-22.93</td>\n",
       "      <td>-26.85</td>\n",
       "      <td>-34.24</td>\n",
       "      <td>-21.52</td>\n",
       "      <td>-23.71</td>\n",
       "      <td>2.786</td>\n",
       "      <td>2.659</td>\n",
       "      <td>1</td>\n",
       "    </tr>\n",
       "    <tr>\n",
       "      <th>57628</th>\n",
       "      <td>1221</td>\n",
       "      <td>567</td>\n",
       "      <td>-127.4251</td>\n",
       "      <td>-21.4587</td>\n",
       "      <td>521.2597</td>\n",
       "      <td>-0.27936</td>\n",
       "      <td>0.01618</td>\n",
       "      <td>0.96005</td>\n",
       "      <td>-0.17002</td>\n",
       "      <td>-0.00964</td>\n",
       "      <td>0.98539</td>\n",
       "      <td>33.54</td>\n",
       "      <td>-24.06</td>\n",
       "      <td>-26.65</td>\n",
       "      <td>-35.01</td>\n",
       "      <td>-22.64</td>\n",
       "      <td>-23.58</td>\n",
       "      <td>2.716</td>\n",
       "      <td>2.461</td>\n",
       "      <td>1</td>\n",
       "    </tr>\n",
       "    <tr>\n",
       "      <th>57632</th>\n",
       "      <td>929</td>\n",
       "      <td>390</td>\n",
       "      <td>3.3843</td>\n",
       "      <td>41.5583</td>\n",
       "      <td>368.2299</td>\n",
       "      <td>-0.07769</td>\n",
       "      <td>0.16660</td>\n",
       "      <td>0.98296</td>\n",
       "      <td>0.09370</td>\n",
       "      <td>0.15289</td>\n",
       "      <td>0.98379</td>\n",
       "      <td>34.70</td>\n",
       "      <td>-23.10</td>\n",
       "      <td>-26.76</td>\n",
       "      <td>-34.16</td>\n",
       "      <td>-21.45</td>\n",
       "      <td>-23.41</td>\n",
       "      <td>2.640</td>\n",
       "      <td>2.483</td>\n",
       "      <td>1</td>\n",
       "    </tr>\n",
       "    <tr>\n",
       "      <th>57633</th>\n",
       "      <td>1011</td>\n",
       "      <td>290</td>\n",
       "      <td>-31.5711</td>\n",
       "      <td>102.4984</td>\n",
       "      <td>513.5029</td>\n",
       "      <td>-0.11859</td>\n",
       "      <td>0.22488</td>\n",
       "      <td>0.96714</td>\n",
       "      <td>-0.00458</td>\n",
       "      <td>0.20422</td>\n",
       "      <td>0.97892</td>\n",
       "      <td>34.64</td>\n",
       "      <td>-23.12</td>\n",
       "      <td>-26.37</td>\n",
       "      <td>-34.26</td>\n",
       "      <td>-20.51</td>\n",
       "      <td>-24.26</td>\n",
       "      <td>2.669</td>\n",
       "      <td>2.699</td>\n",
       "      <td>1</td>\n",
       "    </tr>\n",
       "  </tbody>\n",
       "</table>\n",
       "<p>28417 rows × 20 columns</p>\n",
       "</div>"
      ],
      "text/plain": [
       "       Gaze point X  Gaze point Y  Gaze point 3D X  Gaze point 3D Y  \\\n",
       "0              1051           302         -49.2616          95.9365   \n",
       "1               970           354          -9.7804          53.8741   \n",
       "3              1053           185         -68.4640         202.3753   \n",
       "4               989           328         -12.8718          49.9011   \n",
       "5              1042           308         -45.0013          93.3756   \n",
       "...             ...           ...              ...              ...   \n",
       "57623          1005           224         -20.4284          92.7524   \n",
       "57626          1031           349         -45.0102          84.6926   \n",
       "57628          1221           567        -127.4251         -21.4587   \n",
       "57632           929           390           3.3843          41.5583   \n",
       "57633          1011           290         -31.5711         102.4984   \n",
       "\n",
       "       Gaze point 3D Z  Gaze direction left X  Gaze direction left Y  \\\n",
       "0             507.7711               -0.15154                0.21442   \n",
       "1             373.6652               -0.06369                0.17983   \n",
       "3             698.7917               -0.13032                0.30521   \n",
       "4             298.6428               -0.09101                0.16967   \n",
       "5             507.7543               -0.14382                0.21046   \n",
       "...                ...                    ...                    ...   \n",
       "57623         362.1399               -0.13382                0.28295   \n",
       "57626         569.0803               -0.13078                0.17622   \n",
       "57628         521.2597               -0.27936                0.01618   \n",
       "57632         368.2299               -0.07769                0.16660   \n",
       "57633         513.5029               -0.11859                0.22488   \n",
       "\n",
       "       Gaze direction left Z  Gaze direction right X  Gaze direction right Y  \\\n",
       "0                    0.96491                -0.03271                 0.19727   \n",
       "1                    0.98163                 0.05997                 0.18509   \n",
       "3                    0.94333                -0.04903                 0.28282   \n",
       "4                    0.98129                 0.01012                 0.27069   \n",
       "5                    0.96696                -0.00399                 0.23411   \n",
       "...                      ...                     ...                     ...   \n",
       "57623                0.94975                 0.23186                -0.00157   \n",
       "57626                0.97563                -0.01991                 0.18748   \n",
       "57628                0.96005                -0.17002                -0.00964   \n",
       "57632                0.98296                 0.09370                 0.15289   \n",
       "57633                0.96714                -0.00458                 0.20422   \n",
       "\n",
       "       Gaze direction right Z  Pupil position left X  Pupil position left Y  \\\n",
       "0                     0.97980                  34.71                 -22.88   \n",
       "1                     0.98089                  34.68                 -23.17   \n",
       "3                     0.95792                  34.25                 -22.62   \n",
       "4                     0.96261                  34.70                 -23.19   \n",
       "5                     0.97220                  34.49                 -22.96   \n",
       "...                       ...                    ...                    ...   \n",
       "57623                 0.97275                  34.26                 -22.92   \n",
       "57626                 0.98207                  34.91                 -22.93   \n",
       "57628                 0.98539                  33.54                 -24.06   \n",
       "57632                 0.98379                  34.70                 -23.10   \n",
       "57633                 0.97892                  34.64                 -23.12   \n",
       "\n",
       "       Pupil position left Z  Pupil position right X  Pupil position right Y  \\\n",
       "0                     -26.61                  -34.46                  -20.39   \n",
       "1                     -26.52                  -33.91                  -21.46   \n",
       "3                     -26.44                  -34.29                  -20.47   \n",
       "4                     -26.84                  -33.24                  -22.80   \n",
       "5                     -26.82                  -34.22                  -21.53   \n",
       "...                      ...                     ...                     ...   \n",
       "57623                 -26.25                  -35.31                  -19.40   \n",
       "57626                 -26.85                  -34.24                  -21.52   \n",
       "57628                 -26.65                  -35.01                  -22.64   \n",
       "57632                 -26.76                  -34.16                  -21.45   \n",
       "57633                 -26.37                  -34.26                  -20.51   \n",
       "\n",
       "       Pupil position right Z  Pupil diameter left  Pupil diameter right  \\\n",
       "0                      -24.32                2.785                 2.764   \n",
       "1                      -24.22                2.580                 2.609   \n",
       "3                      -24.12                2.743                 2.759   \n",
       "4                      -22.73                2.831                 2.547   \n",
       "5                      -23.65                2.842                 2.789   \n",
       "...                       ...                  ...                   ...   \n",
       "57623                  -23.23                2.857                 2.808   \n",
       "57626                  -23.71                2.786                 2.659   \n",
       "57628                  -23.58                2.716                 2.461   \n",
       "57632                  -23.41                2.640                 2.483   \n",
       "57633                  -24.26                2.669                 2.699   \n",
       "\n",
       "       Disease  \n",
       "0            1  \n",
       "1            1  \n",
       "3            1  \n",
       "4            1  \n",
       "5            1  \n",
       "...        ...  \n",
       "57623        1  \n",
       "57626        1  \n",
       "57628        1  \n",
       "57632        1  \n",
       "57633        1  \n",
       "\n",
       "[28417 rows x 20 columns]"
      ]
     },
     "execution_count": 53,
     "metadata": {},
     "output_type": "execute_result"
    }
   ],
   "source": [
    "df[df['Disease']==1]"
   ]
  },
  {
   "cell_type": "markdown",
   "id": "eab6ca6d",
   "metadata": {},
   "source": [
    "# Random Forest"
   ]
  },
  {
   "cell_type": "code",
   "execution_count": 54,
   "id": "2e1d6dfc",
   "metadata": {},
   "outputs": [],
   "source": [
    "from sklearn.ensemble import RandomForestClassifier"
   ]
  },
  {
   "cell_type": "code",
   "execution_count": 55,
   "id": "5207eeec",
   "metadata": {},
   "outputs": [],
   "source": [
    "rfc = RandomForestClassifier(max_depth=5,min_samples_split=200)"
   ]
  },
  {
   "cell_type": "code",
   "execution_count": 56,
   "id": "a7e65df0",
   "metadata": {},
   "outputs": [
    {
     "data": {
      "text/html": [
       "<style>#sk-container-id-2 {color: black;}#sk-container-id-2 pre{padding: 0;}#sk-container-id-2 div.sk-toggleable {background-color: white;}#sk-container-id-2 label.sk-toggleable__label {cursor: pointer;display: block;width: 100%;margin-bottom: 0;padding: 0.3em;box-sizing: border-box;text-align: center;}#sk-container-id-2 label.sk-toggleable__label-arrow:before {content: \"▸\";float: left;margin-right: 0.25em;color: #696969;}#sk-container-id-2 label.sk-toggleable__label-arrow:hover:before {color: black;}#sk-container-id-2 div.sk-estimator:hover label.sk-toggleable__label-arrow:before {color: black;}#sk-container-id-2 div.sk-toggleable__content {max-height: 0;max-width: 0;overflow: hidden;text-align: left;background-color: #f0f8ff;}#sk-container-id-2 div.sk-toggleable__content pre {margin: 0.2em;color: black;border-radius: 0.25em;background-color: #f0f8ff;}#sk-container-id-2 input.sk-toggleable__control:checked~div.sk-toggleable__content {max-height: 200px;max-width: 100%;overflow: auto;}#sk-container-id-2 input.sk-toggleable__control:checked~label.sk-toggleable__label-arrow:before {content: \"▾\";}#sk-container-id-2 div.sk-estimator input.sk-toggleable__control:checked~label.sk-toggleable__label {background-color: #d4ebff;}#sk-container-id-2 div.sk-label input.sk-toggleable__control:checked~label.sk-toggleable__label {background-color: #d4ebff;}#sk-container-id-2 input.sk-hidden--visually {border: 0;clip: rect(1px 1px 1px 1px);clip: rect(1px, 1px, 1px, 1px);height: 1px;margin: -1px;overflow: hidden;padding: 0;position: absolute;width: 1px;}#sk-container-id-2 div.sk-estimator {font-family: monospace;background-color: #f0f8ff;border: 1px dotted black;border-radius: 0.25em;box-sizing: border-box;margin-bottom: 0.5em;}#sk-container-id-2 div.sk-estimator:hover {background-color: #d4ebff;}#sk-container-id-2 div.sk-parallel-item::after {content: \"\";width: 100%;border-bottom: 1px solid gray;flex-grow: 1;}#sk-container-id-2 div.sk-label:hover label.sk-toggleable__label {background-color: #d4ebff;}#sk-container-id-2 div.sk-serial::before {content: \"\";position: absolute;border-left: 1px solid gray;box-sizing: border-box;top: 0;bottom: 0;left: 50%;z-index: 0;}#sk-container-id-2 div.sk-serial {display: flex;flex-direction: column;align-items: center;background-color: white;padding-right: 0.2em;padding-left: 0.2em;position: relative;}#sk-container-id-2 div.sk-item {position: relative;z-index: 1;}#sk-container-id-2 div.sk-parallel {display: flex;align-items: stretch;justify-content: center;background-color: white;position: relative;}#sk-container-id-2 div.sk-item::before, #sk-container-id-2 div.sk-parallel-item::before {content: \"\";position: absolute;border-left: 1px solid gray;box-sizing: border-box;top: 0;bottom: 0;left: 50%;z-index: -1;}#sk-container-id-2 div.sk-parallel-item {display: flex;flex-direction: column;z-index: 1;position: relative;background-color: white;}#sk-container-id-2 div.sk-parallel-item:first-child::after {align-self: flex-end;width: 50%;}#sk-container-id-2 div.sk-parallel-item:last-child::after {align-self: flex-start;width: 50%;}#sk-container-id-2 div.sk-parallel-item:only-child::after {width: 0;}#sk-container-id-2 div.sk-dashed-wrapped {border: 1px dashed gray;margin: 0 0.4em 0.5em 0.4em;box-sizing: border-box;padding-bottom: 0.4em;background-color: white;}#sk-container-id-2 div.sk-label label {font-family: monospace;font-weight: bold;display: inline-block;line-height: 1.2em;}#sk-container-id-2 div.sk-label-container {text-align: center;}#sk-container-id-2 div.sk-container {/* jupyter's `normalize.less` sets `[hidden] { display: none; }` but bootstrap.min.css set `[hidden] { display: none !important; }` so we also need the `!important` here to be able to override the default hidden behavior on the sphinx rendered scikit-learn.org. See: https://github.com/scikit-learn/scikit-learn/issues/21755 */display: inline-block !important;position: relative;}#sk-container-id-2 div.sk-text-repr-fallback {display: none;}</style><div id=\"sk-container-id-2\" class=\"sk-top-container\"><div class=\"sk-text-repr-fallback\"><pre>RandomForestClassifier(max_depth=5, min_samples_split=200)</pre><b>In a Jupyter environment, please rerun this cell to show the HTML representation or trust the notebook. <br />On GitHub, the HTML representation is unable to render, please try loading this page with nbviewer.org.</b></div><div class=\"sk-container\" hidden><div class=\"sk-item\"><div class=\"sk-estimator sk-toggleable\"><input class=\"sk-toggleable__control sk-hidden--visually\" id=\"sk-estimator-id-2\" type=\"checkbox\" checked><label for=\"sk-estimator-id-2\" class=\"sk-toggleable__label sk-toggleable__label-arrow\">RandomForestClassifier</label><div class=\"sk-toggleable__content\"><pre>RandomForestClassifier(max_depth=5, min_samples_split=200)</pre></div></div></div></div></div>"
      ],
      "text/plain": [
       "RandomForestClassifier(max_depth=5, min_samples_split=200)"
      ]
     },
     "execution_count": 56,
     "metadata": {},
     "output_type": "execute_result"
    }
   ],
   "source": [
    "rfc.fit(X_train,y_train)"
   ]
  },
  {
   "cell_type": "code",
   "execution_count": 57,
   "id": "1e5beb57",
   "metadata": {},
   "outputs": [],
   "source": [
    "rfc_pred = rfc.predict(X_test)"
   ]
  },
  {
   "cell_type": "code",
   "execution_count": 58,
   "id": "30a015e2",
   "metadata": {},
   "outputs": [],
   "source": [
    "rfc_accuracy = accuracy_score(y_test,rfc_pred)"
   ]
  },
  {
   "cell_type": "code",
   "execution_count": 59,
   "id": "dc4fb6c6",
   "metadata": {},
   "outputs": [
    {
     "data": {
      "text/plain": [
       "100.0"
      ]
     },
     "execution_count": 59,
     "metadata": {},
     "output_type": "execute_result"
    }
   ],
   "source": [
    "rfc_accuracy*100"
   ]
  },
  {
   "cell_type": "code",
   "execution_count": 60,
   "id": "4212a122",
   "metadata": {},
   "outputs": [
    {
     "name": "stdout",
     "output_type": "stream",
     "text": [
      "1.0\n"
     ]
    }
   ],
   "source": [
    "rfc_recall = recall_score(y_test,rfc_pred)\n",
    "print(rfc_recall)"
   ]
  },
  {
   "cell_type": "code",
   "execution_count": 61,
   "id": "11bbb69e",
   "metadata": {},
   "outputs": [
    {
     "data": {
      "text/plain": [
       "100.0"
      ]
     },
     "execution_count": 61,
     "metadata": {},
     "output_type": "execute_result"
    }
   ],
   "source": [
    "rfc_recall*100"
   ]
  },
  {
   "cell_type": "code",
   "execution_count": 62,
   "id": "a759f289",
   "metadata": {},
   "outputs": [],
   "source": [
    "cm = confusion_matrix(y_test,rfc_pred)"
   ]
  },
  {
   "cell_type": "code",
   "execution_count": 63,
   "id": "75c1b668",
   "metadata": {},
   "outputs": [
    {
     "data": {
      "text/plain": [
       "array([[7199,    0],\n",
       "       [   0, 7211]], dtype=int64)"
      ]
     },
     "execution_count": 63,
     "metadata": {},
     "output_type": "execute_result"
    }
   ],
   "source": [
    "cm"
   ]
  },
  {
   "cell_type": "code",
   "execution_count": 64,
   "id": "c14b405d",
   "metadata": {
    "scrolled": true
   },
   "outputs": [
    {
     "data": {
      "image/png": "[encoded data removed]",
      "text/plain": [
       "<Figure size 640x480 with 2 Axes>"
      ]
     },
     "metadata": {},
     "output_type": "display_data"
    }
   ],
   "source": [
    "# plt.title('Random Forest Classifier')\n",
    "\n",
    "disp = ConfusionMatrixDisplay(confusion_matrix=cm,\n",
    "                              display_labels=rfc.classes_)\n",
    "disp.plot()\n",
    "plt.show()"
   ]
  },
  {
   "cell_type": "code",
   "execution_count": 65,
   "id": "574a4cbb",
   "metadata": {},
   "outputs": [],
   "source": [
    "rfc = RandomForestClassifier()\n",
    "rfc.fit(X_train,y_train)\n",
    "\n",
    "rfc_preds = rfc.predict(X_test) # Predictions\n",
    "rfc_prob = rfc.predict_proba(X_test)[:,1] \n",
    "\n",
    "# THIS WILL BE USED FOR PR-CURVE"
   ]
  },
  {
   "cell_type": "code",
   "execution_count": 66,
   "id": "1c6395fa",
   "metadata": {},
   "outputs": [
    {
     "data": {
      "text/plain": [
       "array([0., 0., 1., ..., 0., 0., 1.])"
      ]
     },
     "execution_count": 66,
     "metadata": {},
     "output_type": "execute_result"
    }
   ],
   "source": [
    "rfc_prob"
   ]
  },
  {
   "cell_type": "code",
   "execution_count": 67,
   "id": "0bfddd63",
   "metadata": {},
   "outputs": [
    {
     "name": "stdout",
     "output_type": "stream",
     "text": [
      "Accuracy : 100.0%\n"
     ]
    }
   ],
   "source": [
    "accuracy= accuracy_score(y_test,rfc_preds)\n",
    "print(f'Accuracy : {round(accuracy*100,2)}%')"
   ]
  },
  {
   "cell_type": "code",
   "execution_count": 68,
   "id": "589c8db4",
   "metadata": {},
   "outputs": [],
   "source": [
    "precision_2,recall_2,threshold_2 = precision_recall_curve(y_test,rfc_prob)"
   ]
  },
  {
   "cell_type": "code",
   "execution_count": 69,
   "id": "b0a34e7d",
   "metadata": {},
   "outputs": [
    {
     "name": "stdout",
     "output_type": "stream",
     "text": [
      "1.0\n"
     ]
    }
   ],
   "source": [
    "auc_2 =auc(recall_2,precision_2)  \n",
    "print(auc_2)"
   ]
  },
  {
   "cell_type": "code",
   "execution_count": 70,
   "id": "598a2adc",
   "metadata": {},
   "outputs": [
    {
     "data": {
      "text/plain": [
       "<matplotlib.legend.Legend at 0x2702d08d510>"
      ]
     },
     "execution_count": 70,
     "metadata": {},
     "output_type": "execute_result"
    },
    {
     "data": {
      "image/png": "[encoded data removed]",
      "text/plain": [
       "<Figure size 640x480 with 1 Axes>"
      ]
     },
     "metadata": {},
     "output_type": "display_data"
    }
   ],
   "source": [
    "plt.title('PR-curve: Random Forest')\n",
    "\n",
    "plt.plot(recall_2,precision_2,label=f'AUC: {round(auc_2,2)}')\n",
    "\n",
    "plt.fill_between(recall_2,precision_2,alpha=0.2)\n",
    "\n",
    "plt.xlabel('Recall')\n",
    "plt.ylabel('Precision')\n",
    "plt.legend()"
   ]
  },
  {
   "cell_type": "markdown",
   "id": "2f733c86",
   "metadata": {},
   "source": [
    "# Gradient Boosting"
   ]
  },
  {
   "cell_type": "code",
   "execution_count": 71,
   "id": "fd6b0b67",
   "metadata": {},
   "outputs": [],
   "source": [
    "from sklearn.ensemble import GradientBoostingClassifier"
   ]
  },
  {
   "cell_type": "code",
   "execution_count": 72,
   "id": "56fd449b",
   "metadata": {},
   "outputs": [],
   "source": [
    "gbc = GradientBoostingClassifier(learning_rate=0.01)"
   ]
  },
  {
   "cell_type": "code",
   "execution_count": 73,
   "id": "c66e0b77",
   "metadata": {},
   "outputs": [
    {
     "data": {
      "text/html": [
       "<style>#sk-container-id-3 {color: black;}#sk-container-id-3 pre{padding: 0;}#sk-container-id-3 div.sk-toggleable {background-color: white;}#sk-container-id-3 label.sk-toggleable__label {cursor: pointer;display: block;width: 100%;margin-bottom: 0;padding: 0.3em;box-sizing: border-box;text-align: center;}#sk-container-id-3 label.sk-toggleable__label-arrow:before {content: \"▸\";float: left;margin-right: 0.25em;color: #696969;}#sk-container-id-3 label.sk-toggleable__label-arrow:hover:before {color: black;}#sk-container-id-3 div.sk-estimator:hover label.sk-toggleable__label-arrow:before {color: black;}#sk-container-id-3 div.sk-toggleable__content {max-height: 0;max-width: 0;overflow: hidden;text-align: left;background-color: #f0f8ff;}#sk-container-id-3 div.sk-toggleable__content pre {margin: 0.2em;color: black;border-radius: 0.25em;background-color: #f0f8ff;}#sk-container-id-3 input.sk-toggleable__control:checked~div.sk-toggleable__content {max-height: 200px;max-width: 100%;overflow: auto;}#sk-container-id-3 input.sk-toggleable__control:checked~label.sk-toggleable__label-arrow:before {content: \"▾\";}#sk-container-id-3 div.sk-estimator input.sk-toggleable__control:checked~label.sk-toggleable__label {background-color: #d4ebff;}#sk-container-id-3 div.sk-label input.sk-toggleable__control:checked~label.sk-toggleable__label {background-color: #d4ebff;}#sk-container-id-3 input.sk-hidden--visually {border: 0;clip: rect(1px 1px 1px 1px);clip: rect(1px, 1px, 1px, 1px);height: 1px;margin: -1px;overflow: hidden;padding: 0;position: absolute;width: 1px;}#sk-container-id-3 div.sk-estimator {font-family: monospace;background-color: #f0f8ff;border: 1px dotted black;border-radius: 0.25em;box-sizing: border-box;margin-bottom: 0.5em;}#sk-container-id-3 div.sk-estimator:hover {background-color: #d4ebff;}#sk-container-id-3 div.sk-parallel-item::after {content: \"\";width: 100%;border-bottom: 1px solid gray;flex-grow: 1;}#sk-container-id-3 div.sk-label:hover label.sk-toggleable__label {background-color: #d4ebff;}#sk-container-id-3 div.sk-serial::before {content: \"\";position: absolute;border-left: 1px solid gray;box-sizing: border-box;top: 0;bottom: 0;left: 50%;z-index: 0;}#sk-container-id-3 div.sk-serial {display: flex;flex-direction: column;align-items: center;background-color: white;padding-right: 0.2em;padding-left: 0.2em;position: relative;}#sk-container-id-3 div.sk-item {position: relative;z-index: 1;}#sk-container-id-3 div.sk-parallel {display: flex;align-items: stretch;justify-content: center;background-color: white;position: relative;}#sk-container-id-3 div.sk-item::before, #sk-container-id-3 div.sk-parallel-item::before {content: \"\";position: absolute;border-left: 1px solid gray;box-sizing: border-box;top: 0;bottom: 0;left: 50%;z-index: -1;}#sk-container-id-3 div.sk-parallel-item {display: flex;flex-direction: column;z-index: 1;position: relative;background-color: white;}#sk-container-id-3 div.sk-parallel-item:first-child::after {align-self: flex-end;width: 50%;}#sk-container-id-3 div.sk-parallel-item:last-child::after {align-self: flex-start;width: 50%;}#sk-container-id-3 div.sk-parallel-item:only-child::after {width: 0;}#sk-container-id-3 div.sk-dashed-wrapped {border: 1px dashed gray;margin: 0 0.4em 0.5em 0.4em;box-sizing: border-box;padding-bottom: 0.4em;background-color: white;}#sk-container-id-3 div.sk-label label {font-family: monospace;font-weight: bold;display: inline-block;line-height: 1.2em;}#sk-container-id-3 div.sk-label-container {text-align: center;}#sk-container-id-3 div.sk-container {/* jupyter's `normalize.less` sets `[hidden] { display: none; }` but bootstrap.min.css set `[hidden] { display: none !important; }` so we also need the `!important` here to be able to override the default hidden behavior on the sphinx rendered scikit-learn.org. See: https://github.com/scikit-learn/scikit-learn/issues/21755 */display: inline-block !important;position: relative;}#sk-container-id-3 div.sk-text-repr-fallback {display: none;}</style><div id=\"sk-container-id-3\" class=\"sk-top-container\"><div class=\"sk-text-repr-fallback\"><pre>GradientBoostingClassifier(learning_rate=0.01)</pre><b>In a Jupyter environment, please rerun this cell to show the HTML representation or trust the notebook. <br />On GitHub, the HTML representation is unable to render, please try loading this page with nbviewer.org.</b></div><div class=\"sk-container\" hidden><div class=\"sk-item\"><div class=\"sk-estimator sk-toggleable\"><input class=\"sk-toggleable__control sk-hidden--visually\" id=\"sk-estimator-id-3\" type=\"checkbox\" checked><label for=\"sk-estimator-id-3\" class=\"sk-toggleable__label sk-toggleable__label-arrow\">GradientBoostingClassifier</label><div class=\"sk-toggleable__content\"><pre>GradientBoostingClassifier(learning_rate=0.01)</pre></div></div></div></div></div>"
      ],
      "text/plain": [
       "GradientBoostingClassifier(learning_rate=0.01)"
      ]
     },
     "execution_count": 73,
     "metadata": {},
     "output_type": "execute_result"
    }
   ],
   "source": [
    "gbc.fit(X_train,y_train)"
   ]
  },
  {
   "cell_type": "code",
   "execution_count": 74,
   "id": "e845cfc6",
   "metadata": {},
   "outputs": [],
   "source": [
    "gbc_pred = gbc.predict(X_test)"
   ]
  },
  {
   "cell_type": "code",
   "execution_count": 75,
   "id": "b748f33e",
   "metadata": {},
   "outputs": [],
   "source": [
    "gbc_accuracy = accuracy_score(y_test,gbc_pred)\n",
    "gbc_recall = recall_score(y_test,gbc_pred)"
   ]
  },
  {
   "cell_type": "code",
   "execution_count": 76,
   "id": "c7b3d821",
   "metadata": {},
   "outputs": [
    {
     "data": {
      "text/plain": [
       "99.99306037473976"
      ]
     },
     "execution_count": 76,
     "metadata": {},
     "output_type": "execute_result"
    }
   ],
   "source": [
    "gbc_accuracy*100"
   ]
  },
  {
   "cell_type": "code",
   "execution_count": 77,
   "id": "1d85c7e9",
   "metadata": {},
   "outputs": [
    {
     "data": {
      "text/plain": [
       "99.98613229787824"
      ]
     },
     "execution_count": 77,
     "metadata": {},
     "output_type": "execute_result"
    }
   ],
   "source": [
    "gbc_recall*100"
   ]
  },
  {
   "cell_type": "code",
   "execution_count": 78,
   "id": "d17c4ecf",
   "metadata": {},
   "outputs": [],
   "source": [
    "cm = confusion_matrix(y_test,gbc_pred)"
   ]
  },
  {
   "cell_type": "code",
   "execution_count": 79,
   "id": "0e93e9a1",
   "metadata": {},
   "outputs": [
    {
     "data": {
      "text/plain": [
       "array([[7199,    0],\n",
       "       [   1, 7210]], dtype=int64)"
      ]
     },
     "execution_count": 79,
     "metadata": {},
     "output_type": "execute_result"
    }
   ],
   "source": [
    "cm"
   ]
  },
  {
   "cell_type": "code",
   "execution_count": 80,
   "id": "eb37c04a",
   "metadata": {
    "scrolled": true
   },
   "outputs": [
    {
     "data": {
      "image/png": "[encoded data removed]",
      "text/plain": [
       "<Figure size 640x480 with 2 Axes>"
      ]
     },
     "metadata": {},
     "output_type": "display_data"
    }
   ],
   "source": [
    "# plt.title('GradientBoosting')\n",
    "\n",
    "disp = ConfusionMatrixDisplay(confusion_matrix=cm,\n",
    "                              display_labels=gbc.classes_)\n",
    "disp.plot()\n",
    "plt.show()"
   ]
  },
  {
   "cell_type": "code",
   "execution_count": 81,
   "id": "9c40e271",
   "metadata": {},
   "outputs": [],
   "source": [
    "grad_boost = GradientBoostingClassifier()\n",
    "grad_boost.fit(X_train,y_train)\n",
    "\n",
    "grad_boost_preds = grad_boost.predict(X_test) # Predictions\n",
    "grad_boost_prob = grad_boost.predict_proba(X_test)[:,1] \n",
    "\n",
    "# THIS WILL BE USED FOR PR-CURVE"
   ]
  },
  {
   "cell_type": "code",
   "execution_count": 82,
   "id": "415937ab",
   "metadata": {},
   "outputs": [
    {
     "data": {
      "text/plain": [
       "array([2.15099549e-05, 2.15099549e-05, 9.99977708e-01, ...,\n",
       "       2.15099549e-05, 2.15099549e-05, 9.99977708e-01])"
      ]
     },
     "execution_count": 82,
     "metadata": {},
     "output_type": "execute_result"
    }
   ],
   "source": [
    "grad_boost_prob"
   ]
  },
  {
   "cell_type": "code",
   "execution_count": 83,
   "id": "f2dfa4a5",
   "metadata": {},
   "outputs": [
    {
     "name": "stdout",
     "output_type": "stream",
     "text": [
      "Accuracy : 99.99%\n"
     ]
    }
   ],
   "source": [
    "accuracy = accuracy_score(y_test,grad_boost_preds)\n",
    "print(f'Accuracy : {round(accuracy*100,2)}%')"
   ]
  },
  {
   "cell_type": "code",
   "execution_count": 84,
   "id": "e28d69d2",
   "metadata": {},
   "outputs": [],
   "source": [
    "precision_3,recall_3,threshold_3 = precision_recall_curve(y_test,grad_boost_prob)"
   ]
  },
  {
   "cell_type": "code",
   "execution_count": 85,
   "id": "0a76f9dc",
   "metadata": {},
   "outputs": [
    {
     "name": "stdout",
     "output_type": "stream",
     "text": [
      "0.999971706147483\n"
     ]
    }
   ],
   "source": [
    "auc_3 =auc(recall_3,precision_3)  \n",
    "print(auc_3)"
   ]
  },
  {
   "cell_type": "code",
   "execution_count": 86,
   "id": "3689e6a9",
   "metadata": {},
   "outputs": [
    {
     "data": {
      "text/plain": [
       "<matplotlib.legend.Legend at 0x2702d090210>"
      ]
     },
     "execution_count": 86,
     "metadata": {},
     "output_type": "execute_result"
    },
    {
     "data": {
      "image/png": "[encoded data removed]",
      "text/plain": [
       "<Figure size 640x480 with 1 Axes>"
      ]
     },
     "metadata": {},
     "output_type": "display_data"
    }
   ],
   "source": [
    "plt.title('PR-curve: Gradient Boosting')\n",
    "\n",
    "plt.plot(recall_3,precision_3,label=f'AUC: {round(auc_3,2)}')\n",
    "\n",
    "plt.fill_between(recall_3,precision_3,alpha=0.2)\n",
    "\n",
    "plt.xlabel('Recall')\n",
    "plt.ylabel('Precision')\n",
    "plt.legend()"
   ]
  },
  {
   "cell_type": "markdown",
   "id": "66c47774",
   "metadata": {},
   "source": [
    "# Logistic Regression (LR)"
   ]
  },
  {
   "cell_type": "code",
   "execution_count": 87,
   "id": "0146fec9",
   "metadata": {},
   "outputs": [],
   "source": [
    "from sklearn.linear_model import LogisticRegression"
   ]
  },
  {
   "cell_type": "code",
   "execution_count": 88,
   "id": "516c4d7d",
   "metadata": {},
   "outputs": [],
   "source": [
    "logit = LogisticRegression(penalty = 'l1', solver='liblinear')"
   ]
  },
  {
   "cell_type": "code",
   "execution_count": 89,
   "id": "1903ed8b",
   "metadata": {},
   "outputs": [
    {
     "data": {
      "text/html": [
       "<style>#sk-container-id-4 {color: black;}#sk-container-id-4 pre{padding: 0;}#sk-container-id-4 div.sk-toggleable {background-color: white;}#sk-container-id-4 label.sk-toggleable__label {cursor: pointer;display: block;width: 100%;margin-bottom: 0;padding: 0.3em;box-sizing: border-box;text-align: center;}#sk-container-id-4 label.sk-toggleable__label-arrow:before {content: \"▸\";float: left;margin-right: 0.25em;color: #696969;}#sk-container-id-4 label.sk-toggleable__label-arrow:hover:before {color: black;}#sk-container-id-4 div.sk-estimator:hover label.sk-toggleable__label-arrow:before {color: black;}#sk-container-id-4 div.sk-toggleable__content {max-height: 0;max-width: 0;overflow: hidden;text-align: left;background-color: #f0f8ff;}#sk-container-id-4 div.sk-toggleable__content pre {margin: 0.2em;color: black;border-radius: 0.25em;background-color: #f0f8ff;}#sk-container-id-4 input.sk-toggleable__control:checked~div.sk-toggleable__content {max-height: 200px;max-width: 100%;overflow: auto;}#sk-container-id-4 input.sk-toggleable__control:checked~label.sk-toggleable__label-arrow:before {content: \"▾\";}#sk-container-id-4 div.sk-estimator input.sk-toggleable__control:checked~label.sk-toggleable__label {background-color: #d4ebff;}#sk-container-id-4 div.sk-label input.sk-toggleable__control:checked~label.sk-toggleable__label {background-color: #d4ebff;}#sk-container-id-4 input.sk-hidden--visually {border: 0;clip: rect(1px 1px 1px 1px);clip: rect(1px, 1px, 1px, 1px);height: 1px;margin: -1px;overflow: hidden;padding: 0;position: absolute;width: 1px;}#sk-container-id-4 div.sk-estimator {font-family: monospace;background-color: #f0f8ff;border: 1px dotted black;border-radius: 0.25em;box-sizing: border-box;margin-bottom: 0.5em;}#sk-container-id-4 div.sk-estimator:hover {background-color: #d4ebff;}#sk-container-id-4 div.sk-parallel-item::after {content: \"\";width: 100%;border-bottom: 1px solid gray;flex-grow: 1;}#sk-container-id-4 div.sk-label:hover label.sk-toggleable__label {background-color: #d4ebff;}#sk-container-id-4 div.sk-serial::before {content: \"\";position: absolute;border-left: 1px solid gray;box-sizing: border-box;top: 0;bottom: 0;left: 50%;z-index: 0;}#sk-container-id-4 div.sk-serial {display: flex;flex-direction: column;align-items: center;background-color: white;padding-right: 0.2em;padding-left: 0.2em;position: relative;}#sk-container-id-4 div.sk-item {position: relative;z-index: 1;}#sk-container-id-4 div.sk-parallel {display: flex;align-items: stretch;justify-content: center;background-color: white;position: relative;}#sk-container-id-4 div.sk-item::before, #sk-container-id-4 div.sk-parallel-item::before {content: \"\";position: absolute;border-left: 1px solid gray;box-sizing: border-box;top: 0;bottom: 0;left: 50%;z-index: -1;}#sk-container-id-4 div.sk-parallel-item {display: flex;flex-direction: column;z-index: 1;position: relative;background-color: white;}#sk-container-id-4 div.sk-parallel-item:first-child::after {align-self: flex-end;width: 50%;}#sk-container-id-4 div.sk-parallel-item:last-child::after {align-self: flex-start;width: 50%;}#sk-container-id-4 div.sk-parallel-item:only-child::after {width: 0;}#sk-container-id-4 div.sk-dashed-wrapped {border: 1px dashed gray;margin: 0 0.4em 0.5em 0.4em;box-sizing: border-box;padding-bottom: 0.4em;background-color: white;}#sk-container-id-4 div.sk-label label {font-family: monospace;font-weight: bold;display: inline-block;line-height: 1.2em;}#sk-container-id-4 div.sk-label-container {text-align: center;}#sk-container-id-4 div.sk-container {/* jupyter's `normalize.less` sets `[hidden] { display: none; }` but bootstrap.min.css set `[hidden] { display: none !important; }` so we also need the `!important` here to be able to override the default hidden behavior on the sphinx rendered scikit-learn.org. See: https://github.com/scikit-learn/scikit-learn/issues/21755 */display: inline-block !important;position: relative;}#sk-container-id-4 div.sk-text-repr-fallback {display: none;}</style><div id=\"sk-container-id-4\" class=\"sk-top-container\"><div class=\"sk-text-repr-fallback\"><pre>LogisticRegression(penalty=&#x27;l1&#x27;, solver=&#x27;liblinear&#x27;)</pre><b>In a Jupyter environment, please rerun this cell to show the HTML representation or trust the notebook. <br />On GitHub, the HTML representation is unable to render, please try loading this page with nbviewer.org.</b></div><div class=\"sk-container\" hidden><div class=\"sk-item\"><div class=\"sk-estimator sk-toggleable\"><input class=\"sk-toggleable__control sk-hidden--visually\" id=\"sk-estimator-id-4\" type=\"checkbox\" checked><label for=\"sk-estimator-id-4\" class=\"sk-toggleable__label sk-toggleable__label-arrow\">LogisticRegression</label><div class=\"sk-toggleable__content\"><pre>LogisticRegression(penalty=&#x27;l1&#x27;, solver=&#x27;liblinear&#x27;)</pre></div></div></div></div></div>"
      ],
      "text/plain": [
       "LogisticRegression(penalty='l1', solver='liblinear')"
      ]
     },
     "execution_count": 89,
     "metadata": {},
     "output_type": "execute_result"
    }
   ],
   "source": [
    "logit.fit(X_train,y_train)"
   ]
  },
  {
   "cell_type": "code",
   "execution_count": 90,
   "id": "37a821d7",
   "metadata": {},
   "outputs": [],
   "source": [
    "logit_pred = logit.predict(X_test)"
   ]
  },
  {
   "cell_type": "code",
   "execution_count": 91,
   "id": "3db4c9f7",
   "metadata": {},
   "outputs": [],
   "source": [
    "logit_accuracy = accuracy_score(y_test,logit_pred)\n",
    "logit_recall = recall_score(y_test,logit_pred)"
   ]
  },
  {
   "cell_type": "code",
   "execution_count": 92,
   "id": "1c1011d0",
   "metadata": {},
   "outputs": [
    {
     "data": {
      "text/plain": [
       "100.0"
      ]
     },
     "execution_count": 92,
     "metadata": {},
     "output_type": "execute_result"
    }
   ],
   "source": [
    "logit_accuracy*100"
   ]
  },
  {
   "cell_type": "code",
   "execution_count": 93,
   "id": "d1049a59",
   "metadata": {},
   "outputs": [
    {
     "data": {
      "text/plain": [
       "100.0"
      ]
     },
     "execution_count": 93,
     "metadata": {},
     "output_type": "execute_result"
    }
   ],
   "source": [
    "logit_recall*100"
   ]
  },
  {
   "cell_type": "code",
   "execution_count": 94,
   "id": "ad441fb6",
   "metadata": {},
   "outputs": [],
   "source": [
    "cm = confusion_matrix(y_test,logit_pred)"
   ]
  },
  {
   "cell_type": "code",
   "execution_count": 95,
   "id": "c5d5c3e9",
   "metadata": {},
   "outputs": [
    {
     "data": {
      "text/plain": [
       "array([[7199,    0],\n",
       "       [   0, 7211]], dtype=int64)"
      ]
     },
     "execution_count": 95,
     "metadata": {},
     "output_type": "execute_result"
    }
   ],
   "source": [
    "cm"
   ]
  },
  {
   "cell_type": "code",
   "execution_count": 96,
   "id": "7de2eee0",
   "metadata": {},
   "outputs": [
    {
     "data": {
      "image/png": "[encoded data removed]",
      "text/plain": [
       "<Figure size 640x480 with 2 Axes>"
      ]
     },
     "metadata": {},
     "output_type": "display_data"
    }
   ],
   "source": [
    "# plt.title('Logistic Regression')\n",
    "\n",
    "disp = ConfusionMatrixDisplay(confusion_matrix=cm,\n",
    "                              display_labels=logit.classes_)\n",
    "disp.plot()\n",
    "plt.show()"
   ]
  },
  {
   "cell_type": "code",
   "execution_count": 97,
   "id": "55c5642d",
   "metadata": {},
   "outputs": [],
   "source": [
    "log_reg = LogisticRegression(solver='liblinear')\n",
    "log_reg.fit(X_train,y_train)\n",
    "\n",
    "log_reg_preds = log_reg.predict(X_test) # Predictions\n",
    "log_reg_prob = log_reg.predict_proba(X_test)[:,1] \n",
    "\n",
    "# THIS WILL BE USED FOR PR-CURVE "
   ]
  },
  {
   "cell_type": "code",
   "execution_count": 98,
   "id": "e9394159",
   "metadata": {},
   "outputs": [
    {
     "data": {
      "text/plain": [
       "array([4.99871005e-05, 1.36840388e-08, 9.99912624e-01, ...,\n",
       "       1.55851973e-05, 1.76211393e-08, 9.99998363e-01])"
      ]
     },
     "execution_count": 98,
     "metadata": {},
     "output_type": "execute_result"
    }
   ],
   "source": [
    "log_reg_prob"
   ]
  },
  {
   "cell_type": "code",
   "execution_count": 99,
   "id": "286b884b",
   "metadata": {},
   "outputs": [
    {
     "name": "stdout",
     "output_type": "stream",
     "text": [
      "Accuracy : 100.0%\n"
     ]
    }
   ],
   "source": [
    "accuracy = accuracy_score(y_test,log_reg_preds)\n",
    "print(f'Accuracy : {round(accuracy*100,2)}%')"
   ]
  },
  {
   "cell_type": "code",
   "execution_count": 100,
   "id": "edd3cc19",
   "metadata": {},
   "outputs": [],
   "source": [
    "precision_4,recall_4,threshold_4 = precision_recall_curve(y_test,log_reg_prob)"
   ]
  },
  {
   "cell_type": "code",
   "execution_count": 101,
   "id": "f4de550e",
   "metadata": {},
   "outputs": [
    {
     "name": "stdout",
     "output_type": "stream",
     "text": [
      "1.0\n"
     ]
    }
   ],
   "source": [
    "auc_4 =auc(recall_4,precision_4)  \n",
    "print(auc_4)"
   ]
  },
  {
   "cell_type": "code",
   "execution_count": 102,
   "id": "1de21917",
   "metadata": {},
   "outputs": [
    {
     "data": {
      "text/plain": [
       "<matplotlib.legend.Legend at 0x2702c357850>"
      ]
     },
     "execution_count": 102,
     "metadata": {},
     "output_type": "execute_result"
    },
    {
     "data": {
      "image/png": "[encoded data removed]",
      "text/plain": [
       "<Figure size 640x480 with 1 Axes>"
      ]
     },
     "metadata": {},
     "output_type": "display_data"
    }
   ],
   "source": [
    "plt.title('PR-curve: logistic Regression')\n",
    "plt.plot(recall_4,precision_4,label=f'AUC: {round(auc_4,2)}')\n",
    "\n",
    "plt.fill_between(recall_4,precision_4,alpha=0.2)\n",
    "\n",
    "plt.xlabel('Recall')\n",
    "plt.ylabel('Precision')\n",
    "plt.legend()"
   ]
  },
  {
   "cell_type": "markdown",
   "id": "fb97be15",
   "metadata": {},
   "source": [
    "# MODEL PERFORMANCE"
   ]
  },
  {
   "cell_type": "markdown",
   "id": "d17cb103",
   "metadata": {},
   "source": [
    "## ==> Comparing all four charts/plots"
   ]
  },
  {
   "cell_type": "code",
   "execution_count": 103,
   "id": "6c55436e",
   "metadata": {},
   "outputs": [
    {
     "data": {
      "text/plain": [
       "<matplotlib.legend.Legend at 0x2702cbd45d0>"
      ]
     },
     "execution_count": 103,
     "metadata": {},
     "output_type": "execute_result"
    },
    {
     "data": {
      "image/png": "[encoded data removed]",
      "text/plain": [
       "<Figure size 640x480 with 1 Axes>"
      ]
     },
     "metadata": {},
     "output_type": "display_data"
    }
   ],
   "source": [
    "plt.title('PR-curve: Support Vector Classifier')\n",
    "\n",
    "# Support Vector Classifier\n",
    "plt.plot(recall_1,precision_1,label=f'Support Vector Classifier AUC: {round(auc_1,2)}')\n",
    "plt.fill_between(recall_1,precision_1,alpha=0.2)\n",
    "\n",
    "# Random Forest\n",
    "plt.plot(recall_2,precision_2,label=f'Random Forest AUC: {round(auc_2,2)}')\n",
    "plt.fill_between(recall_2,precision_2,alpha=0.2)\n",
    "\n",
    "# Gradient Boosting\n",
    "plt.plot(recall_3,precision_3,label=f'Gradient Boosting AUC: {round(auc_3,2)}')\n",
    "plt.fill_between(recall_3,precision_3,alpha=0.2)\n",
    "\n",
    "# Logistic Regression\n",
    "plt.plot(recall_4,precision_4,label=f'Logistic Regression AUC: {round(auc_4,2)}')\n",
    "plt.fill_between(recall_4,precision_4,alpha=0.2)\n",
    "\n",
    "# plt.fill_between(recall_1,precision_1,alpha=0.2)\n",
    "\n",
    "plt.xlabel('Recall')\n",
    "plt.ylabel('Precision')\n",
    "plt.legend()"
   ]
  },
  {
   "cell_type": "code",
   "execution_count": null,
   "id": "eef1210e",
   "metadata": {},
   "outputs": [],
   "source": []
  },
  {
   "cell_type": "code",
   "execution_count": null,
   "id": "45078063",
   "metadata": {},
   "outputs": [],
   "source": []
  }
 ],
 "metadata": {
  "kernelspec": {
   "display_name": "Python 3 (ipykernel)",
   "language": "python",
   "name": "python3"
  },
  "language_info": {
   "codemirror_mode": {
    "name": "ipython",
    "version": 3
   },
   "file_extension": ".py",
   "mimetype": "text/x-python",
   "name": "python",
   "nbconvert_exporter": "python",
   "pygments_lexer": "ipython3",
   "version": "3.11.5"
  }
 },
 "nbformat": 4,
 "nbformat_minor": 5
}
